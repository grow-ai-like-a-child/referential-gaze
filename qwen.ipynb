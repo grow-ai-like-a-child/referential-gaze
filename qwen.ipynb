{
 "cells": [
  {
   "cell_type": "markdown",
   "metadata": {},
   "source": [
    "# Loading Responses"
   ]
  },
  {
   "cell_type": "code",
   "execution_count": 1,
   "metadata": {
    "vscode": {
     "languageId": "r"
    }
   },
   "outputs": [
    {
     "name": "stderr",
     "output_type": "stream",
     "text": [
      "Loading required package: lme4\n",
      "\n",
      "Loading required package: Matrix\n",
      "\n",
      "Loading required package: readr\n",
      "\n",
      "Loading required package: marginaleffects\n",
      "\n",
      "Loading required package: emmeans\n",
      "\n",
      "Welcome to emmeans.\n",
      "Caution: You lose important information if you filter this package's results.\n",
      "See '? untidy'\n",
      "\n",
      "Loading required package: car\n",
      "\n",
      "Loading required package: carData\n",
      "\n",
      "\u001b[1mRows: \u001b[22m\u001b[34m156825\u001b[39m \u001b[1mColumns: \u001b[22m\u001b[34m14\u001b[39m\n",
      "\u001b[36m--\u001b[39m \u001b[1mColumn specification\u001b[22m \u001b[36m--------------------------------------------------------\u001b[39m\n",
      "\u001b[1mDelimiter:\u001b[22m \",\"\n",
      "\u001b[31mchr\u001b[39m (2): Run_ID, Part\n",
      "\u001b[32mint\u001b[39m (2): Proximity, n_candidates\n",
      "\u001b[33mlgl\u001b[39m (1): Accuracy\n",
      "\u001b[31mfct\u001b[39m (9): Stimulus_ID, Prompt_ID, Participant_ID, Group, GroupKind, Angle, Ac...\n",
      "\n",
      "\u001b[36mi\u001b[39m Use `spec()` to retrieve the full column specification for this data.\n",
      "\u001b[36mi\u001b[39m Specify the column types or set `show_col_types = FALSE` to quiet this message.\n"
     ]
    }
   ],
   "source": [
    "options(warn=1)\n",
    "if(!require('lme4')) {\n",
    "    install.packages('lme4', repos='https://cloud.r-project.org')\n",
    "    library('lme4')\n",
    "}\n",
    "if(!require('readr')) {\n",
    "    install.packages('readr', repos='https://cloud.r-project.org')\n",
    "    library('readr')\n",
    "}\n",
    "if(!require('marginaleffects')) {\n",
    "    install.packages('marginaleffects', repos='https://cloud.r-project.org')\n",
    "    library('marginaleffects')\n",
    "}\n",
    "if(!require('emmeans')) {\n",
    "    install.packages('emmeans', repos='https://cloud.r-project.org')\n",
    "    library('emmeans')\n",
    "}\n",
    "if(!require('car')) {\n",
    "    install.packages('car', repos='https://cloud.r-project.org')\n",
    "    library('car')\n",
    "}\n",
    "df <- read_csv(\"result_1743457603_20250506_20250506F.csv\", na = \"empty\", col_select = c(\"Accuracy\", \"Group\", \"GroupKind\", \"Angle\", \"Proximity\", \"n_candidates\", \"Actor\", \"Candidates\", \"Stimulus_ID\", \"Prompt_ID\", \"Participant_ID\", \"list_id\", \"Run_ID\", \"Part\"), col_types = cols(\n",
    "    Accuracy = col_logical(),\n",
    "    Group = col_factor(),\n",
    "    GroupKind = col_factor(),\n",
    "    Angle = col_factor(),\n",
    "    Proximity = col_integer(),\n",
    "    n_candidates = col_integer(),\n",
    "    Actor = col_factor(c('X', 'Y')),\n",
    "    Candidates = col_factor(),\n",
    "    Stimulus_ID = col_factor(),\n",
    "    Prompt_ID = col_factor(),\n",
    "    Participant_ID = col_factor(),\n",
    "    list_id = col_factor(),\n",
    "    Run_ID = col_character(),\n",
    "    Part = col_character(),\n",
    "),show_col_types = TRUE)\n",
    "df <- df[df$Group == \"Qwen2.5-VL-72B-Instruct\" & df$list_id != -1 & df$Part != \"p0\", ]\n",
    "df$offset <- log(1/df$n_candidates / (1 - 1/df$n_candidates))"
   ]
  },
  {
   "cell_type": "markdown",
   "metadata": {},
   "source": [
    "# Fitting models"
   ]
  },
  {
   "cell_type": "code",
   "execution_count": 2,
   "metadata": {
    "vscode": {
     "languageId": "r"
    }
   },
   "outputs": [
    {
     "name": "stderr",
     "output_type": "stream",
     "text": [
      "Warning message in checkConv(attr(opt, \"derivs\"), opt$par, ctrl = control$checkConv, :\n",
      "\"Model failed to converge with max|grad| = 0.0074527 (tol = 0.002, component 1)\"\n"
     ]
    }
   ],
   "source": [
    "model0 <- glmer(Accuracy ~ Angle + scale(Proximity, scale=FALSE) + scale(n_candidates, scale=FALSE) + Actor + (1|Actor:Candidates) + (1|Stimulus_ID) + (1|Prompt_ID), \n",
    "               data = df,\n",
    "               family = binomial(link = \"logit\"), \n",
    "               offset = offset)"
   ]
  },
  {
   "cell_type": "code",
   "execution_count": 3,
   "metadata": {
    "vscode": {
     "languageId": "r"
    }
   },
   "outputs": [
    {
     "data": {
      "text/plain": [
       "Generalized linear mixed model fit by maximum likelihood (Laplace\n",
       "  Approximation) [glmerMod]\n",
       " Family: binomial  ( logit )\n",
       "Formula: \n",
       "Accuracy ~ Angle + scale(Proximity, scale = FALSE) + scale(n_candidates,  \n",
       "    scale = FALSE) + Actor + (1 | Actor:Candidates) + (1 | Stimulus_ID) +  \n",
       "    (1 | Prompt_ID)\n",
       "   Data: df\n",
       " Offset: offset\n",
       "      AIC       BIC    logLik  deviance  df.resid \n",
       " 6573.577  6637.521 -3277.788  6555.577      8991 \n",
       "Random effects:\n",
       " Groups           Name        Std.Dev. \n",
       " Stimulus_ID      (Intercept) 4.4111622\n",
       " Actor:Candidates (Intercept) 0.0006378\n",
       " Prompt_ID        (Intercept) 0.1890927\n",
       "Number of obs: 9000, groups:  \n",
       "Stimulus_ID, 900; Actor:Candidates, 18; Prompt_ID, 12\n",
       "Fixed Effects:\n",
       "                       (Intercept)                           Angleleft  \n",
       "                          -0.05865                             0.59431  \n",
       "                        Angleright     scale(Proximity, scale = FALSE)  \n",
       "                           0.44301                            -0.30360  \n",
       "scale(n_candidates, scale = FALSE)                              ActorY  \n",
       "                          -1.14494                            -0.74425  \n",
       "optimizer (Nelder_Mead) convergence code: 0 (OK) ; 0 optimizer warnings; 1 lme4 warnings "
      ]
     },
     "metadata": {},
     "output_type": "display_data"
    }
   ],
   "source": [
    "model0"
   ]
  },
  {
   "cell_type": "code",
   "execution_count": 4,
   "metadata": {
    "vscode": {
     "languageId": "r"
    }
   },
   "outputs": [],
   "source": [
    "model1 <- glmer(Accuracy ~ Angle + scale(Proximity, scale=FALSE) + scale(n_candidates, scale=FALSE) + Actor + (1|Stimulus_ID) + (1|Prompt_ID), \n",
    "               data = df,\n",
    "               family = binomial(link = \"logit\"), \n",
    "               offset = offset)"
   ]
  },
  {
   "cell_type": "code",
   "execution_count": 5,
   "metadata": {
    "vscode": {
     "languageId": "r"
    }
   },
   "outputs": [
    {
     "name": "stderr",
     "output_type": "stream",
     "text": [
      "Warning message in checkConv(attr(opt, \"derivs\"), opt$par, ctrl = control$checkConv, :\n",
      "\"Model failed to converge with max|grad| = 0.00429741 (tol = 0.002, component 1)\"\n"
     ]
    }
   ],
   "source": [
    "model2 <- glmer(Accuracy ~ Angle + scale(Proximity, scale=FALSE) + scale(n_candidates, scale=FALSE) + Actor + (1|Actor:Candidates) + (1|Stimulus_ID), \n",
    "               data = df,\n",
    "               family = binomial(link = \"logit\"), \n",
    "               offset = offset)"
   ]
  },
  {
   "cell_type": "code",
   "execution_count": 6,
   "metadata": {
    "vscode": {
     "languageId": "r"
    }
   },
   "outputs": [],
   "source": [
    "model3 <- glmer(Accuracy ~ Angle + scale(Proximity, scale=FALSE) + scale(n_candidates, scale=FALSE) + Actor + (1|Stimulus_ID), \n",
    "               data = df,\n",
    "               family = binomial(link = \"logit\"), \n",
    "               offset = offset)"
   ]
  },
  {
   "cell_type": "markdown",
   "metadata": {},
   "source": [
    "# Model selection"
   ]
  },
  {
   "cell_type": "code",
   "execution_count": 7,
   "metadata": {
    "vscode": {
     "languageId": "r"
    }
   },
   "outputs": [
    {
     "data": {
      "text/html": [
       "<table class=\"dataframe\">\n",
       "<caption>A anova: 2 x 8</caption>\n",
       "<thead>\n",
       "\t<tr><th></th><th scope=col>npar</th><th scope=col>AIC</th><th scope=col>BIC</th><th scope=col>logLik</th><th scope=col>deviance</th><th scope=col>Chisq</th><th scope=col>Df</th><th scope=col>Pr(&gt;Chisq)</th></tr>\n",
       "\t<tr><th></th><th scope=col>&lt;dbl&gt;</th><th scope=col>&lt;dbl&gt;</th><th scope=col>&lt;dbl&gt;</th><th scope=col>&lt;dbl&gt;</th><th scope=col>&lt;dbl&gt;</th><th scope=col>&lt;dbl&gt;</th><th scope=col>&lt;dbl&gt;</th><th scope=col>&lt;dbl&gt;</th></tr>\n",
       "</thead>\n",
       "<tbody>\n",
       "\t<tr><th scope=row>model3</th><td>7</td><td>6579.408</td><td>6629.143</td><td>-3282.704</td><td>6565.408</td><td>     NA</td><td>NA</td><td>         NA</td></tr>\n",
       "\t<tr><th scope=row>model1</th><td>8</td><td>6571.577</td><td>6628.416</td><td>-3277.788</td><td>6555.577</td><td>9.83181</td><td> 1</td><td>0.001715195</td></tr>\n",
       "</tbody>\n",
       "</table>\n"
      ],
      "text/latex": [
       "A anova: 2 x 8\n",
       "\\begin{tabular}{r|llllllll}\n",
       "  & npar & AIC & BIC & logLik & deviance & Chisq & Df & Pr(>Chisq)\\\\\n",
       "  & <dbl> & <dbl> & <dbl> & <dbl> & <dbl> & <dbl> & <dbl> & <dbl>\\\\\n",
       "\\hline\n",
       "\tmodel3 & 7 & 6579.408 & 6629.143 & -3282.704 & 6565.408 &      NA & NA &          NA\\\\\n",
       "\tmodel1 & 8 & 6571.577 & 6628.416 & -3277.788 & 6555.577 & 9.83181 &  1 & 0.001715195\\\\\n",
       "\\end{tabular}\n"
      ],
      "text/markdown": [
       "\n",
       "A anova: 2 x 8\n",
       "\n",
       "| <!--/--> | npar &lt;dbl&gt; | AIC &lt;dbl&gt; | BIC &lt;dbl&gt; | logLik &lt;dbl&gt; | deviance &lt;dbl&gt; | Chisq &lt;dbl&gt; | Df &lt;dbl&gt; | Pr(&gt;Chisq) &lt;dbl&gt; |\n",
       "|---|---|---|---|---|---|---|---|---|\n",
       "| model3 | 7 | 6579.408 | 6629.143 | -3282.704 | 6565.408 |      NA | NA |          NA |\n",
       "| model1 | 8 | 6571.577 | 6628.416 | -3277.788 | 6555.577 | 9.83181 |  1 | 0.001715195 |\n",
       "\n"
      ],
      "text/plain": [
       "       npar AIC      BIC      logLik    deviance Chisq   Df Pr(>Chisq) \n",
       "model3 7    6579.408 6629.143 -3282.704 6565.408      NA NA          NA\n",
       "model1 8    6571.577 6628.416 -3277.788 6555.577 9.83181  1 0.001715195"
      ]
     },
     "metadata": {},
     "output_type": "display_data"
    }
   ],
   "source": [
    "anova(model1, model3)"
   ]
  },
  {
   "cell_type": "code",
   "execution_count": 8,
   "metadata": {
    "vscode": {
     "languageId": "r"
    }
   },
   "outputs": [],
   "source": [
    "model <- model1"
   ]
  },
  {
   "cell_type": "markdown",
   "metadata": {},
   "source": [
    "# Interpretation"
   ]
  },
  {
   "cell_type": "code",
   "execution_count": 9,
   "metadata": {
    "vscode": {
     "languageId": "r"
    }
   },
   "outputs": [
    {
     "data": {
      "text/plain": [
       "Generalized linear mixed model fit by maximum likelihood (Laplace\n",
       "  Approximation) [glmerMod]\n",
       " Family: binomial  ( logit )\n",
       "Formula: \n",
       "Accuracy ~ Angle + scale(Proximity, scale = FALSE) + scale(n_candidates,  \n",
       "    scale = FALSE) + Actor + (1 | Stimulus_ID) + (1 | Prompt_ID)\n",
       "   Data: df\n",
       " Offset: offset\n",
       "\n",
       "     AIC      BIC   logLik deviance df.resid \n",
       "  6571.6   6628.4  -3277.8   6555.6     8992 \n",
       "\n",
       "Scaled residuals: \n",
       "    Min      1Q  Median      3Q     Max \n",
       "-3.3560 -0.1653 -0.0912  0.1525  3.2989 \n",
       "\n",
       "Random effects:\n",
       " Groups      Name        Variance Std.Dev.\n",
       " Stimulus_ID (Intercept) 19.45847 4.4112  \n",
       " Prompt_ID   (Intercept)  0.03576 0.1891  \n",
       "Number of obs: 9000, groups:  Stimulus_ID, 900; Prompt_ID, 12\n",
       "\n",
       "Fixed effects:\n",
       "                                   Estimate Std. Error z value Pr(>|z|)    \n",
       "(Intercept)                        -0.05875    0.34654  -0.170   0.8654    \n",
       "Angleleft                           0.59420    0.42855   1.387   0.1656    \n",
       "Angleright                          0.44299    0.42167   1.051   0.2935    \n",
       "scale(Proximity, scale = FALSE)    -0.30350    0.21089  -1.439   0.1501    \n",
       "scale(n_candidates, scale = FALSE) -1.14493    0.23298  -4.914 8.91e-07 ***\n",
       "ActorY                             -0.74398    0.34935  -2.130   0.0332 *  \n",
       "---\n",
       "Signif. codes:  0 '***' 0.001 '**' 0.01 '*' 0.05 '.' 0.1 ' ' 1\n",
       "\n",
       "Correlation of Fixed Effects:\n",
       "            (Intr) Angllf Anglrg s(Ps=F s(_s=F\n",
       "Angleleft   -0.629                            \n",
       "Angleright  -0.638  0.519                     \n",
       "s(P,s=FALSE  0.003 -0.012 -0.002              \n",
       "s(_,s=FALSE  0.101 -0.065 -0.055  0.030       \n",
       "ActorY      -0.441 -0.009 -0.005  0.024 -0.067"
      ]
     },
     "metadata": {},
     "output_type": "display_data"
    }
   ],
   "source": [
    "summary(model)"
   ]
  },
  {
   "cell_type": "code",
   "execution_count": 10,
   "metadata": {
    "vscode": {
     "languageId": "r"
    }
   },
   "outputs": [
    {
     "data": {
      "text/html": [
       "<table class=\"dataframe\">\n",
       "<caption>A data.frame: 6 x 9</caption>\n",
       "<thead>\n",
       "\t<tr><th scope=col>term</th><th scope=col>Estimate</th><th scope=col>Std. Error</th><th scope=col>z value</th><th scope=col>Pr(&gt;|z|)</th><th scope=col>CI_low</th><th scope=col>CI_high</th><th scope=col>effect_size_denom</th><th scope=col>effect_size</th></tr>\n",
       "\t<tr><th scope=col>&lt;chr&gt;</th><th scope=col>&lt;dbl&gt;</th><th scope=col>&lt;dbl&gt;</th><th scope=col>&lt;dbl&gt;</th><th scope=col>&lt;chr&gt;</th><th scope=col>&lt;dbl&gt;</th><th scope=col>&lt;dbl&gt;</th><th scope=col>&lt;dbl&gt;</th><th scope=col>&lt;dbl&gt;</th></tr>\n",
       "</thead>\n",
       "<tbody>\n",
       "\t<tr><td>(Intercept)                       </td><td>-0.05874998</td><td>0.3465383</td><td>-0.1695339</td><td>0.8653767287209</td><td>-0.7379650</td><td> 0.62046504</td><td>4.773269</td><td>-0.01230812</td></tr>\n",
       "\t<tr><td>Angleleft                         </td><td> 0.59419945</td><td>0.4285504</td><td> 1.3865335</td><td>0.1655840680812</td><td>-0.2457593</td><td> 1.43415821</td><td>4.773269</td><td> 0.12448480</td></tr>\n",
       "\t<tr><td>Angleright                        </td><td> 0.44299257</td><td>0.4216683</td><td> 1.0505711</td><td>0.2934556044129</td><td>-0.3834773</td><td> 1.26946248</td><td>4.773269</td><td> 0.09280695</td></tr>\n",
       "\t<tr><td>scale(Proximity, scale = FALSE)   </td><td>-0.30350333</td><td>0.2108875</td><td>-1.4391721</td><td>0.1501017798170</td><td>-0.7168427</td><td> 0.10983608</td><td>4.773269</td><td>-0.06358395</td></tr>\n",
       "\t<tr><td>scale(n_candidates, scale = FALSE)</td><td>-1.14493114</td><td>0.2329793</td><td>-4.9143050</td><td>0.0000008909797</td><td>-1.6015705</td><td>-0.68829179</td><td>4.773269</td><td>-0.23986310</td></tr>\n",
       "\t<tr><td>ActorY                            </td><td>-0.74397804</td><td>0.3493456</td><td>-2.1296331</td><td>0.0332019149930</td><td>-1.4286955</td><td>-0.05926059</td><td>4.773269</td><td>-0.15586341</td></tr>\n",
       "</tbody>\n",
       "</table>\n"
      ],
      "text/latex": [
       "A data.frame: 6 x 9\n",
       "\\begin{tabular}{lllllllll}\n",
       " term & Estimate & Std. Error & z value & Pr(>\\textbar{}z\\textbar{}) & CI\\_low & CI\\_high & effect\\_size\\_denom & effect\\_size\\\\\n",
       " <chr> & <dbl> & <dbl> & <dbl> & <chr> & <dbl> & <dbl> & <dbl> & <dbl>\\\\\n",
       "\\hline\n",
       "\t (Intercept)                        & -0.05874998 & 0.3465383 & -0.1695339 & 0.8653767287209 & -0.7379650 &  0.62046504 & 4.773269 & -0.01230812\\\\\n",
       "\t Angleleft                          &  0.59419945 & 0.4285504 &  1.3865335 & 0.1655840680812 & -0.2457593 &  1.43415821 & 4.773269 &  0.12448480\\\\\n",
       "\t Angleright                         &  0.44299257 & 0.4216683 &  1.0505711 & 0.2934556044129 & -0.3834773 &  1.26946248 & 4.773269 &  0.09280695\\\\\n",
       "\t scale(Proximity, scale = FALSE)    & -0.30350333 & 0.2108875 & -1.4391721 & 0.1501017798170 & -0.7168427 &  0.10983608 & 4.773269 & -0.06358395\\\\\n",
       "\t scale(n\\_candidates, scale = FALSE) & -1.14493114 & 0.2329793 & -4.9143050 & 0.0000008909797 & -1.6015705 & -0.68829179 & 4.773269 & -0.23986310\\\\\n",
       "\t ActorY                             & -0.74397804 & 0.3493456 & -2.1296331 & 0.0332019149930 & -1.4286955 & -0.05926059 & 4.773269 & -0.15586341\\\\\n",
       "\\end{tabular}\n"
      ],
      "text/markdown": [
       "\n",
       "A data.frame: 6 x 9\n",
       "\n",
       "| term &lt;chr&gt; | Estimate &lt;dbl&gt; | Std. Error &lt;dbl&gt; | z value &lt;dbl&gt; | Pr(&gt;|z|) &lt;chr&gt; | CI_low &lt;dbl&gt; | CI_high &lt;dbl&gt; | effect_size_denom &lt;dbl&gt; | effect_size &lt;dbl&gt; |\n",
       "|---|---|---|---|---|---|---|---|---|\n",
       "| (Intercept)                        | -0.05874998 | 0.3465383 | -0.1695339 | 0.8653767287209 | -0.7379650 |  0.62046504 | 4.773269 | -0.01230812 |\n",
       "| Angleleft                          |  0.59419945 | 0.4285504 |  1.3865335 | 0.1655840680812 | -0.2457593 |  1.43415821 | 4.773269 |  0.12448480 |\n",
       "| Angleright                         |  0.44299257 | 0.4216683 |  1.0505711 | 0.2934556044129 | -0.3834773 |  1.26946248 | 4.773269 |  0.09280695 |\n",
       "| scale(Proximity, scale = FALSE)    | -0.30350333 | 0.2108875 | -1.4391721 | 0.1501017798170 | -0.7168427 |  0.10983608 | 4.773269 | -0.06358395 |\n",
       "| scale(n_candidates, scale = FALSE) | -1.14493114 | 0.2329793 | -4.9143050 | 0.0000008909797 | -1.6015705 | -0.68829179 | 4.773269 | -0.23986310 |\n",
       "| ActorY                             | -0.74397804 | 0.3493456 | -2.1296331 | 0.0332019149930 | -1.4286955 | -0.05926059 | 4.773269 | -0.15586341 |\n",
       "\n"
      ],
      "text/plain": [
       "  term                               Estimate    Std. Error z value   \n",
       "1 (Intercept)                        -0.05874998 0.3465383  -0.1695339\n",
       "2 Angleleft                           0.59419945 0.4285504   1.3865335\n",
       "3 Angleright                          0.44299257 0.4216683   1.0505711\n",
       "4 scale(Proximity, scale = FALSE)    -0.30350333 0.2108875  -1.4391721\n",
       "5 scale(n_candidates, scale = FALSE) -1.14493114 0.2329793  -4.9143050\n",
       "6 ActorY                             -0.74397804 0.3493456  -2.1296331\n",
       "  Pr(>|z|)        CI_low     CI_high     effect_size_denom effect_size\n",
       "1 0.8653767287209 -0.7379650  0.62046504 4.773269          -0.01230812\n",
       "2 0.1655840680812 -0.2457593  1.43415821 4.773269           0.12448480\n",
       "3 0.2934556044129 -0.3834773  1.26946248 4.773269           0.09280695\n",
       "4 0.1501017798170 -0.7168427  0.10983608 4.773269          -0.06358395\n",
       "5 0.0000008909797 -1.6015705 -0.68829179 4.773269          -0.23986310\n",
       "6 0.0332019149930 -1.4286955 -0.05926059 4.773269          -0.15586341"
      ]
     },
     "metadata": {},
     "output_type": "display_data"
    }
   ],
   "source": [
    "vc_list <- lapply(VarCorr(model), function(x) attr(x, \"stddev\")^2)\n",
    "vc <- sum(unlist(vc_list))\n",
    "effect_size_denom_t <- sqrt(vc + pi^2/3)\n",
    "\n",
    "res <- summary(model)$coefficients\n",
    "res <- as.data.frame(res)\n",
    "res <- cbind(term = rownames(res), res)\n",
    "rownames(res) <- NULL\n",
    "res$`Pr(>|z|)` <- format(res$`Pr(>|z|)`, scientific = FALSE)\n",
    "res$CI_low <- res$Estimate - 1.96 * res$`Std. Error`\n",
    "res$CI_high <- res$Estimate + 1.96 * res$`Std. Error`\n",
    "res$effect_size_denom <- effect_size_denom_t\n",
    "res$effect_size <- res$Estimate / effect_size_denom_t\n",
    "res"
   ]
  },
  {
   "cell_type": "code",
   "execution_count": 11,
   "metadata": {
    "vscode": {
     "languageId": "r"
    }
   },
   "outputs": [
    {
     "data": {
      "text/html": [
       "<table class=\"dataframe\">\n",
       "<caption>A predictions: 3 x 8</caption>\n",
       "<thead>\n",
       "\t<tr><th scope=col>hypothesis</th><th scope=col>estimate</th><th scope=col>std.error</th><th scope=col>statistic</th><th scope=col>p.value</th><th scope=col>s.value</th><th scope=col>conf.low</th><th scope=col>conf.high</th></tr>\n",
       "\t<tr><th scope=col>&lt;chr&gt;</th><th scope=col>&lt;dbl&gt;</th><th scope=col>&lt;dbl&gt;</th><th scope=col>&lt;dbl&gt;</th><th scope=col>&lt;dbl&gt;</th><th scope=col>&lt;dbl&gt;</th><th scope=col>&lt;dbl&gt;</th><th scope=col>&lt;dbl&gt;</th></tr>\n",
       "</thead>\n",
       "<tbody>\n",
       "\t<tr><td>(left) - (front) </td><td>0.045212145</td><td>0.03257338</td><td>1.38800902</td><td>0.1651343</td><td>2.59828829</td><td>-0.01863051</td><td>0.10905480</td></tr>\n",
       "\t<tr><td>(right) - (front)</td><td>0.046436512</td><td>0.03692469</td><td>1.25760070</td><td>0.2085362</td><td>2.26163026</td><td>-0.02593454</td><td>0.11880757</td></tr>\n",
       "\t<tr><td>(right) - (left) </td><td>0.001224367</td><td>0.03852652</td><td>0.03177984</td><td>0.9746476</td><td>0.03704737</td><td>-0.07428623</td><td>0.07673496</td></tr>\n",
       "</tbody>\n",
       "</table>\n"
      ],
      "text/latex": [
       "A predictions: 3 x 8\n",
       "\\begin{tabular}{llllllll}\n",
       " hypothesis & estimate & std.error & statistic & p.value & s.value & conf.low & conf.high\\\\\n",
       " <chr> & <dbl> & <dbl> & <dbl> & <dbl> & <dbl> & <dbl> & <dbl>\\\\\n",
       "\\hline\n",
       "\t (left) - (front)  & 0.045212145 & 0.03257338 & 1.38800902 & 0.1651343 & 2.59828829 & -0.01863051 & 0.10905480\\\\\n",
       "\t (right) - (front) & 0.046436512 & 0.03692469 & 1.25760070 & 0.2085362 & 2.26163026 & -0.02593454 & 0.11880757\\\\\n",
       "\t (right) - (left)  & 0.001224367 & 0.03852652 & 0.03177984 & 0.9746476 & 0.03704737 & -0.07428623 & 0.07673496\\\\\n",
       "\\end{tabular}\n"
      ],
      "text/markdown": [
       "\n",
       "A predictions: 3 x 8\n",
       "\n",
       "| hypothesis &lt;chr&gt; | estimate &lt;dbl&gt; | std.error &lt;dbl&gt; | statistic &lt;dbl&gt; | p.value &lt;dbl&gt; | s.value &lt;dbl&gt; | conf.low &lt;dbl&gt; | conf.high &lt;dbl&gt; |\n",
       "|---|---|---|---|---|---|---|---|\n",
       "| (left) - (front)  | 0.045212145 | 0.03257338 | 1.38800902 | 0.1651343 | 2.59828829 | -0.01863051 | 0.10905480 |\n",
       "| (right) - (front) | 0.046436512 | 0.03692469 | 1.25760070 | 0.2085362 | 2.26163026 | -0.02593454 | 0.11880757 |\n",
       "| (right) - (left)  | 0.001224367 | 0.03852652 | 0.03177984 | 0.9746476 | 0.03704737 | -0.07428623 | 0.07673496 |\n",
       "\n"
      ],
      "text/plain": [
       "  hypothesis        estimate    std.error  statistic  p.value   s.value   \n",
       "1 (left) - (front)  0.045212145 0.03257338 1.38800902 0.1651343 2.59828829\n",
       "2 (right) - (front) 0.046436512 0.03692469 1.25760070 0.2085362 2.26163026\n",
       "3 (right) - (left)  0.001224367 0.03852652 0.03177984 0.9746476 0.03704737\n",
       "  conf.low    conf.high \n",
       "1 -0.01863051 0.10905480\n",
       "2 -0.02593454 0.11880757\n",
       "3 -0.07428623 0.07673496"
      ]
     },
     "metadata": {},
     "output_type": "display_data"
    }
   ],
   "source": [
    "avg_predictions(model, by=\"Angle\", hypothesis = ~ pairwise)"
   ]
  },
  {
   "cell_type": "code",
   "execution_count": 12,
   "metadata": {
    "vscode": {
     "languageId": "r"
    }
   },
   "outputs": [
    {
     "data": {
      "text/html": [
       "<table class=\"dataframe\">\n",
       "<caption>A predictions: 3 x 8</caption>\n",
       "<thead>\n",
       "\t<tr><th scope=col>Proximity</th><th scope=col>estimate</th><th scope=col>std.error</th><th scope=col>statistic</th><th scope=col>p.value</th><th scope=col>s.value</th><th scope=col>conf.low</th><th scope=col>conf.high</th></tr>\n",
       "\t<tr><th scope=col>&lt;int&gt;</th><th scope=col>&lt;dbl&gt;</th><th scope=col>&lt;dbl&gt;</th><th scope=col>&lt;dbl&gt;</th><th scope=col>&lt;dbl&gt;</th><th scope=col>&lt;dbl&gt;</th><th scope=col>&lt;dbl&gt;</th><th scope=col>&lt;dbl&gt;</th></tr>\n",
       "</thead>\n",
       "<tbody>\n",
       "\t<tr><td>1</td><td>0.5198820</td><td>0.02506461</td><td>20.74168</td><td> 1.457583e-95</td><td>315.0396</td><td>0.4707563</td><td>0.5690078</td></tr>\n",
       "\t<tr><td>2</td><td>0.4872044</td><td>0.01569693</td><td>31.03819</td><td>1.646786e-211</td><td>700.2072</td><td>0.4564389</td><td>0.5179698</td></tr>\n",
       "\t<tr><td>3</td><td>0.4737946</td><td>0.02182303</td><td>21.71076</td><td>1.623528e-104</td><td>344.7814</td><td>0.4310222</td><td>0.5165669</td></tr>\n",
       "</tbody>\n",
       "</table>\n"
      ],
      "text/latex": [
       "A predictions: 3 x 8\n",
       "\\begin{tabular}{llllllll}\n",
       " Proximity & estimate & std.error & statistic & p.value & s.value & conf.low & conf.high\\\\\n",
       " <int> & <dbl> & <dbl> & <dbl> & <dbl> & <dbl> & <dbl> & <dbl>\\\\\n",
       "\\hline\n",
       "\t 1 & 0.5198820 & 0.02506461 & 20.74168 &  1.457583e-95 & 315.0396 & 0.4707563 & 0.5690078\\\\\n",
       "\t 2 & 0.4872044 & 0.01569693 & 31.03819 & 1.646786e-211 & 700.2072 & 0.4564389 & 0.5179698\\\\\n",
       "\t 3 & 0.4737946 & 0.02182303 & 21.71076 & 1.623528e-104 & 344.7814 & 0.4310222 & 0.5165669\\\\\n",
       "\\end{tabular}\n"
      ],
      "text/markdown": [
       "\n",
       "A predictions: 3 x 8\n",
       "\n",
       "| Proximity &lt;int&gt; | estimate &lt;dbl&gt; | std.error &lt;dbl&gt; | statistic &lt;dbl&gt; | p.value &lt;dbl&gt; | s.value &lt;dbl&gt; | conf.low &lt;dbl&gt; | conf.high &lt;dbl&gt; |\n",
       "|---|---|---|---|---|---|---|---|\n",
       "| 1 | 0.5198820 | 0.02506461 | 20.74168 |  1.457583e-95 | 315.0396 | 0.4707563 | 0.5690078 |\n",
       "| 2 | 0.4872044 | 0.01569693 | 31.03819 | 1.646786e-211 | 700.2072 | 0.4564389 | 0.5179698 |\n",
       "| 3 | 0.4737946 | 0.02182303 | 21.71076 | 1.623528e-104 | 344.7814 | 0.4310222 | 0.5165669 |\n",
       "\n"
      ],
      "text/plain": [
       "  Proximity estimate  std.error  statistic p.value       s.value  conf.low \n",
       "1 1         0.5198820 0.02506461 20.74168   1.457583e-95 315.0396 0.4707563\n",
       "2 2         0.4872044 0.01569693 31.03819  1.646786e-211 700.2072 0.4564389\n",
       "3 3         0.4737946 0.02182303 21.71076  1.623528e-104 344.7814 0.4310222\n",
       "  conf.high\n",
       "1 0.5690078\n",
       "2 0.5179698\n",
       "3 0.5165669"
      ]
     },
     "metadata": {},
     "output_type": "display_data"
    }
   ],
   "source": [
    "avg_predictions(model, by=\"Proximity\")"
   ]
  },
  {
   "cell_type": "code",
   "execution_count": 13,
   "metadata": {
    "vscode": {
     "languageId": "r"
    }
   },
   "outputs": [
    {
     "data": {
      "text/html": [
       "<table class=\"dataframe\">\n",
       "<caption>A slopes: 1 x 12</caption>\n",
       "<thead>\n",
       "\t<tr><th scope=col>term</th><th scope=col>contrast</th><th scope=col>estimate</th><th scope=col>std.error</th><th scope=col>statistic</th><th scope=col>p.value</th><th scope=col>s.value</th><th scope=col>conf.low</th><th scope=col>conf.high</th><th scope=col>predicted_lo</th><th scope=col>predicted_hi</th><th scope=col>predicted</th></tr>\n",
       "\t<tr><th scope=col>&lt;chr&gt;</th><th scope=col>&lt;chr&gt;</th><th scope=col>&lt;dbl&gt;</th><th scope=col>&lt;dbl&gt;</th><th scope=col>&lt;dbl&gt;</th><th scope=col>&lt;dbl&gt;</th><th scope=col>&lt;dbl&gt;</th><th scope=col>&lt;dbl&gt;</th><th scope=col>&lt;dbl&gt;</th><th scope=col>&lt;dbl&gt;</th><th scope=col>&lt;dbl&gt;</th><th scope=col>&lt;dbl&gt;</th></tr>\n",
       "</thead>\n",
       "<tbody>\n",
       "\t<tr><td>Proximity</td><td>dY/dX</td><td>-0.3035033</td><td>0.2108936</td><td>-1.43913</td><td>0.1501137</td><td>2.735873</td><td>-0.7168472</td><td>0.1098406</td><td>-1.289874</td><td>-1.289935</td><td>-1.289904</td></tr>\n",
       "</tbody>\n",
       "</table>\n"
      ],
      "text/latex": [
       "A slopes: 1 x 12\n",
       "\\begin{tabular}{llllllllllll}\n",
       " term & contrast & estimate & std.error & statistic & p.value & s.value & conf.low & conf.high & predicted\\_lo & predicted\\_hi & predicted\\\\\n",
       " <chr> & <chr> & <dbl> & <dbl> & <dbl> & <dbl> & <dbl> & <dbl> & <dbl> & <dbl> & <dbl> & <dbl>\\\\\n",
       "\\hline\n",
       "\t Proximity & dY/dX & -0.3035033 & 0.2108936 & -1.43913 & 0.1501137 & 2.735873 & -0.7168472 & 0.1098406 & -1.289874 & -1.289935 & -1.289904\\\\\n",
       "\\end{tabular}\n"
      ],
      "text/markdown": [
       "\n",
       "A slopes: 1 x 12\n",
       "\n",
       "| term &lt;chr&gt; | contrast &lt;chr&gt; | estimate &lt;dbl&gt; | std.error &lt;dbl&gt; | statistic &lt;dbl&gt; | p.value &lt;dbl&gt; | s.value &lt;dbl&gt; | conf.low &lt;dbl&gt; | conf.high &lt;dbl&gt; | predicted_lo &lt;dbl&gt; | predicted_hi &lt;dbl&gt; | predicted &lt;dbl&gt; |\n",
       "|---|---|---|---|---|---|---|---|---|---|---|---|\n",
       "| Proximity | dY/dX | -0.3035033 | 0.2108936 | -1.43913 | 0.1501137 | 2.735873 | -0.7168472 | 0.1098406 | -1.289874 | -1.289935 | -1.289904 |\n",
       "\n"
      ],
      "text/plain": [
       "  term      contrast estimate   std.error statistic p.value   s.value \n",
       "1 Proximity dY/dX    -0.3035033 0.2108936 -1.43913  0.1501137 2.735873\n",
       "  conf.low   conf.high predicted_lo predicted_hi predicted\n",
       "1 -0.7168472 0.1098406 -1.289874    -1.289935    -1.289904"
      ]
     },
     "metadata": {},
     "output_type": "display_data"
    }
   ],
   "source": [
    "avg_slopes(model, variables =\"Proximity\", type = \"link\")"
   ]
  },
  {
   "cell_type": "code",
   "execution_count": 14,
   "metadata": {
    "vscode": {
     "languageId": "r"
    }
   },
   "outputs": [
    {
     "data": {
      "text/html": [
       "<table class=\"dataframe\">\n",
       "<caption>A predictions: 3 x 8</caption>\n",
       "<thead>\n",
       "\t<tr><th scope=col>n_candidates</th><th scope=col>estimate</th><th scope=col>std.error</th><th scope=col>statistic</th><th scope=col>p.value</th><th scope=col>s.value</th><th scope=col>conf.low</th><th scope=col>conf.high</th></tr>\n",
       "\t<tr><th scope=col>&lt;int&gt;</th><th scope=col>&lt;dbl&gt;</th><th scope=col>&lt;dbl&gt;</th><th scope=col>&lt;dbl&gt;</th><th scope=col>&lt;dbl&gt;</th><th scope=col>&lt;dbl&gt;</th><th scope=col>&lt;dbl&gt;</th><th scope=col>&lt;dbl&gt;</th></tr>\n",
       "</thead>\n",
       "<tbody>\n",
       "\t<tr><td>2</td><td>0.5382819</td><td>0.01870522</td><td>28.77710</td><td>4.150161e-182</td><td>602.53775</td><td>0.5016204</td><td>0.5749435</td></tr>\n",
       "\t<tr><td>3</td><td>0.4507038</td><td>0.01701951</td><td>26.48161</td><td>1.578869e-154</td><td>510.91804</td><td>0.4173462</td><td>0.4840615</td></tr>\n",
       "\t<tr><td>4</td><td>0.3951195</td><td>0.03538113</td><td>11.16752</td><td> 5.880067e-29</td><td> 93.78008</td><td>0.3257737</td><td>0.4644652</td></tr>\n",
       "</tbody>\n",
       "</table>\n"
      ],
      "text/latex": [
       "A predictions: 3 x 8\n",
       "\\begin{tabular}{llllllll}\n",
       " n\\_candidates & estimate & std.error & statistic & p.value & s.value & conf.low & conf.high\\\\\n",
       " <int> & <dbl> & <dbl> & <dbl> & <dbl> & <dbl> & <dbl> & <dbl>\\\\\n",
       "\\hline\n",
       "\t 2 & 0.5382819 & 0.01870522 & 28.77710 & 4.150161e-182 & 602.53775 & 0.5016204 & 0.5749435\\\\\n",
       "\t 3 & 0.4507038 & 0.01701951 & 26.48161 & 1.578869e-154 & 510.91804 & 0.4173462 & 0.4840615\\\\\n",
       "\t 4 & 0.3951195 & 0.03538113 & 11.16752 &  5.880067e-29 &  93.78008 & 0.3257737 & 0.4644652\\\\\n",
       "\\end{tabular}\n"
      ],
      "text/markdown": [
       "\n",
       "A predictions: 3 x 8\n",
       "\n",
       "| n_candidates &lt;int&gt; | estimate &lt;dbl&gt; | std.error &lt;dbl&gt; | statistic &lt;dbl&gt; | p.value &lt;dbl&gt; | s.value &lt;dbl&gt; | conf.low &lt;dbl&gt; | conf.high &lt;dbl&gt; |\n",
       "|---|---|---|---|---|---|---|---|\n",
       "| 2 | 0.5382819 | 0.01870522 | 28.77710 | 4.150161e-182 | 602.53775 | 0.5016204 | 0.5749435 |\n",
       "| 3 | 0.4507038 | 0.01701951 | 26.48161 | 1.578869e-154 | 510.91804 | 0.4173462 | 0.4840615 |\n",
       "| 4 | 0.3951195 | 0.03538113 | 11.16752 |  5.880067e-29 |  93.78008 | 0.3257737 | 0.4644652 |\n",
       "\n"
      ],
      "text/plain": [
       "  n_candidates estimate  std.error  statistic p.value       s.value   conf.low \n",
       "1 2            0.5382819 0.01870522 28.77710  4.150161e-182 602.53775 0.5016204\n",
       "2 3            0.4507038 0.01701951 26.48161  1.578869e-154 510.91804 0.4173462\n",
       "3 4            0.3951195 0.03538113 11.16752   5.880067e-29  93.78008 0.3257737\n",
       "  conf.high\n",
       "1 0.5749435\n",
       "2 0.4840615\n",
       "3 0.4644652"
      ]
     },
     "metadata": {},
     "output_type": "display_data"
    }
   ],
   "source": [
    "avg_predictions(model, by=\"n_candidates\")"
   ]
  },
  {
   "cell_type": "code",
   "execution_count": 15,
   "metadata": {
    "vscode": {
     "languageId": "r"
    }
   },
   "outputs": [
    {
     "data": {
      "text/html": [
       "<table class=\"dataframe\">\n",
       "<caption>A slopes: 1 x 12</caption>\n",
       "<thead>\n",
       "\t<tr><th scope=col>term</th><th scope=col>contrast</th><th scope=col>estimate</th><th scope=col>std.error</th><th scope=col>statistic</th><th scope=col>p.value</th><th scope=col>s.value</th><th scope=col>conf.low</th><th scope=col>conf.high</th><th scope=col>predicted_lo</th><th scope=col>predicted_hi</th><th scope=col>predicted</th></tr>\n",
       "\t<tr><th scope=col>&lt;chr&gt;</th><th scope=col>&lt;chr&gt;</th><th scope=col>&lt;dbl&gt;</th><th scope=col>&lt;dbl&gt;</th><th scope=col>&lt;dbl&gt;</th><th scope=col>&lt;dbl&gt;</th><th scope=col>&lt;dbl&gt;</th><th scope=col>&lt;dbl&gt;</th><th scope=col>&lt;dbl&gt;</th><th scope=col>&lt;dbl&gt;</th><th scope=col>&lt;dbl&gt;</th><th scope=col>&lt;dbl&gt;</th></tr>\n",
       "</thead>\n",
       "<tbody>\n",
       "\t<tr><td>n_candidates</td><td>dY/dX</td><td>-1.144931</td><td>0.2329742</td><td>-4.914411</td><td>8.904982e-07</td><td>20.09888</td><td>-1.601552</td><td>-0.68831</td><td>-1.28979</td><td>-1.290019</td><td>-1.289904</td></tr>\n",
       "</tbody>\n",
       "</table>\n"
      ],
      "text/latex": [
       "A slopes: 1 x 12\n",
       "\\begin{tabular}{llllllllllll}\n",
       " term & contrast & estimate & std.error & statistic & p.value & s.value & conf.low & conf.high & predicted\\_lo & predicted\\_hi & predicted\\\\\n",
       " <chr> & <chr> & <dbl> & <dbl> & <dbl> & <dbl> & <dbl> & <dbl> & <dbl> & <dbl> & <dbl> & <dbl>\\\\\n",
       "\\hline\n",
       "\t n\\_candidates & dY/dX & -1.144931 & 0.2329742 & -4.914411 & 8.904982e-07 & 20.09888 & -1.601552 & -0.68831 & -1.28979 & -1.290019 & -1.289904\\\\\n",
       "\\end{tabular}\n"
      ],
      "text/markdown": [
       "\n",
       "A slopes: 1 x 12\n",
       "\n",
       "| term &lt;chr&gt; | contrast &lt;chr&gt; | estimate &lt;dbl&gt; | std.error &lt;dbl&gt; | statistic &lt;dbl&gt; | p.value &lt;dbl&gt; | s.value &lt;dbl&gt; | conf.low &lt;dbl&gt; | conf.high &lt;dbl&gt; | predicted_lo &lt;dbl&gt; | predicted_hi &lt;dbl&gt; | predicted &lt;dbl&gt; |\n",
       "|---|---|---|---|---|---|---|---|---|---|---|---|\n",
       "| n_candidates | dY/dX | -1.144931 | 0.2329742 | -4.914411 | 8.904982e-07 | 20.09888 | -1.601552 | -0.68831 | -1.28979 | -1.290019 | -1.289904 |\n",
       "\n"
      ],
      "text/plain": [
       "  term         contrast estimate  std.error statistic p.value      s.value \n",
       "1 n_candidates dY/dX    -1.144931 0.2329742 -4.914411 8.904982e-07 20.09888\n",
       "  conf.low  conf.high predicted_lo predicted_hi predicted\n",
       "1 -1.601552 -0.68831  -1.28979     -1.290019    -1.289904"
      ]
     },
     "metadata": {},
     "output_type": "display_data"
    }
   ],
   "source": [
    "avg_slopes(model, variables =\"n_candidates\", type = \"link\")"
   ]
  },
  {
   "cell_type": "code",
   "execution_count": 16,
   "metadata": {
    "vscode": {
     "languageId": "r"
    }
   },
   "outputs": [
    {
     "data": {
      "text/html": [
       "<table class=\"dataframe\">\n",
       "<caption>A predictions: 1 x 8</caption>\n",
       "<thead>\n",
       "\t<tr><th scope=col>hypothesis</th><th scope=col>estimate</th><th scope=col>std.error</th><th scope=col>statistic</th><th scope=col>p.value</th><th scope=col>s.value</th><th scope=col>conf.low</th><th scope=col>conf.high</th></tr>\n",
       "\t<tr><th scope=col>&lt;chr&gt;</th><th scope=col>&lt;dbl&gt;</th><th scope=col>&lt;dbl&gt;</th><th scope=col>&lt;dbl&gt;</th><th scope=col>&lt;dbl&gt;</th><th scope=col>&lt;dbl&gt;</th><th scope=col>&lt;dbl&gt;</th><th scope=col>&lt;dbl&gt;</th></tr>\n",
       "</thead>\n",
       "<tbody>\n",
       "\t<tr><td>(Y) - (X)</td><td>-0.06763862</td><td>0.02963053</td><td>-2.282734</td><td>0.02244605</td><td>5.477394</td><td>-0.1257134</td><td>-0.009563842</td></tr>\n",
       "</tbody>\n",
       "</table>\n"
      ],
      "text/latex": [
       "A predictions: 1 x 8\n",
       "\\begin{tabular}{llllllll}\n",
       " hypothesis & estimate & std.error & statistic & p.value & s.value & conf.low & conf.high\\\\\n",
       " <chr> & <dbl> & <dbl> & <dbl> & <dbl> & <dbl> & <dbl> & <dbl>\\\\\n",
       "\\hline\n",
       "\t (Y) - (X) & -0.06763862 & 0.02963053 & -2.282734 & 0.02244605 & 5.477394 & -0.1257134 & -0.009563842\\\\\n",
       "\\end{tabular}\n"
      ],
      "text/markdown": [
       "\n",
       "A predictions: 1 x 8\n",
       "\n",
       "| hypothesis &lt;chr&gt; | estimate &lt;dbl&gt; | std.error &lt;dbl&gt; | statistic &lt;dbl&gt; | p.value &lt;dbl&gt; | s.value &lt;dbl&gt; | conf.low &lt;dbl&gt; | conf.high &lt;dbl&gt; |\n",
       "|---|---|---|---|---|---|---|---|\n",
       "| (Y) - (X) | -0.06763862 | 0.02963053 | -2.282734 | 0.02244605 | 5.477394 | -0.1257134 | -0.009563842 |\n",
       "\n"
      ],
      "text/plain": [
       "  hypothesis estimate    std.error  statistic p.value    s.value  conf.low  \n",
       "1 (Y) - (X)  -0.06763862 0.02963053 -2.282734 0.02244605 5.477394 -0.1257134\n",
       "  conf.high   \n",
       "1 -0.009563842"
      ]
     },
     "metadata": {},
     "output_type": "display_data"
    }
   ],
   "source": [
    "avg_predictions(model, by=\"Actor\", hypothesis = ~ pairwise)"
   ]
  },
  {
   "cell_type": "markdown",
   "metadata": {},
   "source": [
    "The below code is for generating the table in the paper."
   ]
  },
  {
   "cell_type": "code",
   "execution_count": 17,
   "metadata": {
    "vscode": {
     "languageId": "r"
    }
   },
   "outputs": [
    {
     "name": "stdout",
     "output_type": "stream",
     "text": [
      "19.4584701\n",
      "NA\n",
      "0.0357608\n",
      "4.7732692\n",
      "-0.0587500\n",
      "0.3465383\n",
      "0.5941995\n",
      "0.4285504\n",
      "0.1655841\n",
      "0.1244848\n",
      "0.4429926\n",
      "0.4216683\n",
      "0.2934556\n",
      "0.0928070\n",
      "-0.3035033\n",
      "0.2108875\n",
      "0.1501018\n",
      "-0.0635840\n",
      "-1.1449311\n",
      "0.2329793\n",
      "0.0000009\n",
      "-0.2398631\n",
      "-0.7439780\n",
      "0.3493456\n",
      "0.0332019\n",
      "-0.1558634\n"
     ]
    }
   ],
   "source": [
    "stim_id_var_val <- if (!is.null(vc_list$Stimulus_ID) && length(vc_list$Stimulus_ID) > 0) vc_list$Stimulus_ID[[1]] else NA_real_\n",
    "prompt_id_var_val <- if (!is.null(vc_list$Prompt_ID) && length(vc_list$Prompt_ID) > 0) vc_list$Prompt_ID[[1]] else NA_real_\n",
    "participant_id_var_val <- if (!is.null(vc_list$Participant_ID) && length(vc_list$Participant_ID) > 0) vc_list$Participant_ID[[1]] else NA_real_\n",
    "\n",
    "intercept_est <- res[res$term == \"(Intercept)\", \"Estimate\"]\n",
    "intercept_se <- res[res$term == \"(Intercept)\", \"Std. Error\"]\n",
    "\n",
    "angleleft_est <- res[res$term == \"Angleleft\", \"Estimate\"]\n",
    "angleleft_se <- res[res$term == \"Angleleft\", \"Std. Error\"]\n",
    "angleleft_p_val <- res[res$term == \"Angleleft\", \"Pr(>|z|)\"]\n",
    "angleleft_eff_size <- res[res$term == \"Angleleft\", \"effect_size\"]\n",
    "\n",
    "angleright_est <- res[res$term == \"Angleright\", \"Estimate\"]\n",
    "angleright_se <- res[res$term == \"Angleright\", \"Std. Error\"]\n",
    "angleright_p_val <- res[res$term == \"Angleright\", \"Pr(>|z|)\"]\n",
    "angleright_eff_size <- res[res$term == \"Angleright\", \"effect_size\"]\n",
    "\n",
    "proximity_term_name <- \"scale(Proximity, scale = FALSE)\"\n",
    "if (!proximity_term_name %in% res$term) {\n",
    "    proximity_term_name <- grep(\"Proximity\", res$term, value = TRUE)[1]\n",
    "}\n",
    "proximity_est <- res[res$term == proximity_term_name, \"Estimate\"]\n",
    "proximity_se <- res[res$term == proximity_term_name, \"Std. Error\"]\n",
    "proximity_p_val <- res[res$term == proximity_term_name, \"Pr(>|z|)\"]\n",
    "proximity_eff_size <- res[res$term == proximity_term_name, \"effect_size\"]\n",
    "\n",
    "n_candidates_term_name <- \"scale(n_candidates, scale = FALSE)\"\n",
    "if (!n_candidates_term_name %in% res$term) {\n",
    "    n_candidates_term_name <- grep(\"n_candidates\", res$term, value = TRUE)[1]\n",
    "}\n",
    "n_obj_est <- res[res$term == n_candidates_term_name, \"Estimate\"]\n",
    "n_obj_se <- res[res$term == n_candidates_term_name, \"Std. Error\"]\n",
    "n_obj_p_val <- res[res$term == n_candidates_term_name, \"Pr(>|z|)\"]\n",
    "n_obj_eff_size <- res[res$term == n_candidates_term_name, \"effect_size\"]\n",
    "\n",
    "actory_term_name <- \"ActorY\" # Assuming 'X' is the reference level for Actor factor\n",
    "actory_est <- res[res$term == actory_term_name, \"Estimate\"]\n",
    "actory_se <- res[res$term == actory_term_name, \"Std. Error\"]\n",
    "actory_p_val <- res[res$term == actory_term_name, \"Pr(>|z|)\"]\n",
    "actory_eff_size <- res[res$term == actory_term_name, \"effect_size\"]\n",
    "\n",
    "# Prepare data for data frame\n",
    "table_data <- list(\n",
    "    c(\"StimulusID\", \"Variance\", sprintf(\"%.7f\", stim_id_var_val)),\n",
    "    c(\"ParticipantID\", \"Variance\", sprintf(\"%.7f\", participant_id_var_val)),\n",
    "    c(\"PromptID\", \"Variance\", sprintf(\"%.7f\", prompt_id_var_val)),\n",
    "    c(\"Effect Size Denom\", \"\", sprintf(\"%.7f\", effect_size_denom_t)),\n",
    "\n",
    "    c(\"Intercept\", \"b\", sprintf(\"%.7f\", intercept_est)),\n",
    "    c(\"\", \"SE\", sprintf(\"%.7f\", intercept_se)),\n",
    "\n",
    "    c(\"Angleleft\", \"b\", sprintf(\"%.7f\", angleleft_est)),\n",
    "    c(\"\", \"SE\", sprintf(\"%.7f\", angleleft_se)),\n",
    "    c(\"\", \"p\", sprintf(\"%.7f\", as.numeric(angleleft_p_val))),\n",
    "    c(\"\", \"Effect size\", sprintf(\"%.7f\", angleleft_eff_size)),\n",
    "\n",
    "    c(\"Angleright\", \"b\", sprintf(\"%.7f\", angleright_est)),\n",
    "    c(\"\", \"SE\", sprintf(\"%.7f\", angleright_se)),\n",
    "    c(\"\", \"p\", sprintf(\"%.7f\", as.numeric(angleright_p_val))),\n",
    "    c(\"\", \"Effect size\", sprintf(\"%.7f\", angleright_eff_size)),\n",
    "\n",
    "    c(\"Proximity\", \"b\", sprintf(\"%.7f\", proximity_est)),\n",
    "    c(\"\", \"SE\", sprintf(\"%.7f\", proximity_se)),\n",
    "    c(\"\", \"p\", sprintf(\"%.7f\", as.numeric(proximity_p_val))),\n",
    "    c(\"\", \"Effect size\", sprintf(\"%.7f\", proximity_eff_size)),\n",
    "\n",
    "    c(\"#Object\", \"b\", sprintf(\"%.7f\", n_obj_est)),\n",
    "    c(\"\", \"SE\", sprintf(\"%.7f\", n_obj_se)),\n",
    "    c(\"\", \"p\", sprintf(\"%.7f\", as.numeric(n_obj_p_val))),\n",
    "    c(\"\", \"Effect size\", sprintf(\"%.7f\", n_obj_eff_size)),\n",
    "\n",
    "    c(\"ActorY\", \"b\", sprintf(\"%.7f\", actory_est)),\n",
    "    c(\"\", \"SE\", sprintf(\"%.7f\", actory_se)),\n",
    "    c(\"\", \"p\", sprintf(\"%.7f\", as.numeric(actory_p_val))),\n",
    "    c(\"\", \"Effect size\", sprintf(\"%.7f\", actory_eff_size))\n",
    ")\n",
    "\n",
    "# Convert to data frame\n",
    "df_output <- do.call(rbind, lapply(table_data, function(x) data.frame(V1=x[1], V2=x[2], V3=x[3], stringsAsFactors=FALSE)))\n",
    "\n",
    "# Print only the third column for easy copy-pasting to Excel\n",
    "write.table(df_output[,3, drop=FALSE], file=\"\", sep = \"\\t\", row.names = FALSE, col.names = FALSE, quote = FALSE)"
   ]
  }
 ],
 "metadata": {
  "kernelspec": {
   "display_name": "R",
   "language": "R",
   "name": "ir"
  },
  "language_info": {
   "codemirror_mode": "r",
   "file_extension": ".r",
   "mimetype": "text/x-r-source",
   "name": "R",
   "pygments_lexer": "r",
   "version": "4.3.3"
  }
 },
 "nbformat": 4,
 "nbformat_minor": 2
}
