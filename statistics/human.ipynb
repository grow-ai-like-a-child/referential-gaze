{
 "cells": [
  {
   "cell_type": "markdown",
   "metadata": {},
   "source": [
    "# Loading Responses"
   ]
  },
  {
   "cell_type": "code",
   "execution_count": 1,
   "metadata": {
    "vscode": {
     "languageId": "r"
    }
   },
   "outputs": [
    {
     "name": "stderr",
     "output_type": "stream",
     "text": [
      "Loading required package: lme4\n",
      "\n",
      "Loading required package: Matrix\n",
      "\n",
      "Loading required package: readr\n",
      "\n",
      "Loading required package: marginaleffects\n",
      "\n",
      "Loading required package: emmeans\n",
      "\n",
      "Welcome to emmeans.\n",
      "Caution: You lose important information if you filter this package's results.\n",
      "See '? untidy'\n",
      "\n",
      "Loading required package: car\n",
      "\n",
      "Loading required package: carData\n",
      "\n",
      "\u001b[1mRows: \u001b[22m\u001b[34m156780\u001b[39m \u001b[1mColumns: \u001b[22m\u001b[34m14\u001b[39m\n",
      "\u001b[36m──\u001b[39m \u001b[1mColumn specification\u001b[22m \u001b[36m────────────────────────────────────────────────────────────────\u001b[39m\n",
      "\u001b[1mDelimiter:\u001b[22m \",\"\n",
      "\u001b[31mchr\u001b[39m (2): Run_ID, Part\n",
      "\u001b[32mint\u001b[39m (2): Proximity, n_candidates\n",
      "\u001b[33mlgl\u001b[39m (1): Accuracy\n",
      "\u001b[31mfct\u001b[39m (9): Stimulus_ID, Prompt_ID, Participant_ID, Group, GroupKind, Angle, Ac...\n",
      "\n",
      "\u001b[36mℹ\u001b[39m Use `spec()` to retrieve the full column specification for this data.\n",
      "\u001b[36mℹ\u001b[39m Specify the column types or set `show_col_types = FALSE` to quiet this message.\n"
     ]
    }
   ],
   "source": [
    "options(warn=1)\n",
    "if(!require('lme4')) {\n",
    "    install.packages('lme4', repos='https://cloud.r-project.org')\n",
    "    library('lme4')\n",
    "}\n",
    "if(!require('readr')) {\n",
    "    install.packages('readr', repos='https://cloud.r-project.org')\n",
    "    library('readr')\n",
    "}\n",
    "if(!require('marginaleffects')) {\n",
    "    install.packages('marginaleffects', repos='https://cloud.r-project.org')\n",
    "    library('marginaleffects')\n",
    "}\n",
    "if(!require('emmeans')) {\n",
    "    install.packages('emmeans', repos='https://cloud.r-project.org')\n",
    "    library('emmeans')\n",
    "}\n",
    "if(!require('car')) {\n",
    "    install.packages('car', repos='https://cloud.r-project.org')\n",
    "    library('car')\n",
    "}\n",
    "df <- read_csv(\"gaze-analysis/result_1743457603_20250506_20250506F.csv\", na = \"empty\", col_select = c(\"Accuracy\", \"Group\", \"GroupKind\", \"Angle\", \"Proximity\", \"n_candidates\", \"Actor\", \"Candidates\", \"Stimulus_ID\", \"Prompt_ID\", \"Participant_ID\", \"list_id\", \"Run_ID\", \"Part\"), col_types = cols(\n",
    "    Accuracy = col_logical(),\n",
    "    Group = col_factor(),\n",
    "    GroupKind = col_factor(),\n",
    "    Angle = col_factor(),\n",
    "    Proximity = col_integer(),\n",
    "    n_candidates = col_integer(),\n",
    "    Actor = col_factor(c('X', 'Y')),\n",
    "    Candidates = col_factor(),\n",
    "    Stimulus_ID = col_factor(),\n",
    "    Prompt_ID = col_factor(),\n",
    "    Participant_ID = col_factor(),\n",
    "    list_id = col_factor(),\n",
    "    Run_ID = col_character(),\n",
    "    Part = col_character(),\n",
    "),show_col_types = TRUE)\n",
    "df <- df[df$Group == \"Humans\" & df$list_id != -1 & df$Part != \"p0\", ]\n",
    "df$offset <- log(1/df$n_candidates / (1 - 1/df$n_candidates))\n",
    "df$Proximity <- df$Proximity - mean(df$Proximity)\n",
    "df$n_candidates <- df$n_candidates - mean(df$n_candidates)"
   ]
  },
  {
   "cell_type": "markdown",
   "metadata": {},
   "source": [
    "# Fitting models"
   ]
  },
  {
   "cell_type": "code",
   "execution_count": 2,
   "metadata": {
    "vscode": {
     "languageId": "r"
    }
   },
   "outputs": [
    {
     "name": "stderr",
     "output_type": "stream",
     "text": [
      "Warning message in checkConv(attr(opt, \"derivs\"), opt$par, ctrl = control$checkConv, :\n",
      "“unable to evaluate scaled gradient”\n",
      "Warning message in checkConv(attr(opt, \"derivs\"), opt$par, ctrl = control$checkConv, :\n",
      "“Model failed to converge: degenerate  Hessian with 2 negative eigenvalues”\n"
     ]
    }
   ],
   "source": [
    "model0 <- glmer(Accuracy ~ Angle + Proximity + n_candidates + Actor + (1|Actor:Candidates) + (1|Stimulus_ID) + (1|Participant_ID), \n",
    "               data = df,\n",
    "               family = binomial(link = \"logit\"), \n",
    "               offset = offset)"
   ]
  },
  {
   "cell_type": "code",
   "execution_count": 3,
   "metadata": {
    "vscode": {
     "languageId": "r"
    }
   },
   "outputs": [],
   "source": [
    "model1 <- glmer(Accuracy ~ Angle + Proximity + n_candidates + Actor + (1|Stimulus_ID) + (1|Participant_ID), \n",
    "               data = df,\n",
    "               family = binomial(link = \"logit\"), \n",
    "               offset = offset)"
   ]
  },
  {
   "cell_type": "code",
   "execution_count": 5,
   "metadata": {
    "vscode": {
     "languageId": "r"
    }
   },
   "outputs": [
    {
     "data": {
      "text/plain": [
       "Generalized linear mixed model fit by maximum likelihood (Laplace\n",
       "  Approximation) [glmerMod]\n",
       " Family: binomial  ( logit )\n",
       "Formula: \n",
       "Accuracy ~ Angle + Proximity + n_candidates + Actor + (1 | Stimulus_ID) +  \n",
       "    (1 | Participant_ID)\n",
       "   Data: df\n",
       " Offset: offset\n",
       "      AIC       BIC    logLik  deviance  df.resid \n",
       "1289.9295 1337.6539 -636.9648 1273.9295      2872 \n",
       "Random effects:\n",
       " Groups         Name        Std.Dev.\n",
       " Stimulus_ID    (Intercept) 1.6691  \n",
       " Participant_ID (Intercept) 0.6123  \n",
       "Number of obs: 2880, groups:  Stimulus_ID, 900; Participant_ID, 64\n",
       "Fixed Effects:\n",
       " (Intercept)     Angleleft    Angleright     Proximity  n_candidates  \n",
       "      7.3629       -3.1946       -3.1319       -1.2947       -0.6510  \n",
       "      ActorY  \n",
       "     -0.9936  "
      ]
     },
     "metadata": {},
     "output_type": "display_data"
    }
   ],
   "source": [
    "model1"
   ]
  },
  {
   "cell_type": "code",
   "execution_count": 4,
   "metadata": {
    "vscode": {
     "languageId": "r"
    }
   },
   "outputs": [],
   "source": [
    "model2 <- glmer(Accuracy ~ Angle + Proximity + n_candidates + Actor + (1|Stimulus_ID), \n",
    "               data = df,\n",
    "               family = binomial(link = \"logit\"), \n",
    "               offset = offset)"
   ]
  },
  {
   "cell_type": "markdown",
   "metadata": {},
   "source": [
    "# Model selection"
   ]
  },
  {
   "cell_type": "code",
   "execution_count": 6,
   "metadata": {
    "scrolled": false,
    "vscode": {
     "languageId": "r"
    }
   },
   "outputs": [
    {
     "data": {
      "text/html": [
       "<table class=\"dataframe\">\n",
       "<caption>A anova: 2 × 8</caption>\n",
       "<thead>\n",
       "\t<tr><th></th><th scope=col>npar</th><th scope=col>AIC</th><th scope=col>BIC</th><th scope=col>logLik</th><th scope=col>deviance</th><th scope=col>Chisq</th><th scope=col>Df</th><th scope=col>Pr(&gt;Chisq)</th></tr>\n",
       "\t<tr><th></th><th scope=col>&lt;dbl&gt;</th><th scope=col>&lt;dbl&gt;</th><th scope=col>&lt;dbl&gt;</th><th scope=col>&lt;dbl&gt;</th><th scope=col>&lt;dbl&gt;</th><th scope=col>&lt;dbl&gt;</th><th scope=col>&lt;dbl&gt;</th><th scope=col>&lt;dbl&gt;</th></tr>\n",
       "</thead>\n",
       "<tbody>\n",
       "\t<tr><th scope=row>model2</th><td>7</td><td>1302.104</td><td>1343.862</td><td>-644.0518</td><td>1288.104</td><td>      NA</td><td>NA</td><td>          NA</td></tr>\n",
       "\t<tr><th scope=row>model1</th><td>8</td><td>1289.930</td><td>1337.654</td><td>-636.9648</td><td>1273.930</td><td>14.17404</td><td> 1</td><td>0.0001666543</td></tr>\n",
       "</tbody>\n",
       "</table>\n"
      ],
      "text/latex": [
       "A anova: 2 × 8\n",
       "\\begin{tabular}{r|llllllll}\n",
       "  & npar & AIC & BIC & logLik & deviance & Chisq & Df & Pr(>Chisq)\\\\\n",
       "  & <dbl> & <dbl> & <dbl> & <dbl> & <dbl> & <dbl> & <dbl> & <dbl>\\\\\n",
       "\\hline\n",
       "\tmodel2 & 7 & 1302.104 & 1343.862 & -644.0518 & 1288.104 &       NA & NA &           NA\\\\\n",
       "\tmodel1 & 8 & 1289.930 & 1337.654 & -636.9648 & 1273.930 & 14.17404 &  1 & 0.0001666543\\\\\n",
       "\\end{tabular}\n"
      ],
      "text/markdown": [
       "\n",
       "A anova: 2 × 8\n",
       "\n",
       "| <!--/--> | npar &lt;dbl&gt; | AIC &lt;dbl&gt; | BIC &lt;dbl&gt; | logLik &lt;dbl&gt; | deviance &lt;dbl&gt; | Chisq &lt;dbl&gt; | Df &lt;dbl&gt; | Pr(&gt;Chisq) &lt;dbl&gt; |\n",
       "|---|---|---|---|---|---|---|---|---|\n",
       "| model2 | 7 | 1302.104 | 1343.862 | -644.0518 | 1288.104 |       NA | NA |           NA |\n",
       "| model1 | 8 | 1289.930 | 1337.654 | -636.9648 | 1273.930 | 14.17404 |  1 | 0.0001666543 |\n",
       "\n"
      ],
      "text/plain": [
       "       npar AIC      BIC      logLik    deviance Chisq    Df Pr(>Chisq)  \n",
       "model2 7    1302.104 1343.862 -644.0518 1288.104       NA NA           NA\n",
       "model1 8    1289.930 1337.654 -636.9648 1273.930 14.17404  1 0.0001666543"
      ]
     },
     "metadata": {},
     "output_type": "display_data"
    }
   ],
   "source": [
    "anova(model1, model2)"
   ]
  },
  {
   "cell_type": "code",
   "execution_count": 7,
   "metadata": {
    "vscode": {
     "languageId": "r"
    }
   },
   "outputs": [],
   "source": [
    "model <- model1"
   ]
  },
  {
   "cell_type": "markdown",
   "metadata": {},
   "source": [
    "# Interpretation"
   ]
  },
  {
   "cell_type": "code",
   "execution_count": 8,
   "metadata": {
    "vscode": {
     "languageId": "r"
    }
   },
   "outputs": [
    {
     "data": {
      "text/plain": [
       "Generalized linear mixed model fit by maximum likelihood (Laplace\n",
       "  Approximation) [glmerMod]\n",
       " Family: binomial  ( logit )\n",
       "Formula: \n",
       "Accuracy ~ Angle + Proximity + n_candidates + Actor + (1 | Stimulus_ID) +  \n",
       "    (1 | Participant_ID)\n",
       "   Data: df\n",
       " Offset: offset\n",
       "\n",
       "     AIC      BIC   logLik deviance df.resid \n",
       "  1289.9   1337.7   -637.0   1273.9     2872 \n",
       "\n",
       "Scaled residuals: \n",
       "    Min      1Q  Median      3Q     Max \n",
       "-7.4876  0.0368  0.0893  0.1927  1.9914 \n",
       "\n",
       "Random effects:\n",
       " Groups         Name        Variance Std.Dev.\n",
       " Stimulus_ID    (Intercept) 2.7860   1.6691  \n",
       " Participant_ID (Intercept) 0.3749   0.6123  \n",
       "Number of obs: 2880, groups:  Stimulus_ID, 900; Participant_ID, 64\n",
       "\n",
       "Fixed effects:\n",
       "             Estimate Std. Error z value Pr(>|z|)    \n",
       "(Intercept)    7.3629     0.5270  13.971  < 2e-16 ***\n",
       "Angleleft     -3.1946     0.4221  -7.568 3.78e-14 ***\n",
       "Angleright    -3.1319     0.4237  -7.391 1.46e-13 ***\n",
       "Proximity     -1.2947     0.1682  -7.695 1.41e-14 ***\n",
       "n_candidates  -0.6510     0.1527  -4.262 2.03e-05 ***\n",
       "ActorY        -0.9936     0.2398  -4.143 3.42e-05 ***\n",
       "---\n",
       "Signif. codes:  0 ‘***’ 0.001 ‘**’ 0.01 ‘*’ 0.05 ‘.’ 0.1 ‘ ’ 1\n",
       "\n",
       "Correlation of Fixed Effects:\n",
       "            (Intr) Angllf Anglrg Prxmty n_cndd\n",
       "Angleleft   -0.804                            \n",
       "Angleright  -0.797  0.829                     \n",
       "Proximity   -0.412  0.197  0.204              \n",
       "n_candidats -0.397  0.235  0.238  0.271       \n",
       "ActorY      -0.383  0.108  0.093  0.133 -0.021"
      ]
     },
     "metadata": {},
     "output_type": "display_data"
    }
   ],
   "source": [
    "summary(model)"
   ]
  },
  {
   "cell_type": "code",
   "execution_count": 9,
   "metadata": {
    "vscode": {
     "languageId": "r"
    }
   },
   "outputs": [
    {
     "name": "stdout",
     "output_type": "stream",
     "text": [
      " Angle emmean    SE  df asymp.LCL asymp.UCL\n",
      " front   6.52 0.494 Inf      5.55      7.49\n",
      " left    3.32 0.274 Inf      2.79      3.86\n",
      " right   3.39 0.277 Inf      2.85      3.93\n",
      "\n",
      "Results are averaged over the levels of: Actor \n",
      "Results are given on the logit (not the response) scale. \n",
      "Confidence level used: 0.95 \n"
     ]
    },
    {
     "data": {
      "text/plain": [
       " contrast      estimate    SE  df z.ratio p.value\n",
       " front - left    3.1946 0.422 Inf   7.568  <.0001\n",
       " front - right   3.1319 0.424 Inf   7.391  <.0001\n",
       " left - right   -0.0627 0.247 Inf  -0.253  0.9652\n",
       "\n",
       "Results are averaged over the levels of: Actor \n",
       "Results are given on the log odds ratio (not the response) scale. \n",
       "P value adjustment: tukey method for comparing a family of 3 estimates "
      ]
     },
     "metadata": {},
     "output_type": "display_data"
    },
    {
     "name": "stdout",
     "output_type": "stream",
     "text": [
      " Angle   prob       SE  df asymp.LCL asymp.UCL\n",
      " front 0.9983 0.000806 Inf    0.9968    0.9999\n",
      " left  0.9614 0.010000 Inf    0.9417    0.9810\n",
      " right 0.9636 0.009520 Inf    0.9450    0.9823\n",
      "\n",
      "Results are averaged over the levels of: Actor \n",
      "Confidence level used: 0.95 \n"
     ]
    },
    {
     "data": {
      "text/plain": [
       " contrast      estimate      SE  df z.ratio p.value\n",
       " front - left   0.03698 0.00964 Inf   3.835  0.0004\n",
       " front - right  0.03474 0.00914 Inf   3.800  0.0004\n",
       " left - right  -0.00225 0.00887 Inf  -0.253  0.9653\n",
       "\n",
       "Results are averaged over the levels of: Actor \n",
       "P value adjustment: tukey method for comparing a family of 3 estimates "
      ]
     },
     "metadata": {},
     "output_type": "display_data"
    },
    {
     "data": {
      "text/html": [
       "<table class=\"dataframe\">\n",
       "<caption>A data.frame: 6 × 7</caption>\n",
       "<thead>\n",
       "\t<tr><th scope=col>term</th><th scope=col>Estimate</th><th scope=col>Std. Error</th><th scope=col>z value</th><th scope=col>Pr(&gt;|z|)</th><th scope=col>effect_size_denom</th><th scope=col>effect_size</th></tr>\n",
       "\t<tr><th scope=col>&lt;chr&gt;</th><th scope=col>&lt;dbl&gt;</th><th scope=col>&lt;dbl&gt;</th><th scope=col>&lt;dbl&gt;</th><th scope=col>&lt;dbl&gt;</th><th scope=col>&lt;dbl&gt;</th><th scope=col>&lt;dbl&gt;</th></tr>\n",
       "</thead>\n",
       "<tbody>\n",
       "\t<tr><td>(Intercept) </td><td> 7.3628635</td><td>0.5270027</td><td>13.971206</td><td>2.336359e-44</td><td>2.539833</td><td> 2.8989553</td></tr>\n",
       "\t<tr><td>Angleleft   </td><td>-3.1945815</td><td>0.4220948</td><td>-7.568399</td><td>3.778531e-14</td><td>2.539833</td><td>-1.2577917</td></tr>\n",
       "\t<tr><td>Angleright  </td><td>-3.1318812</td><td>0.4237471</td><td>-7.390921</td><td>1.458154e-13</td><td>2.539833</td><td>-1.2331050</td></tr>\n",
       "\t<tr><td>Proximity   </td><td>-1.2947018</td><td>0.1682499</td><td>-7.695112</td><td>1.413702e-14</td><td>2.539833</td><td>-0.5097586</td></tr>\n",
       "\t<tr><td>n_candidates</td><td>-0.6509610</td><td>0.1527348</td><td>-4.262034</td><td>2.025750e-05</td><td>2.539833</td><td>-0.2563007</td></tr>\n",
       "\t<tr><td>ActorY      </td><td>-0.9935805</td><td>0.2397990</td><td>-4.143389</td><td>3.422100e-05</td><td>2.539833</td><td>-0.3911991</td></tr>\n",
       "</tbody>\n",
       "</table>\n"
      ],
      "text/latex": [
       "A data.frame: 6 × 7\n",
       "\\begin{tabular}{lllllll}\n",
       " term & Estimate & Std. Error & z value & Pr(>\\textbar{}z\\textbar{}) & effect\\_size\\_denom & effect\\_size\\\\\n",
       " <chr> & <dbl> & <dbl> & <dbl> & <dbl> & <dbl> & <dbl>\\\\\n",
       "\\hline\n",
       "\t (Intercept)  &  7.3628635 & 0.5270027 & 13.971206 & 2.336359e-44 & 2.539833 &  2.8989553\\\\\n",
       "\t Angleleft    & -3.1945815 & 0.4220948 & -7.568399 & 3.778531e-14 & 2.539833 & -1.2577917\\\\\n",
       "\t Angleright   & -3.1318812 & 0.4237471 & -7.390921 & 1.458154e-13 & 2.539833 & -1.2331050\\\\\n",
       "\t Proximity    & -1.2947018 & 0.1682499 & -7.695112 & 1.413702e-14 & 2.539833 & -0.5097586\\\\\n",
       "\t n\\_candidates & -0.6509610 & 0.1527348 & -4.262034 & 2.025750e-05 & 2.539833 & -0.2563007\\\\\n",
       "\t ActorY       & -0.9935805 & 0.2397990 & -4.143389 & 3.422100e-05 & 2.539833 & -0.3911991\\\\\n",
       "\\end{tabular}\n"
      ],
      "text/markdown": [
       "\n",
       "A data.frame: 6 × 7\n",
       "\n",
       "| term &lt;chr&gt; | Estimate &lt;dbl&gt; | Std. Error &lt;dbl&gt; | z value &lt;dbl&gt; | Pr(&gt;|z|) &lt;dbl&gt; | effect_size_denom &lt;dbl&gt; | effect_size &lt;dbl&gt; |\n",
       "|---|---|---|---|---|---|---|\n",
       "| (Intercept)  |  7.3628635 | 0.5270027 | 13.971206 | 2.336359e-44 | 2.539833 |  2.8989553 |\n",
       "| Angleleft    | -3.1945815 | 0.4220948 | -7.568399 | 3.778531e-14 | 2.539833 | -1.2577917 |\n",
       "| Angleright   | -3.1318812 | 0.4237471 | -7.390921 | 1.458154e-13 | 2.539833 | -1.2331050 |\n",
       "| Proximity    | -1.2947018 | 0.1682499 | -7.695112 | 1.413702e-14 | 2.539833 | -0.5097586 |\n",
       "| n_candidates | -0.6509610 | 0.1527348 | -4.262034 | 2.025750e-05 | 2.539833 | -0.2563007 |\n",
       "| ActorY       | -0.9935805 | 0.2397990 | -4.143389 | 3.422100e-05 | 2.539833 | -0.3911991 |\n",
       "\n"
      ],
      "text/plain": [
       "  term         Estimate   Std. Error z value   Pr(>|z|)     effect_size_denom\n",
       "1 (Intercept)   7.3628635 0.5270027  13.971206 2.336359e-44 2.539833         \n",
       "2 Angleleft    -3.1945815 0.4220948  -7.568399 3.778531e-14 2.539833         \n",
       "3 Angleright   -3.1318812 0.4237471  -7.390921 1.458154e-13 2.539833         \n",
       "4 Proximity    -1.2947018 0.1682499  -7.695112 1.413702e-14 2.539833         \n",
       "5 n_candidates -0.6509610 0.1527348  -4.262034 2.025750e-05 2.539833         \n",
       "6 ActorY       -0.9935805 0.2397990  -4.143389 3.422100e-05 2.539833         \n",
       "  effect_size\n",
       "1  2.8989553 \n",
       "2 -1.2577917 \n",
       "3 -1.2331050 \n",
       "4 -0.5097586 \n",
       "5 -0.2563007 \n",
       "6 -0.3911991 "
      ]
     },
     "metadata": {},
     "output_type": "display_data"
    }
   ],
   "source": [
    "log_odds_means <- emmeans(model, spec = \"Angle\")\n",
    "print(log_odds_means)\n",
    "pairs(log_odds_means)\n",
    "log_odds_means <- emmeans(model, spec = \"Angle\", regrid = \"response\")\n",
    "print(log_odds_means)\n",
    "pairs(log_odds_means)\n",
    "               \n",
    "vc_list <- lapply(VarCorr(model), function(x) attr(x, \"stddev\")^2)\n",
    "vc <- sum(unlist(vc_list))\n",
    "effect_size_denom_t <- sqrt(vc + pi^2/3)\n",
    "\n",
    "res <- summary(model)$coefficients\n",
    "res <- as.data.frame(res)\n",
    "res <- cbind(term = rownames(res), res)\n",
    "rownames(res) <- NULL\n",
    "res$effect_size_denom <- effect_size_denom_t\n",
    "res$effect_size <- res$Estimate / effect_size_denom_t\n",
    "res"
   ]
  },
  {
   "cell_type": "code",
   "execution_count": null,
   "metadata": {
    "vscode": {
     "languageId": "r"
    }
   },
   "outputs": [],
   "source": []
  }
 ],
 "metadata": {
  "kernelspec": {
   "display_name": "R",
   "language": "R",
   "name": "ir"
  },
  "language_info": {
   "codemirror_mode": "r",
   "file_extension": ".r",
   "mimetype": "text/x-r-source",
   "name": "R",
   "pygments_lexer": "r",
   "version": "4.3.3"
  }
 },
 "nbformat": 4,
 "nbformat_minor": 2
}
