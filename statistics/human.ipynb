{
 "cells": [
  {
   "cell_type": "markdown",
   "metadata": {},
   "source": [
    "# Loading Responses"
   ]
  },
  {
   "cell_type": "code",
   "execution_count": 15,
   "metadata": {
    "vscode": {
     "languageId": "r"
    }
   },
   "outputs": [
    {
     "name": "stderr",
     "output_type": "stream",
     "text": [
      "\u001b[1mRows: \u001b[22m\u001b[34m156780\u001b[39m \u001b[1mColumns: \u001b[22m\u001b[34m14\u001b[39m\n",
      "\u001b[36m──\u001b[39m \u001b[1mColumn specification\u001b[22m \u001b[36m────────────────────────────────────────────────────────────────\u001b[39m\n",
      "\u001b[1mDelimiter:\u001b[22m \",\"\n",
      "\u001b[31mchr\u001b[39m (2): Run_ID, Part\n",
      "\u001b[32mint\u001b[39m (2): Proximity, n_candidates\n",
      "\u001b[33mlgl\u001b[39m (1): Accuracy\n",
      "\u001b[31mfct\u001b[39m (9): Stimulus_ID, Prompt_ID, Participant_ID, Group, GroupKind, Angle, Ac...\n",
      "\n",
      "\u001b[36mℹ\u001b[39m Use `spec()` to retrieve the full column specification for this data.\n",
      "\u001b[36mℹ\u001b[39m Specify the column types or set `show_col_types = FALSE` to quiet this message.\n"
     ]
    }
   ],
   "source": [
    "options(warn=1)\n",
    "if(!require('lme4')) {\n",
    "    install.packages('lme4', repos='https://cloud.r-project.org')\n",
    "    library('lme4')\n",
    "}\n",
    "if(!require('readr')) {\n",
    "    install.packages('readr', repos='https://cloud.r-project.org')\n",
    "    library('readr')\n",
    "}\n",
    "if(!require('marginaleffects')) {\n",
    "    install.packages('marginaleffects', repos='https://cloud.r-project.org')\n",
    "    library('marginaleffects')\n",
    "}\n",
    "if(!require('emmeans')) {\n",
    "    install.packages('emmeans', repos='https://cloud.r-project.org')\n",
    "    library('emmeans')\n",
    "}\n",
    "if(!require('car')) {\n",
    "    install.packages('car', repos='https://cloud.r-project.org')\n",
    "    library('car')\n",
    "}\n",
    "df <- read_csv(\"gaze-analysis/result_1743457603_20250506_20250506F.csv\", na = \"empty\", col_select = c(\"Accuracy\", \"Group\", \"GroupKind\", \"Angle\", \"Proximity\", \"n_candidates\", \"Actor\", \"Candidates\", \"Stimulus_ID\", \"Prompt_ID\", \"Participant_ID\", \"list_id\", \"Run_ID\", \"Part\"), col_types = cols(\n",
    "    Accuracy = col_logical(),\n",
    "    Group = col_factor(),\n",
    "    GroupKind = col_factor(),\n",
    "    Angle = col_factor(),\n",
    "    Proximity = col_integer(),\n",
    "    n_candidates = col_integer(),\n",
    "    Actor = col_factor(c('X', 'Y')),\n",
    "    Candidates = col_factor(),\n",
    "    Stimulus_ID = col_factor(),\n",
    "    Prompt_ID = col_factor(),\n",
    "    Participant_ID = col_factor(),\n",
    "    list_id = col_factor(),\n",
    "    Run_ID = col_character(),\n",
    "    Part = col_character(),\n",
    "),show_col_types = TRUE)\n",
    "df <- df[df$Group == \"Humans\" & df$list_id != -1, ]\n",
    "df$offset <- log(1/df$n_candidates / (1 - 1/df$n_candidates))"
   ]
  },
  {
   "cell_type": "markdown",
   "metadata": {},
   "source": [
    "# Statistics"
   ]
  },
  {
   "cell_type": "code",
   "execution_count": 16,
   "metadata": {
    "vscode": {
     "languageId": "r"
    }
   },
   "outputs": [
    {
     "data": {
      "text/html": [
       "0.99288256227758"
      ],
      "text/latex": [
       "0.99288256227758"
      ],
      "text/markdown": [
       "0.99288256227758"
      ],
      "text/plain": [
       "[1] 0.9928826"
      ]
     },
     "metadata": {},
     "output_type": "display_data"
    }
   ],
   "source": [
    "mean(df[ (df$Proximity == 1) & (df$n_candidates == 2), ]$Accuracy)"
   ]
  },
  {
   "cell_type": "markdown",
   "metadata": {},
   "source": [
    "# Fitting models"
   ]
  },
  {
   "cell_type": "code",
   "execution_count": 2,
   "metadata": {
    "vscode": {
     "languageId": "r"
    }
   },
   "outputs": [
    {
     "name": "stderr",
     "output_type": "stream",
     "text": [
      "Warning message in checkConv(attr(opt, \"derivs\"), opt$par, ctrl = control$checkConv, :\n",
      "“unable to evaluate scaled gradient”\n",
      "Warning message in checkConv(attr(opt, \"derivs\"), opt$par, ctrl = control$checkConv, :\n",
      "“Model failed to converge: degenerate  Hessian with 2 negative eigenvalues”\n"
     ]
    }
   ],
   "source": [
    "model0 <- glmer(Accuracy ~ Angle + scale(Proximity, scale=FALSE) + scale(n_candidates, scale=FALSE) + Actor + (1|Actor:Candidates) + (1|Stimulus_ID) + (1|Participant_ID), \n",
    "               data = df,\n",
    "               family = binomial(link = \"logit\"), \n",
    "               offset = offset)"
   ]
  },
  {
   "cell_type": "code",
   "execution_count": 3,
   "metadata": {
    "vscode": {
     "languageId": "r"
    }
   },
   "outputs": [
    {
     "data": {
      "text/plain": [
       "Generalized linear mixed model fit by maximum likelihood (Laplace\n",
       "  Approximation) [glmerMod]\n",
       " Family: binomial  ( logit )\n",
       "Formula: \n",
       "Accuracy ~ Angle + scale(Proximity, scale = FALSE) + scale(n_candidates,  \n",
       "    scale = FALSE) + Actor + (1 | Stimulus_ID) + (1 | Participant_ID)\n",
       "   Data: df\n",
       " Offset: offset\n",
       "      AIC       BIC    logLik  deviance  df.resid \n",
       "1289.9295 1337.6539 -636.9648 1273.9295      2872 \n",
       "Random effects:\n",
       " Groups         Name        Std.Dev.\n",
       " Stimulus_ID    (Intercept) 1.6691  \n",
       " Participant_ID (Intercept) 0.6123  \n",
       "Number of obs: 2880, groups:  Stimulus_ID, 900; Participant_ID, 64\n",
       "Fixed Effects:\n",
       "                       (Intercept)                           Angleleft  \n",
       "                            7.3629                             -3.1946  \n",
       "                        Angleright     scale(Proximity, scale = FALSE)  \n",
       "                           -3.1319                             -1.2947  \n",
       "scale(n_candidates, scale = FALSE)                              ActorY  \n",
       "                           -0.6510                             -0.9936  "
      ]
     },
     "metadata": {},
     "output_type": "display_data"
    }
   ],
   "source": [
    "model1 <- glmer(Accuracy ~ Angle + scale(Proximity, scale=FALSE) + scale(n_candidates, scale=FALSE) + Actor + (1|Stimulus_ID) + (1|Participant_ID), \n",
    "               data = df,\n",
    "               family = binomial(link = \"logit\"), \n",
    "               offset = offset)\n",
    "model1"
   ]
  },
  {
   "cell_type": "code",
   "execution_count": 4,
   "metadata": {
    "vscode": {
     "languageId": "r"
    }
   },
   "outputs": [],
   "source": [
    "model2 <- glmer(Accuracy ~ Angle + scale(Proximity, scale=FALSE) + scale(n_candidates, scale=FALSE) + Actor + (1|Stimulus_ID), \n",
    "               data = df,\n",
    "               family = binomial(link = \"logit\"), \n",
    "               offset = offset)"
   ]
  },
  {
   "cell_type": "markdown",
   "metadata": {},
   "source": [
    "# Model selection"
   ]
  },
  {
   "cell_type": "code",
   "execution_count": 5,
   "metadata": {
    "scrolled": false,
    "vscode": {
     "languageId": "r"
    }
   },
   "outputs": [
    {
     "data": {
      "text/html": [
       "<table class=\"dataframe\">\n",
       "<caption>A anova: 2 × 8</caption>\n",
       "<thead>\n",
       "\t<tr><th></th><th scope=col>npar</th><th scope=col>AIC</th><th scope=col>BIC</th><th scope=col>logLik</th><th scope=col>deviance</th><th scope=col>Chisq</th><th scope=col>Df</th><th scope=col>Pr(&gt;Chisq)</th></tr>\n",
       "\t<tr><th></th><th scope=col>&lt;dbl&gt;</th><th scope=col>&lt;dbl&gt;</th><th scope=col>&lt;dbl&gt;</th><th scope=col>&lt;dbl&gt;</th><th scope=col>&lt;dbl&gt;</th><th scope=col>&lt;dbl&gt;</th><th scope=col>&lt;dbl&gt;</th><th scope=col>&lt;dbl&gt;</th></tr>\n",
       "</thead>\n",
       "<tbody>\n",
       "\t<tr><th scope=row>model2</th><td>7</td><td>1302.104</td><td>1343.862</td><td>-644.0518</td><td>1288.104</td><td>      NA</td><td>NA</td><td>          NA</td></tr>\n",
       "\t<tr><th scope=row>model1</th><td>8</td><td>1289.930</td><td>1337.654</td><td>-636.9648</td><td>1273.930</td><td>14.17404</td><td> 1</td><td>0.0001666543</td></tr>\n",
       "</tbody>\n",
       "</table>\n"
      ],
      "text/latex": [
       "A anova: 2 × 8\n",
       "\\begin{tabular}{r|llllllll}\n",
       "  & npar & AIC & BIC & logLik & deviance & Chisq & Df & Pr(>Chisq)\\\\\n",
       "  & <dbl> & <dbl> & <dbl> & <dbl> & <dbl> & <dbl> & <dbl> & <dbl>\\\\\n",
       "\\hline\n",
       "\tmodel2 & 7 & 1302.104 & 1343.862 & -644.0518 & 1288.104 &       NA & NA &           NA\\\\\n",
       "\tmodel1 & 8 & 1289.930 & 1337.654 & -636.9648 & 1273.930 & 14.17404 &  1 & 0.0001666543\\\\\n",
       "\\end{tabular}\n"
      ],
      "text/markdown": [
       "\n",
       "A anova: 2 × 8\n",
       "\n",
       "| <!--/--> | npar &lt;dbl&gt; | AIC &lt;dbl&gt; | BIC &lt;dbl&gt; | logLik &lt;dbl&gt; | deviance &lt;dbl&gt; | Chisq &lt;dbl&gt; | Df &lt;dbl&gt; | Pr(&gt;Chisq) &lt;dbl&gt; |\n",
       "|---|---|---|---|---|---|---|---|---|\n",
       "| model2 | 7 | 1302.104 | 1343.862 | -644.0518 | 1288.104 |       NA | NA |           NA |\n",
       "| model1 | 8 | 1289.930 | 1337.654 | -636.9648 | 1273.930 | 14.17404 |  1 | 0.0001666543 |\n",
       "\n"
      ],
      "text/plain": [
       "       npar AIC      BIC      logLik    deviance Chisq    Df Pr(>Chisq)  \n",
       "model2 7    1302.104 1343.862 -644.0518 1288.104       NA NA           NA\n",
       "model1 8    1289.930 1337.654 -636.9648 1273.930 14.17404  1 0.0001666543"
      ]
     },
     "metadata": {},
     "output_type": "display_data"
    }
   ],
   "source": [
    "anova(model1, model2)"
   ]
  },
  {
   "cell_type": "code",
   "execution_count": 6,
   "metadata": {
    "vscode": {
     "languageId": "r"
    }
   },
   "outputs": [],
   "source": [
    "model <- model1"
   ]
  },
  {
   "cell_type": "markdown",
   "metadata": {},
   "source": [
    "# Interpretation"
   ]
  },
  {
   "cell_type": "code",
   "execution_count": 7,
   "metadata": {
    "vscode": {
     "languageId": "r"
    }
   },
   "outputs": [
    {
     "data": {
      "text/plain": [
       "Generalized linear mixed model fit by maximum likelihood (Laplace\n",
       "  Approximation) [glmerMod]\n",
       " Family: binomial  ( logit )\n",
       "Formula: \n",
       "Accuracy ~ Angle + scale(Proximity, scale = FALSE) + scale(n_candidates,  \n",
       "    scale = FALSE) + Actor + (1 | Stimulus_ID) + (1 | Participant_ID)\n",
       "   Data: df\n",
       " Offset: offset\n",
       "\n",
       "     AIC      BIC   logLik deviance df.resid \n",
       "  1289.9   1337.7   -637.0   1273.9     2872 \n",
       "\n",
       "Scaled residuals: \n",
       "    Min      1Q  Median      3Q     Max \n",
       "-7.4876  0.0368  0.0893  0.1927  1.9914 \n",
       "\n",
       "Random effects:\n",
       " Groups         Name        Variance Std.Dev.\n",
       " Stimulus_ID    (Intercept) 2.7860   1.6691  \n",
       " Participant_ID (Intercept) 0.3749   0.6123  \n",
       "Number of obs: 2880, groups:  Stimulus_ID, 900; Participant_ID, 64\n",
       "\n",
       "Fixed effects:\n",
       "                                   Estimate Std. Error z value Pr(>|z|)    \n",
       "(Intercept)                          7.3629     0.5270  13.971  < 2e-16 ***\n",
       "Angleleft                           -3.1946     0.4221  -7.568 3.78e-14 ***\n",
       "Angleright                          -3.1319     0.4237  -7.391 1.46e-13 ***\n",
       "scale(Proximity, scale = FALSE)     -1.2947     0.1682  -7.695 1.41e-14 ***\n",
       "scale(n_candidates, scale = FALSE)  -0.6510     0.1527  -4.262 2.03e-05 ***\n",
       "ActorY                              -0.9936     0.2398  -4.143 3.42e-05 ***\n",
       "---\n",
       "Signif. codes:  0 ‘***’ 0.001 ‘**’ 0.01 ‘*’ 0.05 ‘.’ 0.1 ‘ ’ 1\n",
       "\n",
       "Correlation of Fixed Effects:\n",
       "            (Intr) Angllf Anglrg s(Ps=F s(_s=F\n",
       "Angleleft   -0.804                            \n",
       "Angleright  -0.797  0.829                     \n",
       "s(P,s=FALSE -0.412  0.197  0.204              \n",
       "s(_,s=FALSE -0.397  0.235  0.238  0.271       \n",
       "ActorY      -0.383  0.108  0.093  0.133 -0.021"
      ]
     },
     "metadata": {},
     "output_type": "display_data"
    }
   ],
   "source": [
    "summary(model)"
   ]
  },
  {
   "cell_type": "code",
   "execution_count": 8,
   "metadata": {
    "vscode": {
     "languageId": "r"
    }
   },
   "outputs": [
    {
     "data": {
      "text/html": [
       "<table class=\"dataframe\">\n",
       "<caption>A data.frame: 6 × 7</caption>\n",
       "<thead>\n",
       "\t<tr><th scope=col>term</th><th scope=col>Estimate</th><th scope=col>Std. Error</th><th scope=col>z value</th><th scope=col>Pr(&gt;|z|)</th><th scope=col>effect_size_denom</th><th scope=col>effect_size</th></tr>\n",
       "\t<tr><th scope=col>&lt;chr&gt;</th><th scope=col>&lt;dbl&gt;</th><th scope=col>&lt;dbl&gt;</th><th scope=col>&lt;dbl&gt;</th><th scope=col>&lt;dbl&gt;</th><th scope=col>&lt;dbl&gt;</th><th scope=col>&lt;dbl&gt;</th></tr>\n",
       "</thead>\n",
       "<tbody>\n",
       "\t<tr><td>(Intercept)                       </td><td> 7.3628635</td><td>0.5270027</td><td>13.971206</td><td>2.336359e-44</td><td>2.539833</td><td> 2.8989553</td></tr>\n",
       "\t<tr><td>Angleleft                         </td><td>-3.1945815</td><td>0.4220948</td><td>-7.568399</td><td>3.778531e-14</td><td>2.539833</td><td>-1.2577917</td></tr>\n",
       "\t<tr><td>Angleright                        </td><td>-3.1318812</td><td>0.4237471</td><td>-7.390921</td><td>1.458154e-13</td><td>2.539833</td><td>-1.2331050</td></tr>\n",
       "\t<tr><td>scale(Proximity, scale = FALSE)   </td><td>-1.2947018</td><td>0.1682499</td><td>-7.695112</td><td>1.413702e-14</td><td>2.539833</td><td>-0.5097586</td></tr>\n",
       "\t<tr><td>scale(n_candidates, scale = FALSE)</td><td>-0.6509610</td><td>0.1527348</td><td>-4.262034</td><td>2.025750e-05</td><td>2.539833</td><td>-0.2563007</td></tr>\n",
       "\t<tr><td>ActorY                            </td><td>-0.9935805</td><td>0.2397990</td><td>-4.143389</td><td>3.422100e-05</td><td>2.539833</td><td>-0.3911991</td></tr>\n",
       "</tbody>\n",
       "</table>\n"
      ],
      "text/latex": [
       "A data.frame: 6 × 7\n",
       "\\begin{tabular}{lllllll}\n",
       " term & Estimate & Std. Error & z value & Pr(>\\textbar{}z\\textbar{}) & effect\\_size\\_denom & effect\\_size\\\\\n",
       " <chr> & <dbl> & <dbl> & <dbl> & <dbl> & <dbl> & <dbl>\\\\\n",
       "\\hline\n",
       "\t (Intercept)                        &  7.3628635 & 0.5270027 & 13.971206 & 2.336359e-44 & 2.539833 &  2.8989553\\\\\n",
       "\t Angleleft                          & -3.1945815 & 0.4220948 & -7.568399 & 3.778531e-14 & 2.539833 & -1.2577917\\\\\n",
       "\t Angleright                         & -3.1318812 & 0.4237471 & -7.390921 & 1.458154e-13 & 2.539833 & -1.2331050\\\\\n",
       "\t scale(Proximity, scale = FALSE)    & -1.2947018 & 0.1682499 & -7.695112 & 1.413702e-14 & 2.539833 & -0.5097586\\\\\n",
       "\t scale(n\\_candidates, scale = FALSE) & -0.6509610 & 0.1527348 & -4.262034 & 2.025750e-05 & 2.539833 & -0.2563007\\\\\n",
       "\t ActorY                             & -0.9935805 & 0.2397990 & -4.143389 & 3.422100e-05 & 2.539833 & -0.3911991\\\\\n",
       "\\end{tabular}\n"
      ],
      "text/markdown": [
       "\n",
       "A data.frame: 6 × 7\n",
       "\n",
       "| term &lt;chr&gt; | Estimate &lt;dbl&gt; | Std. Error &lt;dbl&gt; | z value &lt;dbl&gt; | Pr(&gt;|z|) &lt;dbl&gt; | effect_size_denom &lt;dbl&gt; | effect_size &lt;dbl&gt; |\n",
       "|---|---|---|---|---|---|---|\n",
       "| (Intercept)                        |  7.3628635 | 0.5270027 | 13.971206 | 2.336359e-44 | 2.539833 |  2.8989553 |\n",
       "| Angleleft                          | -3.1945815 | 0.4220948 | -7.568399 | 3.778531e-14 | 2.539833 | -1.2577917 |\n",
       "| Angleright                         | -3.1318812 | 0.4237471 | -7.390921 | 1.458154e-13 | 2.539833 | -1.2331050 |\n",
       "| scale(Proximity, scale = FALSE)    | -1.2947018 | 0.1682499 | -7.695112 | 1.413702e-14 | 2.539833 | -0.5097586 |\n",
       "| scale(n_candidates, scale = FALSE) | -0.6509610 | 0.1527348 | -4.262034 | 2.025750e-05 | 2.539833 | -0.2563007 |\n",
       "| ActorY                             | -0.9935805 | 0.2397990 | -4.143389 | 3.422100e-05 | 2.539833 | -0.3911991 |\n",
       "\n"
      ],
      "text/plain": [
       "  term                               Estimate   Std. Error z value  \n",
       "1 (Intercept)                         7.3628635 0.5270027  13.971206\n",
       "2 Angleleft                          -3.1945815 0.4220948  -7.568399\n",
       "3 Angleright                         -3.1318812 0.4237471  -7.390921\n",
       "4 scale(Proximity, scale = FALSE)    -1.2947018 0.1682499  -7.695112\n",
       "5 scale(n_candidates, scale = FALSE) -0.6509610 0.1527348  -4.262034\n",
       "6 ActorY                             -0.9935805 0.2397990  -4.143389\n",
       "  Pr(>|z|)     effect_size_denom effect_size\n",
       "1 2.336359e-44 2.539833           2.8989553 \n",
       "2 3.778531e-14 2.539833          -1.2577917 \n",
       "3 1.458154e-13 2.539833          -1.2331050 \n",
       "4 1.413702e-14 2.539833          -0.5097586 \n",
       "5 2.025750e-05 2.539833          -0.2563007 \n",
       "6 3.422100e-05 2.539833          -0.3911991 "
      ]
     },
     "metadata": {},
     "output_type": "display_data"
    }
   ],
   "source": [
    "vc_list <- lapply(VarCorr(model), function(x) attr(x, \"stddev\")^2)\n",
    "vc <- sum(unlist(vc_list))\n",
    "effect_size_denom_t <- sqrt(vc + pi^2/3)\n",
    "\n",
    "res <- summary(model)$coefficients\n",
    "res <- as.data.frame(res)\n",
    "res <- cbind(term = rownames(res), res)\n",
    "rownames(res) <- NULL\n",
    "res$effect_size_denom <- effect_size_denom_t\n",
    "res$effect_size <- res$Estimate / effect_size_denom_t\n",
    "res"
   ]
  },
  {
   "cell_type": "code",
   "execution_count": 9,
   "metadata": {
    "vscode": {
     "languageId": "r"
    }
   },
   "outputs": [
    {
     "data": {
      "text/html": [
       "<table class=\"dataframe\">\n",
       "<caption>A predictions: 3 × 8</caption>\n",
       "<thead>\n",
       "\t<tr><th scope=col>hypothesis</th><th scope=col>estimate</th><th scope=col>std.error</th><th scope=col>statistic</th><th scope=col>p.value</th><th scope=col>s.value</th><th scope=col>conf.low</th><th scope=col>conf.high</th></tr>\n",
       "\t<tr><th scope=col>&lt;chr&gt;</th><th scope=col>&lt;dbl&gt;</th><th scope=col>&lt;dbl&gt;</th><th scope=col>&lt;dbl&gt;</th><th scope=col>&lt;dbl&gt;</th><th scope=col>&lt;dbl&gt;</th><th scope=col>&lt;dbl&gt;</th><th scope=col>&lt;dbl&gt;</th></tr>\n",
       "</thead>\n",
       "<tbody>\n",
       "\t<tr><td>(left) - (front) </td><td>-0.078483066</td><td>0.01354180</td><td>-5.7956149</td><td>6.807128e-09</td><td>27.1303065</td><td>-0.10502451</td><td>-0.05194162</td></tr>\n",
       "\t<tr><td>(right) - (front)</td><td>-0.071973439</td><td>0.01246676</td><td>-5.7732285</td><td>7.776686e-09</td><td>26.9381974</td><td>-0.09640783</td><td>-0.04753904</td></tr>\n",
       "\t<tr><td>(right) - (left) </td><td> 0.006509627</td><td>0.01406623</td><td> 0.4627841</td><td>6.435191e-01</td><td> 0.6359451</td><td>-0.02105967</td><td> 0.03407893</td></tr>\n",
       "</tbody>\n",
       "</table>\n"
      ],
      "text/latex": [
       "A predictions: 3 × 8\n",
       "\\begin{tabular}{llllllll}\n",
       " hypothesis & estimate & std.error & statistic & p.value & s.value & conf.low & conf.high\\\\\n",
       " <chr> & <dbl> & <dbl> & <dbl> & <dbl> & <dbl> & <dbl> & <dbl>\\\\\n",
       "\\hline\n",
       "\t (left) - (front)  & -0.078483066 & 0.01354180 & -5.7956149 & 6.807128e-09 & 27.1303065 & -0.10502451 & -0.05194162\\\\\n",
       "\t (right) - (front) & -0.071973439 & 0.01246676 & -5.7732285 & 7.776686e-09 & 26.9381974 & -0.09640783 & -0.04753904\\\\\n",
       "\t (right) - (left)  &  0.006509627 & 0.01406623 &  0.4627841 & 6.435191e-01 &  0.6359451 & -0.02105967 &  0.03407893\\\\\n",
       "\\end{tabular}\n"
      ],
      "text/markdown": [
       "\n",
       "A predictions: 3 × 8\n",
       "\n",
       "| hypothesis &lt;chr&gt; | estimate &lt;dbl&gt; | std.error &lt;dbl&gt; | statistic &lt;dbl&gt; | p.value &lt;dbl&gt; | s.value &lt;dbl&gt; | conf.low &lt;dbl&gt; | conf.high &lt;dbl&gt; |\n",
       "|---|---|---|---|---|---|---|---|\n",
       "| (left) - (front)  | -0.078483066 | 0.01354180 | -5.7956149 | 6.807128e-09 | 27.1303065 | -0.10502451 | -0.05194162 |\n",
       "| (right) - (front) | -0.071973439 | 0.01246676 | -5.7732285 | 7.776686e-09 | 26.9381974 | -0.09640783 | -0.04753904 |\n",
       "| (right) - (left)  |  0.006509627 | 0.01406623 |  0.4627841 | 6.435191e-01 |  0.6359451 | -0.02105967 |  0.03407893 |\n",
       "\n"
      ],
      "text/plain": [
       "  hypothesis        estimate     std.error  statistic  p.value      s.value   \n",
       "1 (left) - (front)  -0.078483066 0.01354180 -5.7956149 6.807128e-09 27.1303065\n",
       "2 (right) - (front) -0.071973439 0.01246676 -5.7732285 7.776686e-09 26.9381974\n",
       "3 (right) - (left)   0.006509627 0.01406623  0.4627841 6.435191e-01  0.6359451\n",
       "  conf.low    conf.high  \n",
       "1 -0.10502451 -0.05194162\n",
       "2 -0.09640783 -0.04753904\n",
       "3 -0.02105967  0.03407893"
      ]
     },
     "metadata": {},
     "output_type": "display_data"
    }
   ],
   "source": [
    "avg_predictions(model, by=\"Angle\", hypothesis = ~ pairwise)"
   ]
  },
  {
   "cell_type": "code",
   "execution_count": 10,
   "metadata": {
    "vscode": {
     "languageId": "r"
    }
   },
   "outputs": [
    {
     "data": {
      "text/html": [
       "<table class=\"dataframe\">\n",
       "<caption>A slopes: 1 × 12</caption>\n",
       "<thead>\n",
       "\t<tr><th scope=col>term</th><th scope=col>contrast</th><th scope=col>estimate</th><th scope=col>std.error</th><th scope=col>statistic</th><th scope=col>p.value</th><th scope=col>s.value</th><th scope=col>conf.low</th><th scope=col>conf.high</th><th scope=col>predicted_lo</th><th scope=col>predicted_hi</th><th scope=col>predicted</th></tr>\n",
       "\t<tr><th scope=col>&lt;chr&gt;</th><th scope=col>&lt;chr&gt;</th><th scope=col>&lt;dbl&gt;</th><th scope=col>&lt;dbl&gt;</th><th scope=col>&lt;dbl&gt;</th><th scope=col>&lt;dbl&gt;</th><th scope=col>&lt;dbl&gt;</th><th scope=col>&lt;dbl&gt;</th><th scope=col>&lt;dbl&gt;</th><th scope=col>&lt;dbl&gt;</th><th scope=col>&lt;dbl&gt;</th><th scope=col>&lt;dbl&gt;</th></tr>\n",
       "</thead>\n",
       "<tbody>\n",
       "\t<tr><td>Proximity</td><td>dY/dX</td><td>-1.294702</td><td>0.1682579</td><td>-7.694748</td><td>1.41773e-14</td><td>46.00341</td><td>-1.624481</td><td>-0.9649225</td><td>7.171848</td><td>7.171589</td><td>7.171718</td></tr>\n",
       "</tbody>\n",
       "</table>\n"
      ],
      "text/latex": [
       "A slopes: 1 × 12\n",
       "\\begin{tabular}{llllllllllll}\n",
       " term & contrast & estimate & std.error & statistic & p.value & s.value & conf.low & conf.high & predicted\\_lo & predicted\\_hi & predicted\\\\\n",
       " <chr> & <chr> & <dbl> & <dbl> & <dbl> & <dbl> & <dbl> & <dbl> & <dbl> & <dbl> & <dbl> & <dbl>\\\\\n",
       "\\hline\n",
       "\t Proximity & dY/dX & -1.294702 & 0.1682579 & -7.694748 & 1.41773e-14 & 46.00341 & -1.624481 & -0.9649225 & 7.171848 & 7.171589 & 7.171718\\\\\n",
       "\\end{tabular}\n"
      ],
      "text/markdown": [
       "\n",
       "A slopes: 1 × 12\n",
       "\n",
       "| term &lt;chr&gt; | contrast &lt;chr&gt; | estimate &lt;dbl&gt; | std.error &lt;dbl&gt; | statistic &lt;dbl&gt; | p.value &lt;dbl&gt; | s.value &lt;dbl&gt; | conf.low &lt;dbl&gt; | conf.high &lt;dbl&gt; | predicted_lo &lt;dbl&gt; | predicted_hi &lt;dbl&gt; | predicted &lt;dbl&gt; |\n",
       "|---|---|---|---|---|---|---|---|---|---|---|---|\n",
       "| Proximity | dY/dX | -1.294702 | 0.1682579 | -7.694748 | 1.41773e-14 | 46.00341 | -1.624481 | -0.9649225 | 7.171848 | 7.171589 | 7.171718 |\n",
       "\n"
      ],
      "text/plain": [
       "  term      contrast estimate  std.error statistic p.value     s.value \n",
       "1 Proximity dY/dX    -1.294702 0.1682579 -7.694748 1.41773e-14 46.00341\n",
       "  conf.low  conf.high  predicted_lo predicted_hi predicted\n",
       "1 -1.624481 -0.9649225 7.171848     7.171589     7.171718 "
      ]
     },
     "metadata": {},
     "output_type": "display_data"
    }
   ],
   "source": [
    "avg_slopes(model, variables =\"Proximity\", type = \"link\")"
   ]
  },
  {
   "cell_type": "code",
   "execution_count": 11,
   "metadata": {
    "vscode": {
     "languageId": "r"
    }
   },
   "outputs": [
    {
     "data": {
      "text/html": [
       "<table class=\"dataframe\">\n",
       "<caption>A slopes: 1 × 12</caption>\n",
       "<thead>\n",
       "\t<tr><th scope=col>term</th><th scope=col>contrast</th><th scope=col>estimate</th><th scope=col>std.error</th><th scope=col>statistic</th><th scope=col>p.value</th><th scope=col>s.value</th><th scope=col>conf.low</th><th scope=col>conf.high</th><th scope=col>predicted_lo</th><th scope=col>predicted_hi</th><th scope=col>predicted</th></tr>\n",
       "\t<tr><th scope=col>&lt;chr&gt;</th><th scope=col>&lt;chr&gt;</th><th scope=col>&lt;dbl&gt;</th><th scope=col>&lt;dbl&gt;</th><th scope=col>&lt;dbl&gt;</th><th scope=col>&lt;dbl&gt;</th><th scope=col>&lt;dbl&gt;</th><th scope=col>&lt;dbl&gt;</th><th scope=col>&lt;dbl&gt;</th><th scope=col>&lt;dbl&gt;</th><th scope=col>&lt;dbl&gt;</th><th scope=col>&lt;dbl&gt;</th></tr>\n",
       "</thead>\n",
       "<tbody>\n",
       "\t<tr><td>n_candidates</td><td>dY/dX</td><td>-0.650961</td><td>0.1527407</td><td>-4.261871</td><td>2.027225e-05</td><td>15.59013</td><td>-0.9503272</td><td>-0.3515948</td><td>7.171784</td><td>7.171653</td><td>7.171718</td></tr>\n",
       "</tbody>\n",
       "</table>\n"
      ],
      "text/latex": [
       "A slopes: 1 × 12\n",
       "\\begin{tabular}{llllllllllll}\n",
       " term & contrast & estimate & std.error & statistic & p.value & s.value & conf.low & conf.high & predicted\\_lo & predicted\\_hi & predicted\\\\\n",
       " <chr> & <chr> & <dbl> & <dbl> & <dbl> & <dbl> & <dbl> & <dbl> & <dbl> & <dbl> & <dbl> & <dbl>\\\\\n",
       "\\hline\n",
       "\t n\\_candidates & dY/dX & -0.650961 & 0.1527407 & -4.261871 & 2.027225e-05 & 15.59013 & -0.9503272 & -0.3515948 & 7.171784 & 7.171653 & 7.171718\\\\\n",
       "\\end{tabular}\n"
      ],
      "text/markdown": [
       "\n",
       "A slopes: 1 × 12\n",
       "\n",
       "| term &lt;chr&gt; | contrast &lt;chr&gt; | estimate &lt;dbl&gt; | std.error &lt;dbl&gt; | statistic &lt;dbl&gt; | p.value &lt;dbl&gt; | s.value &lt;dbl&gt; | conf.low &lt;dbl&gt; | conf.high &lt;dbl&gt; | predicted_lo &lt;dbl&gt; | predicted_hi &lt;dbl&gt; | predicted &lt;dbl&gt; |\n",
       "|---|---|---|---|---|---|---|---|---|---|---|---|\n",
       "| n_candidates | dY/dX | -0.650961 | 0.1527407 | -4.261871 | 2.027225e-05 | 15.59013 | -0.9503272 | -0.3515948 | 7.171784 | 7.171653 | 7.171718 |\n",
       "\n"
      ],
      "text/plain": [
       "  term         contrast estimate  std.error statistic p.value      s.value \n",
       "1 n_candidates dY/dX    -0.650961 0.1527407 -4.261871 2.027225e-05 15.59013\n",
       "  conf.low   conf.high  predicted_lo predicted_hi predicted\n",
       "1 -0.9503272 -0.3515948 7.171784     7.171653     7.171718 "
      ]
     },
     "metadata": {},
     "output_type": "display_data"
    }
   ],
   "source": [
    "avg_slopes(model, variables =\"n_candidates\", type = \"link\")"
   ]
  },
  {
   "cell_type": "code",
   "execution_count": 12,
   "metadata": {
    "vscode": {
     "languageId": "r"
    }
   },
   "outputs": [
    {
     "data": {
      "text/html": [
       "<table class=\"dataframe\">\n",
       "<caption>A predictions: 1 × 8</caption>\n",
       "<thead>\n",
       "\t<tr><th scope=col>hypothesis</th><th scope=col>estimate</th><th scope=col>std.error</th><th scope=col>statistic</th><th scope=col>p.value</th><th scope=col>s.value</th><th scope=col>conf.low</th><th scope=col>conf.high</th></tr>\n",
       "\t<tr><th scope=col>&lt;chr&gt;</th><th scope=col>&lt;dbl&gt;</th><th scope=col>&lt;dbl&gt;</th><th scope=col>&lt;dbl&gt;</th><th scope=col>&lt;dbl&gt;</th><th scope=col>&lt;dbl&gt;</th><th scope=col>&lt;dbl&gt;</th><th scope=col>&lt;dbl&gt;</th></tr>\n",
       "</thead>\n",
       "<tbody>\n",
       "\t<tr><td>(Y) - (X)</td><td>-0.04450157</td><td>0.0102736</td><td>-4.331643</td><td>1.480005e-05</td><td>16.04404</td><td>-0.06463745</td><td>-0.02436568</td></tr>\n",
       "</tbody>\n",
       "</table>\n"
      ],
      "text/latex": [
       "A predictions: 1 × 8\n",
       "\\begin{tabular}{llllllll}\n",
       " hypothesis & estimate & std.error & statistic & p.value & s.value & conf.low & conf.high\\\\\n",
       " <chr> & <dbl> & <dbl> & <dbl> & <dbl> & <dbl> & <dbl> & <dbl>\\\\\n",
       "\\hline\n",
       "\t (Y) - (X) & -0.04450157 & 0.0102736 & -4.331643 & 1.480005e-05 & 16.04404 & -0.06463745 & -0.02436568\\\\\n",
       "\\end{tabular}\n"
      ],
      "text/markdown": [
       "\n",
       "A predictions: 1 × 8\n",
       "\n",
       "| hypothesis &lt;chr&gt; | estimate &lt;dbl&gt; | std.error &lt;dbl&gt; | statistic &lt;dbl&gt; | p.value &lt;dbl&gt; | s.value &lt;dbl&gt; | conf.low &lt;dbl&gt; | conf.high &lt;dbl&gt; |\n",
       "|---|---|---|---|---|---|---|---|\n",
       "| (Y) - (X) | -0.04450157 | 0.0102736 | -4.331643 | 1.480005e-05 | 16.04404 | -0.06463745 | -0.02436568 |\n",
       "\n"
      ],
      "text/plain": [
       "  hypothesis estimate    std.error statistic p.value      s.value  conf.low   \n",
       "1 (Y) - (X)  -0.04450157 0.0102736 -4.331643 1.480005e-05 16.04404 -0.06463745\n",
       "  conf.high  \n",
       "1 -0.02436568"
      ]
     },
     "metadata": {},
     "output_type": "display_data"
    }
   ],
   "source": [
    "avg_predictions(model, by=\"Actor\", hypothesis = ~ pairwise)"
   ]
  }
 ],
 "metadata": {
  "kernelspec": {
   "display_name": "R",
   "language": "R",
   "name": "ir"
  },
  "language_info": {
   "codemirror_mode": "r",
   "file_extension": ".r",
   "mimetype": "text/x-r-source",
   "name": "R",
   "pygments_lexer": "r",
   "version": "4.3.3"
  }
 },
 "nbformat": 4,
 "nbformat_minor": 2
}
