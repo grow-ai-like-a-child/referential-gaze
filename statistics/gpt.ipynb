{
 "cells": [
  {
   "cell_type": "markdown",
   "metadata": {},
   "source": [
    "# Loading Responses"
   ]
  },
  {
   "cell_type": "code",
   "execution_count": 2,
   "metadata": {
    "vscode": {
     "languageId": "r"
    }
   },
   "outputs": [
    {
     "name": "stderr",
     "output_type": "stream",
     "text": [
      "Loading required package: car\n",
      "\n",
      "Loading required package: carData\n",
      "\n",
      "\u001b[1mRows: \u001b[22m\u001b[34m156780\u001b[39m \u001b[1mColumns: \u001b[22m\u001b[34m14\u001b[39m\n",
      "\u001b[36m──\u001b[39m \u001b[1mColumn specification\u001b[22m \u001b[36m────────────────────────────────────────────────────────────────\u001b[39m\n",
      "\u001b[1mDelimiter:\u001b[22m \",\"\n",
      "\u001b[31mchr\u001b[39m (2): Run_ID, Part\n",
      "\u001b[32mint\u001b[39m (2): Proximity, n_candidates\n",
      "\u001b[33mlgl\u001b[39m (1): Accuracy\n",
      "\u001b[31mfct\u001b[39m (9): Stimulus_ID, Prompt_ID, Participant_ID, Group, GroupKind, Angle, Ac...\n",
      "\n",
      "\u001b[36mℹ\u001b[39m Use `spec()` to retrieve the full column specification for this data.\n",
      "\u001b[36mℹ\u001b[39m Specify the column types or set `show_col_types = FALSE` to quiet this message.\n"
     ]
    }
   ],
   "source": [
    "options(warn=1)\n",
    "if(!require('lme4')) {\n",
    "    install.packages('lme4', repos='https://cloud.r-project.org')\n",
    "    library('lme4')\n",
    "}\n",
    "if(!require('readr')) {\n",
    "    install.packages('readr', repos='https://cloud.r-project.org')\n",
    "    library('readr')\n",
    "}\n",
    "if(!require('marginaleffects')) {\n",
    "    install.packages('marginaleffects', repos='https://cloud.r-project.org')\n",
    "    library('marginaleffects')\n",
    "}\n",
    "if(!require('emmeans')) {\n",
    "    install.packages('emmeans', repos='https://cloud.r-project.org')\n",
    "    library('emmeans')\n",
    "}\n",
    "if(!require('car')) {\n",
    "    install.packages('car', repos='https://cloud.r-project.org')\n",
    "    library('car')\n",
    "}\n",
    "df <- read_csv(\"gaze-analysis/result_1743457603_20250506_20250506F.csv\", na = \"empty\", col_select = c(\"Accuracy\", \"Group\", \"GroupKind\", \"Angle\", \"Proximity\", \"n_candidates\", \"Actor\", \"Candidates\", \"Stimulus_ID\", \"Prompt_ID\", \"Participant_ID\", \"list_id\", \"Run_ID\", \"Part\"), col_types = cols(\n",
    "    Accuracy = col_logical(),\n",
    "    Group = col_factor(),\n",
    "    GroupKind = col_factor(),\n",
    "    Angle = col_factor(),\n",
    "    Proximity = col_integer(),\n",
    "    n_candidates = col_integer(),\n",
    "    Actor = col_factor(c('X', 'Y')),\n",
    "    Candidates = col_factor(),\n",
    "    Stimulus_ID = col_factor(),\n",
    "    Prompt_ID = col_factor(),\n",
    "    Participant_ID = col_factor(),\n",
    "    list_id = col_factor(),\n",
    "    Run_ID = col_character(),\n",
    "    Part = col_character(),\n",
    "),show_col_types = TRUE)\n",
    "df <- df[df$Group == \"gpt-4o\" & df$list_id != -1 & df$Part != \"p0\", ]\n",
    "df$offset <- log(1/df$n_candidates / (1 - 1/df$n_candidates))\n",
    "df$Proximity <- df$Proximity - mean(df$Proximity)\n",
    "df$n_candidates <- df$n_candidates - mean(df$n_candidates)"
   ]
  },
  {
   "cell_type": "markdown",
   "metadata": {},
   "source": [
    "# Fitting models"
   ]
  },
  {
   "cell_type": "code",
   "execution_count": 3,
   "metadata": {
    "vscode": {
     "languageId": "r"
    }
   },
   "outputs": [
    {
     "name": "stderr",
     "output_type": "stream",
     "text": [
      "boundary (singular) fit: see help('isSingular')\n",
      "\n"
     ]
    }
   ],
   "source": [
    "model0 <- glmer(Accuracy ~ Angle + Proximity + n_candidates + Actor + (1|Actor:Candidates) + (1|Stimulus_ID) + (1|Prompt_ID), \n",
    "               data = df,\n",
    "               family = binomial(link = \"logit\"), \n",
    "               offset = offset)"
   ]
  },
  {
   "cell_type": "code",
   "execution_count": 4,
   "metadata": {
    "vscode": {
     "languageId": "r"
    }
   },
   "outputs": [],
   "source": [
    "model1 <- glmer(Accuracy ~ Angle + Proximity + n_candidates + Actor + (1|Stimulus_ID) + (1|Prompt_ID), \n",
    "               data = df,\n",
    "               family = binomial(link = \"logit\"), \n",
    "               offset = offset)"
   ]
  },
  {
   "cell_type": "code",
   "execution_count": 12,
   "metadata": {
    "vscode": {
     "languageId": "r"
    }
   },
   "outputs": [
    {
     "data": {
      "text/plain": [
       "Generalized linear mixed model fit by maximum likelihood (Laplace\n",
       "  Approximation) [glmerMod]\n",
       " Family: binomial  ( logit )\n",
       "Formula: \n",
       "Accuracy ~ Angle + Proximity + n_candidates + Actor + (1 | Stimulus_ID) +  \n",
       "    (1 | Prompt_ID)\n",
       "   Data: df\n",
       " Offset: offset\n",
       "      AIC       BIC    logLik  deviance  df.resid \n",
       " 7939.456  7996.296 -3961.728  7923.456      8992 \n",
       "Random effects:\n",
       " Groups      Name        Std.Dev.\n",
       " Stimulus_ID (Intercept) 3.06101 \n",
       " Prompt_ID   (Intercept) 0.08895 \n",
       "Number of obs: 9000, groups:  Stimulus_ID, 900; Prompt_ID, 12\n",
       "Fixed Effects:\n",
       " (Intercept)     Angleleft    Angleright     Proximity  n_candidates  \n",
       "      0.8451       -0.1712       -0.1276       -0.4647       -0.5869  \n",
       "      ActorY  \n",
       "     -0.9398  "
      ]
     },
     "metadata": {},
     "output_type": "display_data"
    }
   ],
   "source": [
    "model1"
   ]
  },
  {
   "cell_type": "code",
   "execution_count": 5,
   "metadata": {
    "vscode": {
     "languageId": "r"
    }
   },
   "outputs": [
    {
     "name": "stderr",
     "output_type": "stream",
     "text": [
      "boundary (singular) fit: see help('isSingular')\n",
      "\n"
     ]
    }
   ],
   "source": [
    "model2 <- glmer(Accuracy ~ Angle + Proximity + n_candidates + Actor + (1|Actor:Candidates) + (1|Stimulus_ID), \n",
    "               data = df,\n",
    "               family = binomial(link = \"logit\"), \n",
    "               offset = offset)"
   ]
  },
  {
   "cell_type": "code",
   "execution_count": 8,
   "metadata": {
    "vscode": {
     "languageId": "r"
    }
   },
   "outputs": [
    {
     "data": {
      "text/plain": [
       "Generalized linear mixed model fit by maximum likelihood (Laplace\n",
       "  Approximation) [glmerMod]\n",
       " Family: binomial  ( logit )\n",
       "Formula: \n",
       "Accuracy ~ Angle + Proximity + n_candidates + Actor + (1 | Actor:Candidates) +  \n",
       "    (1 | Stimulus_ID)\n",
       "   Data: df\n",
       " Offset: offset\n",
       "      AIC       BIC    logLik  deviance  df.resid \n",
       " 7940.747  7997.587 -3962.374  7924.747      8992 \n",
       "Random effects:\n",
       " Groups           Name        Std.Dev. \n",
       " Stimulus_ID      (Intercept) 3.058e+00\n",
       " Actor:Candidates (Intercept) 8.831e-05\n",
       "Number of obs: 9000, groups:  Stimulus_ID, 900; Actor:Candidates, 18\n",
       "Fixed Effects:\n",
       " (Intercept)     Angleleft    Angleright     Proximity  n_candidates  \n",
       "      0.8427       -0.1698       -0.1262       -0.4639       -0.5871  \n",
       "      ActorY  \n",
       "     -0.9382  \n",
       "optimizer (Nelder_Mead) convergence code: 0 (OK) ; 0 optimizer warnings; 1 lme4 warnings "
      ]
     },
     "metadata": {},
     "output_type": "display_data"
    }
   ],
   "source": [
    "model2"
   ]
  },
  {
   "cell_type": "code",
   "execution_count": 6,
   "metadata": {
    "vscode": {
     "languageId": "r"
    }
   },
   "outputs": [],
   "source": [
    "model3 <- glmer(Accuracy ~ Angle + Proximity + n_candidates + Actor + (1|Stimulus_ID), \n",
    "               data = df,\n",
    "               family = binomial(link = \"logit\"), \n",
    "               offset = offset)"
   ]
  },
  {
   "cell_type": "code",
   "execution_count": 7,
   "metadata": {
    "vscode": {
     "languageId": "r"
    }
   },
   "outputs": [],
   "source": [
    "model3_5 <- glmer(Accuracy ~ Angle + Proximity + n_candidates + Actor + (1|Actor:Candidates), \n",
    "               data = df,\n",
    "               family = binomial(link = \"logit\"), \n",
    "               offset = offset)"
   ]
  },
  {
   "cell_type": "markdown",
   "metadata": {},
   "source": [
    "# Model selection"
   ]
  },
  {
   "cell_type": "code",
   "execution_count": 9,
   "metadata": {
    "vscode": {
     "languageId": "r"
    }
   },
   "outputs": [
    {
     "data": {
      "text/html": [
       "<table class=\"dataframe\">\n",
       "<caption>A anova: 2 × 8</caption>\n",
       "<thead>\n",
       "\t<tr><th></th><th scope=col>npar</th><th scope=col>AIC</th><th scope=col>BIC</th><th scope=col>logLik</th><th scope=col>deviance</th><th scope=col>Chisq</th><th scope=col>Df</th><th scope=col>Pr(&gt;Chisq)</th></tr>\n",
       "\t<tr><th></th><th scope=col>&lt;dbl&gt;</th><th scope=col>&lt;dbl&gt;</th><th scope=col>&lt;dbl&gt;</th><th scope=col>&lt;dbl&gt;</th><th scope=col>&lt;dbl&gt;</th><th scope=col>&lt;dbl&gt;</th><th scope=col>&lt;dbl&gt;</th><th scope=col>&lt;dbl&gt;</th></tr>\n",
       "</thead>\n",
       "<tbody>\n",
       "\t<tr><th scope=row>model3</th><td>7</td><td>7938.748</td><td>7988.483</td><td>-3962.374</td><td>7924.748</td><td>      NA</td><td>NA</td><td>     NA</td></tr>\n",
       "\t<tr><th scope=row>model1</th><td>8</td><td>7939.456</td><td>7996.296</td><td>-3961.728</td><td>7923.456</td><td>1.291672</td><td> 1</td><td>0.25574</td></tr>\n",
       "</tbody>\n",
       "</table>\n"
      ],
      "text/latex": [
       "A anova: 2 × 8\n",
       "\\begin{tabular}{r|llllllll}\n",
       "  & npar & AIC & BIC & logLik & deviance & Chisq & Df & Pr(>Chisq)\\\\\n",
       "  & <dbl> & <dbl> & <dbl> & <dbl> & <dbl> & <dbl> & <dbl> & <dbl>\\\\\n",
       "\\hline\n",
       "\tmodel3 & 7 & 7938.748 & 7988.483 & -3962.374 & 7924.748 &       NA & NA &      NA\\\\\n",
       "\tmodel1 & 8 & 7939.456 & 7996.296 & -3961.728 & 7923.456 & 1.291672 &  1 & 0.25574\\\\\n",
       "\\end{tabular}\n"
      ],
      "text/markdown": [
       "\n",
       "A anova: 2 × 8\n",
       "\n",
       "| <!--/--> | npar &lt;dbl&gt; | AIC &lt;dbl&gt; | BIC &lt;dbl&gt; | logLik &lt;dbl&gt; | deviance &lt;dbl&gt; | Chisq &lt;dbl&gt; | Df &lt;dbl&gt; | Pr(&gt;Chisq) &lt;dbl&gt; |\n",
       "|---|---|---|---|---|---|---|---|---|\n",
       "| model3 | 7 | 7938.748 | 7988.483 | -3962.374 | 7924.748 |       NA | NA |      NA |\n",
       "| model1 | 8 | 7939.456 | 7996.296 | -3961.728 | 7923.456 | 1.291672 |  1 | 0.25574 |\n",
       "\n"
      ],
      "text/plain": [
       "       npar AIC      BIC      logLik    deviance Chisq    Df Pr(>Chisq)\n",
       "model3 7    7938.748 7988.483 -3962.374 7924.748       NA NA      NA   \n",
       "model1 8    7939.456 7996.296 -3961.728 7923.456 1.291672  1 0.25574   "
      ]
     },
     "metadata": {},
     "output_type": "display_data"
    }
   ],
   "source": [
    "anova(model1, model3)"
   ]
  },
  {
   "cell_type": "code",
   "execution_count": 10,
   "metadata": {
    "vscode": {
     "languageId": "r"
    }
   },
   "outputs": [
    {
     "data": {
      "text/html": [
       "<table class=\"dataframe\">\n",
       "<caption>A anova: 2 × 8</caption>\n",
       "<thead>\n",
       "\t<tr><th></th><th scope=col>npar</th><th scope=col>AIC</th><th scope=col>BIC</th><th scope=col>logLik</th><th scope=col>deviance</th><th scope=col>Chisq</th><th scope=col>Df</th><th scope=col>Pr(&gt;Chisq)</th></tr>\n",
       "\t<tr><th></th><th scope=col>&lt;dbl&gt;</th><th scope=col>&lt;dbl&gt;</th><th scope=col>&lt;dbl&gt;</th><th scope=col>&lt;dbl&gt;</th><th scope=col>&lt;dbl&gt;</th><th scope=col>&lt;dbl&gt;</th><th scope=col>&lt;dbl&gt;</th><th scope=col>&lt;lgl&gt;</th></tr>\n",
       "</thead>\n",
       "<tbody>\n",
       "\t<tr><th scope=row>model3</th><td>7</td><td> 7938.748</td><td> 7988.483</td><td>-3962.374</td><td> 7924.748</td><td>NA</td><td>NA</td><td>NA</td></tr>\n",
       "\t<tr><th scope=row>model3_5</th><td>7</td><td>11911.919</td><td>11961.654</td><td>-5948.959</td><td>11897.919</td><td> 0</td><td> 0</td><td>NA</td></tr>\n",
       "</tbody>\n",
       "</table>\n"
      ],
      "text/latex": [
       "A anova: 2 × 8\n",
       "\\begin{tabular}{r|llllllll}\n",
       "  & npar & AIC & BIC & logLik & deviance & Chisq & Df & Pr(>Chisq)\\\\\n",
       "  & <dbl> & <dbl> & <dbl> & <dbl> & <dbl> & <dbl> & <dbl> & <lgl>\\\\\n",
       "\\hline\n",
       "\tmodel3 & 7 &  7938.748 &  7988.483 & -3962.374 &  7924.748 & NA & NA & NA\\\\\n",
       "\tmodel3\\_5 & 7 & 11911.919 & 11961.654 & -5948.959 & 11897.919 &  0 &  0 & NA\\\\\n",
       "\\end{tabular}\n"
      ],
      "text/markdown": [
       "\n",
       "A anova: 2 × 8\n",
       "\n",
       "| <!--/--> | npar &lt;dbl&gt; | AIC &lt;dbl&gt; | BIC &lt;dbl&gt; | logLik &lt;dbl&gt; | deviance &lt;dbl&gt; | Chisq &lt;dbl&gt; | Df &lt;dbl&gt; | Pr(&gt;Chisq) &lt;lgl&gt; |\n",
       "|---|---|---|---|---|---|---|---|---|\n",
       "| model3 | 7 |  7938.748 |  7988.483 | -3962.374 |  7924.748 | NA | NA | NA |\n",
       "| model3_5 | 7 | 11911.919 | 11961.654 | -5948.959 | 11897.919 |  0 |  0 | NA |\n",
       "\n"
      ],
      "text/plain": [
       "         npar AIC       BIC       logLik    deviance  Chisq Df Pr(>Chisq)\n",
       "model3   7     7938.748  7988.483 -3962.374  7924.748 NA    NA NA        \n",
       "model3_5 7    11911.919 11961.654 -5948.959 11897.919  0     0 NA        "
      ]
     },
     "metadata": {},
     "output_type": "display_data"
    }
   ],
   "source": [
    "anova(model3, model3_5)"
   ]
  },
  {
   "cell_type": "code",
   "execution_count": 13,
   "metadata": {
    "vscode": {
     "languageId": "r"
    }
   },
   "outputs": [],
   "source": [
    "model <- model3"
   ]
  },
  {
   "cell_type": "markdown",
   "metadata": {},
   "source": [
    "# Interpretation"
   ]
  },
  {
   "cell_type": "code",
   "execution_count": 14,
   "metadata": {
    "vscode": {
     "languageId": "r"
    }
   },
   "outputs": [
    {
     "data": {
      "text/plain": [
       "Generalized linear mixed model fit by maximum likelihood (Laplace\n",
       "  Approximation) [glmerMod]\n",
       " Family: binomial  ( logit )\n",
       "Formula: \n",
       "Accuracy ~ Angle + Proximity + n_candidates + Actor + (1 | Stimulus_ID)\n",
       "   Data: df\n",
       " Offset: offset\n",
       "\n",
       "     AIC      BIC   logLik deviance df.resid \n",
       "  7938.7   7988.5  -3962.4   7924.7     8993 \n",
       "\n",
       "Scaled residuals: \n",
       "    Min      1Q  Median      3Q     Max \n",
       "-2.9170 -0.3529  0.1520  0.3589  3.0744 \n",
       "\n",
       "Random effects:\n",
       " Groups      Name        Variance Std.Dev.\n",
       " Stimulus_ID (Intercept) 9.35     3.058   \n",
       "Number of obs: 9000, groups:  Stimulus_ID, 900\n",
       "\n",
       "Fixed effects:\n",
       "             Estimate Std. Error z value Pr(>|z|)    \n",
       "(Intercept)    0.8428     0.2180   3.865 0.000111 ***\n",
       "Angleleft     -0.1698     0.2797  -0.607 0.543743    \n",
       "Angleright    -0.1262     0.2784  -0.453 0.650207    \n",
       "Proximity     -0.4639     0.1401  -3.311 0.000929 ***\n",
       "n_candidates  -0.5871     0.1527  -3.844 0.000121 ***\n",
       "ActorY        -0.9382     0.2329  -4.027 5.64e-05 ***\n",
       "---\n",
       "Signif. codes:  0 ‘***’ 0.001 ‘**’ 0.01 ‘*’ 0.05 ‘.’ 0.1 ‘ ’ 1\n",
       "\n",
       "Correlation of Fixed Effects:\n",
       "            (Intr) Angllf Anglrg Prxmty n_cndd\n",
       "Angleleft   -0.614                            \n",
       "Angleright  -0.608  0.483                     \n",
       "Proximity   -0.005 -0.009  0.011              \n",
       "n_candidats  0.058  0.005  0.001  0.028       \n",
       "ActorY      -0.456 -0.005 -0.026  0.005 -0.078"
      ]
     },
     "metadata": {},
     "output_type": "display_data"
    }
   ],
   "source": [
    "summary(model)"
   ]
  },
  {
   "cell_type": "code",
   "execution_count": 15,
   "metadata": {
    "vscode": {
     "languageId": "r"
    }
   },
   "outputs": [
    {
     "name": "stdout",
     "output_type": "stream",
     "text": [
      " Angle  emmean    SE  df asymp.LCL asymp.UCL\n",
      " front  0.0234 0.195 Inf    -0.358     0.405\n",
      " left  -0.1465 0.202 Inf    -0.543     0.250\n",
      " right -0.1029 0.200 Inf    -0.495     0.289\n",
      "\n",
      "Results are averaged over the levels of: Actor \n",
      "Results are given on the logit (not the response) scale. \n",
      "Confidence level used: 0.95 \n"
     ]
    },
    {
     "data": {
      "text/plain": [
       " contrast      estimate    SE  df z.ratio p.value\n",
       " front - left    0.1698 0.280 Inf   0.607  0.8162\n",
       " front - right   0.1262 0.278 Inf   0.453  0.8929\n",
       " left - right   -0.0436 0.284 Inf  -0.154  0.9871\n",
       "\n",
       "Results are averaged over the levels of: Actor \n",
       "Results are given on the log odds ratio (not the response) scale. \n",
       "P value adjustment: tukey method for comparing a family of 3 estimates "
      ]
     },
     "metadata": {},
     "output_type": "display_data"
    },
    {
     "name": "stdout",
     "output_type": "stream",
     "text": [
      " Angle  prob     SE  df asymp.LCL asymp.UCL\n",
      " front 0.506 0.0461 Inf     0.415     0.596\n",
      " left  0.465 0.0476 Inf     0.372     0.559\n",
      " right 0.476 0.0472 Inf     0.383     0.568\n",
      "\n",
      "Results are averaged over the levels of: Actor \n",
      "Confidence level used: 0.95 \n"
     ]
    },
    {
     "data": {
      "text/plain": [
       " contrast      estimate     SE  df z.ratio p.value\n",
       " front - left    0.0402 0.0661 Inf   0.608  0.8159\n",
       " front - right   0.0299 0.0659 Inf   0.454  0.8928\n",
       " left - right   -0.0103 0.0670 Inf  -0.154  0.9871\n",
       "\n",
       "Results are averaged over the levels of: Actor \n",
       "P value adjustment: tukey method for comparing a family of 3 estimates "
      ]
     },
     "metadata": {},
     "output_type": "display_data"
    },
    {
     "data": {
      "text/html": [
       "<table class=\"dataframe\">\n",
       "<caption>A data.frame: 6 × 7</caption>\n",
       "<thead>\n",
       "\t<tr><th scope=col>term</th><th scope=col>Estimate</th><th scope=col>Std. Error</th><th scope=col>z value</th><th scope=col>Pr(&gt;|z|)</th><th scope=col>effect_size_denom</th><th scope=col>effect_size</th></tr>\n",
       "\t<tr><th scope=col>&lt;chr&gt;</th><th scope=col>&lt;dbl&gt;</th><th scope=col>&lt;dbl&gt;</th><th scope=col>&lt;dbl&gt;</th><th scope=col>&lt;dbl&gt;</th><th scope=col>&lt;dbl&gt;</th><th scope=col>&lt;dbl&gt;</th></tr>\n",
       "</thead>\n",
       "<tbody>\n",
       "\t<tr><td>(Intercept) </td><td> 0.8427575</td><td>0.2180374</td><td> 3.8651962</td><td>1.109999e-04</td><td>3.55532</td><td> 0.23704122</td></tr>\n",
       "\t<tr><td>Angleleft   </td><td>-0.1698470</td><td>0.2797391</td><td>-0.6071621</td><td>5.437433e-01</td><td>3.55532</td><td>-0.04777262</td></tr>\n",
       "\t<tr><td>Angleright  </td><td>-0.1262396</td><td>0.2783831</td><td>-0.4534744</td><td>6.502072e-01</td><td>3.55532</td><td>-0.03550723</td></tr>\n",
       "\t<tr><td>Proximity   </td><td>-0.4639305</td><td>0.1401113</td><td>-3.3111582</td><td>9.291066e-04</td><td>3.55532</td><td>-0.13048909</td></tr>\n",
       "\t<tr><td>n_candidates</td><td>-0.5870535</td><td>0.1527254</td><td>-3.8438498</td><td>1.211191e-04</td><td>3.55532</td><td>-0.16511972</td></tr>\n",
       "\t<tr><td>ActorY      </td><td>-0.9381818</td><td>0.2329477</td><td>-4.0274351</td><td>5.638863e-05</td><td>3.55532</td><td>-0.26388109</td></tr>\n",
       "</tbody>\n",
       "</table>\n"
      ],
      "text/latex": [
       "A data.frame: 6 × 7\n",
       "\\begin{tabular}{lllllll}\n",
       " term & Estimate & Std. Error & z value & Pr(>\\textbar{}z\\textbar{}) & effect\\_size\\_denom & effect\\_size\\\\\n",
       " <chr> & <dbl> & <dbl> & <dbl> & <dbl> & <dbl> & <dbl>\\\\\n",
       "\\hline\n",
       "\t (Intercept)  &  0.8427575 & 0.2180374 &  3.8651962 & 1.109999e-04 & 3.55532 &  0.23704122\\\\\n",
       "\t Angleleft    & -0.1698470 & 0.2797391 & -0.6071621 & 5.437433e-01 & 3.55532 & -0.04777262\\\\\n",
       "\t Angleright   & -0.1262396 & 0.2783831 & -0.4534744 & 6.502072e-01 & 3.55532 & -0.03550723\\\\\n",
       "\t Proximity    & -0.4639305 & 0.1401113 & -3.3111582 & 9.291066e-04 & 3.55532 & -0.13048909\\\\\n",
       "\t n\\_candidates & -0.5870535 & 0.1527254 & -3.8438498 & 1.211191e-04 & 3.55532 & -0.16511972\\\\\n",
       "\t ActorY       & -0.9381818 & 0.2329477 & -4.0274351 & 5.638863e-05 & 3.55532 & -0.26388109\\\\\n",
       "\\end{tabular}\n"
      ],
      "text/markdown": [
       "\n",
       "A data.frame: 6 × 7\n",
       "\n",
       "| term &lt;chr&gt; | Estimate &lt;dbl&gt; | Std. Error &lt;dbl&gt; | z value &lt;dbl&gt; | Pr(&gt;|z|) &lt;dbl&gt; | effect_size_denom &lt;dbl&gt; | effect_size &lt;dbl&gt; |\n",
       "|---|---|---|---|---|---|---|\n",
       "| (Intercept)  |  0.8427575 | 0.2180374 |  3.8651962 | 1.109999e-04 | 3.55532 |  0.23704122 |\n",
       "| Angleleft    | -0.1698470 | 0.2797391 | -0.6071621 | 5.437433e-01 | 3.55532 | -0.04777262 |\n",
       "| Angleright   | -0.1262396 | 0.2783831 | -0.4534744 | 6.502072e-01 | 3.55532 | -0.03550723 |\n",
       "| Proximity    | -0.4639305 | 0.1401113 | -3.3111582 | 9.291066e-04 | 3.55532 | -0.13048909 |\n",
       "| n_candidates | -0.5870535 | 0.1527254 | -3.8438498 | 1.211191e-04 | 3.55532 | -0.16511972 |\n",
       "| ActorY       | -0.9381818 | 0.2329477 | -4.0274351 | 5.638863e-05 | 3.55532 | -0.26388109 |\n",
       "\n"
      ],
      "text/plain": [
       "  term         Estimate   Std. Error z value    Pr(>|z|)     effect_size_denom\n",
       "1 (Intercept)   0.8427575 0.2180374   3.8651962 1.109999e-04 3.55532          \n",
       "2 Angleleft    -0.1698470 0.2797391  -0.6071621 5.437433e-01 3.55532          \n",
       "3 Angleright   -0.1262396 0.2783831  -0.4534744 6.502072e-01 3.55532          \n",
       "4 Proximity    -0.4639305 0.1401113  -3.3111582 9.291066e-04 3.55532          \n",
       "5 n_candidates -0.5870535 0.1527254  -3.8438498 1.211191e-04 3.55532          \n",
       "6 ActorY       -0.9381818 0.2329477  -4.0274351 5.638863e-05 3.55532          \n",
       "  effect_size\n",
       "1  0.23704122\n",
       "2 -0.04777262\n",
       "3 -0.03550723\n",
       "4 -0.13048909\n",
       "5 -0.16511972\n",
       "6 -0.26388109"
      ]
     },
     "metadata": {},
     "output_type": "display_data"
    }
   ],
   "source": [
    "log_odds_means <- emmeans(model, spec = \"Angle\")\n",
    "print(log_odds_means)\n",
    "pairs(log_odds_means)\n",
    "log_odds_means <- emmeans(model, spec = \"Angle\", regrid = \"response\")\n",
    "print(log_odds_means)\n",
    "pairs(log_odds_means)\n",
    "               \n",
    "vc_list <- lapply(VarCorr(model), function(x) attr(x, \"stddev\")^2)\n",
    "vc <- sum(unlist(vc_list))\n",
    "effect_size_denom_t <- sqrt(vc + pi^2/3)\n",
    "\n",
    "res <- summary(model)$coefficients\n",
    "res <- as.data.frame(res)\n",
    "res <- cbind(term = rownames(res), res)\n",
    "rownames(res) <- NULL\n",
    "res$effect_size_denom <- effect_size_denom_t\n",
    "res$effect_size <- res$Estimate / effect_size_denom_t\n",
    "res"
   ]
  },
  {
   "cell_type": "code",
   "execution_count": null,
   "metadata": {
    "vscode": {
     "languageId": "r"
    }
   },
   "outputs": [],
   "source": []
  }
 ],
 "metadata": {
  "kernelspec": {
   "display_name": "R",
   "language": "R",
   "name": "ir"
  },
  "language_info": {
   "codemirror_mode": "r",
   "file_extension": ".r",
   "mimetype": "text/x-r-source",
   "name": "R",
   "pygments_lexer": "r",
   "version": "4.3.3"
  }
 },
 "nbformat": 4,
 "nbformat_minor": 2
}
