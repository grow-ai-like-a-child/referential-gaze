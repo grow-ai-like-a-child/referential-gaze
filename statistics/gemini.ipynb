{
 "cells": [
  {
   "cell_type": "code",
   "execution_count": 4,
   "metadata": {
    "vscode": {
     "languageId": "r"
    }
   },
   "outputs": [
    {
     "name": "stderr",
     "output_type": "stream",
     "text": [
      "\u001b[1mRows: \u001b[22m\u001b[34m156780\u001b[39m \u001b[1mColumns: \u001b[22m\u001b[34m14\u001b[39m\n",
      "\u001b[36m──\u001b[39m \u001b[1mColumn specification\u001b[22m \u001b[36m────────────────────────────────────────────────────────────────\u001b[39m\n",
      "\u001b[1mDelimiter:\u001b[22m \",\"\n",
      "\u001b[31mchr\u001b[39m (2): Run_ID, Part\n",
      "\u001b[32mint\u001b[39m (2): Proximity, n_candidates\n",
      "\u001b[33mlgl\u001b[39m (1): Accuracy\n",
      "\u001b[31mfct\u001b[39m (9): Stimulus_ID, Prompt_ID, Participant_ID, Group, GroupKind, Angle, Ac...\n",
      "\n",
      "\u001b[36mℹ\u001b[39m Use `spec()` to retrieve the full column specification for this data.\n",
      "\u001b[36mℹ\u001b[39m Specify the column types or set `show_col_types = FALSE` to quiet this message.\n"
     ]
    }
   ],
   "source": [
    "options(warn=1)\n",
    "if(!require('lme4')) {\n",
    "    install.packages('lme4', repos='https://cloud.r-project.org')\n",
    "    library('lme4')\n",
    "}\n",
    "if(!require('readr')) {\n",
    "    install.packages('readr', repos='https://cloud.r-project.org')\n",
    "    library('readr')\n",
    "}\n",
    "if(!require('marginaleffects')) {\n",
    "    install.packages('marginaleffects', repos='https://cloud.r-project.org')\n",
    "    library('marginaleffects')\n",
    "}\n",
    "if(!require('emmeans')) {\n",
    "    install.packages('emmeans', repos='https://cloud.r-project.org')\n",
    "    library('emmeans')\n",
    "}\n",
    "df <- read_csv(\"gaze-analysis/result_1743457603_20250506_20250506F.csv\", na = \"empty\", col_select = c(\"Accuracy\", \"Group\", \"GroupKind\", \"Angle\", \"Proximity\", \"n_candidates\", \"Actor\", \"Candidates\", \"Stimulus_ID\", \"Prompt_ID\", \"Participant_ID\", \"list_id\", \"Run_ID\", \"Part\"), col_types = cols(\n",
    "    Accuracy = col_logical(),\n",
    "    Group = col_factor(),\n",
    "    GroupKind = col_factor(),\n",
    "    Angle = col_factor(),\n",
    "    Proximity = col_integer(),\n",
    "    n_candidates = col_integer(),\n",
    "    Actor = col_factor(c('X', 'Y')),\n",
    "    Candidates = col_factor(),\n",
    "    Stimulus_ID = col_factor(),\n",
    "    Prompt_ID = col_factor(),\n",
    "    Participant_ID = col_factor(),\n",
    "    list_id = col_factor(),\n",
    "    Run_ID = col_character(),\n",
    "    Part = col_character(),\n",
    "),show_col_types = TRUE)\n",
    "df <- df[df$Group == \"gemini-1.5-pro\" & df$list_id != -1 & df$Part != \"p0\", ]\n",
    "df$offset <- log(1/df$n_candidates / (1 - 1/df$n_candidates))\n",
    "df$Proximity <- df$Proximity - mean(df$Proximity)\n",
    "df$n_candidates <- df$n_candidates - mean(df$n_candidates)"
   ]
  },
  {
   "cell_type": "code",
   "execution_count": 5,
   "metadata": {
    "vscode": {
     "languageId": "r"
    }
   },
   "outputs": [
    {
     "name": "stderr",
     "output_type": "stream",
     "text": [
      "Warning message in checkConv(attr(opt, \"derivs\"), opt$par, ctrl = control$checkConv, :\n",
      "“Model failed to converge with max|grad| = 0.0488344 (tol = 0.002, component 1)”\n"
     ]
    }
   ],
   "source": [
    "model0 <- glmer(Accuracy ~ Angle + Proximity + n_candidates + Actor + (1|Actor:Candidates) + (1|Stimulus_ID) + (1|Prompt_ID), \n",
    "               data = df,\n",
    "               family = binomial(link = \"logit\"), \n",
    "               offset = offset)"
   ]
  },
  {
   "cell_type": "code",
   "execution_count": 6,
   "metadata": {
    "vscode": {
     "languageId": "r"
    }
   },
   "outputs": [],
   "source": [
    "model1 <- glmer(Accuracy ~ Angle + Proximity + n_candidates + Actor + (1|Stimulus_ID) + (1|Prompt_ID), \n",
    "               data = df,\n",
    "               family = binomial(link = \"logit\"), \n",
    "               offset = offset)"
   ]
  },
  {
   "cell_type": "code",
   "execution_count": 7,
   "metadata": {
    "vscode": {
     "languageId": "r"
    }
   },
   "outputs": [],
   "source": [
    "model2 <- glmer(Accuracy ~ Angle + Proximity + n_candidates + Actor + (1|Actor:Candidates) + (1|Stimulus_ID), \n",
    "               data = df,\n",
    "               family = binomial(link = \"logit\"), \n",
    "               offset = offset)"
   ]
  },
  {
   "cell_type": "code",
   "execution_count": 8,
   "metadata": {
    "vscode": {
     "languageId": "r"
    }
   },
   "outputs": [],
   "source": [
    "model3 <- glmer(Accuracy ~ Angle + Proximity + n_candidates + Actor + (1|Stimulus_ID), \n",
    "               data = df,\n",
    "               family = binomial(link = \"logit\"), \n",
    "               offset = offset)"
   ]
  },
  {
   "cell_type": "code",
   "execution_count": null,
   "metadata": {
    "scrolled": false,
    "vscode": {
     "languageId": "r"
    }
   },
   "outputs": [
    {
     "data": {
      "text/html": [
       "<table class=\"dataframe\">\n",
       "<caption>A anova: 2 × 8</caption>\n",
       "<thead>\n",
       "\t<tr><th></th><th scope=col>npar</th><th scope=col>AIC</th><th scope=col>BIC</th><th scope=col>logLik</th><th scope=col>deviance</th><th scope=col>Chisq</th><th scope=col>Df</th><th scope=col>Pr(&gt;Chisq)</th></tr>\n",
       "\t<tr><th></th><th scope=col>&lt;dbl&gt;</th><th scope=col>&lt;dbl&gt;</th><th scope=col>&lt;dbl&gt;</th><th scope=col>&lt;dbl&gt;</th><th scope=col>&lt;dbl&gt;</th><th scope=col>&lt;dbl&gt;</th><th scope=col>&lt;dbl&gt;</th><th scope=col>&lt;lgl&gt;</th></tr>\n",
       "</thead>\n",
       "<tbody>\n",
       "\t<tr><th scope=row>model1</th><td>8</td><td>7011.277</td><td>7068.117</td><td>-3497.639</td><td>6995.277</td><td>NA</td><td>NA</td><td>NA</td></tr>\n",
       "\t<tr><th scope=row>model2</th><td>8</td><td>7017.500</td><td>7074.339</td><td>-3500.750</td><td>7001.500</td><td> 0</td><td> 0</td><td>NA</td></tr>\n",
       "</tbody>\n",
       "</table>\n"
      ],
      "text/latex": [
       "A anova: 2 × 8\n",
       "\\begin{tabular}{r|llllllll}\n",
       "  & npar & AIC & BIC & logLik & deviance & Chisq & Df & Pr(>Chisq)\\\\\n",
       "  & <dbl> & <dbl> & <dbl> & <dbl> & <dbl> & <dbl> & <dbl> & <lgl>\\\\\n",
       "\\hline\n",
       "\tmodel1 & 8 & 7011.277 & 7068.117 & -3497.639 & 6995.277 & NA & NA & NA\\\\\n",
       "\tmodel2 & 8 & 7017.500 & 7074.339 & -3500.750 & 7001.500 &  0 &  0 & NA\\\\\n",
       "\\end{tabular}\n"
      ],
      "text/markdown": [
       "\n",
       "A anova: 2 × 8\n",
       "\n",
       "| <!--/--> | npar &lt;dbl&gt; | AIC &lt;dbl&gt; | BIC &lt;dbl&gt; | logLik &lt;dbl&gt; | deviance &lt;dbl&gt; | Chisq &lt;dbl&gt; | Df &lt;dbl&gt; | Pr(&gt;Chisq) &lt;lgl&gt; |\n",
       "|---|---|---|---|---|---|---|---|---|\n",
       "| model1 | 8 | 7011.277 | 7068.117 | -3497.639 | 6995.277 | NA | NA | NA |\n",
       "| model2 | 8 | 7017.500 | 7074.339 | -3500.750 | 7001.500 |  0 |  0 | NA |\n",
       "\n"
      ],
      "text/plain": [
       "       npar AIC      BIC      logLik    deviance Chisq Df Pr(>Chisq)\n",
       "model1 8    7011.277 7068.117 -3497.639 6995.277 NA    NA NA        \n",
       "model2 8    7017.500 7074.339 -3500.750 7001.500  0     0 NA        "
      ]
     },
     "metadata": {},
     "output_type": "display_data"
    }
   ],
   "source": [
    "anova(model1, model2)"
   ]
  },
  {
   "cell_type": "code",
   "execution_count": 9,
   "metadata": {
    "vscode": {
     "languageId": "r"
    }
   },
   "outputs": [
    {
     "data": {
      "text/html": [
       "<table class=\"dataframe\">\n",
       "<caption>A anova: 2 × 8</caption>\n",
       "<thead>\n",
       "\t<tr><th></th><th scope=col>npar</th><th scope=col>AIC</th><th scope=col>BIC</th><th scope=col>logLik</th><th scope=col>deviance</th><th scope=col>Chisq</th><th scope=col>Df</th><th scope=col>Pr(&gt;Chisq)</th></tr>\n",
       "\t<tr><th></th><th scope=col>&lt;dbl&gt;</th><th scope=col>&lt;dbl&gt;</th><th scope=col>&lt;dbl&gt;</th><th scope=col>&lt;dbl&gt;</th><th scope=col>&lt;dbl&gt;</th><th scope=col>&lt;dbl&gt;</th><th scope=col>&lt;dbl&gt;</th><th scope=col>&lt;dbl&gt;</th></tr>\n",
       "</thead>\n",
       "<tbody>\n",
       "\t<tr><th scope=row>model3</th><td>7</td><td>7015.499</td><td>7065.234</td><td>-3500.750</td><td>7001.499</td><td>      NA</td><td>NA</td><td>        NA</td></tr>\n",
       "\t<tr><th scope=row>model1</th><td>8</td><td>7011.277</td><td>7068.117</td><td>-3497.639</td><td>6995.277</td><td>6.222326</td><td> 1</td><td>0.01261493</td></tr>\n",
       "</tbody>\n",
       "</table>\n"
      ],
      "text/latex": [
       "A anova: 2 × 8\n",
       "\\begin{tabular}{r|llllllll}\n",
       "  & npar & AIC & BIC & logLik & deviance & Chisq & Df & Pr(>Chisq)\\\\\n",
       "  & <dbl> & <dbl> & <dbl> & <dbl> & <dbl> & <dbl> & <dbl> & <dbl>\\\\\n",
       "\\hline\n",
       "\tmodel3 & 7 & 7015.499 & 7065.234 & -3500.750 & 7001.499 &       NA & NA &         NA\\\\\n",
       "\tmodel1 & 8 & 7011.277 & 7068.117 & -3497.639 & 6995.277 & 6.222326 &  1 & 0.01261493\\\\\n",
       "\\end{tabular}\n"
      ],
      "text/markdown": [
       "\n",
       "A anova: 2 × 8\n",
       "\n",
       "| <!--/--> | npar &lt;dbl&gt; | AIC &lt;dbl&gt; | BIC &lt;dbl&gt; | logLik &lt;dbl&gt; | deviance &lt;dbl&gt; | Chisq &lt;dbl&gt; | Df &lt;dbl&gt; | Pr(&gt;Chisq) &lt;dbl&gt; |\n",
       "|---|---|---|---|---|---|---|---|---|\n",
       "| model3 | 7 | 7015.499 | 7065.234 | -3500.750 | 7001.499 |       NA | NA |         NA |\n",
       "| model1 | 8 | 7011.277 | 7068.117 | -3497.639 | 6995.277 | 6.222326 |  1 | 0.01261493 |\n",
       "\n"
      ],
      "text/plain": [
       "       npar AIC      BIC      logLik    deviance Chisq    Df Pr(>Chisq)\n",
       "model3 7    7015.499 7065.234 -3500.750 7001.499       NA NA         NA\n",
       "model1 8    7011.277 7068.117 -3497.639 6995.277 6.222326  1 0.01261493"
      ]
     },
     "metadata": {},
     "output_type": "display_data"
    }
   ],
   "source": [
    "anova(model1, model3)"
   ]
  },
  {
   "cell_type": "code",
   "execution_count": null,
   "metadata": {
    "vscode": {
     "languageId": "r"
    }
   },
   "outputs": [],
   "source": [
    "model <- model1"
   ]
  },
  {
   "cell_type": "code",
   "execution_count": null,
   "metadata": {
    "vscode": {
     "languageId": "r"
    }
   },
   "outputs": [
    {
     "data": {
      "text/plain": [
       "Generalized linear mixed model fit by maximum likelihood (Laplace\n",
       "  Approximation) [glmerMod]\n",
       " Family: binomial  ( logit )\n",
       "Formula: \n",
       "Accuracy ~ Angle + Proximity + n_candidates + Actor + (1 | Stimulus_ID) +  \n",
       "    (1 | Prompt_ID)\n",
       "   Data: df\n",
       " Offset: offset\n",
       "\n",
       "     AIC      BIC   logLik deviance df.resid \n",
       "  7011.3   7068.1  -3497.6   6995.3     8992 \n",
       "\n",
       "Scaled residuals: \n",
       "    Min      1Q  Median      3Q     Max \n",
       "-3.1910 -0.1774 -0.0992  0.1699  3.1835 \n",
       "\n",
       "Random effects:\n",
       " Groups      Name        Variance Std.Dev.\n",
       " Stimulus_ID (Intercept) 16.34973 4.043   \n",
       " Prompt_ID   (Intercept)  0.02464 0.157   \n",
       "Number of obs: 9000, groups:  Stimulus_ID, 900; Prompt_ID, 12\n",
       "\n",
       "Fixed effects:\n",
       "             Estimate Std. Error z value Pr(>|z|)    \n",
       "(Intercept)    0.5441     0.3072   1.771 0.076559 .  \n",
       "Angleleft     -0.4442     0.3813  -1.165 0.244009    \n",
       "Angleright    -0.2524     0.3825  -0.660 0.509341    \n",
       "Proximity     -0.7219     0.1930  -3.741 0.000184 ***\n",
       "n_candidates  -0.9059     0.2077  -4.362 1.29e-05 ***\n",
       "ActorY        -0.1659     0.3146  -0.527 0.597865    \n",
       "---\n",
       "Signif. codes:  0 ‘***’ 0.001 ‘**’ 0.01 ‘*’ 0.05 ‘.’ 0.1 ‘ ’ 1\n",
       "\n",
       "Correlation of Fixed Effects:\n",
       "            (Intr) Angllf Anglrg Prxmty n_cndd\n",
       "Angleleft   -0.618                            \n",
       "Angleright  -0.613  0.505                     \n",
       "Proximity    0.005  0.003 -0.011              \n",
       "n_candidats  0.071 -0.002 -0.023  0.057       \n",
       "ActorY      -0.446 -0.023 -0.030 -0.001 -0.108"
      ]
     },
     "metadata": {},
     "output_type": "display_data"
    }
   ],
   "source": [
    "summary(model)"
   ]
  },
  {
   "cell_type": "code",
   "execution_count": null,
   "metadata": {
    "vscode": {
     "languageId": "r"
    }
   },
   "outputs": [
    {
     "name": "stdout",
     "output_type": "stream",
     "text": [
      " Angle emmean    SE  df asymp.LCL asymp.UCL\n",
      " front  0.111 0.276 Inf    -0.430     0.651\n",
      " left  -0.333 0.272 Inf    -0.866     0.200\n",
      " right -0.142 0.273 Inf    -0.677     0.394\n",
      "\n",
      "Results are averaged over the levels of: Actor \n",
      "Results are given on the logit (not the response) scale. \n",
      "Confidence level used: 0.95 \n"
     ]
    },
    {
     "data": {
      "text/plain": [
       " contrast      estimate    SE  df z.ratio p.value\n",
       " front - left     0.444 0.381 Inf   1.165  0.4742\n",
       " front - right    0.252 0.382 Inf   0.660  0.7868\n",
       " left - right    -0.192 0.380 Inf  -0.505  0.8689\n",
       "\n",
       "Results are averaged over the levels of: Actor \n",
       "Results are given on the log odds ratio (not the response) scale. \n",
       "P value adjustment: tukey method for comparing a family of 3 estimates "
      ]
     },
     "metadata": {},
     "output_type": "display_data"
    },
    {
     "name": "stdout",
     "output_type": "stream",
     "text": [
      " Angle  prob     SE  df asymp.LCL asymp.UCL\n",
      " front 0.528 0.0686 Inf     0.393     0.662\n",
      " left  0.418 0.0660 Inf     0.288     0.547\n",
      " right 0.465 0.0678 Inf     0.332     0.598\n",
      "\n",
      "Results are averaged over the levels of: Actor \n",
      "Confidence level used: 0.95 \n"
     ]
    },
    {
     "data": {
      "text/plain": [
       " contrast      estimate     SE  df z.ratio p.value\n",
       " front - left    0.1101 0.0938 Inf   1.174  0.4688\n",
       " front - right   0.0629 0.0951 Inf   0.662  0.7858\n",
       " left - right   -0.0472 0.0933 Inf  -0.506  0.8686\n",
       "\n",
       "Results are averaged over the levels of: Actor \n",
       "P value adjustment: tukey method for comparing a family of 3 estimates "
      ]
     },
     "metadata": {},
     "output_type": "display_data"
    },
    {
     "data": {
      "text/html": [
       "<table class=\"dataframe\">\n",
       "<caption>A data.frame: 6 × 7</caption>\n",
       "<thead>\n",
       "\t<tr><th scope=col>term</th><th scope=col>Estimate</th><th scope=col>Std. Error</th><th scope=col>z value</th><th scope=col>Pr(&gt;|z|)</th><th scope=col>effect_size_denom</th><th scope=col>effect_size</th></tr>\n",
       "\t<tr><th scope=col>&lt;chr&gt;</th><th scope=col>&lt;dbl&gt;</th><th scope=col>&lt;dbl&gt;</th><th scope=col>&lt;dbl&gt;</th><th scope=col>&lt;dbl&gt;</th><th scope=col>&lt;dbl&gt;</th><th scope=col>&lt;dbl&gt;</th></tr>\n",
       "</thead>\n",
       "<tbody>\n",
       "\t<tr><td>(Intercept) </td><td> 0.5441380</td><td>0.3072468</td><td> 1.7710128</td><td>7.655858e-02</td><td>4.434438</td><td> 0.12270733</td></tr>\n",
       "\t<tr><td>Angleleft   </td><td>-0.4442305</td><td>0.3813060</td><td>-1.1650237</td><td>2.440094e-01</td><td>4.434438</td><td>-0.10017742</td></tr>\n",
       "\t<tr><td>Angleright  </td><td>-0.2523914</td><td>0.3824899</td><td>-0.6598642</td><td>5.093410e-01</td><td>4.434438</td><td>-0.05691622</td></tr>\n",
       "\t<tr><td>Proximity   </td><td>-0.7219165</td><td>0.1929979</td><td>-3.7405405</td><td>1.836249e-04</td><td>4.434438</td><td>-0.16279775</td></tr>\n",
       "\t<tr><td>n_candidates</td><td>-0.9059379</td><td>0.2076662</td><td>-4.3624708</td><td>1.286017e-05</td><td>4.434438</td><td>-0.20429602</td></tr>\n",
       "\t<tr><td>ActorY      </td><td>-0.1659441</td><td>0.3146023</td><td>-0.5274727</td><td>5.978654e-01</td><td>4.434438</td><td>-0.03742169</td></tr>\n",
       "</tbody>\n",
       "</table>\n"
      ],
      "text/latex": [
       "A data.frame: 6 × 7\n",
       "\\begin{tabular}{lllllll}\n",
       " term & Estimate & Std. Error & z value & Pr(>\\textbar{}z\\textbar{}) & effect\\_size\\_denom & effect\\_size\\\\\n",
       " <chr> & <dbl> & <dbl> & <dbl> & <dbl> & <dbl> & <dbl>\\\\\n",
       "\\hline\n",
       "\t (Intercept)  &  0.5441380 & 0.3072468 &  1.7710128 & 7.655858e-02 & 4.434438 &  0.12270733\\\\\n",
       "\t Angleleft    & -0.4442305 & 0.3813060 & -1.1650237 & 2.440094e-01 & 4.434438 & -0.10017742\\\\\n",
       "\t Angleright   & -0.2523914 & 0.3824899 & -0.6598642 & 5.093410e-01 & 4.434438 & -0.05691622\\\\\n",
       "\t Proximity    & -0.7219165 & 0.1929979 & -3.7405405 & 1.836249e-04 & 4.434438 & -0.16279775\\\\\n",
       "\t n\\_candidates & -0.9059379 & 0.2076662 & -4.3624708 & 1.286017e-05 & 4.434438 & -0.20429602\\\\\n",
       "\t ActorY       & -0.1659441 & 0.3146023 & -0.5274727 & 5.978654e-01 & 4.434438 & -0.03742169\\\\\n",
       "\\end{tabular}\n"
      ],
      "text/markdown": [
       "\n",
       "A data.frame: 6 × 7\n",
       "\n",
       "| term &lt;chr&gt; | Estimate &lt;dbl&gt; | Std. Error &lt;dbl&gt; | z value &lt;dbl&gt; | Pr(&gt;|z|) &lt;dbl&gt; | effect_size_denom &lt;dbl&gt; | effect_size &lt;dbl&gt; |\n",
       "|---|---|---|---|---|---|---|\n",
       "| (Intercept)  |  0.5441380 | 0.3072468 |  1.7710128 | 7.655858e-02 | 4.434438 |  0.12270733 |\n",
       "| Angleleft    | -0.4442305 | 0.3813060 | -1.1650237 | 2.440094e-01 | 4.434438 | -0.10017742 |\n",
       "| Angleright   | -0.2523914 | 0.3824899 | -0.6598642 | 5.093410e-01 | 4.434438 | -0.05691622 |\n",
       "| Proximity    | -0.7219165 | 0.1929979 | -3.7405405 | 1.836249e-04 | 4.434438 | -0.16279775 |\n",
       "| n_candidates | -0.9059379 | 0.2076662 | -4.3624708 | 1.286017e-05 | 4.434438 | -0.20429602 |\n",
       "| ActorY       | -0.1659441 | 0.3146023 | -0.5274727 | 5.978654e-01 | 4.434438 | -0.03742169 |\n",
       "\n"
      ],
      "text/plain": [
       "  term         Estimate   Std. Error z value    Pr(>|z|)     effect_size_denom\n",
       "1 (Intercept)   0.5441380 0.3072468   1.7710128 7.655858e-02 4.434438         \n",
       "2 Angleleft    -0.4442305 0.3813060  -1.1650237 2.440094e-01 4.434438         \n",
       "3 Angleright   -0.2523914 0.3824899  -0.6598642 5.093410e-01 4.434438         \n",
       "4 Proximity    -0.7219165 0.1929979  -3.7405405 1.836249e-04 4.434438         \n",
       "5 n_candidates -0.9059379 0.2076662  -4.3624708 1.286017e-05 4.434438         \n",
       "6 ActorY       -0.1659441 0.3146023  -0.5274727 5.978654e-01 4.434438         \n",
       "  effect_size\n",
       "1  0.12270733\n",
       "2 -0.10017742\n",
       "3 -0.05691622\n",
       "4 -0.16279775\n",
       "5 -0.20429602\n",
       "6 -0.03742169"
      ]
     },
     "metadata": {},
     "output_type": "display_data"
    }
   ],
   "source": [
    "log_odds_means <- emmeans(model, spec = \"Angle\")\n",
    "print(log_odds_means)\n",
    "pairs(log_odds_means)\n",
    "log_odds_means <- emmeans(model, spec = \"Angle\", regrid = \"response\")\n",
    "print(log_odds_means)\n",
    "pairs(log_odds_means)\n",
    "               \n",
    "vc_list <- lapply(VarCorr(model), function(x) attr(x, \"stddev\")^2)\n",
    "vc <- sum(unlist(vc_list))\n",
    "effect_size_denom_t <- sqrt(vc + pi^2/3)\n",
    "\n",
    "res <- summary(model)$coefficients\n",
    "res <- as.data.frame(res)\n",
    "res <- cbind(term = rownames(res), res)\n",
    "rownames(res) <- NULL\n",
    "res$effect_size_denom <- effect_size_denom_t\n",
    "res$effect_size <- res$Estimate / effect_size_denom_t\n",
    "res"
   ]
  }
 ],
 "metadata": {
  "kernelspec": {
   "display_name": "R",
   "language": "R",
   "name": "ir"
  },
  "language_info": {
   "codemirror_mode": "r",
   "file_extension": ".r",
   "mimetype": "text/x-r-source",
   "name": "R",
   "pygments_lexer": "r",
   "version": "4.3.3"
  }
 },
 "nbformat": 4,
 "nbformat_minor": 2
}
