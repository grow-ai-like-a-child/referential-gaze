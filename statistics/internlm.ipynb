{
 "cells": [
  {
   "cell_type": "markdown",
   "metadata": {},
   "source": [
    "# Loading Responses"
   ]
  },
  {
   "cell_type": "code",
   "execution_count": 1,
   "metadata": {
    "vscode": {
     "languageId": "r"
    }
   },
   "outputs": [
    {
     "name": "stderr",
     "output_type": "stream",
     "text": [
      "Loading required package: lme4\n",
      "\n",
      "Loading required package: Matrix\n",
      "\n",
      "Loading required package: readr\n",
      "\n",
      "Loading required package: marginaleffects\n",
      "\n",
      "Loading required package: emmeans\n",
      "\n",
      "Welcome to emmeans.\n",
      "Caution: You lose important information if you filter this package's results.\n",
      "See '? untidy'\n",
      "\n",
      "Loading required package: car\n",
      "\n",
      "Loading required package: carData\n",
      "\n",
      "\u001b[1mRows: \u001b[22m\u001b[34m156780\u001b[39m \u001b[1mColumns: \u001b[22m\u001b[34m14\u001b[39m\n",
      "\u001b[36m──\u001b[39m \u001b[1mColumn specification\u001b[22m \u001b[36m────────────────────────────────────────────────────────────────\u001b[39m\n",
      "\u001b[1mDelimiter:\u001b[22m \",\"\n",
      "\u001b[31mchr\u001b[39m (2): Run_ID, Part\n",
      "\u001b[32mint\u001b[39m (2): Proximity, n_candidates\n",
      "\u001b[33mlgl\u001b[39m (1): Accuracy\n",
      "\u001b[31mfct\u001b[39m (9): Stimulus_ID, Prompt_ID, Participant_ID, Group, GroupKind, Angle, Ac...\n",
      "\n",
      "\u001b[36mℹ\u001b[39m Use `spec()` to retrieve the full column specification for this data.\n",
      "\u001b[36mℹ\u001b[39m Specify the column types or set `show_col_types = FALSE` to quiet this message.\n"
     ]
    }
   ],
   "source": [
    "options(warn=1)\n",
    "if(!require('lme4')) {\n",
    "    install.packages('lme4', repos='https://cloud.r-project.org')\n",
    "    library('lme4')\n",
    "}\n",
    "if(!require('readr')) {\n",
    "    install.packages('readr', repos='https://cloud.r-project.org')\n",
    "    library('readr')\n",
    "}\n",
    "if(!require('marginaleffects')) {\n",
    "    install.packages('marginaleffects', repos='https://cloud.r-project.org')\n",
    "    library('marginaleffects')\n",
    "}\n",
    "if(!require('emmeans')) {\n",
    "    install.packages('emmeans', repos='https://cloud.r-project.org')\n",
    "    library('emmeans')\n",
    "}\n",
    "if(!require('car')) {\n",
    "    install.packages('car', repos='https://cloud.r-project.org')\n",
    "    library('car')\n",
    "}\n",
    "df <- read_csv(\"gaze-analysis/result_1743457603_20250506_20250506F.csv\", na = \"empty\", col_select = c(\"Accuracy\", \"Group\", \"GroupKind\", \"Angle\", \"Proximity\", \"n_candidates\", \"Actor\", \"Candidates\", \"Stimulus_ID\", \"Prompt_ID\", \"Participant_ID\", \"list_id\", \"Run_ID\", \"Part\"), col_types = cols(\n",
    "    Accuracy = col_logical(),\n",
    "    Group = col_factor(),\n",
    "    GroupKind = col_factor(),\n",
    "    Angle = col_factor(),\n",
    "    Proximity = col_integer(),\n",
    "    n_candidates = col_integer(),\n",
    "    Actor = col_factor(c('X', 'Y')),\n",
    "    Candidates = col_factor(),\n",
    "    Stimulus_ID = col_factor(),\n",
    "    Prompt_ID = col_factor(),\n",
    "    Participant_ID = col_factor(),\n",
    "    list_id = col_factor(),\n",
    "    Run_ID = col_character(),\n",
    "    Part = col_character(),\n",
    "),show_col_types = TRUE)\n",
    "df <- df[df$Group == \"internlm-xcomposer2-vl-7b\" & df$list_id != -1 & df$Part != \"p0\", ]\n",
    "df$offset <- log(1/df$n_candidates / (1 - 1/df$n_candidates))\n",
    "df$Proximity <- df$Proximity - mean(df$Proximity)\n",
    "df$n_candidates <- df$n_candidates - mean(df$n_candidates)"
   ]
  },
  {
   "cell_type": "markdown",
   "metadata": {},
   "source": [
    "# Fitting models"
   ]
  },
  {
   "cell_type": "code",
   "execution_count": 2,
   "metadata": {
    "vscode": {
     "languageId": "r"
    }
   },
   "outputs": [
    {
     "name": "stderr",
     "output_type": "stream",
     "text": [
      "Warning message in checkConv(attr(opt, \"derivs\"), opt$par, ctrl = control$checkConv, :\n",
      "“Model failed to converge with max|grad| = 0.00645188 (tol = 0.002, component 1)”\n"
     ]
    }
   ],
   "source": [
    "model0 <- glmer(Accuracy ~ Angle + Proximity + n_candidates + Actor + (1|Actor:Candidates) + (1|Stimulus_ID) + (1|Prompt_ID), \n",
    "               data = df,\n",
    "               family = binomial(link = \"logit\"), \n",
    "               offset = offset)"
   ]
  },
  {
   "cell_type": "code",
   "execution_count": 3,
   "metadata": {
    "vscode": {
     "languageId": "r"
    }
   },
   "outputs": [],
   "source": [
    "model1 <- glmer(Accuracy ~ Angle + Proximity + n_candidates + Actor + (1|Stimulus_ID) + (1|Prompt_ID), \n",
    "               data = df,\n",
    "               family = binomial(link = \"logit\"), \n",
    "               offset = offset)"
   ]
  },
  {
   "cell_type": "code",
   "execution_count": 4,
   "metadata": {
    "vscode": {
     "languageId": "r"
    }
   },
   "outputs": [
    {
     "name": "stderr",
     "output_type": "stream",
     "text": [
      "boundary (singular) fit: see help('isSingular')\n",
      "\n"
     ]
    }
   ],
   "source": [
    "model2 <- glmer(Accuracy ~ Angle + Proximity + n_candidates + Actor + (1|Actor:Candidates) + (1|Stimulus_ID), \n",
    "               data = df,\n",
    "               family = binomial(link = \"logit\"), \n",
    "               offset = offset)"
   ]
  },
  {
   "cell_type": "code",
   "execution_count": 5,
   "metadata": {
    "vscode": {
     "languageId": "r"
    }
   },
   "outputs": [],
   "source": [
    "model3 <- glmer(Accuracy ~ Angle + Proximity + n_candidates + Actor + (1|Stimulus_ID), \n",
    "               data = df,\n",
    "               family = binomial(link = \"logit\"), \n",
    "               offset = offset)"
   ]
  },
  {
   "cell_type": "markdown",
   "metadata": {},
   "source": [
    "# Model selection"
   ]
  },
  {
   "cell_type": "code",
   "execution_count": 6,
   "metadata": {
    "vscode": {
     "languageId": "r"
    }
   },
   "outputs": [
    {
     "data": {
      "text/html": [
       "<table class=\"dataframe\">\n",
       "<caption>A anova: 2 × 8</caption>\n",
       "<thead>\n",
       "\t<tr><th></th><th scope=col>npar</th><th scope=col>AIC</th><th scope=col>BIC</th><th scope=col>logLik</th><th scope=col>deviance</th><th scope=col>Chisq</th><th scope=col>Df</th><th scope=col>Pr(&gt;Chisq)</th></tr>\n",
       "\t<tr><th></th><th scope=col>&lt;dbl&gt;</th><th scope=col>&lt;dbl&gt;</th><th scope=col>&lt;dbl&gt;</th><th scope=col>&lt;dbl&gt;</th><th scope=col>&lt;dbl&gt;</th><th scope=col>&lt;dbl&gt;</th><th scope=col>&lt;dbl&gt;</th><th scope=col>&lt;dbl&gt;</th></tr>\n",
       "</thead>\n",
       "<tbody>\n",
       "\t<tr><th scope=row>model3</th><td>7</td><td>5739.069</td><td>5788.803</td><td>-2862.534</td><td>5725.069</td><td>     NA</td><td>NA</td><td>       NA</td></tr>\n",
       "\t<tr><th scope=row>model1</th><td>8</td><td>5739.471</td><td>5796.311</td><td>-2861.736</td><td>5723.471</td><td>1.59716</td><td> 1</td><td>0.2063062</td></tr>\n",
       "</tbody>\n",
       "</table>\n"
      ],
      "text/latex": [
       "A anova: 2 × 8\n",
       "\\begin{tabular}{r|llllllll}\n",
       "  & npar & AIC & BIC & logLik & deviance & Chisq & Df & Pr(>Chisq)\\\\\n",
       "  & <dbl> & <dbl> & <dbl> & <dbl> & <dbl> & <dbl> & <dbl> & <dbl>\\\\\n",
       "\\hline\n",
       "\tmodel3 & 7 & 5739.069 & 5788.803 & -2862.534 & 5725.069 &      NA & NA &        NA\\\\\n",
       "\tmodel1 & 8 & 5739.471 & 5796.311 & -2861.736 & 5723.471 & 1.59716 &  1 & 0.2063062\\\\\n",
       "\\end{tabular}\n"
      ],
      "text/markdown": [
       "\n",
       "A anova: 2 × 8\n",
       "\n",
       "| <!--/--> | npar &lt;dbl&gt; | AIC &lt;dbl&gt; | BIC &lt;dbl&gt; | logLik &lt;dbl&gt; | deviance &lt;dbl&gt; | Chisq &lt;dbl&gt; | Df &lt;dbl&gt; | Pr(&gt;Chisq) &lt;dbl&gt; |\n",
       "|---|---|---|---|---|---|---|---|---|\n",
       "| model3 | 7 | 5739.069 | 5788.803 | -2862.534 | 5725.069 |      NA | NA |        NA |\n",
       "| model1 | 8 | 5739.471 | 5796.311 | -2861.736 | 5723.471 | 1.59716 |  1 | 0.2063062 |\n",
       "\n"
      ],
      "text/plain": [
       "       npar AIC      BIC      logLik    deviance Chisq   Df Pr(>Chisq)\n",
       "model3 7    5739.069 5788.803 -2862.534 5725.069      NA NA        NA \n",
       "model1 8    5739.471 5796.311 -2861.736 5723.471 1.59716  1 0.2063062 "
      ]
     },
     "metadata": {},
     "output_type": "display_data"
    }
   ],
   "source": [
    "anova(model1, model3)"
   ]
  },
  {
   "cell_type": "code",
   "execution_count": 7,
   "metadata": {
    "vscode": {
     "languageId": "r"
    }
   },
   "outputs": [],
   "source": [
    "model <- model3"
   ]
  },
  {
   "cell_type": "markdown",
   "metadata": {},
   "source": [
    "# Interpretation"
   ]
  },
  {
   "cell_type": "code",
   "execution_count": 8,
   "metadata": {
    "vscode": {
     "languageId": "r"
    }
   },
   "outputs": [
    {
     "data": {
      "text/plain": [
       "Generalized linear mixed model fit by maximum likelihood (Laplace\n",
       "  Approximation) [glmerMod]\n",
       " Family: binomial  ( logit )\n",
       "Formula: \n",
       "Accuracy ~ Angle + Proximity + n_candidates + Actor + (1 | Stimulus_ID)\n",
       "   Data: df\n",
       " Offset: offset\n",
       "\n",
       "     AIC      BIC   logLik deviance df.resid \n",
       "  5739.1   5788.8  -2862.5   5725.1     8993 \n",
       "\n",
       "Scaled residuals: \n",
       "     Min       1Q   Median       3Q      Max \n",
       "-2.99537 -0.12875 -0.05732  0.12649  3.10520 \n",
       "\n",
       "Random effects:\n",
       " Groups      Name        Variance Std.Dev.\n",
       " Stimulus_ID (Intercept) 30.02    5.479   \n",
       "Number of obs: 9000, groups:  Stimulus_ID, 900\n",
       "\n",
       "Fixed effects:\n",
       "             Estimate Std. Error z value Pr(>|z|)    \n",
       "(Intercept)    0.2368     0.4317   0.548   0.5834    \n",
       "Angleleft      0.1730     0.5482   0.316   0.7523    \n",
       "Angleright     0.2448     0.5482   0.447   0.6552    \n",
       "Proximity     -0.6574     0.2776  -2.368   0.0179 *  \n",
       "n_candidates  -1.6443     0.3313  -4.963 6.93e-07 ***\n",
       "ActorY        -1.1439     0.4663  -2.453   0.0142 *  \n",
       "---\n",
       "Signif. codes:  0 ‘***’ 0.001 ‘**’ 0.01 ‘*’ 0.05 ‘.’ 0.1 ‘ ’ 1\n",
       "\n",
       "Correlation of Fixed Effects:\n",
       "            (Intr) Angllf Anglrg Prxmty n_cndd\n",
       "Angleleft   -0.615                            \n",
       "Angleright  -0.624  0.485                     \n",
       "Proximity   -0.036  0.019  0.037              \n",
       "n_candidats  0.030 -0.006 -0.021  0.061       \n",
       "ActorY      -0.458 -0.003  0.015  0.036  0.073"
      ]
     },
     "metadata": {},
     "output_type": "display_data"
    }
   ],
   "source": [
    "summary(model)"
   ]
  },
  {
   "cell_type": "code",
   "execution_count": 9,
   "metadata": {
    "vscode": {
     "languageId": "r"
    }
   },
   "outputs": [
    {
     "name": "stdout",
     "output_type": "stream",
     "text": [
      " Angle emmean    SE  df asymp.LCL asymp.UCL\n",
      " front -0.685 0.385 Inf     -1.44    0.0701\n",
      " left  -0.512 0.397 Inf     -1.29    0.2651\n",
      " right -0.441 0.397 Inf     -1.22    0.3370\n",
      "\n",
      "Results are averaged over the levels of: Actor \n",
      "Results are given on the logit (not the response) scale. \n",
      "Confidence level used: 0.95 \n"
     ]
    },
    {
     "data": {
      "text/plain": [
       " contrast      estimate    SE  df z.ratio p.value\n",
       " front - left   -0.1730 0.548 Inf  -0.316  0.9466\n",
       " front - right  -0.2448 0.548 Inf  -0.447  0.8959\n",
       " left - right   -0.0718 0.557 Inf  -0.129  0.9909\n",
       "\n",
       "Results are averaged over the levels of: Actor \n",
       "Results are given on the log odds ratio (not the response) scale. \n",
       "P value adjustment: tukey method for comparing a family of 3 estimates "
      ]
     },
     "metadata": {},
     "output_type": "display_data"
    },
    {
     "name": "stdout",
     "output_type": "stream",
     "text": [
      " Angle  prob     SE  df asymp.LCL asymp.UCL\n",
      " front 0.347 0.0809 Inf     0.188     0.505\n",
      " left  0.384 0.0867 Inf     0.214     0.554\n",
      " right 0.400 0.0877 Inf     0.228     0.571\n",
      "\n",
      "Results are averaged over the levels of: Actor \n",
      "Confidence level used: 0.95 \n"
     ]
    },
    {
     "data": {
      "text/plain": [
       " contrast      estimate    SE  df z.ratio p.value\n",
       " front - left   -0.0372 0.118 Inf  -0.316  0.9466\n",
       " front - right  -0.0531 0.119 Inf  -0.447  0.8959\n",
       " left - right   -0.0159 0.123 Inf  -0.129  0.9909\n",
       "\n",
       "Results are averaged over the levels of: Actor \n",
       "P value adjustment: tukey method for comparing a family of 3 estimates "
      ]
     },
     "metadata": {},
     "output_type": "display_data"
    },
    {
     "data": {
      "text/html": [
       "<table class=\"dataframe\">\n",
       "<caption>A data.frame: 6 × 7</caption>\n",
       "<thead>\n",
       "\t<tr><th scope=col>term</th><th scope=col>Estimate</th><th scope=col>Std. Error</th><th scope=col>z value</th><th scope=col>Pr(&gt;|z|)</th><th scope=col>effect_size_denom</th><th scope=col>effect_size</th></tr>\n",
       "\t<tr><th scope=col>&lt;chr&gt;</th><th scope=col>&lt;dbl&gt;</th><th scope=col>&lt;dbl&gt;</th><th scope=col>&lt;dbl&gt;</th><th scope=col>&lt;dbl&gt;</th><th scope=col>&lt;dbl&gt;</th><th scope=col>&lt;dbl&gt;</th></tr>\n",
       "</thead>\n",
       "<tbody>\n",
       "\t<tr><td>(Intercept) </td><td> 0.2367750</td><td>0.4317159</td><td> 0.5484509</td><td>5.833823e-01</td><td>5.771574</td><td> 0.04102434</td></tr>\n",
       "\t<tr><td>Angleleft   </td><td> 0.1730034</td><td>0.5481663</td><td> 0.3156039</td><td>7.523032e-01</td><td>5.771574</td><td> 0.02997508</td></tr>\n",
       "\t<tr><td>Angleright  </td><td> 0.2448312</td><td>0.5482314</td><td> 0.4465836</td><td>6.551757e-01</td><td>5.771574</td><td> 0.04242018</td></tr>\n",
       "\t<tr><td>Proximity   </td><td>-0.6573970</td><td>0.2776101</td><td>-2.3680590</td><td>1.788168e-02</td><td>5.771574</td><td>-0.11390255</td></tr>\n",
       "\t<tr><td>n_candidates</td><td>-1.6442912</td><td>0.3312829</td><td>-4.9634055</td><td>6.926775e-07</td><td>5.771574</td><td>-0.28489476</td></tr>\n",
       "\t<tr><td>ActorY      </td><td>-1.1438885</td><td>0.4663476</td><td>-2.4528665</td><td>1.417229e-02</td><td>5.771574</td><td>-0.19819350</td></tr>\n",
       "</tbody>\n",
       "</table>\n"
      ],
      "text/latex": [
       "A data.frame: 6 × 7\n",
       "\\begin{tabular}{lllllll}\n",
       " term & Estimate & Std. Error & z value & Pr(>\\textbar{}z\\textbar{}) & effect\\_size\\_denom & effect\\_size\\\\\n",
       " <chr> & <dbl> & <dbl> & <dbl> & <dbl> & <dbl> & <dbl>\\\\\n",
       "\\hline\n",
       "\t (Intercept)  &  0.2367750 & 0.4317159 &  0.5484509 & 5.833823e-01 & 5.771574 &  0.04102434\\\\\n",
       "\t Angleleft    &  0.1730034 & 0.5481663 &  0.3156039 & 7.523032e-01 & 5.771574 &  0.02997508\\\\\n",
       "\t Angleright   &  0.2448312 & 0.5482314 &  0.4465836 & 6.551757e-01 & 5.771574 &  0.04242018\\\\\n",
       "\t Proximity    & -0.6573970 & 0.2776101 & -2.3680590 & 1.788168e-02 & 5.771574 & -0.11390255\\\\\n",
       "\t n\\_candidates & -1.6442912 & 0.3312829 & -4.9634055 & 6.926775e-07 & 5.771574 & -0.28489476\\\\\n",
       "\t ActorY       & -1.1438885 & 0.4663476 & -2.4528665 & 1.417229e-02 & 5.771574 & -0.19819350\\\\\n",
       "\\end{tabular}\n"
      ],
      "text/markdown": [
       "\n",
       "A data.frame: 6 × 7\n",
       "\n",
       "| term &lt;chr&gt; | Estimate &lt;dbl&gt; | Std. Error &lt;dbl&gt; | z value &lt;dbl&gt; | Pr(&gt;|z|) &lt;dbl&gt; | effect_size_denom &lt;dbl&gt; | effect_size &lt;dbl&gt; |\n",
       "|---|---|---|---|---|---|---|\n",
       "| (Intercept)  |  0.2367750 | 0.4317159 |  0.5484509 | 5.833823e-01 | 5.771574 |  0.04102434 |\n",
       "| Angleleft    |  0.1730034 | 0.5481663 |  0.3156039 | 7.523032e-01 | 5.771574 |  0.02997508 |\n",
       "| Angleright   |  0.2448312 | 0.5482314 |  0.4465836 | 6.551757e-01 | 5.771574 |  0.04242018 |\n",
       "| Proximity    | -0.6573970 | 0.2776101 | -2.3680590 | 1.788168e-02 | 5.771574 | -0.11390255 |\n",
       "| n_candidates | -1.6442912 | 0.3312829 | -4.9634055 | 6.926775e-07 | 5.771574 | -0.28489476 |\n",
       "| ActorY       | -1.1438885 | 0.4663476 | -2.4528665 | 1.417229e-02 | 5.771574 | -0.19819350 |\n",
       "\n"
      ],
      "text/plain": [
       "  term         Estimate   Std. Error z value    Pr(>|z|)     effect_size_denom\n",
       "1 (Intercept)   0.2367750 0.4317159   0.5484509 5.833823e-01 5.771574         \n",
       "2 Angleleft     0.1730034 0.5481663   0.3156039 7.523032e-01 5.771574         \n",
       "3 Angleright    0.2448312 0.5482314   0.4465836 6.551757e-01 5.771574         \n",
       "4 Proximity    -0.6573970 0.2776101  -2.3680590 1.788168e-02 5.771574         \n",
       "5 n_candidates -1.6442912 0.3312829  -4.9634055 6.926775e-07 5.771574         \n",
       "6 ActorY       -1.1438885 0.4663476  -2.4528665 1.417229e-02 5.771574         \n",
       "  effect_size\n",
       "1  0.04102434\n",
       "2  0.02997508\n",
       "3  0.04242018\n",
       "4 -0.11390255\n",
       "5 -0.28489476\n",
       "6 -0.19819350"
      ]
     },
     "metadata": {},
     "output_type": "display_data"
    }
   ],
   "source": [
    "log_odds_means <- emmeans(model, spec = \"Angle\")\n",
    "print(log_odds_means)\n",
    "pairs(log_odds_means)\n",
    "log_odds_means <- emmeans(model, spec = \"Angle\", regrid = \"response\")\n",
    "print(log_odds_means)\n",
    "pairs(log_odds_means)\n",
    "               \n",
    "vc_list <- lapply(VarCorr(model), function(x) attr(x, \"stddev\")^2)\n",
    "vc <- sum(unlist(vc_list))\n",
    "effect_size_denom_t <- sqrt(vc + pi^2/3)\n",
    "\n",
    "res <- summary(model)$coefficients\n",
    "res <- as.data.frame(res)\n",
    "res <- cbind(term = rownames(res), res)\n",
    "rownames(res) <- NULL\n",
    "res$effect_size_denom <- effect_size_denom_t\n",
    "res$effect_size <- res$Estimate / effect_size_denom_t\n",
    "res"
   ]
  },
  {
   "cell_type": "code",
   "execution_count": null,
   "metadata": {
    "vscode": {
     "languageId": "r"
    }
   },
   "outputs": [],
   "source": []
  }
 ],
 "metadata": {
  "kernelspec": {
   "display_name": "R",
   "language": "R",
   "name": "ir"
  },
  "language_info": {
   "codemirror_mode": "r",
   "file_extension": ".r",
   "mimetype": "text/x-r-source",
   "name": "R",
   "pygments_lexer": "r",
   "version": "4.3.3"
  }
 },
 "nbformat": 4,
 "nbformat_minor": 2
}
