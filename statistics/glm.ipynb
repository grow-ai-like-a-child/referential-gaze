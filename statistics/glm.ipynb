{
 "cells": [
  {
   "cell_type": "markdown",
   "metadata": {},
   "source": [
    "# Loading Responses"
   ]
  },
  {
   "cell_type": "code",
   "execution_count": 1,
   "metadata": {
    "vscode": {
     "languageId": "r"
    }
   },
   "outputs": [
    {
     "name": "stderr",
     "output_type": "stream",
     "text": [
      "Loading required package: lme4\n",
      "\n",
      "Loading required package: Matrix\n",
      "\n",
      "Loading required package: readr\n",
      "\n",
      "Loading required package: marginaleffects\n",
      "\n",
      "Loading required package: emmeans\n",
      "\n",
      "Welcome to emmeans.\n",
      "Caution: You lose important information if you filter this package's results.\n",
      "See '? untidy'\n",
      "\n",
      "Loading required package: car\n",
      "\n",
      "Loading required package: carData\n",
      "\n",
      "\u001b[1mRows: \u001b[22m\u001b[34m156780\u001b[39m \u001b[1mColumns: \u001b[22m\u001b[34m14\u001b[39m\n",
      "\u001b[36m──\u001b[39m \u001b[1mColumn specification\u001b[22m \u001b[36m────────────────────────────────────────────────────────────────\u001b[39m\n",
      "\u001b[1mDelimiter:\u001b[22m \",\"\n",
      "\u001b[31mchr\u001b[39m (2): Run_ID, Part\n",
      "\u001b[32mint\u001b[39m (2): Proximity, n_candidates\n",
      "\u001b[33mlgl\u001b[39m (1): Accuracy\n",
      "\u001b[31mfct\u001b[39m (9): Stimulus_ID, Prompt_ID, Participant_ID, Group, GroupKind, Angle, Ac...\n",
      "\n",
      "\u001b[36mℹ\u001b[39m Use `spec()` to retrieve the full column specification for this data.\n",
      "\u001b[36mℹ\u001b[39m Specify the column types or set `show_col_types = FALSE` to quiet this message.\n"
     ]
    }
   ],
   "source": [
    "options(warn=1)\n",
    "if(!require('lme4')) {\n",
    "    install.packages('lme4', repos='https://cloud.r-project.org')\n",
    "    library('lme4')\n",
    "}\n",
    "if(!require('readr')) {\n",
    "    install.packages('readr', repos='https://cloud.r-project.org')\n",
    "    library('readr')\n",
    "}\n",
    "if(!require('marginaleffects')) {\n",
    "    install.packages('marginaleffects', repos='https://cloud.r-project.org')\n",
    "    library('marginaleffects')\n",
    "}\n",
    "if(!require('emmeans')) {\n",
    "    install.packages('emmeans', repos='https://cloud.r-project.org')\n",
    "    library('emmeans')\n",
    "}\n",
    "if(!require('car')) {\n",
    "    install.packages('car', repos='https://cloud.r-project.org')\n",
    "    library('car')\n",
    "}\n",
    "df <- read_csv(\"gaze-analysis/result_1743457603_20250506_20250506F.csv\", na = \"empty\", col_select = c(\"Accuracy\", \"Group\", \"GroupKind\", \"Angle\", \"Proximity\", \"n_candidates\", \"Actor\", \"Candidates\", \"Stimulus_ID\", \"Prompt_ID\", \"Participant_ID\", \"list_id\", \"Run_ID\", \"Part\"), col_types = cols(\n",
    "    Accuracy = col_logical(),\n",
    "    Group = col_factor(),\n",
    "    GroupKind = col_factor(),\n",
    "    Angle = col_factor(),\n",
    "    Proximity = col_integer(),\n",
    "    n_candidates = col_integer(),\n",
    "    Actor = col_factor(c('X', 'Y')),\n",
    "    Candidates = col_factor(),\n",
    "    Stimulus_ID = col_factor(),\n",
    "    Prompt_ID = col_factor(),\n",
    "    Participant_ID = col_factor(),\n",
    "    list_id = col_factor(),\n",
    "    Run_ID = col_character(),\n",
    "    Part = col_character(),\n",
    "),show_col_types = TRUE)\n",
    "df <- df[df$Group == \"glm-4v-9b\" & df$list_id != -1 & df$Part != \"p0\", ]\n",
    "df$offset <- log(1/df$n_candidates / (1 - 1/df$n_candidates))\n",
    "df$Proximity <- df$Proximity - mean(df$Proximity)\n",
    "df$n_candidates <- df$n_candidates - mean(df$n_candidates)"
   ]
  },
  {
   "cell_type": "markdown",
   "metadata": {},
   "source": [
    "# Fitting models"
   ]
  },
  {
   "cell_type": "code",
   "execution_count": 2,
   "metadata": {
    "vscode": {
     "languageId": "r"
    }
   },
   "outputs": [
    {
     "name": "stderr",
     "output_type": "stream",
     "text": [
      "Warning message in checkConv(attr(opt, \"derivs\"), opt$par, ctrl = control$checkConv, :\n",
      "“Model failed to converge with max|grad| = 0.0355467 (tol = 0.002, component 1)”\n"
     ]
    }
   ],
   "source": [
    "model1 <- glmer(Accuracy ~ Angle + Proximity + n_candidates + Actor + (1|Stimulus_ID) + (1|Prompt_ID), \n",
    "               data = df,\n",
    "               family = binomial(link = \"logit\"), \n",
    "               offset = offset)"
   ]
  },
  {
   "cell_type": "code",
   "execution_count": 3,
   "metadata": {
    "vscode": {
     "languageId": "r"
    }
   },
   "outputs": [
    {
     "name": "stderr",
     "output_type": "stream",
     "text": [
      "boundary (singular) fit: see help('isSingular')\n",
      "\n"
     ]
    }
   ],
   "source": [
    "model2 <- glmer(Accuracy ~ Angle + Proximity + n_candidates + Actor + (1|Actor:Candidates) + (1|Stimulus_ID), \n",
    "               data = df,\n",
    "               family = binomial(link = \"logit\"), \n",
    "               offset = offset)"
   ]
  },
  {
   "cell_type": "code",
   "execution_count": 4,
   "metadata": {
    "vscode": {
     "languageId": "r"
    }
   },
   "outputs": [],
   "source": [
    "model3 <- glmer(Accuracy ~ Angle + Proximity + n_candidates + Actor + (1|Stimulus_ID), \n",
    "               data = df,\n",
    "               family = binomial(link = \"logit\"), \n",
    "               offset = offset)"
   ]
  },
  {
   "cell_type": "markdown",
   "metadata": {},
   "source": [
    "# Model selection"
   ]
  },
  {
   "cell_type": "code",
   "execution_count": 5,
   "metadata": {
    "vscode": {
     "languageId": "r"
    }
   },
   "outputs": [],
   "source": [
    "model <- model3"
   ]
  },
  {
   "cell_type": "markdown",
   "metadata": {},
   "source": [
    "# Interpretation"
   ]
  },
  {
   "cell_type": "code",
   "execution_count": 6,
   "metadata": {
    "vscode": {
     "languageId": "r"
    }
   },
   "outputs": [
    {
     "data": {
      "text/plain": [
       "Generalized linear mixed model fit by maximum likelihood (Laplace\n",
       "  Approximation) [glmerMod]\n",
       " Family: binomial  ( logit )\n",
       "Formula: \n",
       "Accuracy ~ Angle + Proximity + n_candidates + Actor + (1 | Stimulus_ID)\n",
       "   Data: df\n",
       " Offset: offset\n",
       "\n",
       "     AIC      BIC   logLik deviance df.resid \n",
       "  6195.0   6244.8  -3090.5   6181.0     8993 \n",
       "\n",
       "Scaled residuals: \n",
       "     Min       1Q   Median       3Q      Max \n",
       "-2.99492 -0.13328 -0.06035  0.15027  3.09692 \n",
       "\n",
       "Random effects:\n",
       " Groups      Name        Variance Std.Dev.\n",
       " Stimulus_ID (Intercept) 25.23    5.023   \n",
       "Number of obs: 9000, groups:  Stimulus_ID, 900\n",
       "\n",
       "Fixed effects:\n",
       "             Estimate Std. Error z value Pr(>|z|)    \n",
       "(Intercept)    0.5260     0.3748   1.404  0.16043    \n",
       "Angleleft     -0.3161     0.4879  -0.648  0.51703    \n",
       "Angleright    -0.2926     0.4889  -0.598  0.54954    \n",
       "Proximity     -0.7257     0.2490  -2.915  0.00356 ** \n",
       "n_candidates  -1.4594     0.2936  -4.970 6.69e-07 ***\n",
       "ActorY        -1.3476     0.4177  -3.226  0.00125 ** \n",
       "---\n",
       "Signif. codes:  0 ‘***’ 0.001 ‘**’ 0.01 ‘*’ 0.05 ‘.’ 0.1 ‘ ’ 1\n",
       "\n",
       "Correlation of Fixed Effects:\n",
       "            (Intr) Angllf Anglrg Prxmty n_cndd\n",
       "Angleleft   -0.595                            \n",
       "Angleright  -0.608  0.463                     \n",
       "Proximity   -0.002  0.019  0.027              \n",
       "n_candidats  0.072  0.022  0.012  0.062       \n",
       "ActorY      -0.454 -0.010  0.019  0.013  0.002"
      ]
     },
     "metadata": {},
     "output_type": "display_data"
    }
   ],
   "source": [
    "summary(model)"
   ]
  },
  {
   "cell_type": "code",
   "execution_count": 7,
   "metadata": {
    "vscode": {
     "languageId": "r"
    }
   },
   "outputs": [
    {
     "name": "stdout",
     "output_type": "stream",
     "text": [
      " Angle emmean    SE  df asymp.LCL asymp.UCL\n",
      " front -0.498 0.336 Inf     -1.16    0.1605\n",
      " left  -0.814 0.363 Inf     -1.53   -0.1034\n",
      " right -0.791 0.365 Inf     -1.51   -0.0755\n",
      "\n",
      "Results are averaged over the levels of: Actor \n",
      "Results are given on the logit (not the response) scale. \n",
      "Confidence level used: 0.95 \n"
     ]
    },
    {
     "data": {
      "text/plain": [
       " contrast      estimate    SE  df z.ratio p.value\n",
       " front - left    0.3161 0.488 Inf   0.648  0.7935\n",
       " front - right   0.2926 0.489 Inf   0.598  0.8209\n",
       " left - right   -0.0236 0.506 Inf  -0.047  0.9988\n",
       "\n",
       "Results are averaged over the levels of: Actor \n",
       "Results are given on the log odds ratio (not the response) scale. \n",
       "P value adjustment: tukey method for comparing a family of 3 estimates "
      ]
     },
     "metadata": {},
     "output_type": "display_data"
    },
    {
     "name": "stdout",
     "output_type": "stream",
     "text": [
      " Angle  prob     SE  df asymp.LCL asymp.UCL\n",
      " front 0.390 0.0716 Inf     0.250     0.530\n",
      " left  0.325 0.0721 Inf     0.183     0.466\n",
      " right 0.329 0.0726 Inf     0.187     0.472\n",
      "\n",
      "Results are averaged over the levels of: Actor \n",
      "Confidence level used: 0.95 \n"
     ]
    },
    {
     "data": {
      "text/plain": [
       " contrast      estimate    SE  df z.ratio p.value\n",
       " front - left   0.06558 0.101 Inf   0.650  0.7922\n",
       " front - right  0.06086 0.101 Inf   0.601  0.8195\n",
       " left - right  -0.00472 0.101 Inf  -0.047  0.9988\n",
       "\n",
       "Results are averaged over the levels of: Actor \n",
       "P value adjustment: tukey method for comparing a family of 3 estimates "
      ]
     },
     "metadata": {},
     "output_type": "display_data"
    },
    {
     "data": {
      "text/html": [
       "<table class=\"dataframe\">\n",
       "<caption>A data.frame: 6 × 7</caption>\n",
       "<thead>\n",
       "\t<tr><th scope=col>term</th><th scope=col>Estimate</th><th scope=col>Std. Error</th><th scope=col>z value</th><th scope=col>Pr(&gt;|z|)</th><th scope=col>effect_size_denom</th><th scope=col>effect_size</th></tr>\n",
       "\t<tr><th scope=col>&lt;chr&gt;</th><th scope=col>&lt;dbl&gt;</th><th scope=col>&lt;dbl&gt;</th><th scope=col>&lt;dbl&gt;</th><th scope=col>&lt;dbl&gt;</th><th scope=col>&lt;dbl&gt;</th><th scope=col>&lt;dbl&gt;</th></tr>\n",
       "</thead>\n",
       "<tbody>\n",
       "\t<tr><td>(Intercept) </td><td> 0.5260132</td><td>0.3747527</td><td> 1.4036275</td><td>1.604298e-01</td><td>5.340172</td><td> 0.09850117</td></tr>\n",
       "\t<tr><td>Angleleft   </td><td>-0.3161462</td><td>0.4879364</td><td>-0.6479251</td><td>5.170334e-01</td><td>5.340172</td><td>-0.05920150</td></tr>\n",
       "\t<tr><td>Angleright  </td><td>-0.2925773</td><td>0.4888882</td><td>-0.5984545</td><td>5.495367e-01</td><td>5.340172</td><td>-0.05478800</td></tr>\n",
       "\t<tr><td>Proximity   </td><td>-0.7257426</td><td>0.2489979</td><td>-2.9146534</td><td>3.560838e-03</td><td>5.340172</td><td>-0.13590248</td></tr>\n",
       "\t<tr><td>n_candidates</td><td>-1.4594303</td><td>0.2936401</td><td>-4.9701329</td><td>6.690701e-07</td><td>5.340172</td><td>-0.27329276</td></tr>\n",
       "\t<tr><td>ActorY      </td><td>-1.3476203</td><td>0.4176765</td><td>-3.2264689</td><td>1.253278e-03</td><td>5.340172</td><td>-0.25235523</td></tr>\n",
       "</tbody>\n",
       "</table>\n"
      ],
      "text/latex": [
       "A data.frame: 6 × 7\n",
       "\\begin{tabular}{lllllll}\n",
       " term & Estimate & Std. Error & z value & Pr(>\\textbar{}z\\textbar{}) & effect\\_size\\_denom & effect\\_size\\\\\n",
       " <chr> & <dbl> & <dbl> & <dbl> & <dbl> & <dbl> & <dbl>\\\\\n",
       "\\hline\n",
       "\t (Intercept)  &  0.5260132 & 0.3747527 &  1.4036275 & 1.604298e-01 & 5.340172 &  0.09850117\\\\\n",
       "\t Angleleft    & -0.3161462 & 0.4879364 & -0.6479251 & 5.170334e-01 & 5.340172 & -0.05920150\\\\\n",
       "\t Angleright   & -0.2925773 & 0.4888882 & -0.5984545 & 5.495367e-01 & 5.340172 & -0.05478800\\\\\n",
       "\t Proximity    & -0.7257426 & 0.2489979 & -2.9146534 & 3.560838e-03 & 5.340172 & -0.13590248\\\\\n",
       "\t n\\_candidates & -1.4594303 & 0.2936401 & -4.9701329 & 6.690701e-07 & 5.340172 & -0.27329276\\\\\n",
       "\t ActorY       & -1.3476203 & 0.4176765 & -3.2264689 & 1.253278e-03 & 5.340172 & -0.25235523\\\\\n",
       "\\end{tabular}\n"
      ],
      "text/markdown": [
       "\n",
       "A data.frame: 6 × 7\n",
       "\n",
       "| term &lt;chr&gt; | Estimate &lt;dbl&gt; | Std. Error &lt;dbl&gt; | z value &lt;dbl&gt; | Pr(&gt;|z|) &lt;dbl&gt; | effect_size_denom &lt;dbl&gt; | effect_size &lt;dbl&gt; |\n",
       "|---|---|---|---|---|---|---|\n",
       "| (Intercept)  |  0.5260132 | 0.3747527 |  1.4036275 | 1.604298e-01 | 5.340172 |  0.09850117 |\n",
       "| Angleleft    | -0.3161462 | 0.4879364 | -0.6479251 | 5.170334e-01 | 5.340172 | -0.05920150 |\n",
       "| Angleright   | -0.2925773 | 0.4888882 | -0.5984545 | 5.495367e-01 | 5.340172 | -0.05478800 |\n",
       "| Proximity    | -0.7257426 | 0.2489979 | -2.9146534 | 3.560838e-03 | 5.340172 | -0.13590248 |\n",
       "| n_candidates | -1.4594303 | 0.2936401 | -4.9701329 | 6.690701e-07 | 5.340172 | -0.27329276 |\n",
       "| ActorY       | -1.3476203 | 0.4176765 | -3.2264689 | 1.253278e-03 | 5.340172 | -0.25235523 |\n",
       "\n"
      ],
      "text/plain": [
       "  term         Estimate   Std. Error z value    Pr(>|z|)     effect_size_denom\n",
       "1 (Intercept)   0.5260132 0.3747527   1.4036275 1.604298e-01 5.340172         \n",
       "2 Angleleft    -0.3161462 0.4879364  -0.6479251 5.170334e-01 5.340172         \n",
       "3 Angleright   -0.2925773 0.4888882  -0.5984545 5.495367e-01 5.340172         \n",
       "4 Proximity    -0.7257426 0.2489979  -2.9146534 3.560838e-03 5.340172         \n",
       "5 n_candidates -1.4594303 0.2936401  -4.9701329 6.690701e-07 5.340172         \n",
       "6 ActorY       -1.3476203 0.4176765  -3.2264689 1.253278e-03 5.340172         \n",
       "  effect_size\n",
       "1  0.09850117\n",
       "2 -0.05920150\n",
       "3 -0.05478800\n",
       "4 -0.13590248\n",
       "5 -0.27329276\n",
       "6 -0.25235523"
      ]
     },
     "metadata": {},
     "output_type": "display_data"
    }
   ],
   "source": [
    "log_odds_means <- emmeans(model, spec = \"Angle\")\n",
    "print(log_odds_means)\n",
    "pairs(log_odds_means)\n",
    "log_odds_means <- emmeans(model, spec = \"Angle\", regrid = \"response\")\n",
    "print(log_odds_means)\n",
    "pairs(log_odds_means)\n",
    "               \n",
    "vc_list <- lapply(VarCorr(model), function(x) attr(x, \"stddev\")^2)\n",
    "vc <- sum(unlist(vc_list))\n",
    "effect_size_denom_t <- sqrt(vc + pi^2/3)\n",
    "\n",
    "res <- summary(model)$coefficients\n",
    "res <- as.data.frame(res)\n",
    "res <- cbind(term = rownames(res), res)\n",
    "rownames(res) <- NULL\n",
    "res$effect_size_denom <- effect_size_denom_t\n",
    "res$effect_size <- res$Estimate / effect_size_denom_t\n",
    "res"
   ]
  },
  {
   "cell_type": "code",
   "execution_count": null,
   "metadata": {
    "vscode": {
     "languageId": "r"
    }
   },
   "outputs": [],
   "source": []
  }
 ],
 "metadata": {
  "kernelspec": {
   "display_name": "R",
   "language": "R",
   "name": "ir"
  },
  "language_info": {
   "codemirror_mode": "r",
   "file_extension": ".r",
   "mimetype": "text/x-r-source",
   "name": "R",
   "pygments_lexer": "r",
   "version": "4.3.3"
  }
 },
 "nbformat": 4,
 "nbformat_minor": 2
}
