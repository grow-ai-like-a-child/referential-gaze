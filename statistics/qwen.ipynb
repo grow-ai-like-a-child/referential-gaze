{
 "cells": [
  {
   "cell_type": "markdown",
   "metadata": {},
   "source": [
    "# Loading Responses"
   ]
  },
  {
   "cell_type": "code",
   "execution_count": 1,
   "metadata": {
    "vscode": {
     "languageId": "r"
    }
   },
   "outputs": [
    {
     "name": "stderr",
     "output_type": "stream",
     "text": [
      "Loading required package: lme4\n",
      "\n",
      "Loading required package: Matrix\n",
      "\n",
      "Loading required package: readr\n",
      "\n",
      "Loading required package: marginaleffects\n",
      "\n",
      "Loading required package: emmeans\n",
      "\n",
      "Welcome to emmeans.\n",
      "Caution: You lose important information if you filter this package's results.\n",
      "See '? untidy'\n",
      "\n",
      "Loading required package: car\n",
      "\n",
      "Loading required package: carData\n",
      "\n",
      "\u001b[1mRows: \u001b[22m\u001b[34m156780\u001b[39m \u001b[1mColumns: \u001b[22m\u001b[34m14\u001b[39m\n",
      "\u001b[36m──\u001b[39m \u001b[1mColumn specification\u001b[22m \u001b[36m────────────────────────────────────────────────────────────────\u001b[39m\n",
      "\u001b[1mDelimiter:\u001b[22m \",\"\n",
      "\u001b[31mchr\u001b[39m (2): Run_ID, Part\n",
      "\u001b[32mint\u001b[39m (2): Proximity, n_candidates\n",
      "\u001b[33mlgl\u001b[39m (1): Accuracy\n",
      "\u001b[31mfct\u001b[39m (9): Stimulus_ID, Prompt_ID, Participant_ID, Group, GroupKind, Angle, Ac...\n",
      "\n",
      "\u001b[36mℹ\u001b[39m Use `spec()` to retrieve the full column specification for this data.\n",
      "\u001b[36mℹ\u001b[39m Specify the column types or set `show_col_types = FALSE` to quiet this message.\n"
     ]
    }
   ],
   "source": [
    "options(warn=1)\n",
    "if(!require('lme4')) {\n",
    "    install.packages('lme4', repos='https://cloud.r-project.org')\n",
    "    library('lme4')\n",
    "}\n",
    "if(!require('readr')) {\n",
    "    install.packages('readr', repos='https://cloud.r-project.org')\n",
    "    library('readr')\n",
    "}\n",
    "if(!require('marginaleffects')) {\n",
    "    install.packages('marginaleffects', repos='https://cloud.r-project.org')\n",
    "    library('marginaleffects')\n",
    "}\n",
    "if(!require('emmeans')) {\n",
    "    install.packages('emmeans', repos='https://cloud.r-project.org')\n",
    "    library('emmeans')\n",
    "}\n",
    "if(!require('car')) {\n",
    "    install.packages('car', repos='https://cloud.r-project.org')\n",
    "    library('car')\n",
    "}\n",
    "df <- read_csv(\"gaze-analysis/result_1743457603_20250506_20250506F.csv\", na = \"empty\", col_select = c(\"Accuracy\", \"Group\", \"GroupKind\", \"Angle\", \"Proximity\", \"n_candidates\", \"Actor\", \"Candidates\", \"Stimulus_ID\", \"Prompt_ID\", \"Participant_ID\", \"list_id\", \"Run_ID\", \"Part\"), col_types = cols(\n",
    "    Accuracy = col_logical(),\n",
    "    Group = col_factor(),\n",
    "    GroupKind = col_factor(),\n",
    "    Angle = col_factor(),\n",
    "    Proximity = col_integer(),\n",
    "    n_candidates = col_integer(),\n",
    "    Actor = col_factor(c('X', 'Y')),\n",
    "    Candidates = col_factor(),\n",
    "    Stimulus_ID = col_factor(),\n",
    "    Prompt_ID = col_factor(),\n",
    "    Participant_ID = col_factor(),\n",
    "    list_id = col_factor(),\n",
    "    Run_ID = col_character(),\n",
    "    Part = col_character(),\n",
    "),show_col_types = TRUE)\n",
    "df <- df[df$Group == \"Qwen2.5-VL-72B-Instruct\" & df$list_id != -1 & df$Part != \"p0\", ]\n",
    "df$offset <- log(1/df$n_candidates / (1 - 1/df$n_candidates))"
   ]
  },
  {
   "cell_type": "markdown",
   "metadata": {},
   "source": [
    "# Fitting models"
   ]
  },
  {
   "cell_type": "code",
   "execution_count": 2,
   "metadata": {
    "vscode": {
     "languageId": "r"
    }
   },
   "outputs": [
    {
     "name": "stderr",
     "output_type": "stream",
     "text": [
      "Warning message in checkConv(attr(opt, \"derivs\"), opt$par, ctrl = control$checkConv, :\n",
      "“Model failed to converge with max|grad| = 0.0074527 (tol = 0.002, component 1)”\n"
     ]
    }
   ],
   "source": [
    "model0 <- glmer(Accuracy ~ Angle + scale(Proximity, scale=FALSE) + scale(n_candidates, scale=FALSE) + Actor + (1|Actor:Candidates) + (1|Stimulus_ID) + (1|Prompt_ID), \n",
    "               data = df,\n",
    "               family = binomial(link = \"logit\"), \n",
    "               offset = offset)"
   ]
  },
  {
   "cell_type": "code",
   "execution_count": 3,
   "metadata": {
    "vscode": {
     "languageId": "r"
    }
   },
   "outputs": [
    {
     "data": {
      "text/plain": [
       "Generalized linear mixed model fit by maximum likelihood (Laplace\n",
       "  Approximation) [glmerMod]\n",
       " Family: binomial  ( logit )\n",
       "Formula: \n",
       "Accuracy ~ Angle + scale(Proximity, scale = FALSE) + scale(n_candidates,  \n",
       "    scale = FALSE) + Actor + (1 | Actor:Candidates) + (1 | Stimulus_ID) +  \n",
       "    (1 | Prompt_ID)\n",
       "   Data: df\n",
       " Offset: offset\n",
       "      AIC       BIC    logLik  deviance  df.resid \n",
       " 6573.577  6637.521 -3277.788  6555.577      8991 \n",
       "Random effects:\n",
       " Groups           Name        Std.Dev. \n",
       " Stimulus_ID      (Intercept) 4.4111622\n",
       " Actor:Candidates (Intercept) 0.0006378\n",
       " Prompt_ID        (Intercept) 0.1890927\n",
       "Number of obs: 9000, groups:  \n",
       "Stimulus_ID, 900; Actor:Candidates, 18; Prompt_ID, 12\n",
       "Fixed Effects:\n",
       "                       (Intercept)                           Angleleft  \n",
       "                          -0.05865                             0.59431  \n",
       "                        Angleright     scale(Proximity, scale = FALSE)  \n",
       "                           0.44301                            -0.30360  \n",
       "scale(n_candidates, scale = FALSE)                              ActorY  \n",
       "                          -1.14494                            -0.74425  \n",
       "optimizer (Nelder_Mead) convergence code: 0 (OK) ; 0 optimizer warnings; 1 lme4 warnings "
      ]
     },
     "metadata": {},
     "output_type": "display_data"
    }
   ],
   "source": [
    "model0"
   ]
  },
  {
   "cell_type": "code",
   "execution_count": 4,
   "metadata": {
    "vscode": {
     "languageId": "r"
    }
   },
   "outputs": [],
   "source": [
    "model1 <- glmer(Accuracy ~ Angle + scale(Proximity, scale=FALSE) + scale(n_candidates, scale=FALSE) + Actor + (1|Stimulus_ID) + (1|Prompt_ID), \n",
    "               data = df,\n",
    "               family = binomial(link = \"logit\"), \n",
    "               offset = offset)"
   ]
  },
  {
   "cell_type": "code",
   "execution_count": 5,
   "metadata": {
    "vscode": {
     "languageId": "r"
    }
   },
   "outputs": [
    {
     "name": "stderr",
     "output_type": "stream",
     "text": [
      "Warning message in checkConv(attr(opt, \"derivs\"), opt$par, ctrl = control$checkConv, :\n",
      "“Model failed to converge with max|grad| = 0.00429741 (tol = 0.002, component 1)”\n"
     ]
    }
   ],
   "source": [
    "model2 <- glmer(Accuracy ~ Angle + scale(Proximity, scale=FALSE) + scale(n_candidates, scale=FALSE) + Actor + (1|Actor:Candidates) + (1|Stimulus_ID), \n",
    "               data = df,\n",
    "               family = binomial(link = \"logit\"), \n",
    "               offset = offset)"
   ]
  },
  {
   "cell_type": "code",
   "execution_count": 6,
   "metadata": {
    "vscode": {
     "languageId": "r"
    }
   },
   "outputs": [],
   "source": [
    "model3 <- glmer(Accuracy ~ Angle + scale(Proximity, scale=FALSE) + scale(n_candidates, scale=FALSE) + Actor + (1|Stimulus_ID), \n",
    "               data = df,\n",
    "               family = binomial(link = \"logit\"), \n",
    "               offset = offset)"
   ]
  },
  {
   "cell_type": "markdown",
   "metadata": {},
   "source": [
    "# Model selection"
   ]
  },
  {
   "cell_type": "code",
   "execution_count": 7,
   "metadata": {
    "vscode": {
     "languageId": "r"
    }
   },
   "outputs": [
    {
     "data": {
      "text/html": [
       "<table class=\"dataframe\">\n",
       "<caption>A anova: 2 × 8</caption>\n",
       "<thead>\n",
       "\t<tr><th></th><th scope=col>npar</th><th scope=col>AIC</th><th scope=col>BIC</th><th scope=col>logLik</th><th scope=col>deviance</th><th scope=col>Chisq</th><th scope=col>Df</th><th scope=col>Pr(&gt;Chisq)</th></tr>\n",
       "\t<tr><th></th><th scope=col>&lt;dbl&gt;</th><th scope=col>&lt;dbl&gt;</th><th scope=col>&lt;dbl&gt;</th><th scope=col>&lt;dbl&gt;</th><th scope=col>&lt;dbl&gt;</th><th scope=col>&lt;dbl&gt;</th><th scope=col>&lt;dbl&gt;</th><th scope=col>&lt;dbl&gt;</th></tr>\n",
       "</thead>\n",
       "<tbody>\n",
       "\t<tr><th scope=row>model3</th><td>7</td><td>6579.408</td><td>6629.143</td><td>-3282.704</td><td>6565.408</td><td>     NA</td><td>NA</td><td>         NA</td></tr>\n",
       "\t<tr><th scope=row>model1</th><td>8</td><td>6571.577</td><td>6628.416</td><td>-3277.788</td><td>6555.577</td><td>9.83181</td><td> 1</td><td>0.001715195</td></tr>\n",
       "</tbody>\n",
       "</table>\n"
      ],
      "text/latex": [
       "A anova: 2 × 8\n",
       "\\begin{tabular}{r|llllllll}\n",
       "  & npar & AIC & BIC & logLik & deviance & Chisq & Df & Pr(>Chisq)\\\\\n",
       "  & <dbl> & <dbl> & <dbl> & <dbl> & <dbl> & <dbl> & <dbl> & <dbl>\\\\\n",
       "\\hline\n",
       "\tmodel3 & 7 & 6579.408 & 6629.143 & -3282.704 & 6565.408 &      NA & NA &          NA\\\\\n",
       "\tmodel1 & 8 & 6571.577 & 6628.416 & -3277.788 & 6555.577 & 9.83181 &  1 & 0.001715195\\\\\n",
       "\\end{tabular}\n"
      ],
      "text/markdown": [
       "\n",
       "A anova: 2 × 8\n",
       "\n",
       "| <!--/--> | npar &lt;dbl&gt; | AIC &lt;dbl&gt; | BIC &lt;dbl&gt; | logLik &lt;dbl&gt; | deviance &lt;dbl&gt; | Chisq &lt;dbl&gt; | Df &lt;dbl&gt; | Pr(&gt;Chisq) &lt;dbl&gt; |\n",
       "|---|---|---|---|---|---|---|---|---|\n",
       "| model3 | 7 | 6579.408 | 6629.143 | -3282.704 | 6565.408 |      NA | NA |          NA |\n",
       "| model1 | 8 | 6571.577 | 6628.416 | -3277.788 | 6555.577 | 9.83181 |  1 | 0.001715195 |\n",
       "\n"
      ],
      "text/plain": [
       "       npar AIC      BIC      logLik    deviance Chisq   Df Pr(>Chisq) \n",
       "model3 7    6579.408 6629.143 -3282.704 6565.408      NA NA          NA\n",
       "model1 8    6571.577 6628.416 -3277.788 6555.577 9.83181  1 0.001715195"
      ]
     },
     "metadata": {},
     "output_type": "display_data"
    }
   ],
   "source": [
    "anova(model1, model3)"
   ]
  },
  {
   "cell_type": "code",
   "execution_count": 8,
   "metadata": {
    "vscode": {
     "languageId": "r"
    }
   },
   "outputs": [],
   "source": [
    "model <- model1"
   ]
  },
  {
   "cell_type": "markdown",
   "metadata": {},
   "source": [
    "# Interpretation"
   ]
  },
  {
   "cell_type": "code",
   "execution_count": 9,
   "metadata": {
    "vscode": {
     "languageId": "r"
    }
   },
   "outputs": [
    {
     "data": {
      "text/plain": [
       "Generalized linear mixed model fit by maximum likelihood (Laplace\n",
       "  Approximation) [glmerMod]\n",
       " Family: binomial  ( logit )\n",
       "Formula: \n",
       "Accuracy ~ Angle + scale(Proximity, scale = FALSE) + scale(n_candidates,  \n",
       "    scale = FALSE) + Actor + (1 | Stimulus_ID) + (1 | Prompt_ID)\n",
       "   Data: df\n",
       " Offset: offset\n",
       "\n",
       "     AIC      BIC   logLik deviance df.resid \n",
       "  6571.6   6628.4  -3277.8   6555.6     8992 \n",
       "\n",
       "Scaled residuals: \n",
       "    Min      1Q  Median      3Q     Max \n",
       "-3.3560 -0.1653 -0.0912  0.1525  3.2989 \n",
       "\n",
       "Random effects:\n",
       " Groups      Name        Variance Std.Dev.\n",
       " Stimulus_ID (Intercept) 19.45847 4.4112  \n",
       " Prompt_ID   (Intercept)  0.03576 0.1891  \n",
       "Number of obs: 9000, groups:  Stimulus_ID, 900; Prompt_ID, 12\n",
       "\n",
       "Fixed effects:\n",
       "                                   Estimate Std. Error z value Pr(>|z|)    \n",
       "(Intercept)                        -0.05875    0.34654  -0.170   0.8654    \n",
       "Angleleft                           0.59420    0.42855   1.387   0.1656    \n",
       "Angleright                          0.44299    0.42167   1.051   0.2935    \n",
       "scale(Proximity, scale = FALSE)    -0.30350    0.21089  -1.439   0.1501    \n",
       "scale(n_candidates, scale = FALSE) -1.14493    0.23298  -4.914 8.91e-07 ***\n",
       "ActorY                             -0.74398    0.34935  -2.130   0.0332 *  \n",
       "---\n",
       "Signif. codes:  0 ‘***’ 0.001 ‘**’ 0.01 ‘*’ 0.05 ‘.’ 0.1 ‘ ’ 1\n",
       "\n",
       "Correlation of Fixed Effects:\n",
       "            (Intr) Angllf Anglrg s(Ps=F s(_s=F\n",
       "Angleleft   -0.629                            \n",
       "Angleright  -0.638  0.519                     \n",
       "s(P,s=FALSE  0.003 -0.012 -0.002              \n",
       "s(_,s=FALSE  0.101 -0.065 -0.055  0.030       \n",
       "ActorY      -0.441 -0.009 -0.005  0.024 -0.067"
      ]
     },
     "metadata": {},
     "output_type": "display_data"
    }
   ],
   "source": [
    "summary(model)"
   ]
  },
  {
   "cell_type": "code",
   "execution_count": 10,
   "metadata": {
    "vscode": {
     "languageId": "r"
    }
   },
   "outputs": [
    {
     "data": {
      "text/html": [
       "<table class=\"dataframe\">\n",
       "<caption>A data.frame: 6 × 7</caption>\n",
       "<thead>\n",
       "\t<tr><th scope=col>term</th><th scope=col>Estimate</th><th scope=col>Std. Error</th><th scope=col>z value</th><th scope=col>Pr(&gt;|z|)</th><th scope=col>effect_size_denom</th><th scope=col>effect_size</th></tr>\n",
       "\t<tr><th scope=col>&lt;chr&gt;</th><th scope=col>&lt;dbl&gt;</th><th scope=col>&lt;dbl&gt;</th><th scope=col>&lt;dbl&gt;</th><th scope=col>&lt;dbl&gt;</th><th scope=col>&lt;dbl&gt;</th><th scope=col>&lt;dbl&gt;</th></tr>\n",
       "</thead>\n",
       "<tbody>\n",
       "\t<tr><td>(Intercept)                       </td><td>-0.05874998</td><td>0.3465383</td><td>-0.1695339</td><td>8.653767e-01</td><td>4.773269</td><td>-0.01230812</td></tr>\n",
       "\t<tr><td>Angleleft                         </td><td> 0.59419945</td><td>0.4285504</td><td> 1.3865335</td><td>1.655841e-01</td><td>4.773269</td><td> 0.12448480</td></tr>\n",
       "\t<tr><td>Angleright                        </td><td> 0.44299257</td><td>0.4216683</td><td> 1.0505711</td><td>2.934556e-01</td><td>4.773269</td><td> 0.09280695</td></tr>\n",
       "\t<tr><td>scale(Proximity, scale = FALSE)   </td><td>-0.30350333</td><td>0.2108875</td><td>-1.4391721</td><td>1.501018e-01</td><td>4.773269</td><td>-0.06358395</td></tr>\n",
       "\t<tr><td>scale(n_candidates, scale = FALSE)</td><td>-1.14493114</td><td>0.2329793</td><td>-4.9143050</td><td>8.909797e-07</td><td>4.773269</td><td>-0.23986310</td></tr>\n",
       "\t<tr><td>ActorY                            </td><td>-0.74397804</td><td>0.3493456</td><td>-2.1296331</td><td>3.320191e-02</td><td>4.773269</td><td>-0.15586341</td></tr>\n",
       "</tbody>\n",
       "</table>\n"
      ],
      "text/latex": [
       "A data.frame: 6 × 7\n",
       "\\begin{tabular}{lllllll}\n",
       " term & Estimate & Std. Error & z value & Pr(>\\textbar{}z\\textbar{}) & effect\\_size\\_denom & effect\\_size\\\\\n",
       " <chr> & <dbl> & <dbl> & <dbl> & <dbl> & <dbl> & <dbl>\\\\\n",
       "\\hline\n",
       "\t (Intercept)                        & -0.05874998 & 0.3465383 & -0.1695339 & 8.653767e-01 & 4.773269 & -0.01230812\\\\\n",
       "\t Angleleft                          &  0.59419945 & 0.4285504 &  1.3865335 & 1.655841e-01 & 4.773269 &  0.12448480\\\\\n",
       "\t Angleright                         &  0.44299257 & 0.4216683 &  1.0505711 & 2.934556e-01 & 4.773269 &  0.09280695\\\\\n",
       "\t scale(Proximity, scale = FALSE)    & -0.30350333 & 0.2108875 & -1.4391721 & 1.501018e-01 & 4.773269 & -0.06358395\\\\\n",
       "\t scale(n\\_candidates, scale = FALSE) & -1.14493114 & 0.2329793 & -4.9143050 & 8.909797e-07 & 4.773269 & -0.23986310\\\\\n",
       "\t ActorY                             & -0.74397804 & 0.3493456 & -2.1296331 & 3.320191e-02 & 4.773269 & -0.15586341\\\\\n",
       "\\end{tabular}\n"
      ],
      "text/markdown": [
       "\n",
       "A data.frame: 6 × 7\n",
       "\n",
       "| term &lt;chr&gt; | Estimate &lt;dbl&gt; | Std. Error &lt;dbl&gt; | z value &lt;dbl&gt; | Pr(&gt;|z|) &lt;dbl&gt; | effect_size_denom &lt;dbl&gt; | effect_size &lt;dbl&gt; |\n",
       "|---|---|---|---|---|---|---|\n",
       "| (Intercept)                        | -0.05874998 | 0.3465383 | -0.1695339 | 8.653767e-01 | 4.773269 | -0.01230812 |\n",
       "| Angleleft                          |  0.59419945 | 0.4285504 |  1.3865335 | 1.655841e-01 | 4.773269 |  0.12448480 |\n",
       "| Angleright                         |  0.44299257 | 0.4216683 |  1.0505711 | 2.934556e-01 | 4.773269 |  0.09280695 |\n",
       "| scale(Proximity, scale = FALSE)    | -0.30350333 | 0.2108875 | -1.4391721 | 1.501018e-01 | 4.773269 | -0.06358395 |\n",
       "| scale(n_candidates, scale = FALSE) | -1.14493114 | 0.2329793 | -4.9143050 | 8.909797e-07 | 4.773269 | -0.23986310 |\n",
       "| ActorY                             | -0.74397804 | 0.3493456 | -2.1296331 | 3.320191e-02 | 4.773269 | -0.15586341 |\n",
       "\n"
      ],
      "text/plain": [
       "  term                               Estimate    Std. Error z value   \n",
       "1 (Intercept)                        -0.05874998 0.3465383  -0.1695339\n",
       "2 Angleleft                           0.59419945 0.4285504   1.3865335\n",
       "3 Angleright                          0.44299257 0.4216683   1.0505711\n",
       "4 scale(Proximity, scale = FALSE)    -0.30350333 0.2108875  -1.4391721\n",
       "5 scale(n_candidates, scale = FALSE) -1.14493114 0.2329793  -4.9143050\n",
       "6 ActorY                             -0.74397804 0.3493456  -2.1296331\n",
       "  Pr(>|z|)     effect_size_denom effect_size\n",
       "1 8.653767e-01 4.773269          -0.01230812\n",
       "2 1.655841e-01 4.773269           0.12448480\n",
       "3 2.934556e-01 4.773269           0.09280695\n",
       "4 1.501018e-01 4.773269          -0.06358395\n",
       "5 8.909797e-07 4.773269          -0.23986310\n",
       "6 3.320191e-02 4.773269          -0.15586341"
      ]
     },
     "metadata": {},
     "output_type": "display_data"
    }
   ],
   "source": [
    "vc_list <- lapply(VarCorr(model), function(x) attr(x, \"stddev\")^2)\n",
    "vc <- sum(unlist(vc_list))\n",
    "effect_size_denom_t <- sqrt(vc + pi^2/3)\n",
    "\n",
    "res <- summary(model)$coefficients\n",
    "res <- as.data.frame(res)\n",
    "res <- cbind(term = rownames(res), res)\n",
    "rownames(res) <- NULL\n",
    "res$effect_size_denom <- effect_size_denom_t\n",
    "res$effect_size <- res$Estimate / effect_size_denom_t\n",
    "res"
   ]
  },
  {
   "cell_type": "code",
   "execution_count": 11,
   "metadata": {
    "vscode": {
     "languageId": "r"
    }
   },
   "outputs": [
    {
     "data": {
      "text/html": [
       "<table class=\"dataframe\">\n",
       "<caption>A predictions: 3 × 8</caption>\n",
       "<thead>\n",
       "\t<tr><th scope=col>hypothesis</th><th scope=col>estimate</th><th scope=col>std.error</th><th scope=col>statistic</th><th scope=col>p.value</th><th scope=col>s.value</th><th scope=col>conf.low</th><th scope=col>conf.high</th></tr>\n",
       "\t<tr><th scope=col>&lt;chr&gt;</th><th scope=col>&lt;dbl&gt;</th><th scope=col>&lt;dbl&gt;</th><th scope=col>&lt;dbl&gt;</th><th scope=col>&lt;dbl&gt;</th><th scope=col>&lt;dbl&gt;</th><th scope=col>&lt;dbl&gt;</th><th scope=col>&lt;dbl&gt;</th></tr>\n",
       "</thead>\n",
       "<tbody>\n",
       "\t<tr><td>(left) - (front) </td><td>0.045212145</td><td>0.03257338</td><td>1.38800902</td><td>0.1651343</td><td>2.59828829</td><td>-0.01863051</td><td>0.10905480</td></tr>\n",
       "\t<tr><td>(right) - (front)</td><td>0.046436512</td><td>0.03692469</td><td>1.25760070</td><td>0.2085362</td><td>2.26163026</td><td>-0.02593454</td><td>0.11880757</td></tr>\n",
       "\t<tr><td>(right) - (left) </td><td>0.001224367</td><td>0.03852652</td><td>0.03177984</td><td>0.9746476</td><td>0.03704737</td><td>-0.07428623</td><td>0.07673496</td></tr>\n",
       "</tbody>\n",
       "</table>\n"
      ],
      "text/latex": [
       "A predictions: 3 × 8\n",
       "\\begin{tabular}{llllllll}\n",
       " hypothesis & estimate & std.error & statistic & p.value & s.value & conf.low & conf.high\\\\\n",
       " <chr> & <dbl> & <dbl> & <dbl> & <dbl> & <dbl> & <dbl> & <dbl>\\\\\n",
       "\\hline\n",
       "\t (left) - (front)  & 0.045212145 & 0.03257338 & 1.38800902 & 0.1651343 & 2.59828829 & -0.01863051 & 0.10905480\\\\\n",
       "\t (right) - (front) & 0.046436512 & 0.03692469 & 1.25760070 & 0.2085362 & 2.26163026 & -0.02593454 & 0.11880757\\\\\n",
       "\t (right) - (left)  & 0.001224367 & 0.03852652 & 0.03177984 & 0.9746476 & 0.03704737 & -0.07428623 & 0.07673496\\\\\n",
       "\\end{tabular}\n"
      ],
      "text/markdown": [
       "\n",
       "A predictions: 3 × 8\n",
       "\n",
       "| hypothesis &lt;chr&gt; | estimate &lt;dbl&gt; | std.error &lt;dbl&gt; | statistic &lt;dbl&gt; | p.value &lt;dbl&gt; | s.value &lt;dbl&gt; | conf.low &lt;dbl&gt; | conf.high &lt;dbl&gt; |\n",
       "|---|---|---|---|---|---|---|---|\n",
       "| (left) - (front)  | 0.045212145 | 0.03257338 | 1.38800902 | 0.1651343 | 2.59828829 | -0.01863051 | 0.10905480 |\n",
       "| (right) - (front) | 0.046436512 | 0.03692469 | 1.25760070 | 0.2085362 | 2.26163026 | -0.02593454 | 0.11880757 |\n",
       "| (right) - (left)  | 0.001224367 | 0.03852652 | 0.03177984 | 0.9746476 | 0.03704737 | -0.07428623 | 0.07673496 |\n",
       "\n"
      ],
      "text/plain": [
       "  hypothesis        estimate    std.error  statistic  p.value   s.value   \n",
       "1 (left) - (front)  0.045212145 0.03257338 1.38800902 0.1651343 2.59828829\n",
       "2 (right) - (front) 0.046436512 0.03692469 1.25760070 0.2085362 2.26163026\n",
       "3 (right) - (left)  0.001224367 0.03852652 0.03177984 0.9746476 0.03704737\n",
       "  conf.low    conf.high \n",
       "1 -0.01863051 0.10905480\n",
       "2 -0.02593454 0.11880757\n",
       "3 -0.07428623 0.07673496"
      ]
     },
     "metadata": {},
     "output_type": "display_data"
    }
   ],
   "source": [
    "avg_predictions(model, by=\"Angle\", hypothesis = ~ pairwise)"
   ]
  },
  {
   "cell_type": "code",
   "execution_count": 12,
   "metadata": {
    "vscode": {
     "languageId": "r"
    }
   },
   "outputs": [
    {
     "data": {
      "text/html": [
       "<table class=\"dataframe\">\n",
       "<caption>A slopes: 1 × 12</caption>\n",
       "<thead>\n",
       "\t<tr><th scope=col>term</th><th scope=col>contrast</th><th scope=col>estimate</th><th scope=col>std.error</th><th scope=col>statistic</th><th scope=col>p.value</th><th scope=col>s.value</th><th scope=col>conf.low</th><th scope=col>conf.high</th><th scope=col>predicted_lo</th><th scope=col>predicted_hi</th><th scope=col>predicted</th></tr>\n",
       "\t<tr><th scope=col>&lt;chr&gt;</th><th scope=col>&lt;chr&gt;</th><th scope=col>&lt;dbl&gt;</th><th scope=col>&lt;dbl&gt;</th><th scope=col>&lt;dbl&gt;</th><th scope=col>&lt;dbl&gt;</th><th scope=col>&lt;dbl&gt;</th><th scope=col>&lt;dbl&gt;</th><th scope=col>&lt;dbl&gt;</th><th scope=col>&lt;dbl&gt;</th><th scope=col>&lt;dbl&gt;</th><th scope=col>&lt;dbl&gt;</th></tr>\n",
       "</thead>\n",
       "<tbody>\n",
       "\t<tr><td>Proximity</td><td>dY/dX</td><td>-0.3035033</td><td>0.2108936</td><td>-1.43913</td><td>0.1501137</td><td>2.735873</td><td>-0.7168472</td><td>0.1098406</td><td>-1.289874</td><td>-1.289935</td><td>-1.289904</td></tr>\n",
       "</tbody>\n",
       "</table>\n"
      ],
      "text/latex": [
       "A slopes: 1 × 12\n",
       "\\begin{tabular}{llllllllllll}\n",
       " term & contrast & estimate & std.error & statistic & p.value & s.value & conf.low & conf.high & predicted\\_lo & predicted\\_hi & predicted\\\\\n",
       " <chr> & <chr> & <dbl> & <dbl> & <dbl> & <dbl> & <dbl> & <dbl> & <dbl> & <dbl> & <dbl> & <dbl>\\\\\n",
       "\\hline\n",
       "\t Proximity & dY/dX & -0.3035033 & 0.2108936 & -1.43913 & 0.1501137 & 2.735873 & -0.7168472 & 0.1098406 & -1.289874 & -1.289935 & -1.289904\\\\\n",
       "\\end{tabular}\n"
      ],
      "text/markdown": [
       "\n",
       "A slopes: 1 × 12\n",
       "\n",
       "| term &lt;chr&gt; | contrast &lt;chr&gt; | estimate &lt;dbl&gt; | std.error &lt;dbl&gt; | statistic &lt;dbl&gt; | p.value &lt;dbl&gt; | s.value &lt;dbl&gt; | conf.low &lt;dbl&gt; | conf.high &lt;dbl&gt; | predicted_lo &lt;dbl&gt; | predicted_hi &lt;dbl&gt; | predicted &lt;dbl&gt; |\n",
       "|---|---|---|---|---|---|---|---|---|---|---|---|\n",
       "| Proximity | dY/dX | -0.3035033 | 0.2108936 | -1.43913 | 0.1501137 | 2.735873 | -0.7168472 | 0.1098406 | -1.289874 | -1.289935 | -1.289904 |\n",
       "\n"
      ],
      "text/plain": [
       "  term      contrast estimate   std.error statistic p.value   s.value \n",
       "1 Proximity dY/dX    -0.3035033 0.2108936 -1.43913  0.1501137 2.735873\n",
       "  conf.low   conf.high predicted_lo predicted_hi predicted\n",
       "1 -0.7168472 0.1098406 -1.289874    -1.289935    -1.289904"
      ]
     },
     "metadata": {},
     "output_type": "display_data"
    }
   ],
   "source": [
    "avg_slopes(model, variables =\"Proximity\", type = \"link\")"
   ]
  },
  {
   "cell_type": "code",
   "execution_count": 13,
   "metadata": {
    "vscode": {
     "languageId": "r"
    }
   },
   "outputs": [
    {
     "data": {
      "text/html": [
       "<table class=\"dataframe\">\n",
       "<caption>A slopes: 1 × 12</caption>\n",
       "<thead>\n",
       "\t<tr><th scope=col>term</th><th scope=col>contrast</th><th scope=col>estimate</th><th scope=col>std.error</th><th scope=col>statistic</th><th scope=col>p.value</th><th scope=col>s.value</th><th scope=col>conf.low</th><th scope=col>conf.high</th><th scope=col>predicted_lo</th><th scope=col>predicted_hi</th><th scope=col>predicted</th></tr>\n",
       "\t<tr><th scope=col>&lt;chr&gt;</th><th scope=col>&lt;chr&gt;</th><th scope=col>&lt;dbl&gt;</th><th scope=col>&lt;dbl&gt;</th><th scope=col>&lt;dbl&gt;</th><th scope=col>&lt;dbl&gt;</th><th scope=col>&lt;dbl&gt;</th><th scope=col>&lt;dbl&gt;</th><th scope=col>&lt;dbl&gt;</th><th scope=col>&lt;dbl&gt;</th><th scope=col>&lt;dbl&gt;</th><th scope=col>&lt;dbl&gt;</th></tr>\n",
       "</thead>\n",
       "<tbody>\n",
       "\t<tr><td>n_candidates</td><td>dY/dX</td><td>-1.144931</td><td>0.2329742</td><td>-4.914411</td><td>8.904982e-07</td><td>20.09888</td><td>-1.601552</td><td>-0.68831</td><td>-1.28979</td><td>-1.290019</td><td>-1.289904</td></tr>\n",
       "</tbody>\n",
       "</table>\n"
      ],
      "text/latex": [
       "A slopes: 1 × 12\n",
       "\\begin{tabular}{llllllllllll}\n",
       " term & contrast & estimate & std.error & statistic & p.value & s.value & conf.low & conf.high & predicted\\_lo & predicted\\_hi & predicted\\\\\n",
       " <chr> & <chr> & <dbl> & <dbl> & <dbl> & <dbl> & <dbl> & <dbl> & <dbl> & <dbl> & <dbl> & <dbl>\\\\\n",
       "\\hline\n",
       "\t n\\_candidates & dY/dX & -1.144931 & 0.2329742 & -4.914411 & 8.904982e-07 & 20.09888 & -1.601552 & -0.68831 & -1.28979 & -1.290019 & -1.289904\\\\\n",
       "\\end{tabular}\n"
      ],
      "text/markdown": [
       "\n",
       "A slopes: 1 × 12\n",
       "\n",
       "| term &lt;chr&gt; | contrast &lt;chr&gt; | estimate &lt;dbl&gt; | std.error &lt;dbl&gt; | statistic &lt;dbl&gt; | p.value &lt;dbl&gt; | s.value &lt;dbl&gt; | conf.low &lt;dbl&gt; | conf.high &lt;dbl&gt; | predicted_lo &lt;dbl&gt; | predicted_hi &lt;dbl&gt; | predicted &lt;dbl&gt; |\n",
       "|---|---|---|---|---|---|---|---|---|---|---|---|\n",
       "| n_candidates | dY/dX | -1.144931 | 0.2329742 | -4.914411 | 8.904982e-07 | 20.09888 | -1.601552 | -0.68831 | -1.28979 | -1.290019 | -1.289904 |\n",
       "\n"
      ],
      "text/plain": [
       "  term         contrast estimate  std.error statistic p.value      s.value \n",
       "1 n_candidates dY/dX    -1.144931 0.2329742 -4.914411 8.904982e-07 20.09888\n",
       "  conf.low  conf.high predicted_lo predicted_hi predicted\n",
       "1 -1.601552 -0.68831  -1.28979     -1.290019    -1.289904"
      ]
     },
     "metadata": {},
     "output_type": "display_data"
    }
   ],
   "source": [
    "avg_slopes(model, variables =\"n_candidates\", type = \"link\")"
   ]
  },
  {
   "cell_type": "code",
   "execution_count": 14,
   "metadata": {
    "vscode": {
     "languageId": "r"
    }
   },
   "outputs": [
    {
     "data": {
      "text/html": [
       "<table class=\"dataframe\">\n",
       "<caption>A predictions: 1 × 8</caption>\n",
       "<thead>\n",
       "\t<tr><th scope=col>hypothesis</th><th scope=col>estimate</th><th scope=col>std.error</th><th scope=col>statistic</th><th scope=col>p.value</th><th scope=col>s.value</th><th scope=col>conf.low</th><th scope=col>conf.high</th></tr>\n",
       "\t<tr><th scope=col>&lt;chr&gt;</th><th scope=col>&lt;dbl&gt;</th><th scope=col>&lt;dbl&gt;</th><th scope=col>&lt;dbl&gt;</th><th scope=col>&lt;dbl&gt;</th><th scope=col>&lt;dbl&gt;</th><th scope=col>&lt;dbl&gt;</th><th scope=col>&lt;dbl&gt;</th></tr>\n",
       "</thead>\n",
       "<tbody>\n",
       "\t<tr><td>(Y) - (X)</td><td>-0.06763862</td><td>0.02963053</td><td>-2.282734</td><td>0.02244605</td><td>5.477394</td><td>-0.1257134</td><td>-0.009563842</td></tr>\n",
       "</tbody>\n",
       "</table>\n"
      ],
      "text/latex": [
       "A predictions: 1 × 8\n",
       "\\begin{tabular}{llllllll}\n",
       " hypothesis & estimate & std.error & statistic & p.value & s.value & conf.low & conf.high\\\\\n",
       " <chr> & <dbl> & <dbl> & <dbl> & <dbl> & <dbl> & <dbl> & <dbl>\\\\\n",
       "\\hline\n",
       "\t (Y) - (X) & -0.06763862 & 0.02963053 & -2.282734 & 0.02244605 & 5.477394 & -0.1257134 & -0.009563842\\\\\n",
       "\\end{tabular}\n"
      ],
      "text/markdown": [
       "\n",
       "A predictions: 1 × 8\n",
       "\n",
       "| hypothesis &lt;chr&gt; | estimate &lt;dbl&gt; | std.error &lt;dbl&gt; | statistic &lt;dbl&gt; | p.value &lt;dbl&gt; | s.value &lt;dbl&gt; | conf.low &lt;dbl&gt; | conf.high &lt;dbl&gt; |\n",
       "|---|---|---|---|---|---|---|---|\n",
       "| (Y) - (X) | -0.06763862 | 0.02963053 | -2.282734 | 0.02244605 | 5.477394 | -0.1257134 | -0.009563842 |\n",
       "\n"
      ],
      "text/plain": [
       "  hypothesis estimate    std.error  statistic p.value    s.value  conf.low  \n",
       "1 (Y) - (X)  -0.06763862 0.02963053 -2.282734 0.02244605 5.477394 -0.1257134\n",
       "  conf.high   \n",
       "1 -0.009563842"
      ]
     },
     "metadata": {},
     "output_type": "display_data"
    }
   ],
   "source": [
    "avg_predictions(model, by=\"Actor\", hypothesis = ~ pairwise)"
   ]
  }
 ],
 "metadata": {
  "kernelspec": {
   "display_name": "R",
   "language": "R",
   "name": "ir"
  },
  "language_info": {
   "codemirror_mode": "r",
   "file_extension": ".r",
   "mimetype": "text/x-r-source",
   "name": "R",
   "pygments_lexer": "r",
   "version": "4.3.3"
  }
 },
 "nbformat": 4,
 "nbformat_minor": 2
}
