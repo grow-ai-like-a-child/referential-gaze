{
 "cells": [
  {
   "cell_type": "markdown",
   "metadata": {},
   "source": [
    "# Loading Responses"
   ]
  },
  {
   "cell_type": "code",
   "execution_count": 1,
   "metadata": {
    "vscode": {
     "languageId": "r"
    }
   },
   "outputs": [
    {
     "name": "stderr",
     "output_type": "stream",
     "text": [
      "Loading required package: lme4\n",
      "\n",
      "Loading required package: Matrix\n",
      "\n",
      "Loading required package: readr\n",
      "\n",
      "Loading required package: marginaleffects\n",
      "\n",
      "Loading required package: emmeans\n",
      "\n",
      "Welcome to emmeans.\n",
      "Caution: You lose important information if you filter this package's results.\n",
      "See '? untidy'\n",
      "\n",
      "Loading required package: car\n",
      "\n",
      "Loading required package: carData\n",
      "\n",
      "\u001b[1mRows: \u001b[22m\u001b[34m156825\u001b[39m \u001b[1mColumns: \u001b[22m\u001b[34m14\u001b[39m\n",
      "\u001b[36m--\u001b[39m \u001b[1mColumn specification\u001b[22m \u001b[36m--------------------------------------------------------\u001b[39m\n",
      "\u001b[1mDelimiter:\u001b[22m \",\"\n",
      "\u001b[31mchr\u001b[39m (2): Run_ID, Part\n",
      "\u001b[32mint\u001b[39m (2): Proximity, n_candidates\n",
      "\u001b[33mlgl\u001b[39m (1): Accuracy\n",
      "\u001b[31mfct\u001b[39m (9): Stimulus_ID, Prompt_ID, Participant_ID, Group, GroupKind, Angle, Ac...\n",
      "\n",
      "\u001b[36mi\u001b[39m Use `spec()` to retrieve the full column specification for this data.\n",
      "\u001b[36mi\u001b[39m Specify the column types or set `show_col_types = FALSE` to quiet this message.\n"
     ]
    }
   ],
   "source": [
    "options(warn=1)\n",
    "if(!require('lme4')) {\n",
    "    install.packages('lme4', repos='https://cloud.r-project.org')\n",
    "    library('lme4')\n",
    "}\n",
    "if(!require('readr')) {\n",
    "    install.packages('readr', repos='https://cloud.r-project.org')\n",
    "    library('readr')\n",
    "}\n",
    "if(!require('marginaleffects')) {\n",
    "    install.packages('marginaleffects', repos='https://cloud.r-project.org')\n",
    "    library('marginaleffects')\n",
    "}\n",
    "if(!require('emmeans')) {\n",
    "    install.packages('emmeans', repos='https://cloud.r-project.org')\n",
    "    library('emmeans')\n",
    "}\n",
    "if(!require('car')) {\n",
    "    install.packages('car', repos='https://cloud.r-project.org')\n",
    "    library('car')\n",
    "}\n",
    "df <- read_csv(\"result_1743457603_20250506_20250506F.csv\", na = \"empty\", col_select = c(\"Accuracy\", \"Group\", \"GroupKind\", \"Angle\", \"Proximity\", \"n_candidates\", \"Actor\", \"Candidates\", \"Stimulus_ID\", \"Prompt_ID\", \"Participant_ID\", \"list_id\", \"Run_ID\", \"Part\"), col_types = cols(\n",
    "    Accuracy = col_logical(),\n",
    "    Group = col_factor(),\n",
    "    GroupKind = col_factor(),\n",
    "    Angle = col_factor(),\n",
    "    Proximity = col_integer(),\n",
    "    n_candidates = col_integer(),\n",
    "    Actor = col_factor(c('X', 'Y')),\n",
    "    Candidates = col_factor(),\n",
    "    Stimulus_ID = col_factor(),\n",
    "    Prompt_ID = col_factor(),\n",
    "    Participant_ID = col_factor(),\n",
    "    list_id = col_factor(),\n",
    "    Run_ID = col_character(),\n",
    "    Part = col_character(),\n",
    "),show_col_types = TRUE)\n",
    "df <- df[df$Group == \"Humans\" & df$list_id != -1, ]\n",
    "df$offset <- log(1/df$n_candidates / (1 - 1/df$n_candidates))"
   ]
  },
  {
   "cell_type": "code",
   "execution_count": 2,
   "metadata": {
    "vscode": {
     "languageId": "r"
    }
   },
   "outputs": [
    {
     "data": {
      "text/plain": [
       "R version 4.3.3 (2024-02-29)\n",
       "Platform: aarch64-apple-darwin20.0.0 (64-bit)\n",
       "Running under: macOS 15.5\n",
       "\n",
       "Matrix products: default\n",
       "BLAS/LAPACK: /Users/zory/miniforge3/envs/py310/lib/libopenblas.0.dylib;  LAPACK version 3.12.0\n",
       "\n",
       "locale:\n",
       "[1] C\n",
       "\n",
       "time zone: America/Los_Angeles\n",
       "tzcode source: system (macOS)\n",
       "\n",
       "attached base packages:\n",
       "[1] stats     graphics  grDevices utils     datasets  methods   base     \n",
       "\n",
       "other attached packages:\n",
       "[1] car_3.1-3              carData_3.0-5          emmeans_1.11.0        \n",
       "[4] marginaleffects_0.25.1 readr_2.1.5            lme4_1.1-35.5         \n",
       "[7] Matrix_1.6-5          \n",
       "\n",
       "loaded via a namespace (and not attached):\n",
       " [1] bit_4.6.0          jsonlite_2.0.0     compiler_4.3.3     crayon_1.5.3      \n",
       " [5] tidyselect_1.2.1   Rcpp_1.0.14        IRdisplay_1.1      parallel_4.3.3    \n",
       " [9] splines_4.3.3      boot_1.3-31        uuid_1.2-1         fastmap_1.2.0     \n",
       "[13] IRkernel_1.3.2     lattice_0.22-6     R6_2.6.1           generics_0.1.4    \n",
       "[17] Formula_1.2-5      MASS_7.3-60.0.1    backports_1.5.0    tibble_3.2.1      \n",
       "[21] nloptr_2.2.1       minqa_1.2.8        pillar_1.10.1      tzdb_0.5.0        \n",
       "[25] rlang_1.1.5        repr_1.1.6         bit64_4.6.0-1      estimability_1.5.1\n",
       "[29] cli_3.6.4          withr_3.0.2        magrittr_2.0.3     digest_0.6.37     \n",
       "[33] grid_4.3.3         vroom_1.6.5        mvtnorm_1.3-3      xtable_1.8-4      \n",
       "[37] base64enc_0.1-3    hms_1.1.3          pbdZMQ_0.3-14      lifecycle_1.0.4   \n",
       "[41] nlme_3.1-168       vctrs_0.6.5        evaluate_0.22      glue_1.8.0        \n",
       "[45] data.table_1.17.0  abind_1.4-8        tools_4.3.3        pkgconfig_2.0.3   \n",
       "[49] htmltools_0.5.8.1 "
      ]
     },
     "metadata": {},
     "output_type": "display_data"
    }
   ],
   "source": [
    "sessionInfo()"
   ]
  },
  {
   "cell_type": "markdown",
   "metadata": {},
   "source": [
    "# Statistics"
   ]
  },
  {
   "cell_type": "code",
   "execution_count": 3,
   "metadata": {
    "vscode": {
     "languageId": "r"
    }
   },
   "outputs": [
    {
     "data": {
      "text/html": [
       "0.992970123022847"
      ],
      "text/latex": [
       "0.992970123022847"
      ],
      "text/markdown": [
       "0.992970123022847"
      ],
      "text/plain": [
       "[1] 0.9929701"
      ]
     },
     "metadata": {},
     "output_type": "display_data"
    }
   ],
   "source": [
    "mean(df[ (df$Proximity == 1) & (df$n_candidates == 2), ]$Accuracy)"
   ]
  },
  {
   "cell_type": "code",
   "execution_count": 4,
   "metadata": {
    "vscode": {
     "languageId": "r"
    }
   },
   "outputs": [
    {
     "data": {
      "text/html": [
       "65"
      ],
      "text/latex": [
       "65"
      ],
      "text/markdown": [
       "65"
      ],
      "text/plain": [
       "[1] 65"
      ]
     },
     "metadata": {},
     "output_type": "display_data"
    }
   ],
   "source": [
    "length(unique(df$Participant_ID))"
   ]
  },
  {
   "cell_type": "markdown",
   "metadata": {},
   "source": [
    "# Fitting models"
   ]
  },
  {
   "cell_type": "code",
   "execution_count": 5,
   "metadata": {
    "vscode": {
     "languageId": "r"
    }
   },
   "outputs": [
    {
     "name": "stderr",
     "output_type": "stream",
     "text": [
      "Warning message in checkConv(attr(opt, \"derivs\"), opt$par, ctrl = control$checkConv, :\n",
      "\"Model failed to converge with max|grad| = 0.241842 (tol = 0.002, component 1)\"\n"
     ]
    }
   ],
   "source": [
    "model0 <- glmer(Accuracy ~ Angle + scale(Proximity, scale=FALSE) + scale(n_candidates, scale=FALSE) + Actor + (1|Actor:Candidates) + (1|Stimulus_ID) + (1|Participant_ID), \n",
    "               data = df,\n",
    "               family = binomial(link = \"logit\"), \n",
    "               offset = offset)"
   ]
  },
  {
   "cell_type": "code",
   "execution_count": 6,
   "metadata": {
    "vscode": {
     "languageId": "r"
    }
   },
   "outputs": [
    {
     "data": {
      "text/plain": [
       "Generalized linear mixed model fit by maximum likelihood (Laplace\n",
       "  Approximation) [glmerMod]\n",
       " Family: binomial  ( logit )\n",
       "Formula: \n",
       "Accuracy ~ Angle + scale(Proximity, scale = FALSE) + scale(n_candidates,  \n",
       "    scale = FALSE) + Actor + (1 | Stimulus_ID) + (1 | Participant_ID)\n",
       "   Data: df\n",
       " Offset: offset\n",
       "      AIC       BIC    logLik  deviance  df.resid \n",
       "1312.7752 1360.6236 -648.3876 1296.7752      2917 \n",
       "Random effects:\n",
       " Groups         Name        Std.Dev.\n",
       " Stimulus_ID    (Intercept) 1.6566  \n",
       " Participant_ID (Intercept) 0.6354  \n",
       "Number of obs: 2925, groups:  Stimulus_ID, 900; Participant_ID, 65\n",
       "Fixed Effects:\n",
       "                       (Intercept)                           Angleleft  \n",
       "                             7.414                              -3.236  \n",
       "                        Angleright     scale(Proximity, scale = FALSE)  \n",
       "                            -3.218                              -1.305  \n",
       "scale(n_candidates, scale = FALSE)                              ActorY  \n",
       "                            -0.670                              -1.003  "
      ]
     },
     "metadata": {},
     "output_type": "display_data"
    }
   ],
   "source": [
    "model1 <- glmer(Accuracy ~ Angle + scale(Proximity, scale=FALSE) + scale(n_candidates, scale=FALSE) + Actor + (1|Stimulus_ID) + (1|Participant_ID), \n",
    "               data = df,\n",
    "               family = binomial(link = \"logit\"), \n",
    "               offset = offset)\n",
    "model1"
   ]
  },
  {
   "cell_type": "code",
   "execution_count": 7,
   "metadata": {
    "vscode": {
     "languageId": "r"
    }
   },
   "outputs": [],
   "source": [
    "model2 <- glmer(Accuracy ~ Angle + scale(Proximity, scale=FALSE) + scale(n_candidates, scale=FALSE) + Actor + (1|Stimulus_ID), \n",
    "               data = df,\n",
    "               family = binomial(link = \"logit\"), \n",
    "               offset = offset)"
   ]
  },
  {
   "cell_type": "markdown",
   "metadata": {},
   "source": [
    "# Model selection"
   ]
  },
  {
   "cell_type": "code",
   "execution_count": 8,
   "metadata": {
    "scrolled": false,
    "vscode": {
     "languageId": "r"
    }
   },
   "outputs": [
    {
     "data": {
      "text/html": [
       "<table class=\"dataframe\">\n",
       "<caption>A anova: 2 x 8</caption>\n",
       "<thead>\n",
       "\t<tr><th></th><th scope=col>npar</th><th scope=col>AIC</th><th scope=col>BIC</th><th scope=col>logLik</th><th scope=col>deviance</th><th scope=col>Chisq</th><th scope=col>Df</th><th scope=col>Pr(&gt;Chisq)</th></tr>\n",
       "\t<tr><th></th><th scope=col>&lt;dbl&gt;</th><th scope=col>&lt;dbl&gt;</th><th scope=col>&lt;dbl&gt;</th><th scope=col>&lt;dbl&gt;</th><th scope=col>&lt;dbl&gt;</th><th scope=col>&lt;dbl&gt;</th><th scope=col>&lt;dbl&gt;</th><th scope=col>&lt;dbl&gt;</th></tr>\n",
       "</thead>\n",
       "<tbody>\n",
       "\t<tr><th scope=row>model2</th><td>7</td><td>1326.876</td><td>1368.743</td><td>-656.4379</td><td>1312.876</td><td>      NA</td><td>NA</td><td>          NA</td></tr>\n",
       "\t<tr><th scope=row>model1</th><td>8</td><td>1312.775</td><td>1360.624</td><td>-648.3876</td><td>1296.775</td><td>16.10054</td><td> 1</td><td>6.006683e-05</td></tr>\n",
       "</tbody>\n",
       "</table>\n"
      ],
      "text/latex": [
       "A anova: 2 x 8\n",
       "\\begin{tabular}{r|llllllll}\n",
       "  & npar & AIC & BIC & logLik & deviance & Chisq & Df & Pr(>Chisq)\\\\\n",
       "  & <dbl> & <dbl> & <dbl> & <dbl> & <dbl> & <dbl> & <dbl> & <dbl>\\\\\n",
       "\\hline\n",
       "\tmodel2 & 7 & 1326.876 & 1368.743 & -656.4379 & 1312.876 &       NA & NA &           NA\\\\\n",
       "\tmodel1 & 8 & 1312.775 & 1360.624 & -648.3876 & 1296.775 & 16.10054 &  1 & 6.006683e-05\\\\\n",
       "\\end{tabular}\n"
      ],
      "text/markdown": [
       "\n",
       "A anova: 2 x 8\n",
       "\n",
       "| <!--/--> | npar &lt;dbl&gt; | AIC &lt;dbl&gt; | BIC &lt;dbl&gt; | logLik &lt;dbl&gt; | deviance &lt;dbl&gt; | Chisq &lt;dbl&gt; | Df &lt;dbl&gt; | Pr(&gt;Chisq) &lt;dbl&gt; |\n",
       "|---|---|---|---|---|---|---|---|---|\n",
       "| model2 | 7 | 1326.876 | 1368.743 | -656.4379 | 1312.876 |       NA | NA |           NA |\n",
       "| model1 | 8 | 1312.775 | 1360.624 | -648.3876 | 1296.775 | 16.10054 |  1 | 6.006683e-05 |\n",
       "\n"
      ],
      "text/plain": [
       "       npar AIC      BIC      logLik    deviance Chisq    Df Pr(>Chisq)  \n",
       "model2 7    1326.876 1368.743 -656.4379 1312.876       NA NA           NA\n",
       "model1 8    1312.775 1360.624 -648.3876 1296.775 16.10054  1 6.006683e-05"
      ]
     },
     "metadata": {},
     "output_type": "display_data"
    }
   ],
   "source": [
    "anova(model1, model2)"
   ]
  },
  {
   "cell_type": "code",
   "execution_count": 9,
   "metadata": {
    "vscode": {
     "languageId": "r"
    }
   },
   "outputs": [],
   "source": [
    "model <- model1"
   ]
  },
  {
   "cell_type": "markdown",
   "metadata": {},
   "source": [
    "# Interpretation"
   ]
  },
  {
   "cell_type": "code",
   "execution_count": 10,
   "metadata": {
    "vscode": {
     "languageId": "r"
    }
   },
   "outputs": [
    {
     "data": {
      "text/plain": [
       "Generalized linear mixed model fit by maximum likelihood (Laplace\n",
       "  Approximation) [glmerMod]\n",
       " Family: binomial  ( logit )\n",
       "Formula: \n",
       "Accuracy ~ Angle + scale(Proximity, scale = FALSE) + scale(n_candidates,  \n",
       "    scale = FALSE) + Actor + (1 | Stimulus_ID) + (1 | Participant_ID)\n",
       "   Data: df\n",
       " Offset: offset\n",
       "\n",
       "     AIC      BIC   logLik deviance df.resid \n",
       "  1312.8   1360.6   -648.4   1296.8     2917 \n",
       "\n",
       "Scaled residuals: \n",
       "    Min      1Q  Median      3Q     Max \n",
       "-7.6893  0.0358  0.0892  0.1932  2.0510 \n",
       "\n",
       "Random effects:\n",
       " Groups         Name        Variance Std.Dev.\n",
       " Stimulus_ID    (Intercept) 2.7443   1.6566  \n",
       " Participant_ID (Intercept) 0.4037   0.6354  \n",
       "Number of obs: 2925, groups:  Stimulus_ID, 900; Participant_ID, 65\n",
       "\n",
       "Fixed effects:\n",
       "                                   Estimate Std. Error z value Pr(>|z|)    \n",
       "(Intercept)                          7.4138     0.5270  14.068  < 2e-16 ***\n",
       "Angleleft                           -3.2358     0.4217  -7.673 1.68e-14 ***\n",
       "Angleright                          -3.2181     0.4238  -7.593 3.13e-14 ***\n",
       "scale(Proximity, scale = FALSE)     -1.3048     0.1677  -7.779 7.30e-15 ***\n",
       "scale(n_candidates, scale = FALSE)  -0.6700     0.1518  -4.413 1.02e-05 ***\n",
       "ActorY                              -1.0033     0.2383  -4.210 2.55e-05 ***\n",
       "---\n",
       "Signif. codes:  0 '***' 0.001 '**' 0.01 '*' 0.05 '.' 0.1 ' ' 1\n",
       "\n",
       "Correlation of Fixed Effects:\n",
       "            (Intr) Angllf Anglrg s(Ps=F s(_s=F\n",
       "Angleleft   -0.804                            \n",
       "Angleright  -0.802  0.832                     \n",
       "s(P,s=FALSE -0.418  0.200  0.211              \n",
       "s(_,s=FALSE -0.398  0.237  0.244  0.278       \n",
       "ActorY      -0.383  0.108  0.094  0.138 -0.021"
      ]
     },
     "metadata": {},
     "output_type": "display_data"
    }
   ],
   "source": [
    "summary(model)"
   ]
  },
  {
   "cell_type": "code",
   "execution_count": 11,
   "metadata": {
    "vscode": {
     "languageId": "r"
    }
   },
   "outputs": [
    {
     "data": {
      "text/html": [
       "<table class=\"dataframe\">\n",
       "<caption>A data.frame: 6 x 9</caption>\n",
       "<thead>\n",
       "\t<tr><th scope=col>term</th><th scope=col>Estimate</th><th scope=col>Std. Error</th><th scope=col>z value</th><th scope=col>Pr(&gt;|z|)</th><th scope=col>CI_low</th><th scope=col>CI_high</th><th scope=col>effect_size_denom</th><th scope=col>effect_size</th></tr>\n",
       "\t<tr><th scope=col>&lt;chr&gt;</th><th scope=col>&lt;dbl&gt;</th><th scope=col>&lt;dbl&gt;</th><th scope=col>&lt;dbl&gt;</th><th scope=col>&lt;chr&gt;</th><th scope=col>&lt;dbl&gt;</th><th scope=col>&lt;dbl&gt;</th><th scope=col>&lt;dbl&gt;</th><th scope=col>&lt;dbl&gt;</th></tr>\n",
       "</thead>\n",
       "<tbody>\n",
       "\t<tr><td>(Intercept)                       </td><td> 7.4138498</td><td>0.5270114</td><td>14.067722</td><td>0.000000000000000000000000000000000000000000005996996</td><td> 6.3809075</td><td> 8.4467922</td><td>2.537307</td><td> 2.9219368</td></tr>\n",
       "\t<tr><td>Angleleft                         </td><td>-3.2358288</td><td>0.4217099</td><td>-7.673115</td><td>0.000000000000016786913754493492702827715485488177057</td><td>-4.0623803</td><td>-2.4092773</td><td>2.537307</td><td>-1.2753006</td></tr>\n",
       "\t<tr><td>Angleright                        </td><td>-3.2180958</td><td>0.4238400</td><td>-7.592713</td><td>0.000000000000031327473973537336995396071273437968008</td><td>-4.0488222</td><td>-2.3873694</td><td>2.537307</td><td>-1.2683117</td></tr>\n",
       "\t<tr><td>scale(Proximity, scale = FALSE)   </td><td>-1.3047983</td><td>0.1677296</td><td>-7.779178</td><td>0.000000000000007299743423945285812410353771901962463</td><td>-1.6335483</td><td>-0.9760483</td><td>2.537307</td><td>-0.5142454</td></tr>\n",
       "\t<tr><td>scale(n_candidates, scale = FALSE)</td><td>-0.6700431</td><td>0.1518226</td><td>-4.413329</td><td>0.000010179310577112439211550608264555961568476050161</td><td>-0.9676154</td><td>-0.3724708</td><td>2.537307</td><td>-0.2640765</td></tr>\n",
       "\t<tr><td>ActorY                            </td><td>-1.0032615</td><td>0.2383074</td><td>-4.209947</td><td>0.000025543060988475885779045923551500152370863361284</td><td>-1.4703439</td><td>-0.5361790</td><td>2.537307</td><td>-0.3954041</td></tr>\n",
       "</tbody>\n",
       "</table>\n"
      ],
      "text/latex": [
       "A data.frame: 6 x 9\n",
       "\\begin{tabular}{lllllllll}\n",
       " term & Estimate & Std. Error & z value & Pr(>\\textbar{}z\\textbar{}) & CI\\_low & CI\\_high & effect\\_size\\_denom & effect\\_size\\\\\n",
       " <chr> & <dbl> & <dbl> & <dbl> & <chr> & <dbl> & <dbl> & <dbl> & <dbl>\\\\\n",
       "\\hline\n",
       "\t (Intercept)                        &  7.4138498 & 0.5270114 & 14.067722 & 0.000000000000000000000000000000000000000000005996996 &  6.3809075 &  8.4467922 & 2.537307 &  2.9219368\\\\\n",
       "\t Angleleft                          & -3.2358288 & 0.4217099 & -7.673115 & 0.000000000000016786913754493492702827715485488177057 & -4.0623803 & -2.4092773 & 2.537307 & -1.2753006\\\\\n",
       "\t Angleright                         & -3.2180958 & 0.4238400 & -7.592713 & 0.000000000000031327473973537336995396071273437968008 & -4.0488222 & -2.3873694 & 2.537307 & -1.2683117\\\\\n",
       "\t scale(Proximity, scale = FALSE)    & -1.3047983 & 0.1677296 & -7.779178 & 0.000000000000007299743423945285812410353771901962463 & -1.6335483 & -0.9760483 & 2.537307 & -0.5142454\\\\\n",
       "\t scale(n\\_candidates, scale = FALSE) & -0.6700431 & 0.1518226 & -4.413329 & 0.000010179310577112439211550608264555961568476050161 & -0.9676154 & -0.3724708 & 2.537307 & -0.2640765\\\\\n",
       "\t ActorY                             & -1.0032615 & 0.2383074 & -4.209947 & 0.000025543060988475885779045923551500152370863361284 & -1.4703439 & -0.5361790 & 2.537307 & -0.3954041\\\\\n",
       "\\end{tabular}\n"
      ],
      "text/markdown": [
       "\n",
       "A data.frame: 6 x 9\n",
       "\n",
       "| term &lt;chr&gt; | Estimate &lt;dbl&gt; | Std. Error &lt;dbl&gt; | z value &lt;dbl&gt; | Pr(&gt;|z|) &lt;chr&gt; | CI_low &lt;dbl&gt; | CI_high &lt;dbl&gt; | effect_size_denom &lt;dbl&gt; | effect_size &lt;dbl&gt; |\n",
       "|---|---|---|---|---|---|---|---|---|\n",
       "| (Intercept)                        |  7.4138498 | 0.5270114 | 14.067722 | 0.000000000000000000000000000000000000000000005996996 |  6.3809075 |  8.4467922 | 2.537307 |  2.9219368 |\n",
       "| Angleleft                          | -3.2358288 | 0.4217099 | -7.673115 | 0.000000000000016786913754493492702827715485488177057 | -4.0623803 | -2.4092773 | 2.537307 | -1.2753006 |\n",
       "| Angleright                         | -3.2180958 | 0.4238400 | -7.592713 | 0.000000000000031327473973537336995396071273437968008 | -4.0488222 | -2.3873694 | 2.537307 | -1.2683117 |\n",
       "| scale(Proximity, scale = FALSE)    | -1.3047983 | 0.1677296 | -7.779178 | 0.000000000000007299743423945285812410353771901962463 | -1.6335483 | -0.9760483 | 2.537307 | -0.5142454 |\n",
       "| scale(n_candidates, scale = FALSE) | -0.6700431 | 0.1518226 | -4.413329 | 0.000010179310577112439211550608264555961568476050161 | -0.9676154 | -0.3724708 | 2.537307 | -0.2640765 |\n",
       "| ActorY                             | -1.0032615 | 0.2383074 | -4.209947 | 0.000025543060988475885779045923551500152370863361284 | -1.4703439 | -0.5361790 | 2.537307 | -0.3954041 |\n",
       "\n"
      ],
      "text/plain": [
       "  term                               Estimate   Std. Error z value  \n",
       "1 (Intercept)                         7.4138498 0.5270114  14.067722\n",
       "2 Angleleft                          -3.2358288 0.4217099  -7.673115\n",
       "3 Angleright                         -3.2180958 0.4238400  -7.592713\n",
       "4 scale(Proximity, scale = FALSE)    -1.3047983 0.1677296  -7.779178\n",
       "5 scale(n_candidates, scale = FALSE) -0.6700431 0.1518226  -4.413329\n",
       "6 ActorY                             -1.0032615 0.2383074  -4.209947\n",
       "  Pr(>|z|)                                              CI_low     CI_high   \n",
       "1 0.000000000000000000000000000000000000000000005996996  6.3809075  8.4467922\n",
       "2 0.000000000000016786913754493492702827715485488177057 -4.0623803 -2.4092773\n",
       "3 0.000000000000031327473973537336995396071273437968008 -4.0488222 -2.3873694\n",
       "4 0.000000000000007299743423945285812410353771901962463 -1.6335483 -0.9760483\n",
       "5 0.000010179310577112439211550608264555961568476050161 -0.9676154 -0.3724708\n",
       "6 0.000025543060988475885779045923551500152370863361284 -1.4703439 -0.5361790\n",
       "  effect_size_denom effect_size\n",
       "1 2.537307           2.9219368 \n",
       "2 2.537307          -1.2753006 \n",
       "3 2.537307          -1.2683117 \n",
       "4 2.537307          -0.5142454 \n",
       "5 2.537307          -0.2640765 \n",
       "6 2.537307          -0.3954041 "
      ]
     },
     "metadata": {},
     "output_type": "display_data"
    }
   ],
   "source": [
    "vc_list <- lapply(VarCorr(model), function(x) attr(x, \"stddev\")^2)\n",
    "vc <- sum(unlist(vc_list))\n",
    "effect_size_denom_t <- sqrt(vc + pi^2/3)\n",
    "\n",
    "res <- summary(model)$coefficients\n",
    "res <- as.data.frame(res)\n",
    "res <- cbind(term = rownames(res), res)\n",
    "rownames(res) <- NULL\n",
    "res$`Pr(>|z|)` <- format(res$`Pr(>|z|)`, scientific = FALSE)\n",
    "res$CI_low <- res$Estimate - 1.96 * res$`Std. Error`\n",
    "res$CI_high <- res$Estimate + 1.96 * res$`Std. Error`\n",
    "res$effect_size_denom <- effect_size_denom_t\n",
    "res$effect_size <- res$Estimate / effect_size_denom_t\n",
    "res"
   ]
  },
  {
   "cell_type": "code",
   "execution_count": 12,
   "metadata": {
    "vscode": {
     "languageId": "r"
    }
   },
   "outputs": [
    {
     "data": {
      "text/html": [
       "<table class=\"dataframe\">\n",
       "<caption>A predictions: 3 x 8</caption>\n",
       "<thead>\n",
       "\t<tr><th scope=col>hypothesis</th><th scope=col>estimate</th><th scope=col>std.error</th><th scope=col>statistic</th><th scope=col>p.value</th><th scope=col>s.value</th><th scope=col>conf.low</th><th scope=col>conf.high</th></tr>\n",
       "\t<tr><th scope=col>&lt;chr&gt;</th><th scope=col>&lt;dbl&gt;</th><th scope=col>&lt;dbl&gt;</th><th scope=col>&lt;dbl&gt;</th><th scope=col>&lt;dbl&gt;</th><th scope=col>&lt;dbl&gt;</th><th scope=col>&lt;dbl&gt;</th><th scope=col>&lt;dbl&gt;</th></tr>\n",
       "</thead>\n",
       "<tbody>\n",
       "\t<tr><td>(left) - (front) </td><td>-0.079567747</td><td>0.01356133</td><td>-5.8672512</td><td>4.430791e-09</td><td>27.7497885</td><td>-0.10614747</td><td>-0.05298802</td></tr>\n",
       "\t<tr><td>(right) - (front)</td><td>-0.074370462</td><td>0.01272584</td><td>-5.8440532</td><td>5.094575e-09</td><td>27.5483911</td><td>-0.09931264</td><td>-0.04942828</td></tr>\n",
       "\t<tr><td>(right) - (left) </td><td> 0.005197285</td><td>0.01418944</td><td> 0.3662782</td><td>7.141575e-01</td><td> 0.4856859</td><td>-0.02261352</td><td> 0.03300809</td></tr>\n",
       "</tbody>\n",
       "</table>\n"
      ],
      "text/latex": [
       "A predictions: 3 x 8\n",
       "\\begin{tabular}{llllllll}\n",
       " hypothesis & estimate & std.error & statistic & p.value & s.value & conf.low & conf.high\\\\\n",
       " <chr> & <dbl> & <dbl> & <dbl> & <dbl> & <dbl> & <dbl> & <dbl>\\\\\n",
       "\\hline\n",
       "\t (left) - (front)  & -0.079567747 & 0.01356133 & -5.8672512 & 4.430791e-09 & 27.7497885 & -0.10614747 & -0.05298802\\\\\n",
       "\t (right) - (front) & -0.074370462 & 0.01272584 & -5.8440532 & 5.094575e-09 & 27.5483911 & -0.09931264 & -0.04942828\\\\\n",
       "\t (right) - (left)  &  0.005197285 & 0.01418944 &  0.3662782 & 7.141575e-01 &  0.4856859 & -0.02261352 &  0.03300809\\\\\n",
       "\\end{tabular}\n"
      ],
      "text/markdown": [
       "\n",
       "A predictions: 3 x 8\n",
       "\n",
       "| hypothesis &lt;chr&gt; | estimate &lt;dbl&gt; | std.error &lt;dbl&gt; | statistic &lt;dbl&gt; | p.value &lt;dbl&gt; | s.value &lt;dbl&gt; | conf.low &lt;dbl&gt; | conf.high &lt;dbl&gt; |\n",
       "|---|---|---|---|---|---|---|---|\n",
       "| (left) - (front)  | -0.079567747 | 0.01356133 | -5.8672512 | 4.430791e-09 | 27.7497885 | -0.10614747 | -0.05298802 |\n",
       "| (right) - (front) | -0.074370462 | 0.01272584 | -5.8440532 | 5.094575e-09 | 27.5483911 | -0.09931264 | -0.04942828 |\n",
       "| (right) - (left)  |  0.005197285 | 0.01418944 |  0.3662782 | 7.141575e-01 |  0.4856859 | -0.02261352 |  0.03300809 |\n",
       "\n"
      ],
      "text/plain": [
       "  hypothesis        estimate     std.error  statistic  p.value      s.value   \n",
       "1 (left) - (front)  -0.079567747 0.01356133 -5.8672512 4.430791e-09 27.7497885\n",
       "2 (right) - (front) -0.074370462 0.01272584 -5.8440532 5.094575e-09 27.5483911\n",
       "3 (right) - (left)   0.005197285 0.01418944  0.3662782 7.141575e-01  0.4856859\n",
       "  conf.low    conf.high  \n",
       "1 -0.10614747 -0.05298802\n",
       "2 -0.09931264 -0.04942828\n",
       "3 -0.02261352  0.03300809"
      ]
     },
     "metadata": {},
     "output_type": "display_data"
    }
   ],
   "source": [
    "avg_predictions(model, by=\"Angle\", hypothesis = ~ pairwise)"
   ]
  },
  {
   "cell_type": "code",
   "execution_count": 13,
   "metadata": {
    "vscode": {
     "languageId": "r"
    }
   },
   "outputs": [
    {
     "data": {
      "text/html": [
       "<table class=\"dataframe\">\n",
       "<caption>A predictions: 3 x 8</caption>\n",
       "<thead>\n",
       "\t<tr><th scope=col>Proximity</th><th scope=col>estimate</th><th scope=col>std.error</th><th scope=col>statistic</th><th scope=col>p.value</th><th scope=col>s.value</th><th scope=col>conf.low</th><th scope=col>conf.high</th></tr>\n",
       "\t<tr><th scope=col>&lt;int&gt;</th><th scope=col>&lt;dbl&gt;</th><th scope=col>&lt;dbl&gt;</th><th scope=col>&lt;dbl&gt;</th><th scope=col>&lt;dbl&gt;</th><th scope=col>&lt;dbl&gt;</th><th scope=col>&lt;dbl&gt;</th><th scope=col>&lt;dbl&gt;</th></tr>\n",
       "</thead>\n",
       "<tbody>\n",
       "\t<tr><td>1</td><td>0.9845313</td><td>0.004086799</td><td>240.90525</td><td>0</td><td>Inf</td><td>0.9765214</td><td>0.9925413</td></tr>\n",
       "\t<tr><td>2</td><td>0.9582795</td><td>0.006858015</td><td>139.73132</td><td>0</td><td>Inf</td><td>0.9448380</td><td>0.9717209</td></tr>\n",
       "\t<tr><td>3</td><td>0.8942306</td><td>0.015564925</td><td> 57.45165</td><td>0</td><td>Inf</td><td>0.8637240</td><td>0.9247373</td></tr>\n",
       "</tbody>\n",
       "</table>\n"
      ],
      "text/latex": [
       "A predictions: 3 x 8\n",
       "\\begin{tabular}{llllllll}\n",
       " Proximity & estimate & std.error & statistic & p.value & s.value & conf.low & conf.high\\\\\n",
       " <int> & <dbl> & <dbl> & <dbl> & <dbl> & <dbl> & <dbl> & <dbl>\\\\\n",
       "\\hline\n",
       "\t 1 & 0.9845313 & 0.004086799 & 240.90525 & 0 & Inf & 0.9765214 & 0.9925413\\\\\n",
       "\t 2 & 0.9582795 & 0.006858015 & 139.73132 & 0 & Inf & 0.9448380 & 0.9717209\\\\\n",
       "\t 3 & 0.8942306 & 0.015564925 &  57.45165 & 0 & Inf & 0.8637240 & 0.9247373\\\\\n",
       "\\end{tabular}\n"
      ],
      "text/markdown": [
       "\n",
       "A predictions: 3 x 8\n",
       "\n",
       "| Proximity &lt;int&gt; | estimate &lt;dbl&gt; | std.error &lt;dbl&gt; | statistic &lt;dbl&gt; | p.value &lt;dbl&gt; | s.value &lt;dbl&gt; | conf.low &lt;dbl&gt; | conf.high &lt;dbl&gt; |\n",
       "|---|---|---|---|---|---|---|---|\n",
       "| 1 | 0.9845313 | 0.004086799 | 240.90525 | 0 | Inf | 0.9765214 | 0.9925413 |\n",
       "| 2 | 0.9582795 | 0.006858015 | 139.73132 | 0 | Inf | 0.9448380 | 0.9717209 |\n",
       "| 3 | 0.8942306 | 0.015564925 |  57.45165 | 0 | Inf | 0.8637240 | 0.9247373 |\n",
       "\n"
      ],
      "text/plain": [
       "  Proximity estimate  std.error   statistic p.value s.value conf.low  conf.high\n",
       "1 1         0.9845313 0.004086799 240.90525 0       Inf     0.9765214 0.9925413\n",
       "2 2         0.9582795 0.006858015 139.73132 0       Inf     0.9448380 0.9717209\n",
       "3 3         0.8942306 0.015564925  57.45165 0       Inf     0.8637240 0.9247373"
      ]
     },
     "metadata": {},
     "output_type": "display_data"
    }
   ],
   "source": [
    "avg_predictions(model, by=\"Proximity\")"
   ]
  },
  {
   "cell_type": "code",
   "execution_count": 14,
   "metadata": {
    "vscode": {
     "languageId": "r"
    }
   },
   "outputs": [
    {
     "data": {
      "text/html": [
       "<table class=\"dataframe\">\n",
       "<caption>A slopes: 1 x 12</caption>\n",
       "<thead>\n",
       "\t<tr><th scope=col>term</th><th scope=col>contrast</th><th scope=col>estimate</th><th scope=col>std.error</th><th scope=col>statistic</th><th scope=col>p.value</th><th scope=col>s.value</th><th scope=col>conf.low</th><th scope=col>conf.high</th><th scope=col>predicted_lo</th><th scope=col>predicted_hi</th><th scope=col>predicted</th></tr>\n",
       "\t<tr><th scope=col>&lt;chr&gt;</th><th scope=col>&lt;chr&gt;</th><th scope=col>&lt;dbl&gt;</th><th scope=col>&lt;dbl&gt;</th><th scope=col>&lt;dbl&gt;</th><th scope=col>&lt;dbl&gt;</th><th scope=col>&lt;dbl&gt;</th><th scope=col>&lt;dbl&gt;</th><th scope=col>&lt;dbl&gt;</th><th scope=col>&lt;dbl&gt;</th><th scope=col>&lt;dbl&gt;</th><th scope=col>&lt;dbl&gt;</th></tr>\n",
       "</thead>\n",
       "<tbody>\n",
       "\t<tr><td>Proximity</td><td>dY/dX</td><td>-1.304798</td><td>0.167737</td><td>-7.778833</td><td>7.319637e-15</td><td>46.95715</td><td>-1.633557</td><td>-0.9760398</td><td>7.251832</td><td>7.251572</td><td>7.251702</td></tr>\n",
       "</tbody>\n",
       "</table>\n"
      ],
      "text/latex": [
       "A slopes: 1 x 12\n",
       "\\begin{tabular}{llllllllllll}\n",
       " term & contrast & estimate & std.error & statistic & p.value & s.value & conf.low & conf.high & predicted\\_lo & predicted\\_hi & predicted\\\\\n",
       " <chr> & <chr> & <dbl> & <dbl> & <dbl> & <dbl> & <dbl> & <dbl> & <dbl> & <dbl> & <dbl> & <dbl>\\\\\n",
       "\\hline\n",
       "\t Proximity & dY/dX & -1.304798 & 0.167737 & -7.778833 & 7.319637e-15 & 46.95715 & -1.633557 & -0.9760398 & 7.251832 & 7.251572 & 7.251702\\\\\n",
       "\\end{tabular}\n"
      ],
      "text/markdown": [
       "\n",
       "A slopes: 1 x 12\n",
       "\n",
       "| term &lt;chr&gt; | contrast &lt;chr&gt; | estimate &lt;dbl&gt; | std.error &lt;dbl&gt; | statistic &lt;dbl&gt; | p.value &lt;dbl&gt; | s.value &lt;dbl&gt; | conf.low &lt;dbl&gt; | conf.high &lt;dbl&gt; | predicted_lo &lt;dbl&gt; | predicted_hi &lt;dbl&gt; | predicted &lt;dbl&gt; |\n",
       "|---|---|---|---|---|---|---|---|---|---|---|---|\n",
       "| Proximity | dY/dX | -1.304798 | 0.167737 | -7.778833 | 7.319637e-15 | 46.95715 | -1.633557 | -0.9760398 | 7.251832 | 7.251572 | 7.251702 |\n",
       "\n"
      ],
      "text/plain": [
       "  term      contrast estimate  std.error statistic p.value      s.value \n",
       "1 Proximity dY/dX    -1.304798 0.167737  -7.778833 7.319637e-15 46.95715\n",
       "  conf.low  conf.high  predicted_lo predicted_hi predicted\n",
       "1 -1.633557 -0.9760398 7.251832     7.251572     7.251702 "
      ]
     },
     "metadata": {},
     "output_type": "display_data"
    }
   ],
   "source": [
    "avg_slopes(model, variables =\"Proximity\", type = \"link\")"
   ]
  },
  {
   "cell_type": "code",
   "execution_count": 15,
   "metadata": {
    "vscode": {
     "languageId": "r"
    }
   },
   "outputs": [
    {
     "data": {
      "text/html": [
       "<table class=\"dataframe\">\n",
       "<caption>A predictions: 3 x 8</caption>\n",
       "<thead>\n",
       "\t<tr><th scope=col>n_candidates</th><th scope=col>estimate</th><th scope=col>std.error</th><th scope=col>statistic</th><th scope=col>p.value</th><th scope=col>s.value</th><th scope=col>conf.low</th><th scope=col>conf.high</th></tr>\n",
       "\t<tr><th scope=col>&lt;int&gt;</th><th scope=col>&lt;dbl&gt;</th><th scope=col>&lt;dbl&gt;</th><th scope=col>&lt;dbl&gt;</th><th scope=col>&lt;dbl&gt;</th><th scope=col>&lt;dbl&gt;</th><th scope=col>&lt;dbl&gt;</th><th scope=col>&lt;dbl&gt;</th></tr>\n",
       "</thead>\n",
       "<tbody>\n",
       "\t<tr><td>2</td><td>0.9621340</td><td>0.007425048</td><td>129.57950</td><td>0</td><td>Inf</td><td>0.9475811</td><td>0.9766868</td></tr>\n",
       "\t<tr><td>3</td><td>0.9352091</td><td>0.009146027</td><td>102.25305</td><td>0</td><td>Inf</td><td>0.9172832</td><td>0.9531350</td></tr>\n",
       "\t<tr><td>4</td><td>0.9004136</td><td>0.015686028</td><td> 57.40227</td><td>0</td><td>Inf</td><td>0.8696695</td><td>0.9311576</td></tr>\n",
       "</tbody>\n",
       "</table>\n"
      ],
      "text/latex": [
       "A predictions: 3 x 8\n",
       "\\begin{tabular}{llllllll}\n",
       " n\\_candidates & estimate & std.error & statistic & p.value & s.value & conf.low & conf.high\\\\\n",
       " <int> & <dbl> & <dbl> & <dbl> & <dbl> & <dbl> & <dbl> & <dbl>\\\\\n",
       "\\hline\n",
       "\t 2 & 0.9621340 & 0.007425048 & 129.57950 & 0 & Inf & 0.9475811 & 0.9766868\\\\\n",
       "\t 3 & 0.9352091 & 0.009146027 & 102.25305 & 0 & Inf & 0.9172832 & 0.9531350\\\\\n",
       "\t 4 & 0.9004136 & 0.015686028 &  57.40227 & 0 & Inf & 0.8696695 & 0.9311576\\\\\n",
       "\\end{tabular}\n"
      ],
      "text/markdown": [
       "\n",
       "A predictions: 3 x 8\n",
       "\n",
       "| n_candidates &lt;int&gt; | estimate &lt;dbl&gt; | std.error &lt;dbl&gt; | statistic &lt;dbl&gt; | p.value &lt;dbl&gt; | s.value &lt;dbl&gt; | conf.low &lt;dbl&gt; | conf.high &lt;dbl&gt; |\n",
       "|---|---|---|---|---|---|---|---|\n",
       "| 2 | 0.9621340 | 0.007425048 | 129.57950 | 0 | Inf | 0.9475811 | 0.9766868 |\n",
       "| 3 | 0.9352091 | 0.009146027 | 102.25305 | 0 | Inf | 0.9172832 | 0.9531350 |\n",
       "| 4 | 0.9004136 | 0.015686028 |  57.40227 | 0 | Inf | 0.8696695 | 0.9311576 |\n",
       "\n"
      ],
      "text/plain": [
       "  n_candidates estimate  std.error   statistic p.value s.value conf.low \n",
       "1 2            0.9621340 0.007425048 129.57950 0       Inf     0.9475811\n",
       "2 3            0.9352091 0.009146027 102.25305 0       Inf     0.9172832\n",
       "3 4            0.9004136 0.015686028  57.40227 0       Inf     0.8696695\n",
       "  conf.high\n",
       "1 0.9766868\n",
       "2 0.9531350\n",
       "3 0.9311576"
      ]
     },
     "metadata": {},
     "output_type": "display_data"
    }
   ],
   "source": [
    "avg_predictions(model, by=\"n_candidates\")"
   ]
  },
  {
   "cell_type": "code",
   "execution_count": 16,
   "metadata": {
    "vscode": {
     "languageId": "r"
    }
   },
   "outputs": [
    {
     "data": {
      "text/html": [
       "<table class=\"dataframe\">\n",
       "<caption>A slopes: 1 x 12</caption>\n",
       "<thead>\n",
       "\t<tr><th scope=col>term</th><th scope=col>contrast</th><th scope=col>estimate</th><th scope=col>std.error</th><th scope=col>statistic</th><th scope=col>p.value</th><th scope=col>s.value</th><th scope=col>conf.low</th><th scope=col>conf.high</th><th scope=col>predicted_lo</th><th scope=col>predicted_hi</th><th scope=col>predicted</th></tr>\n",
       "\t<tr><th scope=col>&lt;chr&gt;</th><th scope=col>&lt;chr&gt;</th><th scope=col>&lt;dbl&gt;</th><th scope=col>&lt;dbl&gt;</th><th scope=col>&lt;dbl&gt;</th><th scope=col>&lt;dbl&gt;</th><th scope=col>&lt;dbl&gt;</th><th scope=col>&lt;dbl&gt;</th><th scope=col>&lt;dbl&gt;</th><th scope=col>&lt;dbl&gt;</th><th scope=col>&lt;dbl&gt;</th><th scope=col>&lt;dbl&gt;</th></tr>\n",
       "</thead>\n",
       "<tbody>\n",
       "\t<tr><td>n_candidates</td><td>dY/dX</td><td>-0.6700431</td><td>0.1517818</td><td>-4.414516</td><td>1.012361e-05</td><td>16.59192</td><td>-0.9675299</td><td>-0.3725563</td><td>7.251769</td><td>7.251635</td><td>7.251702</td></tr>\n",
       "</tbody>\n",
       "</table>\n"
      ],
      "text/latex": [
       "A slopes: 1 x 12\n",
       "\\begin{tabular}{llllllllllll}\n",
       " term & contrast & estimate & std.error & statistic & p.value & s.value & conf.low & conf.high & predicted\\_lo & predicted\\_hi & predicted\\\\\n",
       " <chr> & <chr> & <dbl> & <dbl> & <dbl> & <dbl> & <dbl> & <dbl> & <dbl> & <dbl> & <dbl> & <dbl>\\\\\n",
       "\\hline\n",
       "\t n\\_candidates & dY/dX & -0.6700431 & 0.1517818 & -4.414516 & 1.012361e-05 & 16.59192 & -0.9675299 & -0.3725563 & 7.251769 & 7.251635 & 7.251702\\\\\n",
       "\\end{tabular}\n"
      ],
      "text/markdown": [
       "\n",
       "A slopes: 1 x 12\n",
       "\n",
       "| term &lt;chr&gt; | contrast &lt;chr&gt; | estimate &lt;dbl&gt; | std.error &lt;dbl&gt; | statistic &lt;dbl&gt; | p.value &lt;dbl&gt; | s.value &lt;dbl&gt; | conf.low &lt;dbl&gt; | conf.high &lt;dbl&gt; | predicted_lo &lt;dbl&gt; | predicted_hi &lt;dbl&gt; | predicted &lt;dbl&gt; |\n",
       "|---|---|---|---|---|---|---|---|---|---|---|---|\n",
       "| n_candidates | dY/dX | -0.6700431 | 0.1517818 | -4.414516 | 1.012361e-05 | 16.59192 | -0.9675299 | -0.3725563 | 7.251769 | 7.251635 | 7.251702 |\n",
       "\n"
      ],
      "text/plain": [
       "  term         contrast estimate   std.error statistic p.value      s.value \n",
       "1 n_candidates dY/dX    -0.6700431 0.1517818 -4.414516 1.012361e-05 16.59192\n",
       "  conf.low   conf.high  predicted_lo predicted_hi predicted\n",
       "1 -0.9675299 -0.3725563 7.251769     7.251635     7.251702 "
      ]
     },
     "metadata": {},
     "output_type": "display_data"
    }
   ],
   "source": [
    "avg_slopes(model, variables =\"n_candidates\", type = \"link\")"
   ]
  },
  {
   "cell_type": "code",
   "execution_count": 17,
   "metadata": {
    "vscode": {
     "languageId": "r"
    }
   },
   "outputs": [
    {
     "data": {
      "text/html": [
       "<table class=\"dataframe\">\n",
       "<caption>A predictions: 1 x 8</caption>\n",
       "<thead>\n",
       "\t<tr><th scope=col>hypothesis</th><th scope=col>estimate</th><th scope=col>std.error</th><th scope=col>statistic</th><th scope=col>p.value</th><th scope=col>s.value</th><th scope=col>conf.low</th><th scope=col>conf.high</th></tr>\n",
       "\t<tr><th scope=col>&lt;chr&gt;</th><th scope=col>&lt;dbl&gt;</th><th scope=col>&lt;dbl&gt;</th><th scope=col>&lt;dbl&gt;</th><th scope=col>&lt;dbl&gt;</th><th scope=col>&lt;dbl&gt;</th><th scope=col>&lt;dbl&gt;</th><th scope=col>&lt;dbl&gt;</th></tr>\n",
       "</thead>\n",
       "<tbody>\n",
       "\t<tr><td>(Y) - (X)</td><td>-0.04517929</td><td>0.01032169</td><td>-4.377123</td><td>1.202562e-05</td><td>16.34353</td><td>-0.06540943</td><td>-0.02494916</td></tr>\n",
       "</tbody>\n",
       "</table>\n"
      ],
      "text/latex": [
       "A predictions: 1 x 8\n",
       "\\begin{tabular}{llllllll}\n",
       " hypothesis & estimate & std.error & statistic & p.value & s.value & conf.low & conf.high\\\\\n",
       " <chr> & <dbl> & <dbl> & <dbl> & <dbl> & <dbl> & <dbl> & <dbl>\\\\\n",
       "\\hline\n",
       "\t (Y) - (X) & -0.04517929 & 0.01032169 & -4.377123 & 1.202562e-05 & 16.34353 & -0.06540943 & -0.02494916\\\\\n",
       "\\end{tabular}\n"
      ],
      "text/markdown": [
       "\n",
       "A predictions: 1 x 8\n",
       "\n",
       "| hypothesis &lt;chr&gt; | estimate &lt;dbl&gt; | std.error &lt;dbl&gt; | statistic &lt;dbl&gt; | p.value &lt;dbl&gt; | s.value &lt;dbl&gt; | conf.low &lt;dbl&gt; | conf.high &lt;dbl&gt; |\n",
       "|---|---|---|---|---|---|---|---|\n",
       "| (Y) - (X) | -0.04517929 | 0.01032169 | -4.377123 | 1.202562e-05 | 16.34353 | -0.06540943 | -0.02494916 |\n",
       "\n"
      ],
      "text/plain": [
       "  hypothesis estimate    std.error  statistic p.value      s.value  conf.low   \n",
       "1 (Y) - (X)  -0.04517929 0.01032169 -4.377123 1.202562e-05 16.34353 -0.06540943\n",
       "  conf.high  \n",
       "1 -0.02494916"
      ]
     },
     "metadata": {},
     "output_type": "display_data"
    }
   ],
   "source": [
    "avg_predictions(model, by=\"Actor\", hypothesis = ~ pairwise)"
   ]
  },
  {
   "cell_type": "markdown",
   "metadata": {},
   "source": [
    "The below code is for generating the table in the paper."
   ]
  },
  {
   "cell_type": "code",
   "execution_count": 18,
   "metadata": {
    "vscode": {
     "languageId": "r"
    }
   },
   "outputs": [
    {
     "name": "stdout",
     "output_type": "stream",
     "text": [
      "2.7443130\n",
      "0.4037442\n",
      "NA\n",
      "2.5373067\n",
      "7.4138498\n",
      "0.5270114\n",
      "-3.2358288\n",
      "0.4217099\n",
      "0.0000000\n",
      "-1.2753006\n",
      "-3.2180958\n",
      "0.4238400\n",
      "0.0000000\n",
      "-1.2683117\n",
      "-1.3047983\n",
      "0.1677296\n",
      "0.0000000\n",
      "-0.5142454\n",
      "-0.6700431\n",
      "0.1518226\n",
      "0.0000102\n",
      "-0.2640765\n",
      "-1.0032615\n",
      "0.2383074\n",
      "0.0000255\n",
      "-0.3954041\n"
     ]
    }
   ],
   "source": [
    "stim_id_var_val <- if (!is.null(vc_list$Stimulus_ID) && length(vc_list$Stimulus_ID) > 0) vc_list$Stimulus_ID[[1]] else NA_real_\n",
    "prompt_id_var_val <- if (!is.null(vc_list$Prompt_ID) && length(vc_list$Prompt_ID) > 0) vc_list$Prompt_ID[[1]] else NA_real_\n",
    "participant_id_var_val <- if (!is.null(vc_list$Participant_ID) && length(vc_list$Participant_ID) > 0) vc_list$Participant_ID[[1]] else NA_real_\n",
    "\n",
    "intercept_est <- res[res$term == \"(Intercept)\", \"Estimate\"]\n",
    "intercept_se <- res[res$term == \"(Intercept)\", \"Std. Error\"]\n",
    "\n",
    "angleleft_est <- res[res$term == \"Angleleft\", \"Estimate\"]\n",
    "angleleft_se <- res[res$term == \"Angleleft\", \"Std. Error\"]\n",
    "angleleft_p_val <- res[res$term == \"Angleleft\", \"Pr(>|z|)\"]\n",
    "angleleft_eff_size <- res[res$term == \"Angleleft\", \"effect_size\"]\n",
    "\n",
    "angleright_est <- res[res$term == \"Angleright\", \"Estimate\"]\n",
    "angleright_se <- res[res$term == \"Angleright\", \"Std. Error\"]\n",
    "angleright_p_val <- res[res$term == \"Angleright\", \"Pr(>|z|)\"]\n",
    "angleright_eff_size <- res[res$term == \"Angleright\", \"effect_size\"]\n",
    "\n",
    "proximity_term_name <- \"scale(Proximity, scale = FALSE)\"\n",
    "if (!proximity_term_name %in% res$term) {\n",
    "    proximity_term_name <- grep(\"Proximity\", res$term, value = TRUE)[1]\n",
    "}\n",
    "proximity_est <- res[res$term == proximity_term_name, \"Estimate\"]\n",
    "proximity_se <- res[res$term == proximity_term_name, \"Std. Error\"]\n",
    "proximity_p_val <- res[res$term == proximity_term_name, \"Pr(>|z|)\"]\n",
    "proximity_eff_size <- res[res$term == proximity_term_name, \"effect_size\"]\n",
    "\n",
    "n_candidates_term_name <- \"scale(n_candidates, scale = FALSE)\"\n",
    "if (!n_candidates_term_name %in% res$term) {\n",
    "    n_candidates_term_name <- grep(\"n_candidates\", res$term, value = TRUE)[1]\n",
    "}\n",
    "n_obj_est <- res[res$term == n_candidates_term_name, \"Estimate\"]\n",
    "n_obj_se <- res[res$term == n_candidates_term_name, \"Std. Error\"]\n",
    "n_obj_p_val <- res[res$term == n_candidates_term_name, \"Pr(>|z|)\"]\n",
    "n_obj_eff_size <- res[res$term == n_candidates_term_name, \"effect_size\"]\n",
    "\n",
    "actory_term_name <- \"ActorY\" # Assuming 'X' is the reference level for Actor factor\n",
    "actory_est <- res[res$term == actory_term_name, \"Estimate\"]\n",
    "actory_se <- res[res$term == actory_term_name, \"Std. Error\"]\n",
    "actory_p_val <- res[res$term == actory_term_name, \"Pr(>|z|)\"]\n",
    "actory_eff_size <- res[res$term == actory_term_name, \"effect_size\"]\n",
    "\n",
    "# Prepare data for data frame\n",
    "table_data <- list(\n",
    "    c(\"StimulusID\", \"Variance\", sprintf(\"%.7f\", stim_id_var_val)),\n",
    "    c(\"ParticipantID\", \"Variance\", sprintf(\"%.7f\", participant_id_var_val)),\n",
    "    c(\"PromptID\", \"Variance\", sprintf(\"%.7f\", prompt_id_var_val)),\n",
    "    c(\"Effect Size Denom\", \"\", sprintf(\"%.7f\", effect_size_denom_t)),\n",
    "\n",
    "    c(\"Intercept\", \"b\", sprintf(\"%.7f\", intercept_est)),\n",
    "    c(\"\", \"SE\", sprintf(\"%.7f\", intercept_se)),\n",
    "\n",
    "    c(\"Angleleft\", \"b\", sprintf(\"%.7f\", angleleft_est)),\n",
    "    c(\"\", \"SE\", sprintf(\"%.7f\", angleleft_se)),\n",
    "    c(\"\", \"p\", sprintf(\"%.7f\", as.numeric(angleleft_p_val))),\n",
    "    c(\"\", \"Effect size\", sprintf(\"%.7f\", angleleft_eff_size)),\n",
    "\n",
    "    c(\"Angleright\", \"b\", sprintf(\"%.7f\", angleright_est)),\n",
    "    c(\"\", \"SE\", sprintf(\"%.7f\", angleright_se)),\n",
    "    c(\"\", \"p\", sprintf(\"%.7f\", as.numeric(angleright_p_val))),\n",
    "    c(\"\", \"Effect size\", sprintf(\"%.7f\", angleright_eff_size)),\n",
    "\n",
    "    c(\"Proximity\", \"b\", sprintf(\"%.7f\", proximity_est)),\n",
    "    c(\"\", \"SE\", sprintf(\"%.7f\", proximity_se)),\n",
    "    c(\"\", \"p\", sprintf(\"%.7f\", as.numeric(proximity_p_val))),\n",
    "    c(\"\", \"Effect size\", sprintf(\"%.7f\", proximity_eff_size)),\n",
    "\n",
    "    c(\"#Object\", \"b\", sprintf(\"%.7f\", n_obj_est)),\n",
    "    c(\"\", \"SE\", sprintf(\"%.7f\", n_obj_se)),\n",
    "    c(\"\", \"p\", sprintf(\"%.7f\", as.numeric(n_obj_p_val))),\n",
    "    c(\"\", \"Effect size\", sprintf(\"%.7f\", n_obj_eff_size)),\n",
    "\n",
    "    c(\"ActorY\", \"b\", sprintf(\"%.7f\", actory_est)),\n",
    "    c(\"\", \"SE\", sprintf(\"%.7f\", actory_se)),\n",
    "    c(\"\", \"p\", sprintf(\"%.7f\", as.numeric(actory_p_val))),\n",
    "    c(\"\", \"Effect size\", sprintf(\"%.7f\", actory_eff_size))\n",
    ")\n",
    "\n",
    "# Convert to data frame\n",
    "df_output <- do.call(rbind, lapply(table_data, function(x) data.frame(V1=x[1], V2=x[2], V3=x[3], stringsAsFactors=FALSE)))\n",
    "\n",
    "# Print only the third column for easy copy-pasting to Excel\n",
    "write.table(df_output[,3, drop=FALSE], file=\"\", sep = \"\\t\", row.names = FALSE, col.names = FALSE, quote = FALSE)"
   ]
  }
 ],
 "metadata": {
  "kernelspec": {
   "display_name": "R",
   "language": "R",
   "name": "ir"
  },
  "language_info": {
   "codemirror_mode": "r",
   "file_extension": ".r",
   "mimetype": "text/x-r-source",
   "name": "R",
   "pygments_lexer": "r",
   "version": "4.3.3"
  }
 },
 "nbformat": 4,
 "nbformat_minor": 2
}
