{
 "cells": [
  {
   "cell_type": "markdown",
   "metadata": {},
   "source": [
    "# Loading Responses"
   ]
  },
  {
   "cell_type": "code",
   "execution_count": 1,
   "metadata": {
    "vscode": {
     "languageId": "r"
    }
   },
   "outputs": [
    {
     "name": "stderr",
     "output_type": "stream",
     "text": [
      "Loading required package: lme4\n",
      "\n",
      "Loading required package: Matrix\n",
      "\n",
      "Loading required package: readr\n",
      "\n",
      "Loading required package: marginaleffects\n",
      "\n",
      "Loading required package: emmeans\n",
      "\n",
      "Welcome to emmeans.\n",
      "Caution: You lose important information if you filter this package's results.\n",
      "See '? untidy'\n",
      "\n",
      "Loading required package: car\n",
      "\n",
      "Loading required package: carData\n",
      "\n",
      "\u001b[1mRows: \u001b[22m\u001b[34m155393\u001b[39m \u001b[1mColumns: \u001b[22m\u001b[34m14\u001b[39m\n",
      "\u001b[36m──\u001b[39m \u001b[1mColumn specification\u001b[22m \u001b[36m────────────────────────────────────────────────────────────────\u001b[39m\n",
      "\u001b[1mDelimiter:\u001b[22m \",\"\n",
      "\u001b[31mchr\u001b[39m (2): Run_ID, Part\n",
      "\u001b[32mint\u001b[39m (2): Proximity, n_candidates\n",
      "\u001b[33mlgl\u001b[39m (1): Accuracy\n",
      "\u001b[31mfct\u001b[39m (9): Stimulus_ID, Prompt_ID, Participant_ID, Group, GroupKind, Angle, Ac...\n",
      "\n",
      "\u001b[36mℹ\u001b[39m Use `spec()` to retrieve the full column specification for this data.\n",
      "\u001b[36mℹ\u001b[39m Specify the column types or set `show_col_types = FALSE` to quiet this message.\n"
     ]
    }
   ],
   "source": [
    "options(warn=1)\n",
    "if(!require('lme4')) {\n",
    "    install.packages('lme4', repos='https://cloud.r-project.org')\n",
    "    library('lme4')\n",
    "}\n",
    "if(!require('readr')) {\n",
    "    install.packages('readr', repos='https://cloud.r-project.org')\n",
    "    library('readr')\n",
    "}\n",
    "if(!require('marginaleffects')) {\n",
    "    install.packages('marginaleffects', repos='https://cloud.r-project.org')\n",
    "    library('marginaleffects')\n",
    "}\n",
    "if(!require('emmeans')) {\n",
    "    install.packages('emmeans', repos='https://cloud.r-project.org')\n",
    "    library('emmeans')\n",
    "}\n",
    "if(!require('car')) {\n",
    "    install.packages('car', repos='https://cloud.r-project.org')\n",
    "    library('car')\n",
    "}\n",
    "df <- read_csv(\"gaze-analysis/result_1743457603_20250506_20250506F.csv\", na = \"empty\", col_select = c(\"Accuracy\", \"Group\", \"GroupKind\", \"Angle\", \"Proximity\", \"n_candidates\", \"Actor\", \"Candidates\", \"Stimulus_ID\", \"Prompt_ID\", \"Participant_ID\", \"list_id\", \"Run_ID\", \"Part\"), col_types = cols(\n",
    "    Accuracy = col_logical(),\n",
    "    Group = col_factor(),\n",
    "    GroupKind = col_factor(),\n",
    "    Angle = col_factor(),\n",
    "    Proximity = col_integer(),\n",
    "    n_candidates = col_integer(),\n",
    "    Actor = col_factor(c('X', 'Y')),\n",
    "    Candidates = col_factor(),\n",
    "    Stimulus_ID = col_factor(),\n",
    "    Prompt_ID = col_factor(),\n",
    "    Participant_ID = col_factor(),\n",
    "    list_id = col_factor(),\n",
    "    Run_ID = col_character(),\n",
    "    Part = col_character(),\n",
    "),show_col_types = TRUE)\n",
    "df <- df[df$Group == \"Humans\" & df$list_id != -1, ]\n",
    "df$offset <- log(1/df$n_candidates / (1 - 1/df$n_candidates))"
   ]
  },
  {
   "cell_type": "markdown",
   "metadata": {},
   "source": [
    "# Statistics"
   ]
  },
  {
   "cell_type": "code",
   "execution_count": 2,
   "metadata": {
    "vscode": {
     "languageId": "r"
    }
   },
   "outputs": [
    {
     "data": {
      "text/html": [
       "0.992970123022847"
      ],
      "text/latex": [
       "0.992970123022847"
      ],
      "text/markdown": [
       "0.992970123022847"
      ],
      "text/plain": [
       "[1] 0.9929701"
      ]
     },
     "metadata": {},
     "output_type": "display_data"
    }
   ],
   "source": [
    "mean(df[ (df$Proximity == 1) & (df$n_candidates == 2), ]$Accuracy)"
   ]
  },
  {
   "cell_type": "code",
   "execution_count": 18,
   "metadata": {
    "vscode": {
     "languageId": "r"
    }
   },
   "outputs": [
    {
     "data": {
      "text/html": [
       "65"
      ],
      "text/latex": [
       "65"
      ],
      "text/markdown": [
       "65"
      ],
      "text/plain": [
       "[1] 65"
      ]
     },
     "metadata": {},
     "output_type": "display_data"
    }
   ],
   "source": [
    "length(unique(df$Participant_ID))"
   ]
  },
  {
   "cell_type": "markdown",
   "metadata": {},
   "source": [
    "# Fitting models"
   ]
  },
  {
   "cell_type": "code",
   "execution_count": 3,
   "metadata": {
    "vscode": {
     "languageId": "r"
    }
   },
   "outputs": [
    {
     "name": "stderr",
     "output_type": "stream",
     "text": [
      "Warning message in checkConv(attr(opt, \"derivs\"), opt$par, ctrl = control$checkConv, :\n",
      "“Model failed to converge with max|grad| = 0.241842 (tol = 0.002, component 1)”\n"
     ]
    }
   ],
   "source": [
    "model0 <- glmer(Accuracy ~ Angle + scale(Proximity, scale=FALSE) + scale(n_candidates, scale=FALSE) + Actor + (1|Actor:Candidates) + (1|Stimulus_ID) + (1|Participant_ID), \n",
    "               data = df,\n",
    "               family = binomial(link = \"logit\"), \n",
    "               offset = offset)"
   ]
  },
  {
   "cell_type": "code",
   "execution_count": 4,
   "metadata": {
    "vscode": {
     "languageId": "r"
    }
   },
   "outputs": [
    {
     "data": {
      "text/plain": [
       "Generalized linear mixed model fit by maximum likelihood (Laplace\n",
       "  Approximation) [glmerMod]\n",
       " Family: binomial  ( logit )\n",
       "Formula: \n",
       "Accuracy ~ Angle + scale(Proximity, scale = FALSE) + scale(n_candidates,  \n",
       "    scale = FALSE) + Actor + (1 | Stimulus_ID) + (1 | Participant_ID)\n",
       "   Data: df\n",
       " Offset: offset\n",
       "      AIC       BIC    logLik  deviance  df.resid \n",
       "1312.7752 1360.6236 -648.3876 1296.7752      2917 \n",
       "Random effects:\n",
       " Groups         Name        Std.Dev.\n",
       " Stimulus_ID    (Intercept) 1.6566  \n",
       " Participant_ID (Intercept) 0.6354  \n",
       "Number of obs: 2925, groups:  Stimulus_ID, 900; Participant_ID, 65\n",
       "Fixed Effects:\n",
       "                       (Intercept)                           Angleleft  \n",
       "                             7.414                              -3.236  \n",
       "                        Angleright     scale(Proximity, scale = FALSE)  \n",
       "                            -3.218                              -1.305  \n",
       "scale(n_candidates, scale = FALSE)                              ActorY  \n",
       "                            -0.670                              -1.003  "
      ]
     },
     "metadata": {},
     "output_type": "display_data"
    }
   ],
   "source": [
    "model1 <- glmer(Accuracy ~ Angle + scale(Proximity, scale=FALSE) + scale(n_candidates, scale=FALSE) + Actor + (1|Stimulus_ID) + (1|Participant_ID), \n",
    "               data = df,\n",
    "               family = binomial(link = \"logit\"), \n",
    "               offset = offset)\n",
    "model1"
   ]
  },
  {
   "cell_type": "code",
   "execution_count": 5,
   "metadata": {
    "vscode": {
     "languageId": "r"
    }
   },
   "outputs": [],
   "source": [
    "model2 <- glmer(Accuracy ~ Angle + scale(Proximity, scale=FALSE) + scale(n_candidates, scale=FALSE) + Actor + (1|Stimulus_ID), \n",
    "               data = df,\n",
    "               family = binomial(link = \"logit\"), \n",
    "               offset = offset)"
   ]
  },
  {
   "cell_type": "markdown",
   "metadata": {},
   "source": [
    "# Model selection"
   ]
  },
  {
   "cell_type": "code",
   "execution_count": 6,
   "metadata": {
    "scrolled": false,
    "vscode": {
     "languageId": "r"
    }
   },
   "outputs": [
    {
     "data": {
      "text/html": [
       "<table class=\"dataframe\">\n",
       "<caption>A anova: 2 × 8</caption>\n",
       "<thead>\n",
       "\t<tr><th></th><th scope=col>npar</th><th scope=col>AIC</th><th scope=col>BIC</th><th scope=col>logLik</th><th scope=col>deviance</th><th scope=col>Chisq</th><th scope=col>Df</th><th scope=col>Pr(&gt;Chisq)</th></tr>\n",
       "\t<tr><th></th><th scope=col>&lt;dbl&gt;</th><th scope=col>&lt;dbl&gt;</th><th scope=col>&lt;dbl&gt;</th><th scope=col>&lt;dbl&gt;</th><th scope=col>&lt;dbl&gt;</th><th scope=col>&lt;dbl&gt;</th><th scope=col>&lt;dbl&gt;</th><th scope=col>&lt;dbl&gt;</th></tr>\n",
       "</thead>\n",
       "<tbody>\n",
       "\t<tr><th scope=row>model2</th><td>7</td><td>1326.876</td><td>1368.743</td><td>-656.4379</td><td>1312.876</td><td>      NA</td><td>NA</td><td>          NA</td></tr>\n",
       "\t<tr><th scope=row>model1</th><td>8</td><td>1312.775</td><td>1360.624</td><td>-648.3876</td><td>1296.775</td><td>16.10054</td><td> 1</td><td>6.006683e-05</td></tr>\n",
       "</tbody>\n",
       "</table>\n"
      ],
      "text/latex": [
       "A anova: 2 × 8\n",
       "\\begin{tabular}{r|llllllll}\n",
       "  & npar & AIC & BIC & logLik & deviance & Chisq & Df & Pr(>Chisq)\\\\\n",
       "  & <dbl> & <dbl> & <dbl> & <dbl> & <dbl> & <dbl> & <dbl> & <dbl>\\\\\n",
       "\\hline\n",
       "\tmodel2 & 7 & 1326.876 & 1368.743 & -656.4379 & 1312.876 &       NA & NA &           NA\\\\\n",
       "\tmodel1 & 8 & 1312.775 & 1360.624 & -648.3876 & 1296.775 & 16.10054 &  1 & 6.006683e-05\\\\\n",
       "\\end{tabular}\n"
      ],
      "text/markdown": [
       "\n",
       "A anova: 2 × 8\n",
       "\n",
       "| <!--/--> | npar &lt;dbl&gt; | AIC &lt;dbl&gt; | BIC &lt;dbl&gt; | logLik &lt;dbl&gt; | deviance &lt;dbl&gt; | Chisq &lt;dbl&gt; | Df &lt;dbl&gt; | Pr(&gt;Chisq) &lt;dbl&gt; |\n",
       "|---|---|---|---|---|---|---|---|---|\n",
       "| model2 | 7 | 1326.876 | 1368.743 | -656.4379 | 1312.876 |       NA | NA |           NA |\n",
       "| model1 | 8 | 1312.775 | 1360.624 | -648.3876 | 1296.775 | 16.10054 |  1 | 6.006683e-05 |\n",
       "\n"
      ],
      "text/plain": [
       "       npar AIC      BIC      logLik    deviance Chisq    Df Pr(>Chisq)  \n",
       "model2 7    1326.876 1368.743 -656.4379 1312.876       NA NA           NA\n",
       "model1 8    1312.775 1360.624 -648.3876 1296.775 16.10054  1 6.006683e-05"
      ]
     },
     "metadata": {},
     "output_type": "display_data"
    }
   ],
   "source": [
    "anova(model1, model2)"
   ]
  },
  {
   "cell_type": "code",
   "execution_count": 7,
   "metadata": {
    "vscode": {
     "languageId": "r"
    }
   },
   "outputs": [],
   "source": [
    "model <- model1"
   ]
  },
  {
   "cell_type": "markdown",
   "metadata": {},
   "source": [
    "# Interpretation"
   ]
  },
  {
   "cell_type": "code",
   "execution_count": 8,
   "metadata": {
    "vscode": {
     "languageId": "r"
    }
   },
   "outputs": [
    {
     "data": {
      "text/plain": [
       "Generalized linear mixed model fit by maximum likelihood (Laplace\n",
       "  Approximation) [glmerMod]\n",
       " Family: binomial  ( logit )\n",
       "Formula: \n",
       "Accuracy ~ Angle + scale(Proximity, scale = FALSE) + scale(n_candidates,  \n",
       "    scale = FALSE) + Actor + (1 | Stimulus_ID) + (1 | Participant_ID)\n",
       "   Data: df\n",
       " Offset: offset\n",
       "\n",
       "     AIC      BIC   logLik deviance df.resid \n",
       "  1312.8   1360.6   -648.4   1296.8     2917 \n",
       "\n",
       "Scaled residuals: \n",
       "    Min      1Q  Median      3Q     Max \n",
       "-7.6893  0.0358  0.0892  0.1932  2.0510 \n",
       "\n",
       "Random effects:\n",
       " Groups         Name        Variance Std.Dev.\n",
       " Stimulus_ID    (Intercept) 2.7443   1.6566  \n",
       " Participant_ID (Intercept) 0.4037   0.6354  \n",
       "Number of obs: 2925, groups:  Stimulus_ID, 900; Participant_ID, 65\n",
       "\n",
       "Fixed effects:\n",
       "                                   Estimate Std. Error z value Pr(>|z|)    \n",
       "(Intercept)                          7.4138     0.5270  14.068  < 2e-16 ***\n",
       "Angleleft                           -3.2358     0.4217  -7.673 1.68e-14 ***\n",
       "Angleright                          -3.2181     0.4238  -7.593 3.13e-14 ***\n",
       "scale(Proximity, scale = FALSE)     -1.3048     0.1677  -7.779 7.30e-15 ***\n",
       "scale(n_candidates, scale = FALSE)  -0.6700     0.1518  -4.413 1.02e-05 ***\n",
       "ActorY                              -1.0033     0.2383  -4.210 2.55e-05 ***\n",
       "---\n",
       "Signif. codes:  0 ‘***’ 0.001 ‘**’ 0.01 ‘*’ 0.05 ‘.’ 0.1 ‘ ’ 1\n",
       "\n",
       "Correlation of Fixed Effects:\n",
       "            (Intr) Angllf Anglrg s(Ps=F s(_s=F\n",
       "Angleleft   -0.804                            \n",
       "Angleright  -0.802  0.832                     \n",
       "s(P,s=FALSE -0.418  0.200  0.211              \n",
       "s(_,s=FALSE -0.398  0.237  0.244  0.278       \n",
       "ActorY      -0.383  0.108  0.094  0.138 -0.021"
      ]
     },
     "metadata": {},
     "output_type": "display_data"
    }
   ],
   "source": [
    "summary(model)"
   ]
  },
  {
   "cell_type": "code",
   "execution_count": 9,
   "metadata": {
    "vscode": {
     "languageId": "r"
    }
   },
   "outputs": [
    {
     "data": {
      "text/html": [
       "<table class=\"dataframe\">\n",
       "<caption>A data.frame: 6 × 7</caption>\n",
       "<thead>\n",
       "\t<tr><th scope=col>term</th><th scope=col>Estimate</th><th scope=col>Std. Error</th><th scope=col>z value</th><th scope=col>Pr(&gt;|z|)</th><th scope=col>effect_size_denom</th><th scope=col>effect_size</th></tr>\n",
       "\t<tr><th scope=col>&lt;chr&gt;</th><th scope=col>&lt;dbl&gt;</th><th scope=col>&lt;dbl&gt;</th><th scope=col>&lt;dbl&gt;</th><th scope=col>&lt;dbl&gt;</th><th scope=col>&lt;dbl&gt;</th><th scope=col>&lt;dbl&gt;</th></tr>\n",
       "</thead>\n",
       "<tbody>\n",
       "\t<tr><td>(Intercept)                       </td><td> 7.4138498</td><td>0.5270114</td><td>14.067722</td><td>5.996996e-45</td><td>2.537307</td><td> 2.9219368</td></tr>\n",
       "\t<tr><td>Angleleft                         </td><td>-3.2358288</td><td>0.4217099</td><td>-7.673115</td><td>1.678691e-14</td><td>2.537307</td><td>-1.2753006</td></tr>\n",
       "\t<tr><td>Angleright                        </td><td>-3.2180958</td><td>0.4238400</td><td>-7.592713</td><td>3.132747e-14</td><td>2.537307</td><td>-1.2683117</td></tr>\n",
       "\t<tr><td>scale(Proximity, scale = FALSE)   </td><td>-1.3047983</td><td>0.1677296</td><td>-7.779178</td><td>7.299743e-15</td><td>2.537307</td><td>-0.5142454</td></tr>\n",
       "\t<tr><td>scale(n_candidates, scale = FALSE)</td><td>-0.6700431</td><td>0.1518226</td><td>-4.413329</td><td>1.017931e-05</td><td>2.537307</td><td>-0.2640765</td></tr>\n",
       "\t<tr><td>ActorY                            </td><td>-1.0032615</td><td>0.2383074</td><td>-4.209947</td><td>2.554306e-05</td><td>2.537307</td><td>-0.3954041</td></tr>\n",
       "</tbody>\n",
       "</table>\n"
      ],
      "text/latex": [
       "A data.frame: 6 × 7\n",
       "\\begin{tabular}{lllllll}\n",
       " term & Estimate & Std. Error & z value & Pr(>\\textbar{}z\\textbar{}) & effect\\_size\\_denom & effect\\_size\\\\\n",
       " <chr> & <dbl> & <dbl> & <dbl> & <dbl> & <dbl> & <dbl>\\\\\n",
       "\\hline\n",
       "\t (Intercept)                        &  7.4138498 & 0.5270114 & 14.067722 & 5.996996e-45 & 2.537307 &  2.9219368\\\\\n",
       "\t Angleleft                          & -3.2358288 & 0.4217099 & -7.673115 & 1.678691e-14 & 2.537307 & -1.2753006\\\\\n",
       "\t Angleright                         & -3.2180958 & 0.4238400 & -7.592713 & 3.132747e-14 & 2.537307 & -1.2683117\\\\\n",
       "\t scale(Proximity, scale = FALSE)    & -1.3047983 & 0.1677296 & -7.779178 & 7.299743e-15 & 2.537307 & -0.5142454\\\\\n",
       "\t scale(n\\_candidates, scale = FALSE) & -0.6700431 & 0.1518226 & -4.413329 & 1.017931e-05 & 2.537307 & -0.2640765\\\\\n",
       "\t ActorY                             & -1.0032615 & 0.2383074 & -4.209947 & 2.554306e-05 & 2.537307 & -0.3954041\\\\\n",
       "\\end{tabular}\n"
      ],
      "text/markdown": [
       "\n",
       "A data.frame: 6 × 7\n",
       "\n",
       "| term &lt;chr&gt; | Estimate &lt;dbl&gt; | Std. Error &lt;dbl&gt; | z value &lt;dbl&gt; | Pr(&gt;|z|) &lt;dbl&gt; | effect_size_denom &lt;dbl&gt; | effect_size &lt;dbl&gt; |\n",
       "|---|---|---|---|---|---|---|\n",
       "| (Intercept)                        |  7.4138498 | 0.5270114 | 14.067722 | 5.996996e-45 | 2.537307 |  2.9219368 |\n",
       "| Angleleft                          | -3.2358288 | 0.4217099 | -7.673115 | 1.678691e-14 | 2.537307 | -1.2753006 |\n",
       "| Angleright                         | -3.2180958 | 0.4238400 | -7.592713 | 3.132747e-14 | 2.537307 | -1.2683117 |\n",
       "| scale(Proximity, scale = FALSE)    | -1.3047983 | 0.1677296 | -7.779178 | 7.299743e-15 | 2.537307 | -0.5142454 |\n",
       "| scale(n_candidates, scale = FALSE) | -0.6700431 | 0.1518226 | -4.413329 | 1.017931e-05 | 2.537307 | -0.2640765 |\n",
       "| ActorY                             | -1.0032615 | 0.2383074 | -4.209947 | 2.554306e-05 | 2.537307 | -0.3954041 |\n",
       "\n"
      ],
      "text/plain": [
       "  term                               Estimate   Std. Error z value  \n",
       "1 (Intercept)                         7.4138498 0.5270114  14.067722\n",
       "2 Angleleft                          -3.2358288 0.4217099  -7.673115\n",
       "3 Angleright                         -3.2180958 0.4238400  -7.592713\n",
       "4 scale(Proximity, scale = FALSE)    -1.3047983 0.1677296  -7.779178\n",
       "5 scale(n_candidates, scale = FALSE) -0.6700431 0.1518226  -4.413329\n",
       "6 ActorY                             -1.0032615 0.2383074  -4.209947\n",
       "  Pr(>|z|)     effect_size_denom effect_size\n",
       "1 5.996996e-45 2.537307           2.9219368 \n",
       "2 1.678691e-14 2.537307          -1.2753006 \n",
       "3 3.132747e-14 2.537307          -1.2683117 \n",
       "4 7.299743e-15 2.537307          -0.5142454 \n",
       "5 1.017931e-05 2.537307          -0.2640765 \n",
       "6 2.554306e-05 2.537307          -0.3954041 "
      ]
     },
     "metadata": {},
     "output_type": "display_data"
    }
   ],
   "source": [
    "vc_list <- lapply(VarCorr(model), function(x) attr(x, \"stddev\")^2)\n",
    "vc <- sum(unlist(vc_list))\n",
    "effect_size_denom_t <- sqrt(vc + pi^2/3)\n",
    "\n",
    "res <- summary(model)$coefficients\n",
    "res <- as.data.frame(res)\n",
    "res <- cbind(term = rownames(res), res)\n",
    "rownames(res) <- NULL\n",
    "res$effect_size_denom <- effect_size_denom_t\n",
    "res$effect_size <- res$Estimate / effect_size_denom_t\n",
    "res"
   ]
  },
  {
   "cell_type": "code",
   "execution_count": 10,
   "metadata": {
    "vscode": {
     "languageId": "r"
    }
   },
   "outputs": [
    {
     "data": {
      "text/html": [
       "<table class=\"dataframe\">\n",
       "<caption>A predictions: 3 × 8</caption>\n",
       "<thead>\n",
       "\t<tr><th scope=col>hypothesis</th><th scope=col>estimate</th><th scope=col>std.error</th><th scope=col>statistic</th><th scope=col>p.value</th><th scope=col>s.value</th><th scope=col>conf.low</th><th scope=col>conf.high</th></tr>\n",
       "\t<tr><th scope=col>&lt;chr&gt;</th><th scope=col>&lt;dbl&gt;</th><th scope=col>&lt;dbl&gt;</th><th scope=col>&lt;dbl&gt;</th><th scope=col>&lt;dbl&gt;</th><th scope=col>&lt;dbl&gt;</th><th scope=col>&lt;dbl&gt;</th><th scope=col>&lt;dbl&gt;</th></tr>\n",
       "</thead>\n",
       "<tbody>\n",
       "\t<tr><td>(left) - (front) </td><td>-0.079567747</td><td>0.01356133</td><td>-5.8672512</td><td>4.430791e-09</td><td>27.7497885</td><td>-0.10614747</td><td>-0.05298802</td></tr>\n",
       "\t<tr><td>(right) - (front)</td><td>-0.074370462</td><td>0.01272584</td><td>-5.8440532</td><td>5.094575e-09</td><td>27.5483911</td><td>-0.09931264</td><td>-0.04942828</td></tr>\n",
       "\t<tr><td>(right) - (left) </td><td> 0.005197285</td><td>0.01418944</td><td> 0.3662782</td><td>7.141575e-01</td><td> 0.4856859</td><td>-0.02261352</td><td> 0.03300809</td></tr>\n",
       "</tbody>\n",
       "</table>\n"
      ],
      "text/latex": [
       "A predictions: 3 × 8\n",
       "\\begin{tabular}{llllllll}\n",
       " hypothesis & estimate & std.error & statistic & p.value & s.value & conf.low & conf.high\\\\\n",
       " <chr> & <dbl> & <dbl> & <dbl> & <dbl> & <dbl> & <dbl> & <dbl>\\\\\n",
       "\\hline\n",
       "\t (left) - (front)  & -0.079567747 & 0.01356133 & -5.8672512 & 4.430791e-09 & 27.7497885 & -0.10614747 & -0.05298802\\\\\n",
       "\t (right) - (front) & -0.074370462 & 0.01272584 & -5.8440532 & 5.094575e-09 & 27.5483911 & -0.09931264 & -0.04942828\\\\\n",
       "\t (right) - (left)  &  0.005197285 & 0.01418944 &  0.3662782 & 7.141575e-01 &  0.4856859 & -0.02261352 &  0.03300809\\\\\n",
       "\\end{tabular}\n"
      ],
      "text/markdown": [
       "\n",
       "A predictions: 3 × 8\n",
       "\n",
       "| hypothesis &lt;chr&gt; | estimate &lt;dbl&gt; | std.error &lt;dbl&gt; | statistic &lt;dbl&gt; | p.value &lt;dbl&gt; | s.value &lt;dbl&gt; | conf.low &lt;dbl&gt; | conf.high &lt;dbl&gt; |\n",
       "|---|---|---|---|---|---|---|---|\n",
       "| (left) - (front)  | -0.079567747 | 0.01356133 | -5.8672512 | 4.430791e-09 | 27.7497885 | -0.10614747 | -0.05298802 |\n",
       "| (right) - (front) | -0.074370462 | 0.01272584 | -5.8440532 | 5.094575e-09 | 27.5483911 | -0.09931264 | -0.04942828 |\n",
       "| (right) - (left)  |  0.005197285 | 0.01418944 |  0.3662782 | 7.141575e-01 |  0.4856859 | -0.02261352 |  0.03300809 |\n",
       "\n"
      ],
      "text/plain": [
       "  hypothesis        estimate     std.error  statistic  p.value      s.value   \n",
       "1 (left) - (front)  -0.079567747 0.01356133 -5.8672512 4.430791e-09 27.7497885\n",
       "2 (right) - (front) -0.074370462 0.01272584 -5.8440532 5.094575e-09 27.5483911\n",
       "3 (right) - (left)   0.005197285 0.01418944  0.3662782 7.141575e-01  0.4856859\n",
       "  conf.low    conf.high  \n",
       "1 -0.10614747 -0.05298802\n",
       "2 -0.09931264 -0.04942828\n",
       "3 -0.02261352  0.03300809"
      ]
     },
     "metadata": {},
     "output_type": "display_data"
    }
   ],
   "source": [
    "avg_predictions(model, by=\"Angle\", hypothesis = ~ pairwise)"
   ]
  },
  {
   "cell_type": "code",
   "execution_count": 11,
   "metadata": {
    "vscode": {
     "languageId": "r"
    }
   },
   "outputs": [
    {
     "data": {
      "text/html": [
       "<table class=\"dataframe\">\n",
       "<caption>A slopes: 1 × 12</caption>\n",
       "<thead>\n",
       "\t<tr><th scope=col>term</th><th scope=col>contrast</th><th scope=col>estimate</th><th scope=col>std.error</th><th scope=col>statistic</th><th scope=col>p.value</th><th scope=col>s.value</th><th scope=col>conf.low</th><th scope=col>conf.high</th><th scope=col>predicted_lo</th><th scope=col>predicted_hi</th><th scope=col>predicted</th></tr>\n",
       "\t<tr><th scope=col>&lt;chr&gt;</th><th scope=col>&lt;chr&gt;</th><th scope=col>&lt;dbl&gt;</th><th scope=col>&lt;dbl&gt;</th><th scope=col>&lt;dbl&gt;</th><th scope=col>&lt;dbl&gt;</th><th scope=col>&lt;dbl&gt;</th><th scope=col>&lt;dbl&gt;</th><th scope=col>&lt;dbl&gt;</th><th scope=col>&lt;dbl&gt;</th><th scope=col>&lt;dbl&gt;</th><th scope=col>&lt;dbl&gt;</th></tr>\n",
       "</thead>\n",
       "<tbody>\n",
       "\t<tr><td>Proximity</td><td>dY/dX</td><td>-1.304798</td><td>0.167737</td><td>-7.778833</td><td>7.319637e-15</td><td>46.95715</td><td>-1.633557</td><td>-0.9760398</td><td>7.251832</td><td>7.251572</td><td>7.251702</td></tr>\n",
       "</tbody>\n",
       "</table>\n"
      ],
      "text/latex": [
       "A slopes: 1 × 12\n",
       "\\begin{tabular}{llllllllllll}\n",
       " term & contrast & estimate & std.error & statistic & p.value & s.value & conf.low & conf.high & predicted\\_lo & predicted\\_hi & predicted\\\\\n",
       " <chr> & <chr> & <dbl> & <dbl> & <dbl> & <dbl> & <dbl> & <dbl> & <dbl> & <dbl> & <dbl> & <dbl>\\\\\n",
       "\\hline\n",
       "\t Proximity & dY/dX & -1.304798 & 0.167737 & -7.778833 & 7.319637e-15 & 46.95715 & -1.633557 & -0.9760398 & 7.251832 & 7.251572 & 7.251702\\\\\n",
       "\\end{tabular}\n"
      ],
      "text/markdown": [
       "\n",
       "A slopes: 1 × 12\n",
       "\n",
       "| term &lt;chr&gt; | contrast &lt;chr&gt; | estimate &lt;dbl&gt; | std.error &lt;dbl&gt; | statistic &lt;dbl&gt; | p.value &lt;dbl&gt; | s.value &lt;dbl&gt; | conf.low &lt;dbl&gt; | conf.high &lt;dbl&gt; | predicted_lo &lt;dbl&gt; | predicted_hi &lt;dbl&gt; | predicted &lt;dbl&gt; |\n",
       "|---|---|---|---|---|---|---|---|---|---|---|---|\n",
       "| Proximity | dY/dX | -1.304798 | 0.167737 | -7.778833 | 7.319637e-15 | 46.95715 | -1.633557 | -0.9760398 | 7.251832 | 7.251572 | 7.251702 |\n",
       "\n"
      ],
      "text/plain": [
       "  term      contrast estimate  std.error statistic p.value      s.value \n",
       "1 Proximity dY/dX    -1.304798 0.167737  -7.778833 7.319637e-15 46.95715\n",
       "  conf.low  conf.high  predicted_lo predicted_hi predicted\n",
       "1 -1.633557 -0.9760398 7.251832     7.251572     7.251702 "
      ]
     },
     "metadata": {},
     "output_type": "display_data"
    }
   ],
   "source": [
    "avg_slopes(model, variables =\"Proximity\", type = \"link\")"
   ]
  },
  {
   "cell_type": "code",
   "execution_count": 12,
   "metadata": {
    "vscode": {
     "languageId": "r"
    }
   },
   "outputs": [
    {
     "data": {
      "text/html": [
       "<table class=\"dataframe\">\n",
       "<caption>A slopes: 1 × 12</caption>\n",
       "<thead>\n",
       "\t<tr><th scope=col>term</th><th scope=col>contrast</th><th scope=col>estimate</th><th scope=col>std.error</th><th scope=col>statistic</th><th scope=col>p.value</th><th scope=col>s.value</th><th scope=col>conf.low</th><th scope=col>conf.high</th><th scope=col>predicted_lo</th><th scope=col>predicted_hi</th><th scope=col>predicted</th></tr>\n",
       "\t<tr><th scope=col>&lt;chr&gt;</th><th scope=col>&lt;chr&gt;</th><th scope=col>&lt;dbl&gt;</th><th scope=col>&lt;dbl&gt;</th><th scope=col>&lt;dbl&gt;</th><th scope=col>&lt;dbl&gt;</th><th scope=col>&lt;dbl&gt;</th><th scope=col>&lt;dbl&gt;</th><th scope=col>&lt;dbl&gt;</th><th scope=col>&lt;dbl&gt;</th><th scope=col>&lt;dbl&gt;</th><th scope=col>&lt;dbl&gt;</th></tr>\n",
       "</thead>\n",
       "<tbody>\n",
       "\t<tr><td>n_candidates</td><td>dY/dX</td><td>-0.6700431</td><td>0.1517818</td><td>-4.414516</td><td>1.012361e-05</td><td>16.59192</td><td>-0.9675299</td><td>-0.3725563</td><td>7.251769</td><td>7.251635</td><td>7.251702</td></tr>\n",
       "</tbody>\n",
       "</table>\n"
      ],
      "text/latex": [
       "A slopes: 1 × 12\n",
       "\\begin{tabular}{llllllllllll}\n",
       " term & contrast & estimate & std.error & statistic & p.value & s.value & conf.low & conf.high & predicted\\_lo & predicted\\_hi & predicted\\\\\n",
       " <chr> & <chr> & <dbl> & <dbl> & <dbl> & <dbl> & <dbl> & <dbl> & <dbl> & <dbl> & <dbl> & <dbl>\\\\\n",
       "\\hline\n",
       "\t n\\_candidates & dY/dX & -0.6700431 & 0.1517818 & -4.414516 & 1.012361e-05 & 16.59192 & -0.9675299 & -0.3725563 & 7.251769 & 7.251635 & 7.251702\\\\\n",
       "\\end{tabular}\n"
      ],
      "text/markdown": [
       "\n",
       "A slopes: 1 × 12\n",
       "\n",
       "| term &lt;chr&gt; | contrast &lt;chr&gt; | estimate &lt;dbl&gt; | std.error &lt;dbl&gt; | statistic &lt;dbl&gt; | p.value &lt;dbl&gt; | s.value &lt;dbl&gt; | conf.low &lt;dbl&gt; | conf.high &lt;dbl&gt; | predicted_lo &lt;dbl&gt; | predicted_hi &lt;dbl&gt; | predicted &lt;dbl&gt; |\n",
       "|---|---|---|---|---|---|---|---|---|---|---|---|\n",
       "| n_candidates | dY/dX | -0.6700431 | 0.1517818 | -4.414516 | 1.012361e-05 | 16.59192 | -0.9675299 | -0.3725563 | 7.251769 | 7.251635 | 7.251702 |\n",
       "\n"
      ],
      "text/plain": [
       "  term         contrast estimate   std.error statistic p.value      s.value \n",
       "1 n_candidates dY/dX    -0.6700431 0.1517818 -4.414516 1.012361e-05 16.59192\n",
       "  conf.low   conf.high  predicted_lo predicted_hi predicted\n",
       "1 -0.9675299 -0.3725563 7.251769     7.251635     7.251702 "
      ]
     },
     "metadata": {},
     "output_type": "display_data"
    }
   ],
   "source": [
    "avg_slopes(model, variables =\"n_candidates\", type = \"link\")"
   ]
  },
  {
   "cell_type": "code",
   "execution_count": 13,
   "metadata": {
    "vscode": {
     "languageId": "r"
    }
   },
   "outputs": [
    {
     "data": {
      "text/html": [
       "<table class=\"dataframe\">\n",
       "<caption>A predictions: 1 × 8</caption>\n",
       "<thead>\n",
       "\t<tr><th scope=col>hypothesis</th><th scope=col>estimate</th><th scope=col>std.error</th><th scope=col>statistic</th><th scope=col>p.value</th><th scope=col>s.value</th><th scope=col>conf.low</th><th scope=col>conf.high</th></tr>\n",
       "\t<tr><th scope=col>&lt;chr&gt;</th><th scope=col>&lt;dbl&gt;</th><th scope=col>&lt;dbl&gt;</th><th scope=col>&lt;dbl&gt;</th><th scope=col>&lt;dbl&gt;</th><th scope=col>&lt;dbl&gt;</th><th scope=col>&lt;dbl&gt;</th><th scope=col>&lt;dbl&gt;</th></tr>\n",
       "</thead>\n",
       "<tbody>\n",
       "\t<tr><td>(Y) - (X)</td><td>-0.04517929</td><td>0.01032169</td><td>-4.377123</td><td>1.202562e-05</td><td>16.34353</td><td>-0.06540943</td><td>-0.02494916</td></tr>\n",
       "</tbody>\n",
       "</table>\n"
      ],
      "text/latex": [
       "A predictions: 1 × 8\n",
       "\\begin{tabular}{llllllll}\n",
       " hypothesis & estimate & std.error & statistic & p.value & s.value & conf.low & conf.high\\\\\n",
       " <chr> & <dbl> & <dbl> & <dbl> & <dbl> & <dbl> & <dbl> & <dbl>\\\\\n",
       "\\hline\n",
       "\t (Y) - (X) & -0.04517929 & 0.01032169 & -4.377123 & 1.202562e-05 & 16.34353 & -0.06540943 & -0.02494916\\\\\n",
       "\\end{tabular}\n"
      ],
      "text/markdown": [
       "\n",
       "A predictions: 1 × 8\n",
       "\n",
       "| hypothesis &lt;chr&gt; | estimate &lt;dbl&gt; | std.error &lt;dbl&gt; | statistic &lt;dbl&gt; | p.value &lt;dbl&gt; | s.value &lt;dbl&gt; | conf.low &lt;dbl&gt; | conf.high &lt;dbl&gt; |\n",
       "|---|---|---|---|---|---|---|---|\n",
       "| (Y) - (X) | -0.04517929 | 0.01032169 | -4.377123 | 1.202562e-05 | 16.34353 | -0.06540943 | -0.02494916 |\n",
       "\n"
      ],
      "text/plain": [
       "  hypothesis estimate    std.error  statistic p.value      s.value  conf.low   \n",
       "1 (Y) - (X)  -0.04517929 0.01032169 -4.377123 1.202562e-05 16.34353 -0.06540943\n",
       "  conf.high  \n",
       "1 -0.02494916"
      ]
     },
     "metadata": {},
     "output_type": "display_data"
    }
   ],
   "source": [
    "avg_predictions(model, by=\"Actor\", hypothesis = ~ pairwise)"
   ]
  }
 ],
 "metadata": {
  "kernelspec": {
   "display_name": "R",
   "language": "R",
   "name": "ir"
  },
  "language_info": {
   "codemirror_mode": "r",
   "file_extension": ".r",
   "mimetype": "text/x-r-source",
   "name": "R",
   "pygments_lexer": "r",
   "version": "4.3.3"
  }
 },
 "nbformat": 4,
 "nbformat_minor": 2
}
