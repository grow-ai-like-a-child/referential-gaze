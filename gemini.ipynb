{
 "cells": [
  {
   "cell_type": "markdown",
   "metadata": {},
   "source": [
    "# Loading Responses"
   ]
  },
  {
   "cell_type": "code",
   "execution_count": 1,
   "metadata": {
    "vscode": {
     "languageId": "r"
    }
   },
   "outputs": [
    {
     "name": "stderr",
     "output_type": "stream",
     "text": [
      "Loading required package: lme4\n",
      "\n",
      "Loading required package: Matrix\n",
      "\n",
      "Loading required package: readr\n",
      "\n",
      "Loading required package: marginaleffects\n",
      "\n",
      "Loading required package: emmeans\n",
      "\n",
      "Welcome to emmeans.\n",
      "Caution: You lose important information if you filter this package's results.\n",
      "See '? untidy'\n",
      "\n",
      "Loading required package: car\n",
      "\n",
      "Loading required package: carData\n",
      "\n",
      "\u001b[1mRows: \u001b[22m\u001b[34m156825\u001b[39m \u001b[1mColumns: \u001b[22m\u001b[34m14\u001b[39m\n",
      "\u001b[36m--\u001b[39m \u001b[1mColumn specification\u001b[22m \u001b[36m--------------------------------------------------------\u001b[39m\n",
      "\u001b[1mDelimiter:\u001b[22m \",\"\n",
      "\u001b[31mchr\u001b[39m (2): Run_ID, Part\n",
      "\u001b[32mint\u001b[39m (2): Proximity, n_candidates\n",
      "\u001b[33mlgl\u001b[39m (1): Accuracy\n",
      "\u001b[31mfct\u001b[39m (9): Stimulus_ID, Prompt_ID, Participant_ID, Group, GroupKind, Angle, Ac...\n",
      "\n",
      "\u001b[36mi\u001b[39m Use `spec()` to retrieve the full column specification for this data.\n",
      "\u001b[36mi\u001b[39m Specify the column types or set `show_col_types = FALSE` to quiet this message.\n"
     ]
    }
   ],
   "source": [
    "options(warn=1)\n",
    "if(!require('lme4')) {\n",
    "    install.packages('lme4', repos='https://cloud.r-project.org')\n",
    "    library('lme4')\n",
    "}\n",
    "if(!require('readr')) {\n",
    "    install.packages('readr', repos='https://cloud.r-project.org')\n",
    "    library('readr')\n",
    "}\n",
    "if(!require('marginaleffects')) {\n",
    "    install.packages('marginaleffects', repos='https://cloud.r-project.org')\n",
    "    library('marginaleffects')\n",
    "}\n",
    "if(!require('emmeans')) {\n",
    "    install.packages('emmeans', repos='https://cloud.r-project.org')\n",
    "    library('emmeans')\n",
    "}\n",
    "if(!require('car')) {\n",
    "    install.packages('car', repos='https://cloud.r-project.org')\n",
    "    library('car')\n",
    "}\n",
    "df <- read_csv(\"result_1743457603_20250506_20250506F.csv\", na = \"empty\", col_select = c(\"Accuracy\", \"Group\", \"GroupKind\", \"Angle\", \"Proximity\", \"n_candidates\", \"Actor\", \"Candidates\", \"Stimulus_ID\", \"Prompt_ID\", \"Participant_ID\", \"list_id\", \"Run_ID\", \"Part\"), col_types = cols(\n",
    "    Accuracy = col_logical(),\n",
    "    Group = col_factor(),\n",
    "    GroupKind = col_factor(),\n",
    "    Angle = col_factor(),\n",
    "    Proximity = col_integer(),\n",
    "    n_candidates = col_integer(),\n",
    "    Actor = col_factor(c('X', 'Y')),\n",
    "    Candidates = col_factor(),\n",
    "    Stimulus_ID = col_factor(),\n",
    "    Prompt_ID = col_factor(),\n",
    "    Participant_ID = col_factor(),\n",
    "    list_id = col_factor(),\n",
    "    Run_ID = col_character(),\n",
    "    Part = col_character(),\n",
    "),show_col_types = TRUE)\n",
    "df <- df[df$Group == \"gemini-1.5-pro\" & df$list_id != -1 & df$Part != \"p0\", ]\n",
    "df$offset <- log(1/df$n_candidates / (1 - 1/df$n_candidates))\n",
    "#df$Proximity <- df$Proximity - mean(df$Proximity)\n",
    "#df$n_candidates <- df$n_candidates - mean(df$n_candidates)"
   ]
  },
  {
   "cell_type": "code",
   "execution_count": 2,
   "metadata": {
    "vscode": {
     "languageId": "r"
    }
   },
   "outputs": [
    {
     "data": {
      "text/plain": [
       "R version 4.3.3 (2024-02-29)\n",
       "Platform: aarch64-apple-darwin20.0.0 (64-bit)\n",
       "Running under: macOS 15.5\n",
       "\n",
       "Matrix products: default\n",
       "BLAS/LAPACK: /Users/zory/miniforge3/envs/py310/lib/libopenblas.0.dylib;  LAPACK version 3.12.0\n",
       "\n",
       "locale:\n",
       "[1] C\n",
       "\n",
       "time zone: America/Los_Angeles\n",
       "tzcode source: system (macOS)\n",
       "\n",
       "attached base packages:\n",
       "[1] stats     graphics  grDevices utils     datasets  methods   base     \n",
       "\n",
       "other attached packages:\n",
       "[1] car_3.1-3              carData_3.0-5          emmeans_1.11.0        \n",
       "[4] marginaleffects_0.25.1 readr_2.1.5            lme4_1.1-35.5         \n",
       "[7] Matrix_1.6-5          \n",
       "\n",
       "loaded via a namespace (and not attached):\n",
       " [1] bit_4.6.0          jsonlite_2.0.0     compiler_4.3.3     crayon_1.5.3      \n",
       " [5] tidyselect_1.2.1   Rcpp_1.0.14        IRdisplay_1.1      parallel_4.3.3    \n",
       " [9] splines_4.3.3      boot_1.3-31        uuid_1.2-1         fastmap_1.2.0     \n",
       "[13] IRkernel_1.3.2     lattice_0.22-6     coda_0.19-4.1      R6_2.6.1          \n",
       "[17] generics_0.1.4     Formula_1.2-5      MASS_7.3-60.0.1    backports_1.5.0   \n",
       "[21] tibble_3.2.1       nloptr_2.2.1       minqa_1.2.8        pillar_1.10.2     \n",
       "[25] tzdb_0.5.0         rlang_1.1.5        repr_1.1.6         bit64_4.6.0-1     \n",
       "[29] estimability_1.5.1 cli_3.6.4          withr_3.0.2        magrittr_2.0.3    \n",
       "[33] digest_0.6.37      grid_4.3.3         vroom_1.6.5        xtable_1.8-4      \n",
       "[37] mvtnorm_1.3-3      base64enc_0.1-3    hms_1.1.3          pbdZMQ_0.3-14     \n",
       "[41] lifecycle_1.0.4    nlme_3.1-168       vctrs_0.6.5        evaluate_0.22     \n",
       "[45] glue_1.8.0         data.table_1.17.0  abind_1.4-8        tools_4.3.3       \n",
       "[49] pkgconfig_2.0.3    htmltools_0.5.8.1 "
      ]
     },
     "metadata": {},
     "output_type": "display_data"
    }
   ],
   "source": [
    "sessionInfo()"
   ]
  },
  {
   "cell_type": "markdown",
   "metadata": {},
   "source": [
    "# Fitting models"
   ]
  },
  {
   "cell_type": "code",
   "execution_count": 3,
   "metadata": {
    "vscode": {
     "languageId": "r"
    }
   },
   "outputs": [
    {
     "name": "stderr",
     "output_type": "stream",
     "text": [
      "Warning message in checkConv(attr(opt, \"derivs\"), opt$par, ctrl = control$checkConv, :\n",
      "\"Model failed to converge with max|grad| = 0.00227124 (tol = 0.002, component 1)\"\n"
     ]
    },
    {
     "data": {
      "text/plain": [
       "Generalized linear mixed model fit by maximum likelihood (Laplace\n",
       "  Approximation) [glmerMod]\n",
       " Family: binomial  ( logit )\n",
       "Formula: \n",
       "Accuracy ~ Angle + scale(Proximity, scale = FALSE) + scale(n_candidates,  \n",
       "    scale = FALSE) + Actor + (1 | Actor:Candidates) + (1 | Actor:Candidates:Stimulus_ID) +  \n",
       "    (1 | Prompt_ID)\n",
       "   Data: df\n",
       " Offset: offset\n",
       "      AIC       BIC    logLik  deviance  df.resid \n",
       " 7013.277  7077.222 -3497.639  6995.277      8991 \n",
       "Random effects:\n",
       " Groups                       Name        Std.Dev. \n",
       " Actor:Candidates:Stimulus_ID (Intercept) 4.0433874\n",
       " Actor:Candidates             (Intercept) 0.0002256\n",
       " Prompt_ID                    (Intercept) 0.1569625\n",
       "Number of obs: 9000, groups:  \n",
       "Actor:Candidates:Stimulus_ID, 900; Actor:Candidates, 18; Prompt_ID, 12\n",
       "Fixed Effects:\n",
       "                       (Intercept)                           Angleleft  \n",
       "                            0.5441                             -0.4441  \n",
       "                        Angleright     scale(Proximity, scale = FALSE)  \n",
       "                           -0.2525                             -0.7219  \n",
       "scale(n_candidates, scale = FALSE)                              ActorY  \n",
       "                           -0.9060                             -0.1660  \n",
       "optimizer (Nelder_Mead) convergence code: 0 (OK) ; 0 optimizer warnings; 1 lme4 warnings "
      ]
     },
     "metadata": {},
     "output_type": "display_data"
    }
   ],
   "source": [
    "model0 <- glmer(Accuracy ~ Angle + scale(Proximity, scale=FALSE) + scale(n_candidates, scale=FALSE) + Actor + (1|Actor:Candidates) + (1|Actor:Candidates:Stimulus_ID) + (1|Prompt_ID), \n",
    "               data = df,\n",
    "               family = binomial(link = \"logit\"), \n",
    "               offset = offset)\n",
    "model0"
   ]
  },
  {
   "cell_type": "code",
   "execution_count": 4,
   "metadata": {
    "vscode": {
     "languageId": "r"
    }
   },
   "outputs": [
    {
     "data": {
      "text/plain": [
       "Generalized linear mixed model fit by maximum likelihood (Laplace\n",
       "  Approximation) [glmerMod]\n",
       " Family: binomial  ( logit )\n",
       "Formula: \n",
       "Accuracy ~ Angle + scale(Proximity, scale = FALSE) + scale(n_candidates,  \n",
       "    scale = FALSE) + Actor + (1 | Actor:Stimulus_ID) + (1 | Prompt_ID)\n",
       "   Data: df\n",
       " Offset: offset\n",
       "      AIC       BIC    logLik  deviance  df.resid \n",
       " 7011.277  7068.117 -3497.639  6995.277      8992 \n",
       "Random effects:\n",
       " Groups            Name        Std.Dev.\n",
       " Actor:Stimulus_ID (Intercept) 4.043   \n",
       " Prompt_ID         (Intercept) 0.157   \n",
       "Number of obs: 9000, groups:  Actor:Stimulus_ID, 900; Prompt_ID, 12\n",
       "Fixed Effects:\n",
       "                       (Intercept)                           Angleleft  \n",
       "                            0.5441                             -0.4442  \n",
       "                        Angleright     scale(Proximity, scale = FALSE)  \n",
       "                           -0.2524                             -0.7219  \n",
       "scale(n_candidates, scale = FALSE)                              ActorY  \n",
       "                           -0.9060                             -0.1659  "
      ]
     },
     "metadata": {},
     "output_type": "display_data"
    }
   ],
   "source": [
    "model1 <- glmer(Accuracy ~ Angle + scale(Proximity, scale=FALSE) + scale(n_candidates, scale=FALSE) + Actor + (1|Actor:Stimulus_ID) + (1|Prompt_ID), \n",
    "               data = df,\n",
    "               family = binomial(link = \"logit\"), \n",
    "               offset = offset)\n",
    "model1"
   ]
  },
  {
   "cell_type": "code",
   "execution_count": 5,
   "metadata": {
    "vscode": {
     "languageId": "r"
    }
   },
   "outputs": [
    {
     "name": "stderr",
     "output_type": "stream",
     "text": [
      "boundary (singular) fit: see help('isSingular')\n",
      "\n"
     ]
    },
    {
     "data": {
      "text/plain": [
       "Generalized linear mixed model fit by maximum likelihood (Laplace\n",
       "  Approximation) [glmerMod]\n",
       " Family: binomial  ( logit )\n",
       "Formula: \n",
       "Accuracy ~ Angle + scale(Proximity, scale = FALSE) + scale(n_candidates,  \n",
       "    scale = FALSE) + Actor + (1 | Actor:Candidates) + (1 | Actor:Candidates:Stimulus_ID)\n",
       "   Data: df\n",
       " Offset: offset\n",
       "      AIC       BIC    logLik  deviance  df.resid \n",
       " 7017.499  7074.339 -3500.750  7001.499      8992 \n",
       "Random effects:\n",
       " Groups                       Name        Std.Dev. \n",
       " Actor:Candidates:Stimulus_ID (Intercept) 4.027e+00\n",
       " Actor:Candidates             (Intercept) 1.217e-05\n",
       "Number of obs: 9000, groups:  \n",
       "Actor:Candidates:Stimulus_ID, 900; Actor:Candidates, 18\n",
       "Fixed Effects:\n",
       "                       (Intercept)                           Angleleft  \n",
       "                            0.5473                             -0.4451  \n",
       "                        Angleright     scale(Proximity, scale = FALSE)  \n",
       "                           -0.2507                             -0.7179  \n",
       "scale(n_candidates, scale = FALSE)                              ActorY  \n",
       "                           -0.8970                             -0.1652  \n",
       "optimizer (Nelder_Mead) convergence code: 0 (OK) ; 0 optimizer warnings; 1 lme4 warnings "
      ]
     },
     "metadata": {},
     "output_type": "display_data"
    }
   ],
   "source": [
    "model2 <- glmer(Accuracy ~ Angle + scale(Proximity, scale=FALSE) + scale(n_candidates, scale=FALSE) + Actor + (1|Actor:Candidates) + (1|Actor:Candidates:Stimulus_ID), \n",
    "               data = df,\n",
    "               family = binomial(link = \"logit\"), \n",
    "               offset = offset)\n",
    "model2"
   ]
  },
  {
   "cell_type": "code",
   "execution_count": 6,
   "metadata": {
    "vscode": {
     "languageId": "r"
    }
   },
   "outputs": [
    {
     "data": {
      "text/plain": [
       "Generalized linear mixed model fit by maximum likelihood (Laplace\n",
       "  Approximation) [glmerMod]\n",
       " Family: binomial  ( logit )\n",
       "Formula: \n",
       "Accuracy ~ Angle + scale(Proximity, scale = FALSE) + scale(n_candidates,  \n",
       "    scale = FALSE) + Actor + (1 | Actor:Stimulus_ID)\n",
       "   Data: df\n",
       " Offset: offset\n",
       "      AIC       BIC    logLik  deviance  df.resid \n",
       " 7015.499  7065.234 -3500.750  7001.499      8993 \n",
       "Random effects:\n",
       " Groups            Name        Std.Dev.\n",
       " Actor:Stimulus_ID (Intercept) 4.027   \n",
       "Number of obs: 9000, groups:  Actor:Stimulus_ID, 900\n",
       "Fixed Effects:\n",
       "                       (Intercept)                           Angleleft  \n",
       "                            0.5473                             -0.4451  \n",
       "                        Angleright     scale(Proximity, scale = FALSE)  \n",
       "                           -0.2507                             -0.7179  \n",
       "scale(n_candidates, scale = FALSE)                              ActorY  \n",
       "                           -0.8970                             -0.1651  "
      ]
     },
     "metadata": {},
     "output_type": "display_data"
    }
   ],
   "source": [
    "model3 <- glmer(Accuracy ~ Angle + scale(Proximity, scale=FALSE) + scale(n_candidates, scale=FALSE) + Actor + (1|Actor:Stimulus_ID), \n",
    "               data = df,\n",
    "               family = binomial(link = \"logit\"), \n",
    "               offset = offset)\n",
    "model3"
   ]
  },
  {
   "cell_type": "code",
   "execution_count": 7,
   "metadata": {
    "vscode": {
     "languageId": "r"
    }
   },
   "outputs": [
    {
     "data": {
      "text/plain": [
       "Generalized linear mixed model fit by maximum likelihood (Laplace\n",
       "  Approximation) [glmerMod]\n",
       " Family: binomial  ( logit )\n",
       "Formula: \n",
       "Accuracy ~ Angle + scale(Proximity, scale = FALSE) + scale(n_candidates,  \n",
       "    scale = FALSE) + Actor + (1 | Actor:Candidates)\n",
       "   Data: df\n",
       " Offset: offset\n",
       "      AIC       BIC    logLik  deviance  df.resid \n",
       "12024.321 12074.056 -6005.161 12010.321      8993 \n",
       "Random effects:\n",
       " Groups           Name        Std.Dev.\n",
       " Actor:Candidates (Intercept) 0.1981  \n",
       "Number of obs: 9000, groups:  Actor:Candidates, 18\n",
       "Fixed Effects:\n",
       "                       (Intercept)                           Angleleft  \n",
       "                           0.47627                            -0.26027  \n",
       "                        Angleright     scale(Proximity, scale = FALSE)  \n",
       "                          -0.18684                            -0.20687  \n",
       "scale(n_candidates, scale = FALSE)                              ActorY  \n",
       "                           0.10384                            -0.05227  "
      ]
     },
     "metadata": {},
     "output_type": "display_data"
    }
   ],
   "source": [
    "model3_5 <- glmer(Accuracy ~ Angle + scale(Proximity, scale=FALSE) + scale(n_candidates, scale=FALSE) + Actor + (1|Actor:Candidates), \n",
    "               data = df,\n",
    "               family = binomial(link = \"logit\"), \n",
    "               offset = offset)\n",
    "model3_5"
   ]
  },
  {
   "cell_type": "code",
   "execution_count": 8,
   "metadata": {
    "vscode": {
     "languageId": "r"
    }
   },
   "outputs": [
    {
     "data": {
      "text/plain": [
       "\n",
       "Call:  glm(formula = Accuracy ~ Angle * scale(Proximity, scale = FALSE) * \n",
       "    scale(n_candidates, scale = FALSE) * Actor, family = binomial(link = \"logit\"), \n",
       "    data = df, offset = offset)\n",
       "\n",
       "Coefficients:\n",
       "                                                                         (Intercept)  \n",
       "                                                                           0.5436877  \n",
       "                                                                           Angleleft  \n",
       "                                                                          -0.3251485  \n",
       "                                                                          Angleright  \n",
       "                                                                          -0.2606240  \n",
       "                                                     scale(Proximity, scale = FALSE)  \n",
       "                                                                          -0.3674851  \n",
       "                                                  scale(n_candidates, scale = FALSE)  \n",
       "                                                                           0.3688445  \n",
       "                                                                              ActorY  \n",
       "                                                                          -0.1556898  \n",
       "                                           Angleleft:scale(Proximity, scale = FALSE)  \n",
       "                                                                           0.0385839  \n",
       "                                          Angleright:scale(Proximity, scale = FALSE)  \n",
       "                                                                           0.1071632  \n",
       "                                        Angleleft:scale(n_candidates, scale = FALSE)  \n",
       "                                                                          -0.4196072  \n",
       "                                       Angleright:scale(n_candidates, scale = FALSE)  \n",
       "                                                                          -0.0695056  \n",
       "                  scale(Proximity, scale = FALSE):scale(n_candidates, scale = FALSE)  \n",
       "                                                                          -0.0009613  \n",
       "                                                                    Angleleft:ActorY  \n",
       "                                                                           0.0598072  \n",
       "                                                                   Angleright:ActorY  \n",
       "                                                                           0.1498715  \n",
       "                                              scale(Proximity, scale = FALSE):ActorY  \n",
       "                                                                           0.3309513  \n",
       "                                           scale(n_candidates, scale = FALSE):ActorY  \n",
       "                                                                          -0.6109401  \n",
       "        Angleleft:scale(Proximity, scale = FALSE):scale(n_candidates, scale = FALSE)  \n",
       "                                                                          -0.0822855  \n",
       "       Angleright:scale(Proximity, scale = FALSE):scale(n_candidates, scale = FALSE)  \n",
       "                                                                          -0.4197437  \n",
       "                                    Angleleft:scale(Proximity, scale = FALSE):ActorY  \n",
       "                                                                          -0.1762925  \n",
       "                                   Angleright:scale(Proximity, scale = FALSE):ActorY  \n",
       "                                                                          -0.1681526  \n",
       "                                 Angleleft:scale(n_candidates, scale = FALSE):ActorY  \n",
       "                                                                           0.7272565  \n",
       "                                Angleright:scale(n_candidates, scale = FALSE):ActorY  \n",
       "                                                                           0.2777291  \n",
       "           scale(Proximity, scale = FALSE):scale(n_candidates, scale = FALSE):ActorY  \n",
       "                                                                          -0.0577109  \n",
       " Angleleft:scale(Proximity, scale = FALSE):scale(n_candidates, scale = FALSE):ActorY  \n",
       "                                                                           0.2731599  \n",
       "Angleright:scale(Proximity, scale = FALSE):scale(n_candidates, scale = FALSE):ActorY  \n",
       "                                                                           0.5771850  \n",
       "\n",
       "Degrees of Freedom: 8999 Total (i.e. Null);  8976 Residual\n",
       "Null Deviance:\t    12170 \n",
       "Residual Deviance: 11960 \tAIC: 12010"
      ]
     },
     "metadata": {},
     "output_type": "display_data"
    }
   ],
   "source": [
    "model4 <- glm(Accuracy ~ Angle * scale(Proximity, scale=FALSE) * scale(n_candidates, scale=FALSE) * Actor, \n",
    "               data = df,\n",
    "               family = binomial(link = \"logit\"), \n",
    "               offset = offset)\n",
    "model4"
   ]
  },
  {
   "cell_type": "code",
   "execution_count": 9,
   "metadata": {
    "vscode": {
     "languageId": "r"
    }
   },
   "outputs": [
    {
     "data": {
      "text/plain": [
       "Generalized linear mixed model fit by maximum likelihood (Laplace\n",
       "  Approximation) [glmerMod]\n",
       " Family: binomial  ( logit )\n",
       "Formula: Accuracy ~ Angle + scale(Proximity, scale = FALSE) * Actor +  \n",
       "    scale(n_candidates, scale = FALSE) + (1 | Stimulus_ID)\n",
       "   Data: df\n",
       " Offset: offset\n",
       "      AIC       BIC    logLik  deviance  df.resid \n",
       " 7014.502  7071.342 -3499.251  6998.502      8992 \n",
       "Random effects:\n",
       " Groups      Name        Std.Dev.\n",
       " Stimulus_ID (Intercept) 4.024   \n",
       "Number of obs: 9000, groups:  Stimulus_ID, 900\n",
       "Fixed Effects:\n",
       "                           (Intercept)                               Angleleft  \n",
       "                                0.5490                                 -0.4454  \n",
       "                            Angleright         scale(Proximity, scale = FALSE)  \n",
       "                               -0.2559                                 -1.0186  \n",
       "                                ActorY      scale(n_candidates, scale = FALSE)  \n",
       "                               -0.1653                                 -0.9007  \n",
       "scale(Proximity, scale = FALSE):ActorY  \n",
       "                                0.6605  "
      ]
     },
     "metadata": {},
     "output_type": "display_data"
    }
   ],
   "source": [
    "model5 <- glmer(Accuracy ~ Angle + scale(Proximity, scale=FALSE) * Actor + scale(n_candidates, scale=FALSE) + (1|Stimulus_ID), \n",
    "               data = df,\n",
    "               family = binomial(link = \"logit\"), \n",
    "               offset = offset)\n",
    "model5"
   ]
  },
  {
   "cell_type": "markdown",
   "metadata": {},
   "source": [
    "# Model selection"
   ]
  },
  {
   "cell_type": "code",
   "execution_count": 10,
   "metadata": {
    "scrolled": false,
    "vscode": {
     "languageId": "r"
    }
   },
   "outputs": [
    {
     "data": {
      "text/html": [
       "<table class=\"dataframe\">\n",
       "<caption>A anova: 2 x 8</caption>\n",
       "<thead>\n",
       "\t<tr><th></th><th scope=col>npar</th><th scope=col>AIC</th><th scope=col>BIC</th><th scope=col>logLik</th><th scope=col>deviance</th><th scope=col>Chisq</th><th scope=col>Df</th><th scope=col>Pr(&gt;Chisq)</th></tr>\n",
       "\t<tr><th></th><th scope=col>&lt;dbl&gt;</th><th scope=col>&lt;dbl&gt;</th><th scope=col>&lt;dbl&gt;</th><th scope=col>&lt;dbl&gt;</th><th scope=col>&lt;dbl&gt;</th><th scope=col>&lt;dbl&gt;</th><th scope=col>&lt;dbl&gt;</th><th scope=col>&lt;lgl&gt;</th></tr>\n",
       "</thead>\n",
       "<tbody>\n",
       "\t<tr><th scope=row>model1</th><td>8</td><td>7011.277</td><td>7068.117</td><td>-3497.639</td><td>6995.277</td><td>NA</td><td>NA</td><td>NA</td></tr>\n",
       "\t<tr><th scope=row>model2</th><td>8</td><td>7017.499</td><td>7074.339</td><td>-3500.750</td><td>7001.499</td><td> 0</td><td> 0</td><td>NA</td></tr>\n",
       "</tbody>\n",
       "</table>\n"
      ],
      "text/latex": [
       "A anova: 2 x 8\n",
       "\\begin{tabular}{r|llllllll}\n",
       "  & npar & AIC & BIC & logLik & deviance & Chisq & Df & Pr(>Chisq)\\\\\n",
       "  & <dbl> & <dbl> & <dbl> & <dbl> & <dbl> & <dbl> & <dbl> & <lgl>\\\\\n",
       "\\hline\n",
       "\tmodel1 & 8 & 7011.277 & 7068.117 & -3497.639 & 6995.277 & NA & NA & NA\\\\\n",
       "\tmodel2 & 8 & 7017.499 & 7074.339 & -3500.750 & 7001.499 &  0 &  0 & NA\\\\\n",
       "\\end{tabular}\n"
      ],
      "text/markdown": [
       "\n",
       "A anova: 2 x 8\n",
       "\n",
       "| <!--/--> | npar &lt;dbl&gt; | AIC &lt;dbl&gt; | BIC &lt;dbl&gt; | logLik &lt;dbl&gt; | deviance &lt;dbl&gt; | Chisq &lt;dbl&gt; | Df &lt;dbl&gt; | Pr(&gt;Chisq) &lt;lgl&gt; |\n",
       "|---|---|---|---|---|---|---|---|---|\n",
       "| model1 | 8 | 7011.277 | 7068.117 | -3497.639 | 6995.277 | NA | NA | NA |\n",
       "| model2 | 8 | 7017.499 | 7074.339 | -3500.750 | 7001.499 |  0 |  0 | NA |\n",
       "\n"
      ],
      "text/plain": [
       "       npar AIC      BIC      logLik    deviance Chisq Df Pr(>Chisq)\n",
       "model1 8    7011.277 7068.117 -3497.639 6995.277 NA    NA NA        \n",
       "model2 8    7017.499 7074.339 -3500.750 7001.499  0     0 NA        "
      ]
     },
     "metadata": {},
     "output_type": "display_data"
    }
   ],
   "source": [
    "anova(model1, model2)"
   ]
  },
  {
   "cell_type": "code",
   "execution_count": 11,
   "metadata": {
    "vscode": {
     "languageId": "r"
    }
   },
   "outputs": [
    {
     "data": {
      "text/html": [
       "<table class=\"dataframe\">\n",
       "<caption>A anova: 2 x 8</caption>\n",
       "<thead>\n",
       "\t<tr><th></th><th scope=col>npar</th><th scope=col>AIC</th><th scope=col>BIC</th><th scope=col>logLik</th><th scope=col>deviance</th><th scope=col>Chisq</th><th scope=col>Df</th><th scope=col>Pr(&gt;Chisq)</th></tr>\n",
       "\t<tr><th></th><th scope=col>&lt;dbl&gt;</th><th scope=col>&lt;dbl&gt;</th><th scope=col>&lt;dbl&gt;</th><th scope=col>&lt;dbl&gt;</th><th scope=col>&lt;dbl&gt;</th><th scope=col>&lt;dbl&gt;</th><th scope=col>&lt;dbl&gt;</th><th scope=col>&lt;dbl&gt;</th></tr>\n",
       "</thead>\n",
       "<tbody>\n",
       "\t<tr><th scope=row>model3</th><td>7</td><td>7015.499</td><td>7065.234</td><td>-3500.750</td><td>7001.499</td><td>      NA</td><td>NA</td><td>        NA</td></tr>\n",
       "\t<tr><th scope=row>model1</th><td>8</td><td>7011.277</td><td>7068.117</td><td>-3497.639</td><td>6995.277</td><td>6.222326</td><td> 1</td><td>0.01261493</td></tr>\n",
       "</tbody>\n",
       "</table>\n"
      ],
      "text/latex": [
       "A anova: 2 x 8\n",
       "\\begin{tabular}{r|llllllll}\n",
       "  & npar & AIC & BIC & logLik & deviance & Chisq & Df & Pr(>Chisq)\\\\\n",
       "  & <dbl> & <dbl> & <dbl> & <dbl> & <dbl> & <dbl> & <dbl> & <dbl>\\\\\n",
       "\\hline\n",
       "\tmodel3 & 7 & 7015.499 & 7065.234 & -3500.750 & 7001.499 &       NA & NA &         NA\\\\\n",
       "\tmodel1 & 8 & 7011.277 & 7068.117 & -3497.639 & 6995.277 & 6.222326 &  1 & 0.01261493\\\\\n",
       "\\end{tabular}\n"
      ],
      "text/markdown": [
       "\n",
       "A anova: 2 x 8\n",
       "\n",
       "| <!--/--> | npar &lt;dbl&gt; | AIC &lt;dbl&gt; | BIC &lt;dbl&gt; | logLik &lt;dbl&gt; | deviance &lt;dbl&gt; | Chisq &lt;dbl&gt; | Df &lt;dbl&gt; | Pr(&gt;Chisq) &lt;dbl&gt; |\n",
       "|---|---|---|---|---|---|---|---|---|\n",
       "| model3 | 7 | 7015.499 | 7065.234 | -3500.750 | 7001.499 |       NA | NA |         NA |\n",
       "| model1 | 8 | 7011.277 | 7068.117 | -3497.639 | 6995.277 | 6.222326 |  1 | 0.01261493 |\n",
       "\n"
      ],
      "text/plain": [
       "       npar AIC      BIC      logLik    deviance Chisq    Df Pr(>Chisq)\n",
       "model3 7    7015.499 7065.234 -3500.750 7001.499       NA NA         NA\n",
       "model1 8    7011.277 7068.117 -3497.639 6995.277 6.222326  1 0.01261493"
      ]
     },
     "metadata": {},
     "output_type": "display_data"
    }
   ],
   "source": [
    "anova(model1, model3)"
   ]
  },
  {
   "cell_type": "code",
   "execution_count": 12,
   "metadata": {
    "vscode": {
     "languageId": "r"
    }
   },
   "outputs": [
    {
     "data": {
      "text/html": [
       "<table class=\"dataframe\">\n",
       "<caption>A anova: 2 x 8</caption>\n",
       "<thead>\n",
       "\t<tr><th></th><th scope=col>npar</th><th scope=col>AIC</th><th scope=col>BIC</th><th scope=col>logLik</th><th scope=col>deviance</th><th scope=col>Chisq</th><th scope=col>Df</th><th scope=col>Pr(&gt;Chisq)</th></tr>\n",
       "\t<tr><th></th><th scope=col>&lt;dbl&gt;</th><th scope=col>&lt;dbl&gt;</th><th scope=col>&lt;dbl&gt;</th><th scope=col>&lt;dbl&gt;</th><th scope=col>&lt;dbl&gt;</th><th scope=col>&lt;dbl&gt;</th><th scope=col>&lt;dbl&gt;</th><th scope=col>&lt;lgl&gt;</th></tr>\n",
       "</thead>\n",
       "<tbody>\n",
       "\t<tr><th scope=row>model3</th><td>7</td><td> 7015.499</td><td> 7065.234</td><td>-3500.750</td><td> 7001.499</td><td>NA</td><td>NA</td><td>NA</td></tr>\n",
       "\t<tr><th scope=row>model3_5</th><td>7</td><td>12024.321</td><td>12074.056</td><td>-6005.161</td><td>12010.321</td><td> 0</td><td> 0</td><td>NA</td></tr>\n",
       "</tbody>\n",
       "</table>\n"
      ],
      "text/latex": [
       "A anova: 2 x 8\n",
       "\\begin{tabular}{r|llllllll}\n",
       "  & npar & AIC & BIC & logLik & deviance & Chisq & Df & Pr(>Chisq)\\\\\n",
       "  & <dbl> & <dbl> & <dbl> & <dbl> & <dbl> & <dbl> & <dbl> & <lgl>\\\\\n",
       "\\hline\n",
       "\tmodel3 & 7 &  7015.499 &  7065.234 & -3500.750 &  7001.499 & NA & NA & NA\\\\\n",
       "\tmodel3\\_5 & 7 & 12024.321 & 12074.056 & -6005.161 & 12010.321 &  0 &  0 & NA\\\\\n",
       "\\end{tabular}\n"
      ],
      "text/markdown": [
       "\n",
       "A anova: 2 x 8\n",
       "\n",
       "| <!--/--> | npar &lt;dbl&gt; | AIC &lt;dbl&gt; | BIC &lt;dbl&gt; | logLik &lt;dbl&gt; | deviance &lt;dbl&gt; | Chisq &lt;dbl&gt; | Df &lt;dbl&gt; | Pr(&gt;Chisq) &lt;lgl&gt; |\n",
       "|---|---|---|---|---|---|---|---|---|\n",
       "| model3 | 7 |  7015.499 |  7065.234 | -3500.750 |  7001.499 | NA | NA | NA |\n",
       "| model3_5 | 7 | 12024.321 | 12074.056 | -6005.161 | 12010.321 |  0 |  0 | NA |\n",
       "\n"
      ],
      "text/plain": [
       "         npar AIC       BIC       logLik    deviance  Chisq Df Pr(>Chisq)\n",
       "model3   7     7015.499  7065.234 -3500.750  7001.499 NA    NA NA        \n",
       "model3_5 7    12024.321 12074.056 -6005.161 12010.321  0     0 NA        "
      ]
     },
     "metadata": {},
     "output_type": "display_data"
    }
   ],
   "source": [
    "anova(model3, model3_5)"
   ]
  },
  {
   "cell_type": "code",
   "execution_count": 13,
   "metadata": {
    "vscode": {
     "languageId": "r"
    }
   },
   "outputs": [
    {
     "data": {
      "text/html": [
       "<table class=\"dataframe\">\n",
       "<caption>A anova: 2 x 8</caption>\n",
       "<thead>\n",
       "\t<tr><th></th><th scope=col>npar</th><th scope=col>AIC</th><th scope=col>BIC</th><th scope=col>logLik</th><th scope=col>deviance</th><th scope=col>Chisq</th><th scope=col>Df</th><th scope=col>Pr(&gt;Chisq)</th></tr>\n",
       "\t<tr><th></th><th scope=col>&lt;dbl&gt;</th><th scope=col>&lt;dbl&gt;</th><th scope=col>&lt;dbl&gt;</th><th scope=col>&lt;dbl&gt;</th><th scope=col>&lt;dbl&gt;</th><th scope=col>&lt;dbl&gt;</th><th scope=col>&lt;dbl&gt;</th><th scope=col>&lt;dbl&gt;</th></tr>\n",
       "</thead>\n",
       "<tbody>\n",
       "\t<tr><th scope=row>model3</th><td> 7</td><td> 7015.499</td><td> 7065.234</td><td>-3500.750</td><td> 7001.499</td><td>NA</td><td>NA</td><td>NA</td></tr>\n",
       "\t<tr><th scope=row>model4</th><td>24</td><td>12007.389</td><td>12177.908</td><td>-5979.694</td><td>11959.389</td><td> 0</td><td>17</td><td> 1</td></tr>\n",
       "</tbody>\n",
       "</table>\n"
      ],
      "text/latex": [
       "A anova: 2 x 8\n",
       "\\begin{tabular}{r|llllllll}\n",
       "  & npar & AIC & BIC & logLik & deviance & Chisq & Df & Pr(>Chisq)\\\\\n",
       "  & <dbl> & <dbl> & <dbl> & <dbl> & <dbl> & <dbl> & <dbl> & <dbl>\\\\\n",
       "\\hline\n",
       "\tmodel3 &  7 &  7015.499 &  7065.234 & -3500.750 &  7001.499 & NA & NA & NA\\\\\n",
       "\tmodel4 & 24 & 12007.389 & 12177.908 & -5979.694 & 11959.389 &  0 & 17 &  1\\\\\n",
       "\\end{tabular}\n"
      ],
      "text/markdown": [
       "\n",
       "A anova: 2 x 8\n",
       "\n",
       "| <!--/--> | npar &lt;dbl&gt; | AIC &lt;dbl&gt; | BIC &lt;dbl&gt; | logLik &lt;dbl&gt; | deviance &lt;dbl&gt; | Chisq &lt;dbl&gt; | Df &lt;dbl&gt; | Pr(&gt;Chisq) &lt;dbl&gt; |\n",
       "|---|---|---|---|---|---|---|---|---|\n",
       "| model3 |  7 |  7015.499 |  7065.234 | -3500.750 |  7001.499 | NA | NA | NA |\n",
       "| model4 | 24 | 12007.389 | 12177.908 | -5979.694 | 11959.389 |  0 | 17 |  1 |\n",
       "\n"
      ],
      "text/plain": [
       "       npar AIC       BIC       logLik    deviance  Chisq Df Pr(>Chisq)\n",
       "model3  7    7015.499  7065.234 -3500.750  7001.499 NA    NA NA        \n",
       "model4 24   12007.389 12177.908 -5979.694 11959.389  0    17  1        "
      ]
     },
     "metadata": {},
     "output_type": "display_data"
    }
   ],
   "source": [
    "anova(model3, model4)"
   ]
  },
  {
   "cell_type": "code",
   "execution_count": 14,
   "metadata": {
    "vscode": {
     "languageId": "r"
    }
   },
   "outputs": [
    {
     "data": {
      "text/html": [
       "<table class=\"dataframe\">\n",
       "<caption>A anova: 2 x 8</caption>\n",
       "<thead>\n",
       "\t<tr><th></th><th scope=col>npar</th><th scope=col>AIC</th><th scope=col>BIC</th><th scope=col>logLik</th><th scope=col>deviance</th><th scope=col>Chisq</th><th scope=col>Df</th><th scope=col>Pr(&gt;Chisq)</th></tr>\n",
       "\t<tr><th></th><th scope=col>&lt;dbl&gt;</th><th scope=col>&lt;dbl&gt;</th><th scope=col>&lt;dbl&gt;</th><th scope=col>&lt;dbl&gt;</th><th scope=col>&lt;dbl&gt;</th><th scope=col>&lt;dbl&gt;</th><th scope=col>&lt;dbl&gt;</th><th scope=col>&lt;lgl&gt;</th></tr>\n",
       "</thead>\n",
       "<tbody>\n",
       "\t<tr><th scope=row>model1</th><td>8</td><td>7011.277</td><td>7068.117</td><td>-3497.639</td><td>6995.277</td><td>NA</td><td>NA</td><td>NA</td></tr>\n",
       "\t<tr><th scope=row>model5</th><td>8</td><td>7014.502</td><td>7071.342</td><td>-3499.251</td><td>6998.502</td><td> 0</td><td> 0</td><td>NA</td></tr>\n",
       "</tbody>\n",
       "</table>\n"
      ],
      "text/latex": [
       "A anova: 2 x 8\n",
       "\\begin{tabular}{r|llllllll}\n",
       "  & npar & AIC & BIC & logLik & deviance & Chisq & Df & Pr(>Chisq)\\\\\n",
       "  & <dbl> & <dbl> & <dbl> & <dbl> & <dbl> & <dbl> & <dbl> & <lgl>\\\\\n",
       "\\hline\n",
       "\tmodel1 & 8 & 7011.277 & 7068.117 & -3497.639 & 6995.277 & NA & NA & NA\\\\\n",
       "\tmodel5 & 8 & 7014.502 & 7071.342 & -3499.251 & 6998.502 &  0 &  0 & NA\\\\\n",
       "\\end{tabular}\n"
      ],
      "text/markdown": [
       "\n",
       "A anova: 2 x 8\n",
       "\n",
       "| <!--/--> | npar &lt;dbl&gt; | AIC &lt;dbl&gt; | BIC &lt;dbl&gt; | logLik &lt;dbl&gt; | deviance &lt;dbl&gt; | Chisq &lt;dbl&gt; | Df &lt;dbl&gt; | Pr(&gt;Chisq) &lt;lgl&gt; |\n",
       "|---|---|---|---|---|---|---|---|---|\n",
       "| model1 | 8 | 7011.277 | 7068.117 | -3497.639 | 6995.277 | NA | NA | NA |\n",
       "| model5 | 8 | 7014.502 | 7071.342 | -3499.251 | 6998.502 |  0 |  0 | NA |\n",
       "\n"
      ],
      "text/plain": [
       "       npar AIC      BIC      logLik    deviance Chisq Df Pr(>Chisq)\n",
       "model1 8    7011.277 7068.117 -3497.639 6995.277 NA    NA NA        \n",
       "model5 8    7014.502 7071.342 -3499.251 6998.502  0     0 NA        "
      ]
     },
     "metadata": {},
     "output_type": "display_data"
    }
   ],
   "source": [
    "anova(model1, model5)"
   ]
  },
  {
   "cell_type": "code",
   "execution_count": 15,
   "metadata": {
    "vscode": {
     "languageId": "r"
    }
   },
   "outputs": [],
   "source": [
    "model <- model1"
   ]
  },
  {
   "cell_type": "markdown",
   "metadata": {},
   "source": [
    "# Interpretation"
   ]
  },
  {
   "cell_type": "code",
   "execution_count": 16,
   "metadata": {
    "vscode": {
     "languageId": "r"
    }
   },
   "outputs": [
    {
     "data": {
      "text/plain": [
       "Generalized linear mixed model fit by maximum likelihood (Laplace\n",
       "  Approximation) [glmerMod]\n",
       " Family: binomial  ( logit )\n",
       "Formula: \n",
       "Accuracy ~ Angle + scale(Proximity, scale = FALSE) + scale(n_candidates,  \n",
       "    scale = FALSE) + Actor + (1 | Actor:Stimulus_ID) + (1 | Prompt_ID)\n",
       "   Data: df\n",
       " Offset: offset\n",
       "\n",
       "     AIC      BIC   logLik deviance df.resid \n",
       "  7011.3   7068.1  -3497.6   6995.3     8992 \n",
       "\n",
       "Scaled residuals: \n",
       "    Min      1Q  Median      3Q     Max \n",
       "-3.1910 -0.1774 -0.0992  0.1699  3.1835 \n",
       "\n",
       "Random effects:\n",
       " Groups            Name        Variance Std.Dev.\n",
       " Actor:Stimulus_ID (Intercept) 16.34975 4.043   \n",
       " Prompt_ID         (Intercept)  0.02464 0.157   \n",
       "Number of obs: 9000, groups:  Actor:Stimulus_ID, 900; Prompt_ID, 12\n",
       "\n",
       "Fixed effects:\n",
       "                                   Estimate Std. Error z value Pr(>|z|)    \n",
       "(Intercept)                          0.5441     0.3072   1.771 0.076502 .  \n",
       "Angleleft                           -0.4442     0.3813  -1.165 0.244011    \n",
       "Angleright                          -0.2524     0.3824  -0.660 0.509271    \n",
       "scale(Proximity, scale = FALSE)     -0.7219     0.1930  -3.741 0.000184 ***\n",
       "scale(n_candidates, scale = FALSE)  -0.9060     0.2077  -4.363 1.28e-05 ***\n",
       "ActorY                              -0.1659     0.3146  -0.528 0.597823    \n",
       "---\n",
       "Signif. codes:  0 '***' 0.001 '**' 0.01 '*' 0.05 '.' 0.1 ' ' 1\n",
       "\n",
       "Correlation of Fixed Effects:\n",
       "            (Intr) Angllf Anglrg s(Ps=F s(_s=F\n",
       "Angleleft   -0.618                            \n",
       "Angleright  -0.613  0.505                     \n",
       "s(P,s=FALSE  0.005  0.003 -0.011              \n",
       "s(_,s=FALSE  0.071 -0.002 -0.023  0.057       \n",
       "ActorY      -0.446 -0.023 -0.031 -0.001 -0.108"
      ]
     },
     "metadata": {},
     "output_type": "display_data"
    }
   ],
   "source": [
    "summary(model)"
   ]
  },
  {
   "cell_type": "code",
   "execution_count": 17,
   "metadata": {
    "vscode": {
     "languageId": "r"
    }
   },
   "outputs": [
    {
     "data": {
      "text/html": [
       "<table class=\"dataframe\">\n",
       "<caption>A data.frame: 6 x 9</caption>\n",
       "<thead>\n",
       "\t<tr><th scope=col>term</th><th scope=col>Estimate</th><th scope=col>Std. Error</th><th scope=col>z value</th><th scope=col>Pr(&gt;|z|)</th><th scope=col>CI_low</th><th scope=col>CI_high</th><th scope=col>effect_size_denom</th><th scope=col>effect_size</th></tr>\n",
       "\t<tr><th scope=col>&lt;chr&gt;</th><th scope=col>&lt;dbl&gt;</th><th scope=col>&lt;dbl&gt;</th><th scope=col>&lt;dbl&gt;</th><th scope=col>&lt;chr&gt;</th><th scope=col>&lt;dbl&gt;</th><th scope=col>&lt;dbl&gt;</th><th scope=col>&lt;dbl&gt;</th><th scope=col>&lt;dbl&gt;</th></tr>\n",
       "</thead>\n",
       "<tbody>\n",
       "\t<tr><td>(Intercept)                       </td><td> 0.5441388</td><td>0.3071881</td><td> 1.7713536</td><td>0.07650192169</td><td>-0.05794994</td><td> 1.1462276</td><td>4.43444</td><td> 0.12270746</td></tr>\n",
       "\t<tr><td>Angleleft                         </td><td>-0.4442179</td><td>0.3812962</td><td>-1.1650204</td><td>0.24401074234</td><td>-1.19155845</td><td> 0.3031227</td><td>4.43444</td><td>-0.10017452</td></tr>\n",
       "\t<tr><td>Angleright                        </td><td>-0.2523940</td><td>0.3824308</td><td>-0.6599730</td><td>0.50927112581</td><td>-1.00195826</td><td> 0.4971703</td><td>4.43444</td><td>-0.05691677</td></tr>\n",
       "\t<tr><td>scale(Proximity, scale = FALSE)   </td><td>-0.7219144</td><td>0.1929891</td><td>-3.7406999</td><td>0.00018350854</td><td>-1.10017315</td><td>-0.3436557</td><td>4.43444</td><td>-0.16279722</td></tr>\n",
       "\t<tr><td>scale(n_candidates, scale = FALSE)</td><td>-0.9059535</td><td>0.2076576</td><td>-4.3627270</td><td>0.00001284512</td><td>-1.31296237</td><td>-0.4989445</td><td>4.43444</td><td>-0.20429943</td></tr>\n",
       "\t<tr><td>ActorY                            </td><td>-0.1659478</td><td>0.3145730</td><td>-0.5275335</td><td>0.59782312481</td><td>-0.78251082</td><td> 0.4506152</td><td>4.43444</td><td>-0.03742250</td></tr>\n",
       "</tbody>\n",
       "</table>\n"
      ],
      "text/latex": [
       "A data.frame: 6 x 9\n",
       "\\begin{tabular}{lllllllll}\n",
       " term & Estimate & Std. Error & z value & Pr(>\\textbar{}z\\textbar{}) & CI\\_low & CI\\_high & effect\\_size\\_denom & effect\\_size\\\\\n",
       " <chr> & <dbl> & <dbl> & <dbl> & <chr> & <dbl> & <dbl> & <dbl> & <dbl>\\\\\n",
       "\\hline\n",
       "\t (Intercept)                        &  0.5441388 & 0.3071881 &  1.7713536 & 0.07650192169 & -0.05794994 &  1.1462276 & 4.43444 &  0.12270746\\\\\n",
       "\t Angleleft                          & -0.4442179 & 0.3812962 & -1.1650204 & 0.24401074234 & -1.19155845 &  0.3031227 & 4.43444 & -0.10017452\\\\\n",
       "\t Angleright                         & -0.2523940 & 0.3824308 & -0.6599730 & 0.50927112581 & -1.00195826 &  0.4971703 & 4.43444 & -0.05691677\\\\\n",
       "\t scale(Proximity, scale = FALSE)    & -0.7219144 & 0.1929891 & -3.7406999 & 0.00018350854 & -1.10017315 & -0.3436557 & 4.43444 & -0.16279722\\\\\n",
       "\t scale(n\\_candidates, scale = FALSE) & -0.9059535 & 0.2076576 & -4.3627270 & 0.00001284512 & -1.31296237 & -0.4989445 & 4.43444 & -0.20429943\\\\\n",
       "\t ActorY                             & -0.1659478 & 0.3145730 & -0.5275335 & 0.59782312481 & -0.78251082 &  0.4506152 & 4.43444 & -0.03742250\\\\\n",
       "\\end{tabular}\n"
      ],
      "text/markdown": [
       "\n",
       "A data.frame: 6 x 9\n",
       "\n",
       "| term &lt;chr&gt; | Estimate &lt;dbl&gt; | Std. Error &lt;dbl&gt; | z value &lt;dbl&gt; | Pr(&gt;|z|) &lt;chr&gt; | CI_low &lt;dbl&gt; | CI_high &lt;dbl&gt; | effect_size_denom &lt;dbl&gt; | effect_size &lt;dbl&gt; |\n",
       "|---|---|---|---|---|---|---|---|---|\n",
       "| (Intercept)                        |  0.5441388 | 0.3071881 |  1.7713536 | 0.07650192169 | -0.05794994 |  1.1462276 | 4.43444 |  0.12270746 |\n",
       "| Angleleft                          | -0.4442179 | 0.3812962 | -1.1650204 | 0.24401074234 | -1.19155845 |  0.3031227 | 4.43444 | -0.10017452 |\n",
       "| Angleright                         | -0.2523940 | 0.3824308 | -0.6599730 | 0.50927112581 | -1.00195826 |  0.4971703 | 4.43444 | -0.05691677 |\n",
       "| scale(Proximity, scale = FALSE)    | -0.7219144 | 0.1929891 | -3.7406999 | 0.00018350854 | -1.10017315 | -0.3436557 | 4.43444 | -0.16279722 |\n",
       "| scale(n_candidates, scale = FALSE) | -0.9059535 | 0.2076576 | -4.3627270 | 0.00001284512 | -1.31296237 | -0.4989445 | 4.43444 | -0.20429943 |\n",
       "| ActorY                             | -0.1659478 | 0.3145730 | -0.5275335 | 0.59782312481 | -0.78251082 |  0.4506152 | 4.43444 | -0.03742250 |\n",
       "\n"
      ],
      "text/plain": [
       "  term                               Estimate   Std. Error z value   \n",
       "1 (Intercept)                         0.5441388 0.3071881   1.7713536\n",
       "2 Angleleft                          -0.4442179 0.3812962  -1.1650204\n",
       "3 Angleright                         -0.2523940 0.3824308  -0.6599730\n",
       "4 scale(Proximity, scale = FALSE)    -0.7219144 0.1929891  -3.7406999\n",
       "5 scale(n_candidates, scale = FALSE) -0.9059535 0.2076576  -4.3627270\n",
       "6 ActorY                             -0.1659478 0.3145730  -0.5275335\n",
       "  Pr(>|z|)      CI_low      CI_high    effect_size_denom effect_size\n",
       "1 0.07650192169 -0.05794994  1.1462276 4.43444            0.12270746\n",
       "2 0.24401074234 -1.19155845  0.3031227 4.43444           -0.10017452\n",
       "3 0.50927112581 -1.00195826  0.4971703 4.43444           -0.05691677\n",
       "4 0.00018350854 -1.10017315 -0.3436557 4.43444           -0.16279722\n",
       "5 0.00001284512 -1.31296237 -0.4989445 4.43444           -0.20429943\n",
       "6 0.59782312481 -0.78251082  0.4506152 4.43444           -0.03742250"
      ]
     },
     "metadata": {},
     "output_type": "display_data"
    }
   ],
   "source": [
    "vc_list <- lapply(VarCorr(model), function(x) attr(x, \"stddev\")^2)\n",
    "vc <- sum(unlist(vc_list))\n",
    "effect_size_denom_t <- sqrt(vc + pi^2/3)\n",
    "\n",
    "res <- summary(model)$coefficients\n",
    "res <- as.data.frame(res)\n",
    "res <- cbind(term = rownames(res), res)\n",
    "rownames(res) <- NULL\n",
    "res$`Pr(>|z|)` <- format(res$`Pr(>|z|)`, scientific = FALSE)\n",
    "res$CI_low <- res$Estimate - 1.96 * res$`Std. Error`\n",
    "res$CI_high <- res$Estimate + 1.96 * res$`Std. Error`\n",
    "res$effect_size_denom <- effect_size_denom_t\n",
    "res$effect_size <- res$Estimate / effect_size_denom_t\n",
    "res"
   ]
  },
  {
   "cell_type": "code",
   "execution_count": 18,
   "metadata": {
    "vscode": {
     "languageId": "r"
    }
   },
   "outputs": [
    {
     "data": {
      "text/html": [
       "<table class=\"dataframe\">\n",
       "<caption>A predictions: 3 x 8</caption>\n",
       "<thead>\n",
       "\t<tr><th scope=col>hypothesis</th><th scope=col>estimate</th><th scope=col>std.error</th><th scope=col>statistic</th><th scope=col>p.value</th><th scope=col>s.value</th><th scope=col>conf.low</th><th scope=col>conf.high</th></tr>\n",
       "\t<tr><th scope=col>&lt;chr&gt;</th><th scope=col>&lt;dbl&gt;</th><th scope=col>&lt;dbl&gt;</th><th scope=col>&lt;dbl&gt;</th><th scope=col>&lt;dbl&gt;</th><th scope=col>&lt;dbl&gt;</th><th scope=col>&lt;dbl&gt;</th><th scope=col>&lt;dbl&gt;</th></tr>\n",
       "</thead>\n",
       "<tbody>\n",
       "\t<tr><td>(left) - (front) </td><td>-0.05120185</td><td>0.03515357</td><td>-1.4565191</td><td>0.1452492</td><td>2.783398</td><td>-0.12010158</td><td>0.01769788</td></tr>\n",
       "\t<tr><td>(right) - (front)</td><td>-0.02459702</td><td>0.03526152</td><td>-0.6975599</td><td>0.4854525</td><td>1.042598</td><td>-0.09370833</td><td>0.04451429</td></tr>\n",
       "\t<tr><td>(right) - (left) </td><td> 0.02660482</td><td>0.03764574</td><td> 0.7067154</td><td>0.4797434</td><td>1.059665</td><td>-0.04717947</td><td>0.10038912</td></tr>\n",
       "</tbody>\n",
       "</table>\n"
      ],
      "text/latex": [
       "A predictions: 3 x 8\n",
       "\\begin{tabular}{llllllll}\n",
       " hypothesis & estimate & std.error & statistic & p.value & s.value & conf.low & conf.high\\\\\n",
       " <chr> & <dbl> & <dbl> & <dbl> & <dbl> & <dbl> & <dbl> & <dbl>\\\\\n",
       "\\hline\n",
       "\t (left) - (front)  & -0.05120185 & 0.03515357 & -1.4565191 & 0.1452492 & 2.783398 & -0.12010158 & 0.01769788\\\\\n",
       "\t (right) - (front) & -0.02459702 & 0.03526152 & -0.6975599 & 0.4854525 & 1.042598 & -0.09370833 & 0.04451429\\\\\n",
       "\t (right) - (left)  &  0.02660482 & 0.03764574 &  0.7067154 & 0.4797434 & 1.059665 & -0.04717947 & 0.10038912\\\\\n",
       "\\end{tabular}\n"
      ],
      "text/markdown": [
       "\n",
       "A predictions: 3 x 8\n",
       "\n",
       "| hypothesis &lt;chr&gt; | estimate &lt;dbl&gt; | std.error &lt;dbl&gt; | statistic &lt;dbl&gt; | p.value &lt;dbl&gt; | s.value &lt;dbl&gt; | conf.low &lt;dbl&gt; | conf.high &lt;dbl&gt; |\n",
       "|---|---|---|---|---|---|---|---|\n",
       "| (left) - (front)  | -0.05120185 | 0.03515357 | -1.4565191 | 0.1452492 | 2.783398 | -0.12010158 | 0.01769788 |\n",
       "| (right) - (front) | -0.02459702 | 0.03526152 | -0.6975599 | 0.4854525 | 1.042598 | -0.09370833 | 0.04451429 |\n",
       "| (right) - (left)  |  0.02660482 | 0.03764574 |  0.7067154 | 0.4797434 | 1.059665 | -0.04717947 | 0.10038912 |\n",
       "\n"
      ],
      "text/plain": [
       "  hypothesis        estimate    std.error  statistic  p.value   s.value \n",
       "1 (left) - (front)  -0.05120185 0.03515357 -1.4565191 0.1452492 2.783398\n",
       "2 (right) - (front) -0.02459702 0.03526152 -0.6975599 0.4854525 1.042598\n",
       "3 (right) - (left)   0.02660482 0.03764574  0.7067154 0.4797434 1.059665\n",
       "  conf.low    conf.high \n",
       "1 -0.12010158 0.01769788\n",
       "2 -0.09370833 0.04451429\n",
       "3 -0.04717947 0.10038912"
      ]
     },
     "metadata": {},
     "output_type": "display_data"
    }
   ],
   "source": [
    "avg_predictions(model, by=\"Angle\", hypothesis = ~ pairwise)"
   ]
  },
  {
   "cell_type": "code",
   "execution_count": 19,
   "metadata": {
    "vscode": {
     "languageId": "r"
    }
   },
   "outputs": [
    {
     "data": {
      "text/html": [
       "<table class=\"dataframe\">\n",
       "<caption>A predictions: 3 x 8</caption>\n",
       "<thead>\n",
       "\t<tr><th scope=col>Proximity</th><th scope=col>estimate</th><th scope=col>std.error</th><th scope=col>statistic</th><th scope=col>p.value</th><th scope=col>s.value</th><th scope=col>conf.low</th><th scope=col>conf.high</th></tr>\n",
       "\t<tr><th scope=col>&lt;int&gt;</th><th scope=col>&lt;dbl&gt;</th><th scope=col>&lt;dbl&gt;</th><th scope=col>&lt;dbl&gt;</th><th scope=col>&lt;dbl&gt;</th><th scope=col>&lt;dbl&gt;</th><th scope=col>&lt;dbl&gt;</th><th scope=col>&lt;dbl&gt;</th></tr>\n",
       "</thead>\n",
       "<tbody>\n",
       "\t<tr><td>1</td><td>0.5788503</td><td>0.02340334</td><td>24.73366</td><td>4.647697e-135</td><td>446.2438</td><td>0.5329806</td><td>0.6247200</td></tr>\n",
       "\t<tr><td>2</td><td>0.5170300</td><td>0.01542890</td><td>33.51048</td><td>3.390954e-246</td><td>815.4326</td><td>0.4867899</td><td>0.5472701</td></tr>\n",
       "\t<tr><td>3</td><td>0.4750114</td><td>0.02408671</td><td>19.72089</td><td> 1.426911e-86</td><td>285.1729</td><td>0.4278023</td><td>0.5222205</td></tr>\n",
       "</tbody>\n",
       "</table>\n"
      ],
      "text/latex": [
       "A predictions: 3 x 8\n",
       "\\begin{tabular}{llllllll}\n",
       " Proximity & estimate & std.error & statistic & p.value & s.value & conf.low & conf.high\\\\\n",
       " <int> & <dbl> & <dbl> & <dbl> & <dbl> & <dbl> & <dbl> & <dbl>\\\\\n",
       "\\hline\n",
       "\t 1 & 0.5788503 & 0.02340334 & 24.73366 & 4.647697e-135 & 446.2438 & 0.5329806 & 0.6247200\\\\\n",
       "\t 2 & 0.5170300 & 0.01542890 & 33.51048 & 3.390954e-246 & 815.4326 & 0.4867899 & 0.5472701\\\\\n",
       "\t 3 & 0.4750114 & 0.02408671 & 19.72089 &  1.426911e-86 & 285.1729 & 0.4278023 & 0.5222205\\\\\n",
       "\\end{tabular}\n"
      ],
      "text/markdown": [
       "\n",
       "A predictions: 3 x 8\n",
       "\n",
       "| Proximity &lt;int&gt; | estimate &lt;dbl&gt; | std.error &lt;dbl&gt; | statistic &lt;dbl&gt; | p.value &lt;dbl&gt; | s.value &lt;dbl&gt; | conf.low &lt;dbl&gt; | conf.high &lt;dbl&gt; |\n",
       "|---|---|---|---|---|---|---|---|\n",
       "| 1 | 0.5788503 | 0.02340334 | 24.73366 | 4.647697e-135 | 446.2438 | 0.5329806 | 0.6247200 |\n",
       "| 2 | 0.5170300 | 0.01542890 | 33.51048 | 3.390954e-246 | 815.4326 | 0.4867899 | 0.5472701 |\n",
       "| 3 | 0.4750114 | 0.02408671 | 19.72089 |  1.426911e-86 | 285.1729 | 0.4278023 | 0.5222205 |\n",
       "\n"
      ],
      "text/plain": [
       "  Proximity estimate  std.error  statistic p.value       s.value  conf.low \n",
       "1 1         0.5788503 0.02340334 24.73366  4.647697e-135 446.2438 0.5329806\n",
       "2 2         0.5170300 0.01542890 33.51048  3.390954e-246 815.4326 0.4867899\n",
       "3 3         0.4750114 0.02408671 19.72089   1.426911e-86 285.1729 0.4278023\n",
       "  conf.high\n",
       "1 0.6247200\n",
       "2 0.5472701\n",
       "3 0.5222205"
      ]
     },
     "metadata": {},
     "output_type": "display_data"
    }
   ],
   "source": [
    "avg_predictions(model, by=\"Proximity\")"
   ]
  },
  {
   "cell_type": "code",
   "execution_count": 20,
   "metadata": {
    "vscode": {
     "languageId": "r"
    }
   },
   "outputs": [
    {
     "data": {
      "text/html": [
       "<table class=\"dataframe\">\n",
       "<caption>A slopes: 1 x 12</caption>\n",
       "<thead>\n",
       "\t<tr><th scope=col>term</th><th scope=col>contrast</th><th scope=col>estimate</th><th scope=col>std.error</th><th scope=col>statistic</th><th scope=col>p.value</th><th scope=col>s.value</th><th scope=col>conf.low</th><th scope=col>conf.high</th><th scope=col>predicted_lo</th><th scope=col>predicted_hi</th><th scope=col>predicted</th></tr>\n",
       "\t<tr><th scope=col>&lt;chr&gt;</th><th scope=col>&lt;chr&gt;</th><th scope=col>&lt;dbl&gt;</th><th scope=col>&lt;dbl&gt;</th><th scope=col>&lt;dbl&gt;</th><th scope=col>&lt;dbl&gt;</th><th scope=col>&lt;dbl&gt;</th><th scope=col>&lt;dbl&gt;</th><th scope=col>&lt;dbl&gt;</th><th scope=col>&lt;dbl&gt;</th><th scope=col>&lt;dbl&gt;</th><th scope=col>&lt;dbl&gt;</th></tr>\n",
       "</thead>\n",
       "<tbody>\n",
       "\t<tr><td>Proximity</td><td>dY/dX</td><td>-0.7219144</td><td>0.1929876</td><td>-3.74073</td><td>0.0001834868</td><td>12.41204</td><td>-1.100163</td><td>-0.3436657</td><td>-3.662671</td><td>-3.662815</td><td>-3.662743</td></tr>\n",
       "</tbody>\n",
       "</table>\n"
      ],
      "text/latex": [
       "A slopes: 1 x 12\n",
       "\\begin{tabular}{llllllllllll}\n",
       " term & contrast & estimate & std.error & statistic & p.value & s.value & conf.low & conf.high & predicted\\_lo & predicted\\_hi & predicted\\\\\n",
       " <chr> & <chr> & <dbl> & <dbl> & <dbl> & <dbl> & <dbl> & <dbl> & <dbl> & <dbl> & <dbl> & <dbl>\\\\\n",
       "\\hline\n",
       "\t Proximity & dY/dX & -0.7219144 & 0.1929876 & -3.74073 & 0.0001834868 & 12.41204 & -1.100163 & -0.3436657 & -3.662671 & -3.662815 & -3.662743\\\\\n",
       "\\end{tabular}\n"
      ],
      "text/markdown": [
       "\n",
       "A slopes: 1 x 12\n",
       "\n",
       "| term &lt;chr&gt; | contrast &lt;chr&gt; | estimate &lt;dbl&gt; | std.error &lt;dbl&gt; | statistic &lt;dbl&gt; | p.value &lt;dbl&gt; | s.value &lt;dbl&gt; | conf.low &lt;dbl&gt; | conf.high &lt;dbl&gt; | predicted_lo &lt;dbl&gt; | predicted_hi &lt;dbl&gt; | predicted &lt;dbl&gt; |\n",
       "|---|---|---|---|---|---|---|---|---|---|---|---|\n",
       "| Proximity | dY/dX | -0.7219144 | 0.1929876 | -3.74073 | 0.0001834868 | 12.41204 | -1.100163 | -0.3436657 | -3.662671 | -3.662815 | -3.662743 |\n",
       "\n"
      ],
      "text/plain": [
       "  term      contrast estimate   std.error statistic p.value      s.value \n",
       "1 Proximity dY/dX    -0.7219144 0.1929876 -3.74073  0.0001834868 12.41204\n",
       "  conf.low  conf.high  predicted_lo predicted_hi predicted\n",
       "1 -1.100163 -0.3436657 -3.662671    -3.662815    -3.662743"
      ]
     },
     "metadata": {},
     "output_type": "display_data"
    }
   ],
   "source": [
    "avg_slopes(model, variables =\"Proximity\", type = \"link\")"
   ]
  },
  {
   "cell_type": "code",
   "execution_count": 21,
   "metadata": {
    "vscode": {
     "languageId": "r"
    }
   },
   "outputs": [
    {
     "data": {
      "text/html": [
       "<table class=\"dataframe\">\n",
       "<caption>A predictions: 3 x 8</caption>\n",
       "<thead>\n",
       "\t<tr><th scope=col>n_candidates</th><th scope=col>estimate</th><th scope=col>std.error</th><th scope=col>statistic</th><th scope=col>p.value</th><th scope=col>s.value</th><th scope=col>conf.low</th><th scope=col>conf.high</th></tr>\n",
       "\t<tr><th scope=col>&lt;int&gt;</th><th scope=col>&lt;dbl&gt;</th><th scope=col>&lt;dbl&gt;</th><th scope=col>&lt;dbl&gt;</th><th scope=col>&lt;dbl&gt;</th><th scope=col>&lt;dbl&gt;</th><th scope=col>&lt;dbl&gt;</th><th scope=col>&lt;dbl&gt;</th></tr>\n",
       "</thead>\n",
       "<tbody>\n",
       "\t<tr><td>2</td><td>0.5581318</td><td>0.01856451</td><td>30.06445</td><td>1.413628e-198</td><td>657.2424</td><td>0.5217461</td><td>0.5945176</td></tr>\n",
       "\t<tr><td>3</td><td>0.5150404</td><td>0.01655218</td><td>31.11616</td><td>1.456022e-212</td><td>703.7067</td><td>0.4825987</td><td>0.5474821</td></tr>\n",
       "\t<tr><td>4</td><td>0.4169142</td><td>0.03539239</td><td>11.77977</td><td> 4.962883e-32</td><td>103.9905</td><td>0.3475464</td><td>0.4862820</td></tr>\n",
       "</tbody>\n",
       "</table>\n"
      ],
      "text/latex": [
       "A predictions: 3 x 8\n",
       "\\begin{tabular}{llllllll}\n",
       " n\\_candidates & estimate & std.error & statistic & p.value & s.value & conf.low & conf.high\\\\\n",
       " <int> & <dbl> & <dbl> & <dbl> & <dbl> & <dbl> & <dbl> & <dbl>\\\\\n",
       "\\hline\n",
       "\t 2 & 0.5581318 & 0.01856451 & 30.06445 & 1.413628e-198 & 657.2424 & 0.5217461 & 0.5945176\\\\\n",
       "\t 3 & 0.5150404 & 0.01655218 & 31.11616 & 1.456022e-212 & 703.7067 & 0.4825987 & 0.5474821\\\\\n",
       "\t 4 & 0.4169142 & 0.03539239 & 11.77977 &  4.962883e-32 & 103.9905 & 0.3475464 & 0.4862820\\\\\n",
       "\\end{tabular}\n"
      ],
      "text/markdown": [
       "\n",
       "A predictions: 3 x 8\n",
       "\n",
       "| n_candidates &lt;int&gt; | estimate &lt;dbl&gt; | std.error &lt;dbl&gt; | statistic &lt;dbl&gt; | p.value &lt;dbl&gt; | s.value &lt;dbl&gt; | conf.low &lt;dbl&gt; | conf.high &lt;dbl&gt; |\n",
       "|---|---|---|---|---|---|---|---|\n",
       "| 2 | 0.5581318 | 0.01856451 | 30.06445 | 1.413628e-198 | 657.2424 | 0.5217461 | 0.5945176 |\n",
       "| 3 | 0.5150404 | 0.01655218 | 31.11616 | 1.456022e-212 | 703.7067 | 0.4825987 | 0.5474821 |\n",
       "| 4 | 0.4169142 | 0.03539239 | 11.77977 |  4.962883e-32 | 103.9905 | 0.3475464 | 0.4862820 |\n",
       "\n"
      ],
      "text/plain": [
       "  n_candidates estimate  std.error  statistic p.value       s.value  conf.low \n",
       "1 2            0.5581318 0.01856451 30.06445  1.413628e-198 657.2424 0.5217461\n",
       "2 3            0.5150404 0.01655218 31.11616  1.456022e-212 703.7067 0.4825987\n",
       "3 4            0.4169142 0.03539239 11.77977   4.962883e-32 103.9905 0.3475464\n",
       "  conf.high\n",
       "1 0.5945176\n",
       "2 0.5474821\n",
       "3 0.4862820"
      ]
     },
     "metadata": {},
     "output_type": "display_data"
    }
   ],
   "source": [
    "avg_predictions(model, by=\"n_candidates\")"
   ]
  },
  {
   "cell_type": "code",
   "execution_count": 22,
   "metadata": {
    "vscode": {
     "languageId": "r"
    }
   },
   "outputs": [
    {
     "data": {
      "text/html": [
       "<table class=\"dataframe\">\n",
       "<caption>A slopes: 1 x 12</caption>\n",
       "<thead>\n",
       "\t<tr><th scope=col>term</th><th scope=col>contrast</th><th scope=col>estimate</th><th scope=col>std.error</th><th scope=col>statistic</th><th scope=col>p.value</th><th scope=col>s.value</th><th scope=col>conf.low</th><th scope=col>conf.high</th><th scope=col>predicted_lo</th><th scope=col>predicted_hi</th><th scope=col>predicted</th></tr>\n",
       "\t<tr><th scope=col>&lt;chr&gt;</th><th scope=col>&lt;chr&gt;</th><th scope=col>&lt;dbl&gt;</th><th scope=col>&lt;dbl&gt;</th><th scope=col>&lt;dbl&gt;</th><th scope=col>&lt;dbl&gt;</th><th scope=col>&lt;dbl&gt;</th><th scope=col>&lt;dbl&gt;</th><th scope=col>&lt;dbl&gt;</th><th scope=col>&lt;dbl&gt;</th><th scope=col>&lt;dbl&gt;</th><th scope=col>&lt;dbl&gt;</th></tr>\n",
       "</thead>\n",
       "<tbody>\n",
       "\t<tr><td>n_candidates</td><td>dY/dX</td><td>-0.9059535</td><td>0.207659</td><td>-4.362698</td><td>1.284684e-05</td><td>16.24823</td><td>-1.312958</td><td>-0.4989493</td><td>-3.662652</td><td>-3.662834</td><td>-3.662743</td></tr>\n",
       "</tbody>\n",
       "</table>\n"
      ],
      "text/latex": [
       "A slopes: 1 x 12\n",
       "\\begin{tabular}{llllllllllll}\n",
       " term & contrast & estimate & std.error & statistic & p.value & s.value & conf.low & conf.high & predicted\\_lo & predicted\\_hi & predicted\\\\\n",
       " <chr> & <chr> & <dbl> & <dbl> & <dbl> & <dbl> & <dbl> & <dbl> & <dbl> & <dbl> & <dbl> & <dbl>\\\\\n",
       "\\hline\n",
       "\t n\\_candidates & dY/dX & -0.9059535 & 0.207659 & -4.362698 & 1.284684e-05 & 16.24823 & -1.312958 & -0.4989493 & -3.662652 & -3.662834 & -3.662743\\\\\n",
       "\\end{tabular}\n"
      ],
      "text/markdown": [
       "\n",
       "A slopes: 1 x 12\n",
       "\n",
       "| term &lt;chr&gt; | contrast &lt;chr&gt; | estimate &lt;dbl&gt; | std.error &lt;dbl&gt; | statistic &lt;dbl&gt; | p.value &lt;dbl&gt; | s.value &lt;dbl&gt; | conf.low &lt;dbl&gt; | conf.high &lt;dbl&gt; | predicted_lo &lt;dbl&gt; | predicted_hi &lt;dbl&gt; | predicted &lt;dbl&gt; |\n",
       "|---|---|---|---|---|---|---|---|---|---|---|---|\n",
       "| n_candidates | dY/dX | -0.9059535 | 0.207659 | -4.362698 | 1.284684e-05 | 16.24823 | -1.312958 | -0.4989493 | -3.662652 | -3.662834 | -3.662743 |\n",
       "\n"
      ],
      "text/plain": [
       "  term         contrast estimate   std.error statistic p.value      s.value \n",
       "1 n_candidates dY/dX    -0.9059535 0.207659  -4.362698 1.284684e-05 16.24823\n",
       "  conf.low  conf.high  predicted_lo predicted_hi predicted\n",
       "1 -1.312958 -0.4989493 -3.662652    -3.662834    -3.662743"
      ]
     },
     "metadata": {},
     "output_type": "display_data"
    }
   ],
   "source": [
    "avg_slopes(model, variables =\"n_candidates\", type = \"link\")"
   ]
  },
  {
   "cell_type": "markdown",
   "metadata": {},
   "source": [
    "The below code is for generating the table in the paper."
   ]
  },
  {
   "cell_type": "code",
   "execution_count": 27,
   "metadata": {
    "vscode": {
     "languageId": "r"
    }
   },
   "outputs": [
    {
     "name": "stdout",
     "output_type": "stream",
     "text": [
      "16.3497467\n",
      "NA\n",
      "0.0246394\n",
      "4.4344396\n",
      "0.5441388\n",
      "0.3071881\n",
      "-0.4442179\n",
      "0.3812962\n",
      "0.2440107\n",
      "-0.1001745\n",
      "-0.2523940\n",
      "0.3824308\n",
      "0.5092711\n",
      "-0.0569168\n",
      "-0.7219144\n",
      "0.1929891\n",
      "0.0001835\n",
      "-0.1627972\n",
      "-0.9059535\n",
      "0.2076576\n",
      "0.0000128\n",
      "-0.2042994\n",
      "-0.1659478\n",
      "0.3145730\n",
      "0.5978231\n",
      "-0.0374225\n"
     ]
    }
   ],
   "source": [
    "stim_id_var_val <- if (!is.null(vc_list$`Actor:Stimulus_ID`) && length(vc_list$`Actor:Stimulus_ID`) > 0) vc_list$`Actor:Stimulus_ID`[[1]] else NA_real_\n",
    "prompt_id_var_val <- if (!is.null(vc_list$Prompt_ID) && length(vc_list$Prompt_ID) > 0) vc_list$Prompt_ID[[1]] else NA_real_\n",
    "participant_id_var_val <- if (!is.null(vc_list$Participant_ID) && length(vc_list$Participant_ID) > 0) vc_list$Participant_ID[[1]] else NA_real_\n",
    "\n",
    "intercept_est <- res[res$term == \"(Intercept)\", \"Estimate\"]\n",
    "intercept_se <- res[res$term == \"(Intercept)\", \"Std. Error\"]\n",
    "\n",
    "angleleft_est <- res[res$term == \"Angleleft\", \"Estimate\"]\n",
    "angleleft_se <- res[res$term == \"Angleleft\", \"Std. Error\"]\n",
    "angleleft_p_val <- res[res$term == \"Angleleft\", \"Pr(>|z|)\"]\n",
    "angleleft_eff_size <- res[res$term == \"Angleleft\", \"effect_size\"]\n",
    "\n",
    "angleright_est <- res[res$term == \"Angleright\", \"Estimate\"]\n",
    "angleright_se <- res[res$term == \"Angleright\", \"Std. Error\"]\n",
    "angleright_p_val <- res[res$term == \"Angleright\", \"Pr(>|z|)\"]\n",
    "angleright_eff_size <- res[res$term == \"Angleright\", \"effect_size\"]\n",
    "\n",
    "proximity_term_name <- \"scale(Proximity, scale = FALSE)\"\n",
    "if (!proximity_term_name %in% res$term) {\n",
    "    proximity_term_name <- grep(\"Proximity\", res$term, value = TRUE)[1]\n",
    "}\n",
    "proximity_est <- res[res$term == proximity_term_name, \"Estimate\"]\n",
    "proximity_se <- res[res$term == proximity_term_name, \"Std. Error\"]\n",
    "proximity_p_val <- res[res$term == proximity_term_name, \"Pr(>|z|)\"]\n",
    "proximity_eff_size <- res[res$term == proximity_term_name, \"effect_size\"]\n",
    "\n",
    "n_candidates_term_name <- \"scale(n_candidates, scale = FALSE)\"\n",
    "if (!n_candidates_term_name %in% res$term) {\n",
    "    n_candidates_term_name <- grep(\"n_candidates\", res$term, value = TRUE)[1]\n",
    "}\n",
    "n_obj_est <- res[res$term == n_candidates_term_name, \"Estimate\"]\n",
    "n_obj_se <- res[res$term == n_candidates_term_name, \"Std. Error\"]\n",
    "n_obj_p_val <- res[res$term == n_candidates_term_name, \"Pr(>|z|)\"]\n",
    "n_obj_eff_size <- res[res$term == n_candidates_term_name, \"effect_size\"]\n",
    "\n",
    "actory_term_name <- \"ActorY\" # Assuming 'X' is the reference level for Actor factor\n",
    "actory_est <- res[res$term == actory_term_name, \"Estimate\"]\n",
    "actory_se <- res[res$term == actory_term_name, \"Std. Error\"]\n",
    "actory_p_val <- res[res$term == actory_term_name, \"Pr(>|z|)\"]\n",
    "actory_eff_size <- res[res$term == actory_term_name, \"effect_size\"]\n",
    "\n",
    "# Prepare data for data frame\n",
    "table_data <- list(\n",
    "    c(\"StimulusID\", \"Variance\", sprintf(\"%.7f\", stim_id_var_val)),\n",
    "    c(\"ParticipantID\", \"Variance\", sprintf(\"%.7f\", participant_id_var_val)),\n",
    "    c(\"PromptID\", \"Variance\", sprintf(\"%.7f\", prompt_id_var_val)),\n",
    "    c(\"Effect Size Denom\", \"\", sprintf(\"%.7f\", effect_size_denom_t)),\n",
    "\n",
    "    c(\"Intercept\", \"b\", sprintf(\"%.7f\", intercept_est)),\n",
    "    c(\"\", \"SE\", sprintf(\"%.7f\", intercept_se)),\n",
    "\n",
    "    c(\"Angleleft\", \"b\", sprintf(\"%.7f\", angleleft_est)),\n",
    "    c(\"\", \"SE\", sprintf(\"%.7f\", angleleft_se)),\n",
    "    c(\"\", \"p\", sprintf(\"%.7f\", as.numeric(angleleft_p_val))),\n",
    "    c(\"\", \"Effect size\", sprintf(\"%.7f\", angleleft_eff_size)),\n",
    "\n",
    "    c(\"Angleright\", \"b\", sprintf(\"%.7f\", angleright_est)),\n",
    "    c(\"\", \"SE\", sprintf(\"%.7f\", angleright_se)),\n",
    "    c(\"\", \"p\", sprintf(\"%.7f\", as.numeric(angleright_p_val))),\n",
    "    c(\"\", \"Effect size\", sprintf(\"%.7f\", angleright_eff_size)),\n",
    "\n",
    "    c(\"Proximity\", \"b\", sprintf(\"%.7f\", proximity_est)),\n",
    "    c(\"\", \"SE\", sprintf(\"%.7f\", proximity_se)),\n",
    "    c(\"\", \"p\", sprintf(\"%.7f\", as.numeric(proximity_p_val))),\n",
    "    c(\"\", \"Effect size\", sprintf(\"%.7f\", proximity_eff_size)),\n",
    "\n",
    "    c(\"#Object\", \"b\", sprintf(\"%.7f\", n_obj_est)),\n",
    "    c(\"\", \"SE\", sprintf(\"%.7f\", n_obj_se)),\n",
    "    c(\"\", \"p\", sprintf(\"%.7f\", as.numeric(n_obj_p_val))),\n",
    "    c(\"\", \"Effect size\", sprintf(\"%.7f\", n_obj_eff_size)),\n",
    "\n",
    "    c(\"ActorY\", \"b\", sprintf(\"%.7f\", actory_est)),\n",
    "    c(\"\", \"SE\", sprintf(\"%.7f\", actory_se)),\n",
    "    c(\"\", \"p\", sprintf(\"%.7f\", as.numeric(actory_p_val))),\n",
    "    c(\"\", \"Effect size\", sprintf(\"%.7f\", actory_eff_size))\n",
    ")\n",
    "\n",
    "# Convert to data frame\n",
    "df_output <- do.call(rbind, lapply(table_data, function(x) data.frame(V1=x[1], V2=x[2], V3=x[3], stringsAsFactors=FALSE)))\n",
    "\n",
    "# Print only the third column for easy copy-pasting to Excel\n",
    "write.table(df_output[,3, drop=FALSE], file=\"\", sep = \"\\t\", row.names = FALSE, col.names = FALSE, quote = FALSE)"
   ]
  },
  {
   "cell_type": "code",
   "execution_count": null,
   "metadata": {
    "vscode": {
     "languageId": "r"
    }
   },
   "outputs": [],
   "source": []
  }
 ],
 "metadata": {
  "kernelspec": {
   "display_name": "R",
   "language": "R",
   "name": "ir"
  },
  "language_info": {
   "codemirror_mode": "r",
   "file_extension": ".r",
   "mimetype": "text/x-r-source",
   "name": "R",
   "pygments_lexer": "r",
   "version": "4.3.3"
  }
 },
 "nbformat": 4,
 "nbformat_minor": 2
}
