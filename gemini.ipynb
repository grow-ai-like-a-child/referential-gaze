{
 "cells": [
  {
   "cell_type": "markdown",
   "metadata": {},
   "source": [
    "# Loading Responses"
   ]
  },
  {
   "cell_type": "code",
   "execution_count": 1,
   "metadata": {
    "vscode": {
     "languageId": "r"
    }
   },
   "outputs": [
    {
     "name": "stderr",
     "output_type": "stream",
     "text": [
      "Loading required package: lme4\n",
      "\n",
      "Loading required package: Matrix\n",
      "\n",
      "Loading required package: readr\n",
      "\n",
      "Loading required package: marginaleffects\n",
      "\n",
      "Loading required package: emmeans\n",
      "\n",
      "Welcome to emmeans.\n",
      "Caution: You lose important information if you filter this package's results.\n",
      "See '? untidy'\n",
      "\n",
      "Loading required package: car\n",
      "\n",
      "Loading required package: carData\n",
      "\n",
      "\u001b[1mRows: \u001b[22m\u001b[34m156780\u001b[39m \u001b[1mColumns: \u001b[22m\u001b[34m14\u001b[39m\n",
      "\u001b[36m──\u001b[39m \u001b[1mColumn specification\u001b[22m \u001b[36m────────────────────────────────────────────────────────────────\u001b[39m\n",
      "\u001b[1mDelimiter:\u001b[22m \",\"\n",
      "\u001b[31mchr\u001b[39m (2): Run_ID, Part\n",
      "\u001b[32mint\u001b[39m (2): Proximity, n_candidates\n",
      "\u001b[33mlgl\u001b[39m (1): Accuracy\n",
      "\u001b[31mfct\u001b[39m (9): Stimulus_ID, Prompt_ID, Participant_ID, Group, GroupKind, Angle, Ac...\n",
      "\n",
      "\u001b[36mℹ\u001b[39m Use `spec()` to retrieve the full column specification for this data.\n",
      "\u001b[36mℹ\u001b[39m Specify the column types or set `show_col_types = FALSE` to quiet this message.\n"
     ]
    }
   ],
   "source": [
    "options(warn=1)\n",
    "if(!require('lme4')) {\n",
    "    install.packages('lme4', repos='https://cloud.r-project.org')\n",
    "    library('lme4')\n",
    "}\n",
    "if(!require('readr')) {\n",
    "    install.packages('readr', repos='https://cloud.r-project.org')\n",
    "    library('readr')\n",
    "}\n",
    "if(!require('marginaleffects')) {\n",
    "    install.packages('marginaleffects', repos='https://cloud.r-project.org')\n",
    "    library('marginaleffects')\n",
    "}\n",
    "if(!require('emmeans')) {\n",
    "    install.packages('emmeans', repos='https://cloud.r-project.org')\n",
    "    library('emmeans')\n",
    "}\n",
    "if(!require('car')) {\n",
    "    install.packages('car', repos='https://cloud.r-project.org')\n",
    "    library('car')\n",
    "}\n",
    "df <- read_csv(\"gaze-analysis/result_1743457603_20250506_20250506F.csv\", na = \"empty\", col_select = c(\"Accuracy\", \"Group\", \"GroupKind\", \"Angle\", \"Proximity\", \"n_candidates\", \"Actor\", \"Candidates\", \"Stimulus_ID\", \"Prompt_ID\", \"Participant_ID\", \"list_id\", \"Run_ID\", \"Part\"), col_types = cols(\n",
    "    Accuracy = col_logical(),\n",
    "    Group = col_factor(),\n",
    "    GroupKind = col_factor(),\n",
    "    Angle = col_factor(),\n",
    "    Proximity = col_integer(),\n",
    "    n_candidates = col_integer(),\n",
    "    Actor = col_factor(c('X', 'Y')),\n",
    "    Candidates = col_factor(),\n",
    "    Stimulus_ID = col_factor(),\n",
    "    Prompt_ID = col_factor(),\n",
    "    Participant_ID = col_factor(),\n",
    "    list_id = col_factor(),\n",
    "    Run_ID = col_character(),\n",
    "    Part = col_character(),\n",
    "),show_col_types = TRUE)\n",
    "df <- df[df$Group == \"gemini-1.5-pro\" & df$list_id != -1 & df$Part != \"p0\", ]\n",
    "df$offset <- log(1/df$n_candidates / (1 - 1/df$n_candidates))\n",
    "#df$Proximity <- df$Proximity - mean(df$Proximity)\n",
    "#df$n_candidates <- df$n_candidates - mean(df$n_candidates)"
   ]
  },
  {
   "cell_type": "markdown",
   "metadata": {},
   "source": [
    "# Fitting models"
   ]
  },
  {
   "cell_type": "code",
   "execution_count": 2,
   "metadata": {
    "vscode": {
     "languageId": "r"
    }
   },
   "outputs": [
    {
     "name": "stderr",
     "output_type": "stream",
     "text": [
      "Warning message in checkConv(attr(opt, \"derivs\"), opt$par, ctrl = control$checkConv, :\n",
      "“Model failed to converge with max|grad| = 0.0488344 (tol = 0.002, component 1)”\n"
     ]
    },
    {
     "data": {
      "text/plain": [
       "Generalized linear mixed model fit by maximum likelihood (Laplace\n",
       "  Approximation) [glmerMod]\n",
       " Family: binomial  ( logit )\n",
       "Formula: \n",
       "Accuracy ~ Angle + scale(Proximity, scale = FALSE) + scale(n_candidates,  \n",
       "    scale = FALSE) + Actor + (1 | Actor:Candidates) + (1 | Stimulus_ID) +  \n",
       "    (1 | Prompt_ID)\n",
       "   Data: df\n",
       " Offset: offset\n",
       "      AIC       BIC    logLik  deviance  df.resid \n",
       " 7013.281  7077.226 -3497.640  6995.281      8991 \n",
       "Random effects:\n",
       " Groups           Name        Std.Dev.\n",
       " Stimulus_ID      (Intercept) 4.044967\n",
       " Actor:Candidates (Intercept) 0.004815\n",
       " Prompt_ID        (Intercept) 0.156186\n",
       "Number of obs: 9000, groups:  \n",
       "Stimulus_ID, 900; Actor:Candidates, 18; Prompt_ID, 12\n",
       "Fixed Effects:\n",
       "                       (Intercept)                           Angleleft  \n",
       "                            0.5368                             -0.4367  \n",
       "                        Angleright     scale(Proximity, scale = FALSE)  \n",
       "                           -0.2481                             -0.7262  \n",
       "scale(n_candidates, scale = FALSE)                              ActorY  \n",
       "                           -0.9030                             -0.1692  \n",
       "optimizer (Nelder_Mead) convergence code: 0 (OK) ; 0 optimizer warnings; 1 lme4 warnings "
      ]
     },
     "metadata": {},
     "output_type": "display_data"
    }
   ],
   "source": [
    "model0 <- glmer(Accuracy ~ Angle + scale(Proximity, scale=FALSE) + scale(n_candidates, scale=FALSE) + Actor + (1|Actor:Candidates) + (1|Stimulus_ID) + (1|Prompt_ID), \n",
    "               data = df,\n",
    "               family = binomial(link = \"logit\"), \n",
    "               offset = offset)\n",
    "model0"
   ]
  },
  {
   "cell_type": "code",
   "execution_count": 3,
   "metadata": {
    "vscode": {
     "languageId": "r"
    }
   },
   "outputs": [
    {
     "data": {
      "text/plain": [
       "Generalized linear mixed model fit by maximum likelihood (Laplace\n",
       "  Approximation) [glmerMod]\n",
       " Family: binomial  ( logit )\n",
       "Formula: \n",
       "Accuracy ~ Angle + scale(Proximity, scale = FALSE) + scale(n_candidates,  \n",
       "    scale = FALSE) + Actor + (1 | Stimulus_ID) + (1 | Prompt_ID)\n",
       "   Data: df\n",
       " Offset: offset\n",
       "      AIC       BIC    logLik  deviance  df.resid \n",
       " 7011.277  7068.117 -3497.639  6995.277      8992 \n",
       "Random effects:\n",
       " Groups      Name        Std.Dev.\n",
       " Stimulus_ID (Intercept) 4.043   \n",
       " Prompt_ID   (Intercept) 0.157   \n",
       "Number of obs: 9000, groups:  Stimulus_ID, 900; Prompt_ID, 12\n",
       "Fixed Effects:\n",
       "                       (Intercept)                           Angleleft  \n",
       "                            0.5441                             -0.4442  \n",
       "                        Angleright     scale(Proximity, scale = FALSE)  \n",
       "                           -0.2524                             -0.7219  \n",
       "scale(n_candidates, scale = FALSE)                              ActorY  \n",
       "                           -0.9059                             -0.1659  "
      ]
     },
     "metadata": {},
     "output_type": "display_data"
    }
   ],
   "source": [
    "model1 <- glmer(Accuracy ~ Angle + scale(Proximity, scale=FALSE) + scale(n_candidates, scale=FALSE) + Actor + (1|Stimulus_ID) + (1|Prompt_ID), \n",
    "               data = df,\n",
    "               family = binomial(link = \"logit\"), \n",
    "               offset = offset)\n",
    "model1"
   ]
  },
  {
   "cell_type": "code",
   "execution_count": 4,
   "metadata": {
    "vscode": {
     "languageId": "r"
    }
   },
   "outputs": [
    {
     "data": {
      "text/plain": [
       "Generalized linear mixed model fit by maximum likelihood (Laplace\n",
       "  Approximation) [glmerMod]\n",
       " Family: binomial  ( logit )\n",
       "Formula: \n",
       "Accuracy ~ Angle + scale(Proximity, scale = FALSE) + scale(n_candidates,  \n",
       "    scale = FALSE) + Actor + (1 | Actor:Candidates) + (1 | Stimulus_ID)\n",
       "   Data: df\n",
       " Offset: offset\n",
       "      AIC       BIC    logLik  deviance  df.resid \n",
       " 7017.499  7074.339 -3500.750  7001.499      8992 \n",
       "Random effects:\n",
       " Groups           Name        Std.Dev. \n",
       " Stimulus_ID      (Intercept) 4.0269663\n",
       " Actor:Candidates (Intercept) 0.0001601\n",
       "Number of obs: 9000, groups:  Stimulus_ID, 900; Actor:Candidates, 18\n",
       "Fixed Effects:\n",
       "                       (Intercept)                           Angleleft  \n",
       "                            0.5475                             -0.4455  \n",
       "                        Angleright     scale(Proximity, scale = FALSE)  \n",
       "                           -0.2508                             -0.7178  \n",
       "scale(n_candidates, scale = FALSE)                              ActorY  \n",
       "                           -0.8969                             -0.1653  "
      ]
     },
     "metadata": {},
     "output_type": "display_data"
    }
   ],
   "source": [
    "model2 <- glmer(Accuracy ~ Angle + scale(Proximity, scale=FALSE) + scale(n_candidates, scale=FALSE) + Actor + (1|Actor:Candidates) + (1|Stimulus_ID), \n",
    "               data = df,\n",
    "               family = binomial(link = \"logit\"), \n",
    "               offset = offset)\n",
    "model2"
   ]
  },
  {
   "cell_type": "code",
   "execution_count": 5,
   "metadata": {
    "vscode": {
     "languageId": "r"
    }
   },
   "outputs": [
    {
     "data": {
      "text/plain": [
       "Generalized linear mixed model fit by maximum likelihood (Laplace\n",
       "  Approximation) [glmerMod]\n",
       " Family: binomial  ( logit )\n",
       "Formula: \n",
       "Accuracy ~ Angle + scale(Proximity, scale = FALSE) + scale(n_candidates,  \n",
       "    scale = FALSE) + Actor + (1 | Stimulus_ID)\n",
       "   Data: df\n",
       " Offset: offset\n",
       "      AIC       BIC    logLik  deviance  df.resid \n",
       " 7015.499  7065.234 -3500.750  7001.499      8993 \n",
       "Random effects:\n",
       " Groups      Name        Std.Dev.\n",
       " Stimulus_ID (Intercept) 4.027   \n",
       "Number of obs: 9000, groups:  Stimulus_ID, 900\n",
       "Fixed Effects:\n",
       "                       (Intercept)                           Angleleft  \n",
       "                            0.5473                             -0.4451  \n",
       "                        Angleright     scale(Proximity, scale = FALSE)  \n",
       "                           -0.2507                             -0.7179  \n",
       "scale(n_candidates, scale = FALSE)                              ActorY  \n",
       "                           -0.8970                             -0.1651  "
      ]
     },
     "metadata": {},
     "output_type": "display_data"
    }
   ],
   "source": [
    "model3 <- glmer(Accuracy ~ Angle + scale(Proximity, scale=FALSE) + scale(n_candidates, scale=FALSE) + Actor + (1|Stimulus_ID), \n",
    "               data = df,\n",
    "               family = binomial(link = \"logit\"), \n",
    "               offset = offset)\n",
    "model3"
   ]
  },
  {
   "cell_type": "code",
   "execution_count": 6,
   "metadata": {
    "vscode": {
     "languageId": "r"
    }
   },
   "outputs": [
    {
     "data": {
      "text/plain": [
       "Generalized linear mixed model fit by maximum likelihood (Laplace\n",
       "  Approximation) [glmerMod]\n",
       " Family: binomial  ( logit )\n",
       "Formula: \n",
       "Accuracy ~ Angle + scale(Proximity, scale = FALSE) + scale(n_candidates,  \n",
       "    scale = FALSE) + Actor + (1 | Actor:Candidates)\n",
       "   Data: df\n",
       " Offset: offset\n",
       "      AIC       BIC    logLik  deviance  df.resid \n",
       "12024.321 12074.056 -6005.161 12010.321      8993 \n",
       "Random effects:\n",
       " Groups           Name        Std.Dev.\n",
       " Actor:Candidates (Intercept) 0.1981  \n",
       "Number of obs: 9000, groups:  Actor:Candidates, 18\n",
       "Fixed Effects:\n",
       "                       (Intercept)                           Angleleft  \n",
       "                           0.47627                            -0.26027  \n",
       "                        Angleright     scale(Proximity, scale = FALSE)  \n",
       "                          -0.18684                            -0.20687  \n",
       "scale(n_candidates, scale = FALSE)                              ActorY  \n",
       "                           0.10384                            -0.05227  "
      ]
     },
     "metadata": {},
     "output_type": "display_data"
    }
   ],
   "source": [
    "model3_5 <- glmer(Accuracy ~ Angle + scale(Proximity, scale=FALSE) + scale(n_candidates, scale=FALSE) + Actor + (1|Actor:Candidates), \n",
    "               data = df,\n",
    "               family = binomial(link = \"logit\"), \n",
    "               offset = offset)\n",
    "model3_5"
   ]
  },
  {
   "cell_type": "code",
   "execution_count": 7,
   "metadata": {
    "vscode": {
     "languageId": "r"
    }
   },
   "outputs": [
    {
     "data": {
      "text/plain": [
       "\n",
       "Call:  glm(formula = Accuracy ~ Angle * scale(Proximity, scale = FALSE) * \n",
       "    scale(n_candidates, scale = FALSE) * Actor, family = binomial(link = \"logit\"), \n",
       "    data = df, offset = offset)\n",
       "\n",
       "Coefficients:\n",
       "                                                                         (Intercept)  \n",
       "                                                                           0.5436877  \n",
       "                                                                           Angleleft  \n",
       "                                                                          -0.3251485  \n",
       "                                                                          Angleright  \n",
       "                                                                          -0.2606240  \n",
       "                                                     scale(Proximity, scale = FALSE)  \n",
       "                                                                          -0.3674851  \n",
       "                                                  scale(n_candidates, scale = FALSE)  \n",
       "                                                                           0.3688445  \n",
       "                                                                              ActorY  \n",
       "                                                                          -0.1556898  \n",
       "                                           Angleleft:scale(Proximity, scale = FALSE)  \n",
       "                                                                           0.0385839  \n",
       "                                          Angleright:scale(Proximity, scale = FALSE)  \n",
       "                                                                           0.1071632  \n",
       "                                        Angleleft:scale(n_candidates, scale = FALSE)  \n",
       "                                                                          -0.4196072  \n",
       "                                       Angleright:scale(n_candidates, scale = FALSE)  \n",
       "                                                                          -0.0695056  \n",
       "                  scale(Proximity, scale = FALSE):scale(n_candidates, scale = FALSE)  \n",
       "                                                                          -0.0009613  \n",
       "                                                                    Angleleft:ActorY  \n",
       "                                                                           0.0598072  \n",
       "                                                                   Angleright:ActorY  \n",
       "                                                                           0.1498715  \n",
       "                                              scale(Proximity, scale = FALSE):ActorY  \n",
       "                                                                           0.3309513  \n",
       "                                           scale(n_candidates, scale = FALSE):ActorY  \n",
       "                                                                          -0.6109401  \n",
       "        Angleleft:scale(Proximity, scale = FALSE):scale(n_candidates, scale = FALSE)  \n",
       "                                                                          -0.0822855  \n",
       "       Angleright:scale(Proximity, scale = FALSE):scale(n_candidates, scale = FALSE)  \n",
       "                                                                          -0.4197437  \n",
       "                                    Angleleft:scale(Proximity, scale = FALSE):ActorY  \n",
       "                                                                          -0.1762925  \n",
       "                                   Angleright:scale(Proximity, scale = FALSE):ActorY  \n",
       "                                                                          -0.1681526  \n",
       "                                 Angleleft:scale(n_candidates, scale = FALSE):ActorY  \n",
       "                                                                           0.7272565  \n",
       "                                Angleright:scale(n_candidates, scale = FALSE):ActorY  \n",
       "                                                                           0.2777291  \n",
       "           scale(Proximity, scale = FALSE):scale(n_candidates, scale = FALSE):ActorY  \n",
       "                                                                          -0.0577109  \n",
       " Angleleft:scale(Proximity, scale = FALSE):scale(n_candidates, scale = FALSE):ActorY  \n",
       "                                                                           0.2731599  \n",
       "Angleright:scale(Proximity, scale = FALSE):scale(n_candidates, scale = FALSE):ActorY  \n",
       "                                                                           0.5771850  \n",
       "\n",
       "Degrees of Freedom: 8999 Total (i.e. Null);  8976 Residual\n",
       "Null Deviance:\t    12170 \n",
       "Residual Deviance: 11960 \tAIC: 12010"
      ]
     },
     "metadata": {},
     "output_type": "display_data"
    }
   ],
   "source": [
    "model4 <- glm(Accuracy ~ Angle * scale(Proximity, scale=FALSE) * scale(n_candidates, scale=FALSE) * Actor, \n",
    "               data = df,\n",
    "               family = binomial(link = \"logit\"), \n",
    "               offset = offset)\n",
    "model4"
   ]
  },
  {
   "cell_type": "code",
   "execution_count": 8,
   "metadata": {
    "vscode": {
     "languageId": "r"
    }
   },
   "outputs": [
    {
     "data": {
      "text/plain": [
       "Generalized linear mixed model fit by maximum likelihood (Laplace\n",
       "  Approximation) [glmerMod]\n",
       " Family: binomial  ( logit )\n",
       "Formula: Accuracy ~ Angle + scale(Proximity, scale = FALSE) * Actor +  \n",
       "    scale(n_candidates, scale = FALSE) + (1 | Stimulus_ID)\n",
       "   Data: df\n",
       " Offset: offset\n",
       "      AIC       BIC    logLik  deviance  df.resid \n",
       " 7014.502  7071.342 -3499.251  6998.502      8992 \n",
       "Random effects:\n",
       " Groups      Name        Std.Dev.\n",
       " Stimulus_ID (Intercept) 4.024   \n",
       "Number of obs: 9000, groups:  Stimulus_ID, 900\n",
       "Fixed Effects:\n",
       "                           (Intercept)                               Angleleft  \n",
       "                                0.5490                                 -0.4454  \n",
       "                            Angleright         scale(Proximity, scale = FALSE)  \n",
       "                               -0.2559                                 -1.0186  \n",
       "                                ActorY      scale(n_candidates, scale = FALSE)  \n",
       "                               -0.1653                                 -0.9007  \n",
       "scale(Proximity, scale = FALSE):ActorY  \n",
       "                                0.6605  "
      ]
     },
     "metadata": {},
     "output_type": "display_data"
    }
   ],
   "source": [
    "model5 <- glmer(Accuracy ~ Angle + scale(Proximity, scale=FALSE) * Actor + scale(n_candidates, scale=FALSE) + (1|Stimulus_ID), \n",
    "               data = df,\n",
    "               family = binomial(link = \"logit\"), \n",
    "               offset = offset)\n",
    "model5"
   ]
  },
  {
   "cell_type": "markdown",
   "metadata": {},
   "source": [
    "# Model selection"
   ]
  },
  {
   "cell_type": "code",
   "execution_count": 9,
   "metadata": {
    "scrolled": false,
    "vscode": {
     "languageId": "r"
    }
   },
   "outputs": [
    {
     "data": {
      "text/html": [
       "<table class=\"dataframe\">\n",
       "<caption>A anova: 2 × 8</caption>\n",
       "<thead>\n",
       "\t<tr><th></th><th scope=col>npar</th><th scope=col>AIC</th><th scope=col>BIC</th><th scope=col>logLik</th><th scope=col>deviance</th><th scope=col>Chisq</th><th scope=col>Df</th><th scope=col>Pr(&gt;Chisq)</th></tr>\n",
       "\t<tr><th></th><th scope=col>&lt;dbl&gt;</th><th scope=col>&lt;dbl&gt;</th><th scope=col>&lt;dbl&gt;</th><th scope=col>&lt;dbl&gt;</th><th scope=col>&lt;dbl&gt;</th><th scope=col>&lt;dbl&gt;</th><th scope=col>&lt;dbl&gt;</th><th scope=col>&lt;lgl&gt;</th></tr>\n",
       "</thead>\n",
       "<tbody>\n",
       "\t<tr><th scope=row>model1</th><td>8</td><td>7011.277</td><td>7068.117</td><td>-3497.639</td><td>6995.277</td><td>NA</td><td>NA</td><td>NA</td></tr>\n",
       "\t<tr><th scope=row>model2</th><td>8</td><td>7017.500</td><td>7074.339</td><td>-3500.750</td><td>7001.500</td><td> 0</td><td> 0</td><td>NA</td></tr>\n",
       "</tbody>\n",
       "</table>\n"
      ],
      "text/latex": [
       "A anova: 2 × 8\n",
       "\\begin{tabular}{r|llllllll}\n",
       "  & npar & AIC & BIC & logLik & deviance & Chisq & Df & Pr(>Chisq)\\\\\n",
       "  & <dbl> & <dbl> & <dbl> & <dbl> & <dbl> & <dbl> & <dbl> & <lgl>\\\\\n",
       "\\hline\n",
       "\tmodel1 & 8 & 7011.277 & 7068.117 & -3497.639 & 6995.277 & NA & NA & NA\\\\\n",
       "\tmodel2 & 8 & 7017.500 & 7074.339 & -3500.750 & 7001.500 &  0 &  0 & NA\\\\\n",
       "\\end{tabular}\n"
      ],
      "text/markdown": [
       "\n",
       "A anova: 2 × 8\n",
       "\n",
       "| <!--/--> | npar &lt;dbl&gt; | AIC &lt;dbl&gt; | BIC &lt;dbl&gt; | logLik &lt;dbl&gt; | deviance &lt;dbl&gt; | Chisq &lt;dbl&gt; | Df &lt;dbl&gt; | Pr(&gt;Chisq) &lt;lgl&gt; |\n",
       "|---|---|---|---|---|---|---|---|---|\n",
       "| model1 | 8 | 7011.277 | 7068.117 | -3497.639 | 6995.277 | NA | NA | NA |\n",
       "| model2 | 8 | 7017.500 | 7074.339 | -3500.750 | 7001.500 |  0 |  0 | NA |\n",
       "\n"
      ],
      "text/plain": [
       "       npar AIC      BIC      logLik    deviance Chisq Df Pr(>Chisq)\n",
       "model1 8    7011.277 7068.117 -3497.639 6995.277 NA    NA NA        \n",
       "model2 8    7017.500 7074.339 -3500.750 7001.500  0     0 NA        "
      ]
     },
     "metadata": {},
     "output_type": "display_data"
    }
   ],
   "source": [
    "anova(model1, model2)"
   ]
  },
  {
   "cell_type": "code",
   "execution_count": 10,
   "metadata": {
    "vscode": {
     "languageId": "r"
    }
   },
   "outputs": [
    {
     "data": {
      "text/html": [
       "<table class=\"dataframe\">\n",
       "<caption>A anova: 2 × 8</caption>\n",
       "<thead>\n",
       "\t<tr><th></th><th scope=col>npar</th><th scope=col>AIC</th><th scope=col>BIC</th><th scope=col>logLik</th><th scope=col>deviance</th><th scope=col>Chisq</th><th scope=col>Df</th><th scope=col>Pr(&gt;Chisq)</th></tr>\n",
       "\t<tr><th></th><th scope=col>&lt;dbl&gt;</th><th scope=col>&lt;dbl&gt;</th><th scope=col>&lt;dbl&gt;</th><th scope=col>&lt;dbl&gt;</th><th scope=col>&lt;dbl&gt;</th><th scope=col>&lt;dbl&gt;</th><th scope=col>&lt;dbl&gt;</th><th scope=col>&lt;dbl&gt;</th></tr>\n",
       "</thead>\n",
       "<tbody>\n",
       "\t<tr><th scope=row>model3</th><td>7</td><td>7015.499</td><td>7065.234</td><td>-3500.750</td><td>7001.499</td><td>      NA</td><td>NA</td><td>        NA</td></tr>\n",
       "\t<tr><th scope=row>model1</th><td>8</td><td>7011.277</td><td>7068.117</td><td>-3497.639</td><td>6995.277</td><td>6.222326</td><td> 1</td><td>0.01261493</td></tr>\n",
       "</tbody>\n",
       "</table>\n"
      ],
      "text/latex": [
       "A anova: 2 × 8\n",
       "\\begin{tabular}{r|llllllll}\n",
       "  & npar & AIC & BIC & logLik & deviance & Chisq & Df & Pr(>Chisq)\\\\\n",
       "  & <dbl> & <dbl> & <dbl> & <dbl> & <dbl> & <dbl> & <dbl> & <dbl>\\\\\n",
       "\\hline\n",
       "\tmodel3 & 7 & 7015.499 & 7065.234 & -3500.750 & 7001.499 &       NA & NA &         NA\\\\\n",
       "\tmodel1 & 8 & 7011.277 & 7068.117 & -3497.639 & 6995.277 & 6.222326 &  1 & 0.01261493\\\\\n",
       "\\end{tabular}\n"
      ],
      "text/markdown": [
       "\n",
       "A anova: 2 × 8\n",
       "\n",
       "| <!--/--> | npar &lt;dbl&gt; | AIC &lt;dbl&gt; | BIC &lt;dbl&gt; | logLik &lt;dbl&gt; | deviance &lt;dbl&gt; | Chisq &lt;dbl&gt; | Df &lt;dbl&gt; | Pr(&gt;Chisq) &lt;dbl&gt; |\n",
       "|---|---|---|---|---|---|---|---|---|\n",
       "| model3 | 7 | 7015.499 | 7065.234 | -3500.750 | 7001.499 |       NA | NA |         NA |\n",
       "| model1 | 8 | 7011.277 | 7068.117 | -3497.639 | 6995.277 | 6.222326 |  1 | 0.01261493 |\n",
       "\n"
      ],
      "text/plain": [
       "       npar AIC      BIC      logLik    deviance Chisq    Df Pr(>Chisq)\n",
       "model3 7    7015.499 7065.234 -3500.750 7001.499       NA NA         NA\n",
       "model1 8    7011.277 7068.117 -3497.639 6995.277 6.222326  1 0.01261493"
      ]
     },
     "metadata": {},
     "output_type": "display_data"
    }
   ],
   "source": [
    "anova(model1, model3)"
   ]
  },
  {
   "cell_type": "code",
   "execution_count": 11,
   "metadata": {
    "vscode": {
     "languageId": "r"
    }
   },
   "outputs": [
    {
     "data": {
      "text/html": [
       "<table class=\"dataframe\">\n",
       "<caption>A anova: 2 × 8</caption>\n",
       "<thead>\n",
       "\t<tr><th></th><th scope=col>npar</th><th scope=col>AIC</th><th scope=col>BIC</th><th scope=col>logLik</th><th scope=col>deviance</th><th scope=col>Chisq</th><th scope=col>Df</th><th scope=col>Pr(&gt;Chisq)</th></tr>\n",
       "\t<tr><th></th><th scope=col>&lt;dbl&gt;</th><th scope=col>&lt;dbl&gt;</th><th scope=col>&lt;dbl&gt;</th><th scope=col>&lt;dbl&gt;</th><th scope=col>&lt;dbl&gt;</th><th scope=col>&lt;dbl&gt;</th><th scope=col>&lt;dbl&gt;</th><th scope=col>&lt;lgl&gt;</th></tr>\n",
       "</thead>\n",
       "<tbody>\n",
       "\t<tr><th scope=row>model3</th><td>7</td><td> 7015.499</td><td> 7065.234</td><td>-3500.750</td><td> 7001.499</td><td>NA</td><td>NA</td><td>NA</td></tr>\n",
       "\t<tr><th scope=row>model3_5</th><td>7</td><td>12024.321</td><td>12074.056</td><td>-6005.161</td><td>12010.321</td><td> 0</td><td> 0</td><td>NA</td></tr>\n",
       "</tbody>\n",
       "</table>\n"
      ],
      "text/latex": [
       "A anova: 2 × 8\n",
       "\\begin{tabular}{r|llllllll}\n",
       "  & npar & AIC & BIC & logLik & deviance & Chisq & Df & Pr(>Chisq)\\\\\n",
       "  & <dbl> & <dbl> & <dbl> & <dbl> & <dbl> & <dbl> & <dbl> & <lgl>\\\\\n",
       "\\hline\n",
       "\tmodel3 & 7 &  7015.499 &  7065.234 & -3500.750 &  7001.499 & NA & NA & NA\\\\\n",
       "\tmodel3\\_5 & 7 & 12024.321 & 12074.056 & -6005.161 & 12010.321 &  0 &  0 & NA\\\\\n",
       "\\end{tabular}\n"
      ],
      "text/markdown": [
       "\n",
       "A anova: 2 × 8\n",
       "\n",
       "| <!--/--> | npar &lt;dbl&gt; | AIC &lt;dbl&gt; | BIC &lt;dbl&gt; | logLik &lt;dbl&gt; | deviance &lt;dbl&gt; | Chisq &lt;dbl&gt; | Df &lt;dbl&gt; | Pr(&gt;Chisq) &lt;lgl&gt; |\n",
       "|---|---|---|---|---|---|---|---|---|\n",
       "| model3 | 7 |  7015.499 |  7065.234 | -3500.750 |  7001.499 | NA | NA | NA |\n",
       "| model3_5 | 7 | 12024.321 | 12074.056 | -6005.161 | 12010.321 |  0 |  0 | NA |\n",
       "\n"
      ],
      "text/plain": [
       "         npar AIC       BIC       logLik    deviance  Chisq Df Pr(>Chisq)\n",
       "model3   7     7015.499  7065.234 -3500.750  7001.499 NA    NA NA        \n",
       "model3_5 7    12024.321 12074.056 -6005.161 12010.321  0     0 NA        "
      ]
     },
     "metadata": {},
     "output_type": "display_data"
    }
   ],
   "source": [
    "anova(model3, model3_5)"
   ]
  },
  {
   "cell_type": "code",
   "execution_count": 12,
   "metadata": {
    "vscode": {
     "languageId": "r"
    }
   },
   "outputs": [
    {
     "data": {
      "text/html": [
       "<table class=\"dataframe\">\n",
       "<caption>A anova: 2 × 8</caption>\n",
       "<thead>\n",
       "\t<tr><th></th><th scope=col>npar</th><th scope=col>AIC</th><th scope=col>BIC</th><th scope=col>logLik</th><th scope=col>deviance</th><th scope=col>Chisq</th><th scope=col>Df</th><th scope=col>Pr(&gt;Chisq)</th></tr>\n",
       "\t<tr><th></th><th scope=col>&lt;dbl&gt;</th><th scope=col>&lt;dbl&gt;</th><th scope=col>&lt;dbl&gt;</th><th scope=col>&lt;dbl&gt;</th><th scope=col>&lt;dbl&gt;</th><th scope=col>&lt;dbl&gt;</th><th scope=col>&lt;dbl&gt;</th><th scope=col>&lt;dbl&gt;</th></tr>\n",
       "</thead>\n",
       "<tbody>\n",
       "\t<tr><th scope=row>model3</th><td> 7</td><td> 7015.499</td><td> 7065.234</td><td>-3500.750</td><td> 7001.499</td><td>NA</td><td>NA</td><td>NA</td></tr>\n",
       "\t<tr><th scope=row>model4</th><td>24</td><td>12007.389</td><td>12177.908</td><td>-5979.694</td><td>11959.389</td><td> 0</td><td>17</td><td> 1</td></tr>\n",
       "</tbody>\n",
       "</table>\n"
      ],
      "text/latex": [
       "A anova: 2 × 8\n",
       "\\begin{tabular}{r|llllllll}\n",
       "  & npar & AIC & BIC & logLik & deviance & Chisq & Df & Pr(>Chisq)\\\\\n",
       "  & <dbl> & <dbl> & <dbl> & <dbl> & <dbl> & <dbl> & <dbl> & <dbl>\\\\\n",
       "\\hline\n",
       "\tmodel3 &  7 &  7015.499 &  7065.234 & -3500.750 &  7001.499 & NA & NA & NA\\\\\n",
       "\tmodel4 & 24 & 12007.389 & 12177.908 & -5979.694 & 11959.389 &  0 & 17 &  1\\\\\n",
       "\\end{tabular}\n"
      ],
      "text/markdown": [
       "\n",
       "A anova: 2 × 8\n",
       "\n",
       "| <!--/--> | npar &lt;dbl&gt; | AIC &lt;dbl&gt; | BIC &lt;dbl&gt; | logLik &lt;dbl&gt; | deviance &lt;dbl&gt; | Chisq &lt;dbl&gt; | Df &lt;dbl&gt; | Pr(&gt;Chisq) &lt;dbl&gt; |\n",
       "|---|---|---|---|---|---|---|---|---|\n",
       "| model3 |  7 |  7015.499 |  7065.234 | -3500.750 |  7001.499 | NA | NA | NA |\n",
       "| model4 | 24 | 12007.389 | 12177.908 | -5979.694 | 11959.389 |  0 | 17 |  1 |\n",
       "\n"
      ],
      "text/plain": [
       "       npar AIC       BIC       logLik    deviance  Chisq Df Pr(>Chisq)\n",
       "model3  7    7015.499  7065.234 -3500.750  7001.499 NA    NA NA        \n",
       "model4 24   12007.389 12177.908 -5979.694 11959.389  0    17  1        "
      ]
     },
     "metadata": {},
     "output_type": "display_data"
    }
   ],
   "source": [
    "anova(model3, model4)"
   ]
  },
  {
   "cell_type": "code",
   "execution_count": 13,
   "metadata": {
    "vscode": {
     "languageId": "r"
    }
   },
   "outputs": [
    {
     "data": {
      "text/html": [
       "<table class=\"dataframe\">\n",
       "<caption>A anova: 2 × 8</caption>\n",
       "<thead>\n",
       "\t<tr><th></th><th scope=col>npar</th><th scope=col>AIC</th><th scope=col>BIC</th><th scope=col>logLik</th><th scope=col>deviance</th><th scope=col>Chisq</th><th scope=col>Df</th><th scope=col>Pr(&gt;Chisq)</th></tr>\n",
       "\t<tr><th></th><th scope=col>&lt;dbl&gt;</th><th scope=col>&lt;dbl&gt;</th><th scope=col>&lt;dbl&gt;</th><th scope=col>&lt;dbl&gt;</th><th scope=col>&lt;dbl&gt;</th><th scope=col>&lt;dbl&gt;</th><th scope=col>&lt;dbl&gt;</th><th scope=col>&lt;lgl&gt;</th></tr>\n",
       "</thead>\n",
       "<tbody>\n",
       "\t<tr><th scope=row>model1</th><td>8</td><td>7011.277</td><td>7068.117</td><td>-3497.639</td><td>6995.277</td><td>NA</td><td>NA</td><td>NA</td></tr>\n",
       "\t<tr><th scope=row>model5</th><td>8</td><td>7014.502</td><td>7071.342</td><td>-3499.251</td><td>6998.502</td><td> 0</td><td> 0</td><td>NA</td></tr>\n",
       "</tbody>\n",
       "</table>\n"
      ],
      "text/latex": [
       "A anova: 2 × 8\n",
       "\\begin{tabular}{r|llllllll}\n",
       "  & npar & AIC & BIC & logLik & deviance & Chisq & Df & Pr(>Chisq)\\\\\n",
       "  & <dbl> & <dbl> & <dbl> & <dbl> & <dbl> & <dbl> & <dbl> & <lgl>\\\\\n",
       "\\hline\n",
       "\tmodel1 & 8 & 7011.277 & 7068.117 & -3497.639 & 6995.277 & NA & NA & NA\\\\\n",
       "\tmodel5 & 8 & 7014.502 & 7071.342 & -3499.251 & 6998.502 &  0 &  0 & NA\\\\\n",
       "\\end{tabular}\n"
      ],
      "text/markdown": [
       "\n",
       "A anova: 2 × 8\n",
       "\n",
       "| <!--/--> | npar &lt;dbl&gt; | AIC &lt;dbl&gt; | BIC &lt;dbl&gt; | logLik &lt;dbl&gt; | deviance &lt;dbl&gt; | Chisq &lt;dbl&gt; | Df &lt;dbl&gt; | Pr(&gt;Chisq) &lt;lgl&gt; |\n",
       "|---|---|---|---|---|---|---|---|---|\n",
       "| model1 | 8 | 7011.277 | 7068.117 | -3497.639 | 6995.277 | NA | NA | NA |\n",
       "| model5 | 8 | 7014.502 | 7071.342 | -3499.251 | 6998.502 |  0 |  0 | NA |\n",
       "\n"
      ],
      "text/plain": [
       "       npar AIC      BIC      logLik    deviance Chisq Df Pr(>Chisq)\n",
       "model1 8    7011.277 7068.117 -3497.639 6995.277 NA    NA NA        \n",
       "model5 8    7014.502 7071.342 -3499.251 6998.502  0     0 NA        "
      ]
     },
     "metadata": {},
     "output_type": "display_data"
    }
   ],
   "source": [
    "anova(model1, model5)"
   ]
  },
  {
   "cell_type": "code",
   "execution_count": 14,
   "metadata": {
    "vscode": {
     "languageId": "r"
    }
   },
   "outputs": [],
   "source": [
    "model <- model1"
   ]
  },
  {
   "cell_type": "markdown",
   "metadata": {},
   "source": [
    "# Interpretation"
   ]
  },
  {
   "cell_type": "code",
   "execution_count": 15,
   "metadata": {
    "vscode": {
     "languageId": "r"
    }
   },
   "outputs": [
    {
     "data": {
      "text/plain": [
       "Generalized linear mixed model fit by maximum likelihood (Laplace\n",
       "  Approximation) [glmerMod]\n",
       " Family: binomial  ( logit )\n",
       "Formula: \n",
       "Accuracy ~ Angle + scale(Proximity, scale = FALSE) + scale(n_candidates,  \n",
       "    scale = FALSE) + Actor + (1 | Stimulus_ID) + (1 | Prompt_ID)\n",
       "   Data: df\n",
       " Offset: offset\n",
       "\n",
       "     AIC      BIC   logLik deviance df.resid \n",
       "  7011.3   7068.1  -3497.6   6995.3     8992 \n",
       "\n",
       "Scaled residuals: \n",
       "    Min      1Q  Median      3Q     Max \n",
       "-3.1910 -0.1774 -0.0992  0.1699  3.1835 \n",
       "\n",
       "Random effects:\n",
       " Groups      Name        Variance Std.Dev.\n",
       " Stimulus_ID (Intercept) 16.34973 4.043   \n",
       " Prompt_ID   (Intercept)  0.02464 0.157   \n",
       "Number of obs: 9000, groups:  Stimulus_ID, 900; Prompt_ID, 12\n",
       "\n",
       "Fixed effects:\n",
       "                                   Estimate Std. Error z value Pr(>|z|)    \n",
       "(Intercept)                          0.5441     0.3072   1.771 0.076559 .  \n",
       "Angleleft                           -0.4442     0.3813  -1.165 0.244009    \n",
       "Angleright                          -0.2524     0.3825  -0.660 0.509341    \n",
       "scale(Proximity, scale = FALSE)     -0.7219     0.1930  -3.741 0.000184 ***\n",
       "scale(n_candidates, scale = FALSE)  -0.9059     0.2077  -4.362 1.29e-05 ***\n",
       "ActorY                              -0.1659     0.3146  -0.527 0.597865    \n",
       "---\n",
       "Signif. codes:  0 ‘***’ 0.001 ‘**’ 0.01 ‘*’ 0.05 ‘.’ 0.1 ‘ ’ 1\n",
       "\n",
       "Correlation of Fixed Effects:\n",
       "            (Intr) Angllf Anglrg s(Ps=F s(_s=F\n",
       "Angleleft   -0.618                            \n",
       "Angleright  -0.613  0.505                     \n",
       "s(P,s=FALSE  0.005  0.003 -0.011              \n",
       "s(_,s=FALSE  0.071 -0.002 -0.023  0.057       \n",
       "ActorY      -0.446 -0.023 -0.030 -0.001 -0.108"
      ]
     },
     "metadata": {},
     "output_type": "display_data"
    }
   ],
   "source": [
    "summary(model)"
   ]
  },
  {
   "cell_type": "code",
   "execution_count": 16,
   "metadata": {
    "vscode": {
     "languageId": "r"
    }
   },
   "outputs": [
    {
     "data": {
      "text/html": [
       "<table class=\"dataframe\">\n",
       "<caption>A data.frame: 6 × 7</caption>\n",
       "<thead>\n",
       "\t<tr><th scope=col>term</th><th scope=col>Estimate</th><th scope=col>Std. Error</th><th scope=col>z value</th><th scope=col>Pr(&gt;|z|)</th><th scope=col>effect_size_denom</th><th scope=col>effect_size</th></tr>\n",
       "\t<tr><th scope=col>&lt;chr&gt;</th><th scope=col>&lt;dbl&gt;</th><th scope=col>&lt;dbl&gt;</th><th scope=col>&lt;dbl&gt;</th><th scope=col>&lt;dbl&gt;</th><th scope=col>&lt;dbl&gt;</th><th scope=col>&lt;dbl&gt;</th></tr>\n",
       "</thead>\n",
       "<tbody>\n",
       "\t<tr><td>(Intercept)                       </td><td> 0.5441380</td><td>0.3072468</td><td> 1.7710128</td><td>7.655858e-02</td><td>4.434438</td><td> 0.12270733</td></tr>\n",
       "\t<tr><td>Angleleft                         </td><td>-0.4442305</td><td>0.3813060</td><td>-1.1650237</td><td>2.440094e-01</td><td>4.434438</td><td>-0.10017742</td></tr>\n",
       "\t<tr><td>Angleright                        </td><td>-0.2523914</td><td>0.3824899</td><td>-0.6598642</td><td>5.093410e-01</td><td>4.434438</td><td>-0.05691622</td></tr>\n",
       "\t<tr><td>scale(Proximity, scale = FALSE)   </td><td>-0.7219165</td><td>0.1929979</td><td>-3.7405405</td><td>1.836249e-04</td><td>4.434438</td><td>-0.16279775</td></tr>\n",
       "\t<tr><td>scale(n_candidates, scale = FALSE)</td><td>-0.9059379</td><td>0.2076662</td><td>-4.3624708</td><td>1.286017e-05</td><td>4.434438</td><td>-0.20429602</td></tr>\n",
       "\t<tr><td>ActorY                            </td><td>-0.1659441</td><td>0.3146023</td><td>-0.5274727</td><td>5.978654e-01</td><td>4.434438</td><td>-0.03742169</td></tr>\n",
       "</tbody>\n",
       "</table>\n"
      ],
      "text/latex": [
       "A data.frame: 6 × 7\n",
       "\\begin{tabular}{lllllll}\n",
       " term & Estimate & Std. Error & z value & Pr(>\\textbar{}z\\textbar{}) & effect\\_size\\_denom & effect\\_size\\\\\n",
       " <chr> & <dbl> & <dbl> & <dbl> & <dbl> & <dbl> & <dbl>\\\\\n",
       "\\hline\n",
       "\t (Intercept)                        &  0.5441380 & 0.3072468 &  1.7710128 & 7.655858e-02 & 4.434438 &  0.12270733\\\\\n",
       "\t Angleleft                          & -0.4442305 & 0.3813060 & -1.1650237 & 2.440094e-01 & 4.434438 & -0.10017742\\\\\n",
       "\t Angleright                         & -0.2523914 & 0.3824899 & -0.6598642 & 5.093410e-01 & 4.434438 & -0.05691622\\\\\n",
       "\t scale(Proximity, scale = FALSE)    & -0.7219165 & 0.1929979 & -3.7405405 & 1.836249e-04 & 4.434438 & -0.16279775\\\\\n",
       "\t scale(n\\_candidates, scale = FALSE) & -0.9059379 & 0.2076662 & -4.3624708 & 1.286017e-05 & 4.434438 & -0.20429602\\\\\n",
       "\t ActorY                             & -0.1659441 & 0.3146023 & -0.5274727 & 5.978654e-01 & 4.434438 & -0.03742169\\\\\n",
       "\\end{tabular}\n"
      ],
      "text/markdown": [
       "\n",
       "A data.frame: 6 × 7\n",
       "\n",
       "| term &lt;chr&gt; | Estimate &lt;dbl&gt; | Std. Error &lt;dbl&gt; | z value &lt;dbl&gt; | Pr(&gt;|z|) &lt;dbl&gt; | effect_size_denom &lt;dbl&gt; | effect_size &lt;dbl&gt; |\n",
       "|---|---|---|---|---|---|---|\n",
       "| (Intercept)                        |  0.5441380 | 0.3072468 |  1.7710128 | 7.655858e-02 | 4.434438 |  0.12270733 |\n",
       "| Angleleft                          | -0.4442305 | 0.3813060 | -1.1650237 | 2.440094e-01 | 4.434438 | -0.10017742 |\n",
       "| Angleright                         | -0.2523914 | 0.3824899 | -0.6598642 | 5.093410e-01 | 4.434438 | -0.05691622 |\n",
       "| scale(Proximity, scale = FALSE)    | -0.7219165 | 0.1929979 | -3.7405405 | 1.836249e-04 | 4.434438 | -0.16279775 |\n",
       "| scale(n_candidates, scale = FALSE) | -0.9059379 | 0.2076662 | -4.3624708 | 1.286017e-05 | 4.434438 | -0.20429602 |\n",
       "| ActorY                             | -0.1659441 | 0.3146023 | -0.5274727 | 5.978654e-01 | 4.434438 | -0.03742169 |\n",
       "\n"
      ],
      "text/plain": [
       "  term                               Estimate   Std. Error z value   \n",
       "1 (Intercept)                         0.5441380 0.3072468   1.7710128\n",
       "2 Angleleft                          -0.4442305 0.3813060  -1.1650237\n",
       "3 Angleright                         -0.2523914 0.3824899  -0.6598642\n",
       "4 scale(Proximity, scale = FALSE)    -0.7219165 0.1929979  -3.7405405\n",
       "5 scale(n_candidates, scale = FALSE) -0.9059379 0.2076662  -4.3624708\n",
       "6 ActorY                             -0.1659441 0.3146023  -0.5274727\n",
       "  Pr(>|z|)     effect_size_denom effect_size\n",
       "1 7.655858e-02 4.434438           0.12270733\n",
       "2 2.440094e-01 4.434438          -0.10017742\n",
       "3 5.093410e-01 4.434438          -0.05691622\n",
       "4 1.836249e-04 4.434438          -0.16279775\n",
       "5 1.286017e-05 4.434438          -0.20429602\n",
       "6 5.978654e-01 4.434438          -0.03742169"
      ]
     },
     "metadata": {},
     "output_type": "display_data"
    }
   ],
   "source": [
    "vc_list <- lapply(VarCorr(model), function(x) attr(x, \"stddev\")^2)\n",
    "vc <- sum(unlist(vc_list))\n",
    "effect_size_denom_t <- sqrt(vc + pi^2/3)\n",
    "\n",
    "res <- summary(model)$coefficients\n",
    "res <- as.data.frame(res)\n",
    "res <- cbind(term = rownames(res), res)\n",
    "rownames(res) <- NULL\n",
    "res$effect_size_denom <- effect_size_denom_t\n",
    "res$effect_size <- res$Estimate / effect_size_denom_t\n",
    "res"
   ]
  },
  {
   "cell_type": "code",
   "execution_count": 17,
   "metadata": {
    "vscode": {
     "languageId": "r"
    }
   },
   "outputs": [
    {
     "data": {
      "text/html": [
       "<table class=\"dataframe\">\n",
       "<caption>A predictions: 3 × 8</caption>\n",
       "<thead>\n",
       "\t<tr><th scope=col>hypothesis</th><th scope=col>estimate</th><th scope=col>std.error</th><th scope=col>statistic</th><th scope=col>p.value</th><th scope=col>s.value</th><th scope=col>conf.low</th><th scope=col>conf.high</th></tr>\n",
       "\t<tr><th scope=col>&lt;chr&gt;</th><th scope=col>&lt;dbl&gt;</th><th scope=col>&lt;dbl&gt;</th><th scope=col>&lt;dbl&gt;</th><th scope=col>&lt;dbl&gt;</th><th scope=col>&lt;dbl&gt;</th><th scope=col>&lt;dbl&gt;</th><th scope=col>&lt;dbl&gt;</th></tr>\n",
       "</thead>\n",
       "<tbody>\n",
       "\t<tr><td>(left) - (front) </td><td>-0.05120193</td><td>0.03515430</td><td>-1.4564910</td><td>0.1452569</td><td>2.783321</td><td>-0.12010310</td><td>0.01769924</td></tr>\n",
       "\t<tr><td>(right) - (front)</td><td>-0.02459701</td><td>0.03526713</td><td>-0.6974486</td><td>0.4855221</td><td>1.042391</td><td>-0.09371933</td><td>0.04452530</td></tr>\n",
       "\t<tr><td>(right) - (left) </td><td> 0.02660491</td><td>0.03764641</td><td> 0.7067052</td><td>0.4797497</td><td>1.059646</td><td>-0.04718069</td><td>0.10039052</td></tr>\n",
       "</tbody>\n",
       "</table>\n"
      ],
      "text/latex": [
       "A predictions: 3 × 8\n",
       "\\begin{tabular}{llllllll}\n",
       " hypothesis & estimate & std.error & statistic & p.value & s.value & conf.low & conf.high\\\\\n",
       " <chr> & <dbl> & <dbl> & <dbl> & <dbl> & <dbl> & <dbl> & <dbl>\\\\\n",
       "\\hline\n",
       "\t (left) - (front)  & -0.05120193 & 0.03515430 & -1.4564910 & 0.1452569 & 2.783321 & -0.12010310 & 0.01769924\\\\\n",
       "\t (right) - (front) & -0.02459701 & 0.03526713 & -0.6974486 & 0.4855221 & 1.042391 & -0.09371933 & 0.04452530\\\\\n",
       "\t (right) - (left)  &  0.02660491 & 0.03764641 &  0.7067052 & 0.4797497 & 1.059646 & -0.04718069 & 0.10039052\\\\\n",
       "\\end{tabular}\n"
      ],
      "text/markdown": [
       "\n",
       "A predictions: 3 × 8\n",
       "\n",
       "| hypothesis &lt;chr&gt; | estimate &lt;dbl&gt; | std.error &lt;dbl&gt; | statistic &lt;dbl&gt; | p.value &lt;dbl&gt; | s.value &lt;dbl&gt; | conf.low &lt;dbl&gt; | conf.high &lt;dbl&gt; |\n",
       "|---|---|---|---|---|---|---|---|\n",
       "| (left) - (front)  | -0.05120193 | 0.03515430 | -1.4564910 | 0.1452569 | 2.783321 | -0.12010310 | 0.01769924 |\n",
       "| (right) - (front) | -0.02459701 | 0.03526713 | -0.6974486 | 0.4855221 | 1.042391 | -0.09371933 | 0.04452530 |\n",
       "| (right) - (left)  |  0.02660491 | 0.03764641 |  0.7067052 | 0.4797497 | 1.059646 | -0.04718069 | 0.10039052 |\n",
       "\n"
      ],
      "text/plain": [
       "  hypothesis        estimate    std.error  statistic  p.value   s.value \n",
       "1 (left) - (front)  -0.05120193 0.03515430 -1.4564910 0.1452569 2.783321\n",
       "2 (right) - (front) -0.02459701 0.03526713 -0.6974486 0.4855221 1.042391\n",
       "3 (right) - (left)   0.02660491 0.03764641  0.7067052 0.4797497 1.059646\n",
       "  conf.low    conf.high \n",
       "1 -0.12010310 0.01769924\n",
       "2 -0.09371933 0.04452530\n",
       "3 -0.04718069 0.10039052"
      ]
     },
     "metadata": {},
     "output_type": "display_data"
    }
   ],
   "source": [
    "avg_predictions(model, by=\"Angle\", hypothesis = ~ pairwise)"
   ]
  },
  {
   "cell_type": "code",
   "execution_count": 18,
   "metadata": {
    "vscode": {
     "languageId": "r"
    }
   },
   "outputs": [
    {
     "data": {
      "text/html": [
       "<table class=\"dataframe\">\n",
       "<caption>A slopes: 1 × 12</caption>\n",
       "<thead>\n",
       "\t<tr><th scope=col>term</th><th scope=col>contrast</th><th scope=col>estimate</th><th scope=col>std.error</th><th scope=col>statistic</th><th scope=col>p.value</th><th scope=col>s.value</th><th scope=col>conf.low</th><th scope=col>conf.high</th><th scope=col>predicted_lo</th><th scope=col>predicted_hi</th><th scope=col>predicted</th></tr>\n",
       "\t<tr><th scope=col>&lt;chr&gt;</th><th scope=col>&lt;chr&gt;</th><th scope=col>&lt;dbl&gt;</th><th scope=col>&lt;dbl&gt;</th><th scope=col>&lt;dbl&gt;</th><th scope=col>&lt;dbl&gt;</th><th scope=col>&lt;dbl&gt;</th><th scope=col>&lt;dbl&gt;</th><th scope=col>&lt;dbl&gt;</th><th scope=col>&lt;dbl&gt;</th><th scope=col>&lt;dbl&gt;</th><th scope=col>&lt;dbl&gt;</th></tr>\n",
       "</thead>\n",
       "<tbody>\n",
       "\t<tr><td>Proximity</td><td>dY/dX</td><td>-0.7219165</td><td>0.1929943</td><td>-3.74061</td><td>0.0001835739</td><td>12.41135</td><td>-1.100178</td><td>-0.3436546</td><td>-3.662672</td><td>-3.662817</td><td>-3.662744</td></tr>\n",
       "</tbody>\n",
       "</table>\n"
      ],
      "text/latex": [
       "A slopes: 1 × 12\n",
       "\\begin{tabular}{llllllllllll}\n",
       " term & contrast & estimate & std.error & statistic & p.value & s.value & conf.low & conf.high & predicted\\_lo & predicted\\_hi & predicted\\\\\n",
       " <chr> & <chr> & <dbl> & <dbl> & <dbl> & <dbl> & <dbl> & <dbl> & <dbl> & <dbl> & <dbl> & <dbl>\\\\\n",
       "\\hline\n",
       "\t Proximity & dY/dX & -0.7219165 & 0.1929943 & -3.74061 & 0.0001835739 & 12.41135 & -1.100178 & -0.3436546 & -3.662672 & -3.662817 & -3.662744\\\\\n",
       "\\end{tabular}\n"
      ],
      "text/markdown": [
       "\n",
       "A slopes: 1 × 12\n",
       "\n",
       "| term &lt;chr&gt; | contrast &lt;chr&gt; | estimate &lt;dbl&gt; | std.error &lt;dbl&gt; | statistic &lt;dbl&gt; | p.value &lt;dbl&gt; | s.value &lt;dbl&gt; | conf.low &lt;dbl&gt; | conf.high &lt;dbl&gt; | predicted_lo &lt;dbl&gt; | predicted_hi &lt;dbl&gt; | predicted &lt;dbl&gt; |\n",
       "|---|---|---|---|---|---|---|---|---|---|---|---|\n",
       "| Proximity | dY/dX | -0.7219165 | 0.1929943 | -3.74061 | 0.0001835739 | 12.41135 | -1.100178 | -0.3436546 | -3.662672 | -3.662817 | -3.662744 |\n",
       "\n"
      ],
      "text/plain": [
       "  term      contrast estimate   std.error statistic p.value      s.value \n",
       "1 Proximity dY/dX    -0.7219165 0.1929943 -3.74061  0.0001835739 12.41135\n",
       "  conf.low  conf.high  predicted_lo predicted_hi predicted\n",
       "1 -1.100178 -0.3436546 -3.662672    -3.662817    -3.662744"
      ]
     },
     "metadata": {},
     "output_type": "display_data"
    }
   ],
   "source": [
    "avg_slopes(model, variables =\"Proximity\", type = \"link\")"
   ]
  },
  {
   "cell_type": "code",
   "execution_count": 19,
   "metadata": {
    "vscode": {
     "languageId": "r"
    }
   },
   "outputs": [
    {
     "data": {
      "text/html": [
       "<table class=\"dataframe\">\n",
       "<caption>A slopes: 1 × 12</caption>\n",
       "<thead>\n",
       "\t<tr><th scope=col>term</th><th scope=col>contrast</th><th scope=col>estimate</th><th scope=col>std.error</th><th scope=col>statistic</th><th scope=col>p.value</th><th scope=col>s.value</th><th scope=col>conf.low</th><th scope=col>conf.high</th><th scope=col>predicted_lo</th><th scope=col>predicted_hi</th><th scope=col>predicted</th></tr>\n",
       "\t<tr><th scope=col>&lt;chr&gt;</th><th scope=col>&lt;chr&gt;</th><th scope=col>&lt;dbl&gt;</th><th scope=col>&lt;dbl&gt;</th><th scope=col>&lt;dbl&gt;</th><th scope=col>&lt;dbl&gt;</th><th scope=col>&lt;dbl&gt;</th><th scope=col>&lt;dbl&gt;</th><th scope=col>&lt;dbl&gt;</th><th scope=col>&lt;dbl&gt;</th><th scope=col>&lt;dbl&gt;</th><th scope=col>&lt;dbl&gt;</th></tr>\n",
       "</thead>\n",
       "<tbody>\n",
       "\t<tr><td>n_candidates</td><td>dY/dX</td><td>-0.9059379</td><td>0.2076671</td><td>-4.362454</td><td>1.286119e-05</td><td>16.24662</td><td>-1.312958</td><td>-0.498918</td><td>-3.662654</td><td>-3.662835</td><td>-3.662744</td></tr>\n",
       "</tbody>\n",
       "</table>\n"
      ],
      "text/latex": [
       "A slopes: 1 × 12\n",
       "\\begin{tabular}{llllllllllll}\n",
       " term & contrast & estimate & std.error & statistic & p.value & s.value & conf.low & conf.high & predicted\\_lo & predicted\\_hi & predicted\\\\\n",
       " <chr> & <chr> & <dbl> & <dbl> & <dbl> & <dbl> & <dbl> & <dbl> & <dbl> & <dbl> & <dbl> & <dbl>\\\\\n",
       "\\hline\n",
       "\t n\\_candidates & dY/dX & -0.9059379 & 0.2076671 & -4.362454 & 1.286119e-05 & 16.24662 & -1.312958 & -0.498918 & -3.662654 & -3.662835 & -3.662744\\\\\n",
       "\\end{tabular}\n"
      ],
      "text/markdown": [
       "\n",
       "A slopes: 1 × 12\n",
       "\n",
       "| term &lt;chr&gt; | contrast &lt;chr&gt; | estimate &lt;dbl&gt; | std.error &lt;dbl&gt; | statistic &lt;dbl&gt; | p.value &lt;dbl&gt; | s.value &lt;dbl&gt; | conf.low &lt;dbl&gt; | conf.high &lt;dbl&gt; | predicted_lo &lt;dbl&gt; | predicted_hi &lt;dbl&gt; | predicted &lt;dbl&gt; |\n",
       "|---|---|---|---|---|---|---|---|---|---|---|---|\n",
       "| n_candidates | dY/dX | -0.9059379 | 0.2076671 | -4.362454 | 1.286119e-05 | 16.24662 | -1.312958 | -0.498918 | -3.662654 | -3.662835 | -3.662744 |\n",
       "\n"
      ],
      "text/plain": [
       "  term         contrast estimate   std.error statistic p.value      s.value \n",
       "1 n_candidates dY/dX    -0.9059379 0.2076671 -4.362454 1.286119e-05 16.24662\n",
       "  conf.low  conf.high predicted_lo predicted_hi predicted\n",
       "1 -1.312958 -0.498918 -3.662654    -3.662835    -3.662744"
      ]
     },
     "metadata": {},
     "output_type": "display_data"
    }
   ],
   "source": [
    "avg_slopes(model, variables =\"n_candidates\", type = \"link\")"
   ]
  }
 ],
 "metadata": {
  "kernelspec": {
   "display_name": "R",
   "language": "R",
   "name": "ir"
  },
  "language_info": {
   "codemirror_mode": "r",
   "file_extension": ".r",
   "mimetype": "text/x-r-source",
   "name": "R",
   "pygments_lexer": "r",
   "version": "4.3.3"
  }
 },
 "nbformat": 4,
 "nbformat_minor": 2
}
