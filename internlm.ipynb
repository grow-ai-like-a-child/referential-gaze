{
 "cells": [
  {
   "cell_type": "markdown",
   "metadata": {},
   "source": [
    "# Loading Responses"
   ]
  },
  {
   "cell_type": "code",
   "execution_count": 1,
   "metadata": {
    "vscode": {
     "languageId": "r"
    }
   },
   "outputs": [
    {
     "name": "stderr",
     "output_type": "stream",
     "text": [
      "Loading required package: lme4\n",
      "\n",
      "Loading required package: Matrix\n",
      "\n",
      "Loading required package: readr\n",
      "\n",
      "Loading required package: marginaleffects\n",
      "\n",
      "Loading required package: emmeans\n",
      "\n",
      "Welcome to emmeans.\n",
      "Caution: You lose important information if you filter this package's results.\n",
      "See '? untidy'\n",
      "\n",
      "Loading required package: car\n",
      "\n",
      "Loading required package: carData\n",
      "\n",
      "\u001b[1mRows: \u001b[22m\u001b[34m156825\u001b[39m \u001b[1mColumns: \u001b[22m\u001b[34m14\u001b[39m\n",
      "\u001b[36m--\u001b[39m \u001b[1mColumn specification\u001b[22m \u001b[36m--------------------------------------------------------\u001b[39m\n",
      "\u001b[1mDelimiter:\u001b[22m \",\"\n",
      "\u001b[31mchr\u001b[39m (2): Run_ID, Part\n",
      "\u001b[32mint\u001b[39m (2): Proximity, n_candidates\n",
      "\u001b[33mlgl\u001b[39m (1): Accuracy\n",
      "\u001b[31mfct\u001b[39m (9): Stimulus_ID, Prompt_ID, Participant_ID, Group, GroupKind, Angle, Ac...\n",
      "\n",
      "\u001b[36mi\u001b[39m Use `spec()` to retrieve the full column specification for this data.\n",
      "\u001b[36mi\u001b[39m Specify the column types or set `show_col_types = FALSE` to quiet this message.\n"
     ]
    }
   ],
   "source": [
    "options(warn=1)\n",
    "if(!require('lme4')) {\n",
    "    install.packages('lme4', repos='https://cloud.r-project.org')\n",
    "    library('lme4')\n",
    "}\n",
    "if(!require('readr')) {\n",
    "    install.packages('readr', repos='https://cloud.r-project.org')\n",
    "    library('readr')\n",
    "}\n",
    "if(!require('marginaleffects')) {\n",
    "    install.packages('marginaleffects', repos='https://cloud.r-project.org')\n",
    "    library('marginaleffects')\n",
    "}\n",
    "if(!require('emmeans')) {\n",
    "    install.packages('emmeans', repos='https://cloud.r-project.org')\n",
    "    library('emmeans')\n",
    "}\n",
    "if(!require('car')) {\n",
    "    install.packages('car', repos='https://cloud.r-project.org')\n",
    "    library('car')\n",
    "}\n",
    "df <- read_csv(\"result_1743457603_20250506_20250506F.csv\", na = \"empty\", col_select = c(\"Accuracy\", \"Group\", \"GroupKind\", \"Angle\", \"Proximity\", \"n_candidates\", \"Actor\", \"Candidates\", \"Stimulus_ID\", \"Prompt_ID\", \"Participant_ID\", \"list_id\", \"Run_ID\", \"Part\"), col_types = cols(\n",
    "    Accuracy = col_logical(),\n",
    "    Group = col_factor(),\n",
    "    GroupKind = col_factor(),\n",
    "    Angle = col_factor(),\n",
    "    Proximity = col_integer(),\n",
    "    n_candidates = col_integer(),\n",
    "    Actor = col_factor(c('X', 'Y')),\n",
    "    Candidates = col_factor(),\n",
    "    Stimulus_ID = col_factor(),\n",
    "    Prompt_ID = col_factor(),\n",
    "    Participant_ID = col_factor(),\n",
    "    list_id = col_factor(),\n",
    "    Run_ID = col_character(),\n",
    "    Part = col_character(),\n",
    "),show_col_types = TRUE)\n",
    "df <- df[df$Group == \"internlm-xcomposer2-vl-7b\" & df$list_id != -1 & df$Part != \"p0\", ]\n",
    "df$offset <- log(1/df$n_candidates / (1 - 1/df$n_candidates))"
   ]
  },
  {
   "cell_type": "code",
   "execution_count": 2,
   "metadata": {
    "vscode": {
     "languageId": "r"
    }
   },
   "outputs": [
    {
     "data": {
      "text/plain": [
       "R version 4.3.3 (2024-02-29)\n",
       "Platform: aarch64-apple-darwin20.0.0 (64-bit)\n",
       "Running under: macOS 15.5\n",
       "\n",
       "Matrix products: default\n",
       "BLAS/LAPACK: /Users/zory/miniforge3/envs/py310/lib/libopenblas.0.dylib;  LAPACK version 3.12.0\n",
       "\n",
       "locale:\n",
       "[1] C\n",
       "\n",
       "time zone: America/Los_Angeles\n",
       "tzcode source: system (macOS)\n",
       "\n",
       "attached base packages:\n",
       "[1] stats     graphics  grDevices utils     datasets  methods   base     \n",
       "\n",
       "other attached packages:\n",
       "[1] car_3.1-3              carData_3.0-5          emmeans_1.11.0        \n",
       "[4] marginaleffects_0.25.1 readr_2.1.5            lme4_1.1-35.5         \n",
       "[7] Matrix_1.6-5          \n",
       "\n",
       "loaded via a namespace (and not attached):\n",
       " [1] bit_4.6.0          jsonlite_2.0.0     compiler_4.3.3     crayon_1.5.3      \n",
       " [5] tidyselect_1.2.1   Rcpp_1.0.14        IRdisplay_1.1      parallel_4.3.3    \n",
       " [9] splines_4.3.3      boot_1.3-31        uuid_1.2-1         fastmap_1.2.0     \n",
       "[13] IRkernel_1.3.2     lattice_0.22-6     R6_2.6.1           generics_0.1.4    \n",
       "[17] Formula_1.2-5      MASS_7.3-60.0.1    backports_1.5.0    tibble_3.2.1      \n",
       "[21] nloptr_2.2.1       minqa_1.2.8        pillar_1.10.1      tzdb_0.5.0        \n",
       "[25] rlang_1.1.5        repr_1.1.6         bit64_4.6.0-1      estimability_1.5.1\n",
       "[29] cli_3.6.4          withr_3.0.2        magrittr_2.0.3     digest_0.6.37     \n",
       "[33] grid_4.3.3         vroom_1.6.5        mvtnorm_1.3-3      xtable_1.8-4      \n",
       "[37] base64enc_0.1-3    hms_1.1.3          pbdZMQ_0.3-14      lifecycle_1.0.4   \n",
       "[41] nlme_3.1-168       vctrs_0.6.5        evaluate_0.22      glue_1.8.0        \n",
       "[45] data.table_1.17.0  abind_1.4-8        tools_4.3.3        pkgconfig_2.0.3   \n",
       "[49] htmltools_0.5.8.1 "
      ]
     },
     "metadata": {},
     "output_type": "display_data"
    }
   ],
   "source": [
    "sessionInfo()"
   ]
  },
  {
   "cell_type": "markdown",
   "metadata": {},
   "source": [
    "# Fitting models"
   ]
  },
  {
   "cell_type": "code",
   "execution_count": 3,
   "metadata": {
    "vscode": {
     "languageId": "r"
    }
   },
   "outputs": [
    {
     "name": "stderr",
     "output_type": "stream",
     "text": [
      "Warning message in checkConv(attr(opt, \"derivs\"), opt$par, ctrl = control$checkConv, :\n",
      "\"Model failed to converge with max|grad| = 0.00645188 (tol = 0.002, component 1)\"\n"
     ]
    }
   ],
   "source": [
    "model0 <- glmer(Accuracy ~ Angle + scale(Proximity, scale=FALSE) + scale(n_candidates, scale=FALSE) + Actor + (1|Actor:Candidates) + (1|Stimulus_ID) + (1|Prompt_ID), \n",
    "               data = df,\n",
    "               family = binomial(link = \"logit\"), \n",
    "               offset = offset)"
   ]
  },
  {
   "cell_type": "code",
   "execution_count": 4,
   "metadata": {
    "vscode": {
     "languageId": "r"
    }
   },
   "outputs": [],
   "source": [
    "model1 <- glmer(Accuracy ~ Angle + scale(Proximity, scale=FALSE) + scale(n_candidates, scale=FALSE) + Actor + (1|Stimulus_ID) + (1|Prompt_ID), \n",
    "               data = df,\n",
    "               family = binomial(link = \"logit\"), \n",
    "               offset = offset)"
   ]
  },
  {
   "cell_type": "code",
   "execution_count": 5,
   "metadata": {
    "vscode": {
     "languageId": "r"
    }
   },
   "outputs": [
    {
     "name": "stderr",
     "output_type": "stream",
     "text": [
      "boundary (singular) fit: see help('isSingular')\n",
      "\n"
     ]
    }
   ],
   "source": [
    "model2 <- glmer(Accuracy ~ Angle + scale(Proximity, scale=FALSE) + scale(n_candidates, scale=FALSE) + Actor + (1|Actor:Candidates) + (1|Stimulus_ID), \n",
    "               data = df,\n",
    "               family = binomial(link = \"logit\"), \n",
    "               offset = offset)"
   ]
  },
  {
   "cell_type": "code",
   "execution_count": 6,
   "metadata": {
    "vscode": {
     "languageId": "r"
    }
   },
   "outputs": [],
   "source": [
    "model3 <- glmer(Accuracy ~ Angle + scale(Proximity, scale=FALSE) + scale(n_candidates, scale=FALSE) + Actor + (1|Stimulus_ID), \n",
    "               data = df,\n",
    "               family = binomial(link = \"logit\"), \n",
    "               offset = offset)"
   ]
  },
  {
   "cell_type": "markdown",
   "metadata": {},
   "source": [
    "# Model selection"
   ]
  },
  {
   "cell_type": "code",
   "execution_count": 7,
   "metadata": {
    "vscode": {
     "languageId": "r"
    }
   },
   "outputs": [
    {
     "data": {
      "text/html": [
       "<table class=\"dataframe\">\n",
       "<caption>A anova: 2 x 8</caption>\n",
       "<thead>\n",
       "\t<tr><th></th><th scope=col>npar</th><th scope=col>AIC</th><th scope=col>BIC</th><th scope=col>logLik</th><th scope=col>deviance</th><th scope=col>Chisq</th><th scope=col>Df</th><th scope=col>Pr(&gt;Chisq)</th></tr>\n",
       "\t<tr><th></th><th scope=col>&lt;dbl&gt;</th><th scope=col>&lt;dbl&gt;</th><th scope=col>&lt;dbl&gt;</th><th scope=col>&lt;dbl&gt;</th><th scope=col>&lt;dbl&gt;</th><th scope=col>&lt;dbl&gt;</th><th scope=col>&lt;dbl&gt;</th><th scope=col>&lt;dbl&gt;</th></tr>\n",
       "</thead>\n",
       "<tbody>\n",
       "\t<tr><th scope=row>model3</th><td>7</td><td>5739.069</td><td>5788.803</td><td>-2862.534</td><td>5725.069</td><td>     NA</td><td>NA</td><td>       NA</td></tr>\n",
       "\t<tr><th scope=row>model1</th><td>8</td><td>5739.471</td><td>5796.311</td><td>-2861.736</td><td>5723.471</td><td>1.59716</td><td> 1</td><td>0.2063062</td></tr>\n",
       "</tbody>\n",
       "</table>\n"
      ],
      "text/latex": [
       "A anova: 2 x 8\n",
       "\\begin{tabular}{r|llllllll}\n",
       "  & npar & AIC & BIC & logLik & deviance & Chisq & Df & Pr(>Chisq)\\\\\n",
       "  & <dbl> & <dbl> & <dbl> & <dbl> & <dbl> & <dbl> & <dbl> & <dbl>\\\\\n",
       "\\hline\n",
       "\tmodel3 & 7 & 5739.069 & 5788.803 & -2862.534 & 5725.069 &      NA & NA &        NA\\\\\n",
       "\tmodel1 & 8 & 5739.471 & 5796.311 & -2861.736 & 5723.471 & 1.59716 &  1 & 0.2063062\\\\\n",
       "\\end{tabular}\n"
      ],
      "text/markdown": [
       "\n",
       "A anova: 2 x 8\n",
       "\n",
       "| <!--/--> | npar &lt;dbl&gt; | AIC &lt;dbl&gt; | BIC &lt;dbl&gt; | logLik &lt;dbl&gt; | deviance &lt;dbl&gt; | Chisq &lt;dbl&gt; | Df &lt;dbl&gt; | Pr(&gt;Chisq) &lt;dbl&gt; |\n",
       "|---|---|---|---|---|---|---|---|---|\n",
       "| model3 | 7 | 5739.069 | 5788.803 | -2862.534 | 5725.069 |      NA | NA |        NA |\n",
       "| model1 | 8 | 5739.471 | 5796.311 | -2861.736 | 5723.471 | 1.59716 |  1 | 0.2063062 |\n",
       "\n"
      ],
      "text/plain": [
       "       npar AIC      BIC      logLik    deviance Chisq   Df Pr(>Chisq)\n",
       "model3 7    5739.069 5788.803 -2862.534 5725.069      NA NA        NA \n",
       "model1 8    5739.471 5796.311 -2861.736 5723.471 1.59716  1 0.2063062 "
      ]
     },
     "metadata": {},
     "output_type": "display_data"
    }
   ],
   "source": [
    "anova(model1, model3)"
   ]
  },
  {
   "cell_type": "code",
   "execution_count": 8,
   "metadata": {
    "vscode": {
     "languageId": "r"
    }
   },
   "outputs": [],
   "source": [
    "model <- model3"
   ]
  },
  {
   "cell_type": "markdown",
   "metadata": {},
   "source": [
    "# Interpretation"
   ]
  },
  {
   "cell_type": "code",
   "execution_count": 9,
   "metadata": {
    "vscode": {
     "languageId": "r"
    }
   },
   "outputs": [
    {
     "data": {
      "text/plain": [
       "Generalized linear mixed model fit by maximum likelihood (Laplace\n",
       "  Approximation) [glmerMod]\n",
       " Family: binomial  ( logit )\n",
       "Formula: \n",
       "Accuracy ~ Angle + scale(Proximity, scale = FALSE) + scale(n_candidates,  \n",
       "    scale = FALSE) + Actor + (1 | Stimulus_ID)\n",
       "   Data: df\n",
       " Offset: offset\n",
       "\n",
       "     AIC      BIC   logLik deviance df.resid \n",
       "  5739.1   5788.8  -2862.5   5725.1     8993 \n",
       "\n",
       "Scaled residuals: \n",
       "     Min       1Q   Median       3Q      Max \n",
       "-2.99537 -0.12875 -0.05732  0.12649  3.10520 \n",
       "\n",
       "Random effects:\n",
       " Groups      Name        Variance Std.Dev.\n",
       " Stimulus_ID (Intercept) 30.02    5.479   \n",
       "Number of obs: 9000, groups:  Stimulus_ID, 900\n",
       "\n",
       "Fixed effects:\n",
       "                                   Estimate Std. Error z value Pr(>|z|)    \n",
       "(Intercept)                          0.2368     0.4317   0.548   0.5834    \n",
       "Angleleft                            0.1730     0.5482   0.316   0.7523    \n",
       "Angleright                           0.2448     0.5482   0.447   0.6552    \n",
       "scale(Proximity, scale = FALSE)     -0.6574     0.2776  -2.368   0.0179 *  \n",
       "scale(n_candidates, scale = FALSE)  -1.6443     0.3313  -4.963 6.93e-07 ***\n",
       "ActorY                              -1.1439     0.4663  -2.453   0.0142 *  \n",
       "---\n",
       "Signif. codes:  0 '***' 0.001 '**' 0.01 '*' 0.05 '.' 0.1 ' ' 1\n",
       "\n",
       "Correlation of Fixed Effects:\n",
       "            (Intr) Angllf Anglrg s(Ps=F s(_s=F\n",
       "Angleleft   -0.615                            \n",
       "Angleright  -0.624  0.485                     \n",
       "s(P,s=FALSE -0.036  0.019  0.037              \n",
       "s(_,s=FALSE  0.030 -0.006 -0.021  0.061       \n",
       "ActorY      -0.458 -0.003  0.015  0.036  0.073"
      ]
     },
     "metadata": {},
     "output_type": "display_data"
    }
   ],
   "source": [
    "summary(model)"
   ]
  },
  {
   "cell_type": "code",
   "execution_count": 10,
   "metadata": {
    "vscode": {
     "languageId": "r"
    }
   },
   "outputs": [
    {
     "data": {
      "text/html": [
       "<table class=\"dataframe\">\n",
       "<caption>A data.frame: 6 x 9</caption>\n",
       "<thead>\n",
       "\t<tr><th scope=col>term</th><th scope=col>Estimate</th><th scope=col>Std. Error</th><th scope=col>z value</th><th scope=col>Pr(&gt;|z|)</th><th scope=col>CI_low</th><th scope=col>CI_high</th><th scope=col>effect_size_denom</th><th scope=col>effect_size</th></tr>\n",
       "\t<tr><th scope=col>&lt;chr&gt;</th><th scope=col>&lt;dbl&gt;</th><th scope=col>&lt;dbl&gt;</th><th scope=col>&lt;dbl&gt;</th><th scope=col>&lt;chr&gt;</th><th scope=col>&lt;dbl&gt;</th><th scope=col>&lt;dbl&gt;</th><th scope=col>&lt;dbl&gt;</th><th scope=col>&lt;dbl&gt;</th></tr>\n",
       "</thead>\n",
       "<tbody>\n",
       "\t<tr><td>(Intercept)                       </td><td> 0.2367750</td><td>0.4317159</td><td> 0.5484509</td><td>0.5833823096590</td><td>-0.6093882</td><td> 1.0829383</td><td>5.771574</td><td> 0.04102434</td></tr>\n",
       "\t<tr><td>Angleleft                         </td><td> 0.1730034</td><td>0.5481663</td><td> 0.3156039</td><td>0.7523031815811</td><td>-0.9014025</td><td> 1.2474094</td><td>5.771574</td><td> 0.02997508</td></tr>\n",
       "\t<tr><td>Angleright                        </td><td> 0.2448312</td><td>0.5482314</td><td> 0.4465836</td><td>0.6551757109190</td><td>-0.8297024</td><td> 1.3193648</td><td>5.771574</td><td> 0.04242018</td></tr>\n",
       "\t<tr><td>scale(Proximity, scale = FALSE)   </td><td>-0.6573970</td><td>0.2776101</td><td>-2.3680590</td><td>0.0178816839644</td><td>-1.2015127</td><td>-0.1132813</td><td>5.771574</td><td>-0.11390255</td></tr>\n",
       "\t<tr><td>scale(n_candidates, scale = FALSE)</td><td>-1.6442912</td><td>0.3312829</td><td>-4.9634055</td><td>0.0000006926775</td><td>-2.2936057</td><td>-0.9949768</td><td>5.771574</td><td>-0.28489476</td></tr>\n",
       "\t<tr><td>ActorY                            </td><td>-1.1438885</td><td>0.4663476</td><td>-2.4528665</td><td>0.0141722918328</td><td>-2.0579299</td><td>-0.2298471</td><td>5.771574</td><td>-0.19819350</td></tr>\n",
       "</tbody>\n",
       "</table>\n"
      ],
      "text/latex": [
       "A data.frame: 6 x 9\n",
       "\\begin{tabular}{lllllllll}\n",
       " term & Estimate & Std. Error & z value & Pr(>\\textbar{}z\\textbar{}) & CI\\_low & CI\\_high & effect\\_size\\_denom & effect\\_size\\\\\n",
       " <chr> & <dbl> & <dbl> & <dbl> & <chr> & <dbl> & <dbl> & <dbl> & <dbl>\\\\\n",
       "\\hline\n",
       "\t (Intercept)                        &  0.2367750 & 0.4317159 &  0.5484509 & 0.5833823096590 & -0.6093882 &  1.0829383 & 5.771574 &  0.04102434\\\\\n",
       "\t Angleleft                          &  0.1730034 & 0.5481663 &  0.3156039 & 0.7523031815811 & -0.9014025 &  1.2474094 & 5.771574 &  0.02997508\\\\\n",
       "\t Angleright                         &  0.2448312 & 0.5482314 &  0.4465836 & 0.6551757109190 & -0.8297024 &  1.3193648 & 5.771574 &  0.04242018\\\\\n",
       "\t scale(Proximity, scale = FALSE)    & -0.6573970 & 0.2776101 & -2.3680590 & 0.0178816839644 & -1.2015127 & -0.1132813 & 5.771574 & -0.11390255\\\\\n",
       "\t scale(n\\_candidates, scale = FALSE) & -1.6442912 & 0.3312829 & -4.9634055 & 0.0000006926775 & -2.2936057 & -0.9949768 & 5.771574 & -0.28489476\\\\\n",
       "\t ActorY                             & -1.1438885 & 0.4663476 & -2.4528665 & 0.0141722918328 & -2.0579299 & -0.2298471 & 5.771574 & -0.19819350\\\\\n",
       "\\end{tabular}\n"
      ],
      "text/markdown": [
       "\n",
       "A data.frame: 6 x 9\n",
       "\n",
       "| term &lt;chr&gt; | Estimate &lt;dbl&gt; | Std. Error &lt;dbl&gt; | z value &lt;dbl&gt; | Pr(&gt;|z|) &lt;chr&gt; | CI_low &lt;dbl&gt; | CI_high &lt;dbl&gt; | effect_size_denom &lt;dbl&gt; | effect_size &lt;dbl&gt; |\n",
       "|---|---|---|---|---|---|---|---|---|\n",
       "| (Intercept)                        |  0.2367750 | 0.4317159 |  0.5484509 | 0.5833823096590 | -0.6093882 |  1.0829383 | 5.771574 |  0.04102434 |\n",
       "| Angleleft                          |  0.1730034 | 0.5481663 |  0.3156039 | 0.7523031815811 | -0.9014025 |  1.2474094 | 5.771574 |  0.02997508 |\n",
       "| Angleright                         |  0.2448312 | 0.5482314 |  0.4465836 | 0.6551757109190 | -0.8297024 |  1.3193648 | 5.771574 |  0.04242018 |\n",
       "| scale(Proximity, scale = FALSE)    | -0.6573970 | 0.2776101 | -2.3680590 | 0.0178816839644 | -1.2015127 | -0.1132813 | 5.771574 | -0.11390255 |\n",
       "| scale(n_candidates, scale = FALSE) | -1.6442912 | 0.3312829 | -4.9634055 | 0.0000006926775 | -2.2936057 | -0.9949768 | 5.771574 | -0.28489476 |\n",
       "| ActorY                             | -1.1438885 | 0.4663476 | -2.4528665 | 0.0141722918328 | -2.0579299 | -0.2298471 | 5.771574 | -0.19819350 |\n",
       "\n"
      ],
      "text/plain": [
       "  term                               Estimate   Std. Error z value   \n",
       "1 (Intercept)                         0.2367750 0.4317159   0.5484509\n",
       "2 Angleleft                           0.1730034 0.5481663   0.3156039\n",
       "3 Angleright                          0.2448312 0.5482314   0.4465836\n",
       "4 scale(Proximity, scale = FALSE)    -0.6573970 0.2776101  -2.3680590\n",
       "5 scale(n_candidates, scale = FALSE) -1.6442912 0.3312829  -4.9634055\n",
       "6 ActorY                             -1.1438885 0.4663476  -2.4528665\n",
       "  Pr(>|z|)        CI_low     CI_high    effect_size_denom effect_size\n",
       "1 0.5833823096590 -0.6093882  1.0829383 5.771574           0.04102434\n",
       "2 0.7523031815811 -0.9014025  1.2474094 5.771574           0.02997508\n",
       "3 0.6551757109190 -0.8297024  1.3193648 5.771574           0.04242018\n",
       "4 0.0178816839644 -1.2015127 -0.1132813 5.771574          -0.11390255\n",
       "5 0.0000006926775 -2.2936057 -0.9949768 5.771574          -0.28489476\n",
       "6 0.0141722918328 -2.0579299 -0.2298471 5.771574          -0.19819350"
      ]
     },
     "metadata": {},
     "output_type": "display_data"
    }
   ],
   "source": [
    "vc_list <- lapply(VarCorr(model), function(x) attr(x, \"stddev\")^2)\n",
    "vc <- sum(unlist(vc_list))\n",
    "effect_size_denom_t <- sqrt(vc + pi^2/3)\n",
    "\n",
    "res <- summary(model)$coefficients\n",
    "res <- as.data.frame(res)\n",
    "res <- cbind(term = rownames(res), res)\n",
    "rownames(res) <- NULL\n",
    "res$`Pr(>|z|)` <- format(res$`Pr(>|z|)`, scientific = FALSE)\n",
    "res$CI_low <- res$Estimate - 1.96 * res$`Std. Error`\n",
    "res$CI_high <- res$Estimate + 1.96 * res$`Std. Error`\n",
    "res$effect_size_denom <- effect_size_denom_t\n",
    "res$effect_size <- res$Estimate / effect_size_denom_t\n",
    "res"
   ]
  },
  {
   "cell_type": "code",
   "execution_count": 11,
   "metadata": {
    "vscode": {
     "languageId": "r"
    }
   },
   "outputs": [
    {
     "data": {
      "text/html": [
       "<table class=\"dataframe\">\n",
       "<caption>A predictions: 3 x 8</caption>\n",
       "<thead>\n",
       "\t<tr><th scope=col>hypothesis</th><th scope=col>estimate</th><th scope=col>std.error</th><th scope=col>statistic</th><th scope=col>p.value</th><th scope=col>s.value</th><th scope=col>conf.low</th><th scope=col>conf.high</th></tr>\n",
       "\t<tr><th scope=col>&lt;chr&gt;</th><th scope=col>&lt;dbl&gt;</th><th scope=col>&lt;dbl&gt;</th><th scope=col>&lt;dbl&gt;</th><th scope=col>&lt;dbl&gt;</th><th scope=col>&lt;dbl&gt;</th><th scope=col>&lt;dbl&gt;</th><th scope=col>&lt;dbl&gt;</th></tr>\n",
       "</thead>\n",
       "<tbody>\n",
       "\t<tr><td>(left) - (front) </td><td>0.024209069</td><td>0.03663211</td><td>0.6608701</td><td>0.5086956</td><td>0.9751255</td><td>-0.04758855</td><td>0.09600669</td></tr>\n",
       "\t<tr><td>(right) - (front)</td><td>0.030259822</td><td>0.03697019</td><td>0.8184925</td><td>0.4130760</td><td>1.2755207</td><td>-0.04220042</td><td>0.10272007</td></tr>\n",
       "\t<tr><td>(right) - (left) </td><td>0.006050753</td><td>0.03666583</td><td>0.1650243</td><td>0.8689249</td><td>0.2026967</td><td>-0.06581296</td><td>0.07791446</td></tr>\n",
       "</tbody>\n",
       "</table>\n"
      ],
      "text/latex": [
       "A predictions: 3 x 8\n",
       "\\begin{tabular}{llllllll}\n",
       " hypothesis & estimate & std.error & statistic & p.value & s.value & conf.low & conf.high\\\\\n",
       " <chr> & <dbl> & <dbl> & <dbl> & <dbl> & <dbl> & <dbl> & <dbl>\\\\\n",
       "\\hline\n",
       "\t (left) - (front)  & 0.024209069 & 0.03663211 & 0.6608701 & 0.5086956 & 0.9751255 & -0.04758855 & 0.09600669\\\\\n",
       "\t (right) - (front) & 0.030259822 & 0.03697019 & 0.8184925 & 0.4130760 & 1.2755207 & -0.04220042 & 0.10272007\\\\\n",
       "\t (right) - (left)  & 0.006050753 & 0.03666583 & 0.1650243 & 0.8689249 & 0.2026967 & -0.06581296 & 0.07791446\\\\\n",
       "\\end{tabular}\n"
      ],
      "text/markdown": [
       "\n",
       "A predictions: 3 x 8\n",
       "\n",
       "| hypothesis &lt;chr&gt; | estimate &lt;dbl&gt; | std.error &lt;dbl&gt; | statistic &lt;dbl&gt; | p.value &lt;dbl&gt; | s.value &lt;dbl&gt; | conf.low &lt;dbl&gt; | conf.high &lt;dbl&gt; |\n",
       "|---|---|---|---|---|---|---|---|\n",
       "| (left) - (front)  | 0.024209069 | 0.03663211 | 0.6608701 | 0.5086956 | 0.9751255 | -0.04758855 | 0.09600669 |\n",
       "| (right) - (front) | 0.030259822 | 0.03697019 | 0.8184925 | 0.4130760 | 1.2755207 | -0.04220042 | 0.10272007 |\n",
       "| (right) - (left)  | 0.006050753 | 0.03666583 | 0.1650243 | 0.8689249 | 0.2026967 | -0.06581296 | 0.07791446 |\n",
       "\n"
      ],
      "text/plain": [
       "  hypothesis        estimate    std.error  statistic p.value   s.value  \n",
       "1 (left) - (front)  0.024209069 0.03663211 0.6608701 0.5086956 0.9751255\n",
       "2 (right) - (front) 0.030259822 0.03697019 0.8184925 0.4130760 1.2755207\n",
       "3 (right) - (left)  0.006050753 0.03666583 0.1650243 0.8689249 0.2026967\n",
       "  conf.low    conf.high \n",
       "1 -0.04758855 0.09600669\n",
       "2 -0.04220042 0.10272007\n",
       "3 -0.06581296 0.07791446"
      ]
     },
     "metadata": {},
     "output_type": "display_data"
    }
   ],
   "source": [
    "avg_predictions(model, by=\"Angle\", hypothesis = ~ pairwise)"
   ]
  },
  {
   "cell_type": "code",
   "execution_count": 12,
   "metadata": {
    "vscode": {
     "languageId": "r"
    }
   },
   "outputs": [
    {
     "data": {
      "text/html": [
       "<table class=\"dataframe\">\n",
       "<caption>A predictions: 3 x 8</caption>\n",
       "<thead>\n",
       "\t<tr><th scope=col>Proximity</th><th scope=col>estimate</th><th scope=col>std.error</th><th scope=col>statistic</th><th scope=col>p.value</th><th scope=col>s.value</th><th scope=col>conf.low</th><th scope=col>conf.high</th></tr>\n",
       "\t<tr><th scope=col>&lt;int&gt;</th><th scope=col>&lt;dbl&gt;</th><th scope=col>&lt;dbl&gt;</th><th scope=col>&lt;dbl&gt;</th><th scope=col>&lt;dbl&gt;</th><th scope=col>&lt;dbl&gt;</th><th scope=col>&lt;dbl&gt;</th><th scope=col>&lt;dbl&gt;</th></tr>\n",
       "</thead>\n",
       "<tbody>\n",
       "\t<tr><td>1</td><td>0.5389387</td><td>0.02464987</td><td>21.86375</td><td>5.751550e-106</td><td>349.6004</td><td>0.4906259</td><td>0.5872516</td></tr>\n",
       "\t<tr><td>2</td><td>0.4916226</td><td>0.01436593</td><td>34.22142</td><td>1.161087e-256</td><td>850.1981</td><td>0.4634659</td><td>0.5197794</td></tr>\n",
       "\t<tr><td>3</td><td>0.4740572</td><td>0.02428944</td><td>19.51701</td><td> 7.871777e-85</td><td>279.3872</td><td>0.4264508</td><td>0.5216636</td></tr>\n",
       "</tbody>\n",
       "</table>\n"
      ],
      "text/latex": [
       "A predictions: 3 x 8\n",
       "\\begin{tabular}{llllllll}\n",
       " Proximity & estimate & std.error & statistic & p.value & s.value & conf.low & conf.high\\\\\n",
       " <int> & <dbl> & <dbl> & <dbl> & <dbl> & <dbl> & <dbl> & <dbl>\\\\\n",
       "\\hline\n",
       "\t 1 & 0.5389387 & 0.02464987 & 21.86375 & 5.751550e-106 & 349.6004 & 0.4906259 & 0.5872516\\\\\n",
       "\t 2 & 0.4916226 & 0.01436593 & 34.22142 & 1.161087e-256 & 850.1981 & 0.4634659 & 0.5197794\\\\\n",
       "\t 3 & 0.4740572 & 0.02428944 & 19.51701 &  7.871777e-85 & 279.3872 & 0.4264508 & 0.5216636\\\\\n",
       "\\end{tabular}\n"
      ],
      "text/markdown": [
       "\n",
       "A predictions: 3 x 8\n",
       "\n",
       "| Proximity &lt;int&gt; | estimate &lt;dbl&gt; | std.error &lt;dbl&gt; | statistic &lt;dbl&gt; | p.value &lt;dbl&gt; | s.value &lt;dbl&gt; | conf.low &lt;dbl&gt; | conf.high &lt;dbl&gt; |\n",
       "|---|---|---|---|---|---|---|---|\n",
       "| 1 | 0.5389387 | 0.02464987 | 21.86375 | 5.751550e-106 | 349.6004 | 0.4906259 | 0.5872516 |\n",
       "| 2 | 0.4916226 | 0.01436593 | 34.22142 | 1.161087e-256 | 850.1981 | 0.4634659 | 0.5197794 |\n",
       "| 3 | 0.4740572 | 0.02428944 | 19.51701 |  7.871777e-85 | 279.3872 | 0.4264508 | 0.5216636 |\n",
       "\n"
      ],
      "text/plain": [
       "  Proximity estimate  std.error  statistic p.value       s.value  conf.low \n",
       "1 1         0.5389387 0.02464987 21.86375  5.751550e-106 349.6004 0.4906259\n",
       "2 2         0.4916226 0.01436593 34.22142  1.161087e-256 850.1981 0.4634659\n",
       "3 3         0.4740572 0.02428944 19.51701   7.871777e-85 279.3872 0.4264508\n",
       "  conf.high\n",
       "1 0.5872516\n",
       "2 0.5197794\n",
       "3 0.5216636"
      ]
     },
     "metadata": {},
     "output_type": "display_data"
    }
   ],
   "source": [
    "avg_predictions(model, by=\"Proximity\")"
   ]
  },
  {
   "cell_type": "code",
   "execution_count": 13,
   "metadata": {
    "vscode": {
     "languageId": "r"
    }
   },
   "outputs": [
    {
     "data": {
      "text/html": [
       "<table class=\"dataframe\">\n",
       "<caption>A slopes: 1 x 12</caption>\n",
       "<thead>\n",
       "\t<tr><th scope=col>term</th><th scope=col>contrast</th><th scope=col>estimate</th><th scope=col>std.error</th><th scope=col>statistic</th><th scope=col>p.value</th><th scope=col>s.value</th><th scope=col>conf.low</th><th scope=col>conf.high</th><th scope=col>predicted_lo</th><th scope=col>predicted_hi</th><th scope=col>predicted</th></tr>\n",
       "\t<tr><th scope=col>&lt;chr&gt;</th><th scope=col>&lt;chr&gt;</th><th scope=col>&lt;dbl&gt;</th><th scope=col>&lt;dbl&gt;</th><th scope=col>&lt;dbl&gt;</th><th scope=col>&lt;dbl&gt;</th><th scope=col>&lt;dbl&gt;</th><th scope=col>&lt;dbl&gt;</th><th scope=col>&lt;dbl&gt;</th><th scope=col>&lt;dbl&gt;</th><th scope=col>&lt;dbl&gt;</th><th scope=col>&lt;dbl&gt;</th></tr>\n",
       "</thead>\n",
       "<tbody>\n",
       "\t<tr><td>Proximity</td><td>dY/dX</td><td>-0.657397</td><td>0.2776089</td><td>-2.368069</td><td>0.01788121</td><td>5.805412</td><td>-1.2015</td><td>-0.1132935</td><td>0.8427408</td><td>0.8426093</td><td>0.8426751</td></tr>\n",
       "</tbody>\n",
       "</table>\n"
      ],
      "text/latex": [
       "A slopes: 1 x 12\n",
       "\\begin{tabular}{llllllllllll}\n",
       " term & contrast & estimate & std.error & statistic & p.value & s.value & conf.low & conf.high & predicted\\_lo & predicted\\_hi & predicted\\\\\n",
       " <chr> & <chr> & <dbl> & <dbl> & <dbl> & <dbl> & <dbl> & <dbl> & <dbl> & <dbl> & <dbl> & <dbl>\\\\\n",
       "\\hline\n",
       "\t Proximity & dY/dX & -0.657397 & 0.2776089 & -2.368069 & 0.01788121 & 5.805412 & -1.2015 & -0.1132935 & 0.8427408 & 0.8426093 & 0.8426751\\\\\n",
       "\\end{tabular}\n"
      ],
      "text/markdown": [
       "\n",
       "A slopes: 1 x 12\n",
       "\n",
       "| term &lt;chr&gt; | contrast &lt;chr&gt; | estimate &lt;dbl&gt; | std.error &lt;dbl&gt; | statistic &lt;dbl&gt; | p.value &lt;dbl&gt; | s.value &lt;dbl&gt; | conf.low &lt;dbl&gt; | conf.high &lt;dbl&gt; | predicted_lo &lt;dbl&gt; | predicted_hi &lt;dbl&gt; | predicted &lt;dbl&gt; |\n",
       "|---|---|---|---|---|---|---|---|---|---|---|---|\n",
       "| Proximity | dY/dX | -0.657397 | 0.2776089 | -2.368069 | 0.01788121 | 5.805412 | -1.2015 | -0.1132935 | 0.8427408 | 0.8426093 | 0.8426751 |\n",
       "\n"
      ],
      "text/plain": [
       "  term      contrast estimate  std.error statistic p.value    s.value  conf.low\n",
       "1 Proximity dY/dX    -0.657397 0.2776089 -2.368069 0.01788121 5.805412 -1.2015 \n",
       "  conf.high  predicted_lo predicted_hi predicted\n",
       "1 -0.1132935 0.8427408    0.8426093    0.8426751"
      ]
     },
     "metadata": {},
     "output_type": "display_data"
    }
   ],
   "source": [
    "avg_slopes(model, variables =\"Proximity\", type = \"link\")"
   ]
  },
  {
   "cell_type": "code",
   "execution_count": 14,
   "metadata": {
    "vscode": {
     "languageId": "r"
    }
   },
   "outputs": [
    {
     "data": {
      "text/html": [
       "<table class=\"dataframe\">\n",
       "<caption>A predictions: 3 x 8</caption>\n",
       "<thead>\n",
       "\t<tr><th scope=col>n_candidates</th><th scope=col>estimate</th><th scope=col>std.error</th><th scope=col>statistic</th><th scope=col>p.value</th><th scope=col>s.value</th><th scope=col>conf.low</th><th scope=col>conf.high</th></tr>\n",
       "\t<tr><th scope=col>&lt;int&gt;</th><th scope=col>&lt;dbl&gt;</th><th scope=col>&lt;dbl&gt;</th><th scope=col>&lt;dbl&gt;</th><th scope=col>&lt;dbl&gt;</th><th scope=col>&lt;dbl&gt;</th><th scope=col>&lt;dbl&gt;</th><th scope=col>&lt;dbl&gt;</th></tr>\n",
       "</thead>\n",
       "<tbody>\n",
       "\t<tr><td>2</td><td>0.5445402</td><td>0.01868623</td><td>29.14126</td><td>1.078182e-186</td><td>617.7700</td><td>0.5079158</td><td>0.5811645</td></tr>\n",
       "\t<tr><td>3</td><td>0.5064084</td><td>0.02247410</td><td>22.53298</td><td>1.972492e-112</td><td>371.0759</td><td>0.4623600</td><td>0.5504568</td></tr>\n",
       "\t<tr><td>4</td><td>0.3545606</td><td>0.02852852</td><td>12.42828</td><td> 1.835303e-35</td><td>115.3915</td><td>0.2986457</td><td>0.4104755</td></tr>\n",
       "</tbody>\n",
       "</table>\n"
      ],
      "text/latex": [
       "A predictions: 3 x 8\n",
       "\\begin{tabular}{llllllll}\n",
       " n\\_candidates & estimate & std.error & statistic & p.value & s.value & conf.low & conf.high\\\\\n",
       " <int> & <dbl> & <dbl> & <dbl> & <dbl> & <dbl> & <dbl> & <dbl>\\\\\n",
       "\\hline\n",
       "\t 2 & 0.5445402 & 0.01868623 & 29.14126 & 1.078182e-186 & 617.7700 & 0.5079158 & 0.5811645\\\\\n",
       "\t 3 & 0.5064084 & 0.02247410 & 22.53298 & 1.972492e-112 & 371.0759 & 0.4623600 & 0.5504568\\\\\n",
       "\t 4 & 0.3545606 & 0.02852852 & 12.42828 &  1.835303e-35 & 115.3915 & 0.2986457 & 0.4104755\\\\\n",
       "\\end{tabular}\n"
      ],
      "text/markdown": [
       "\n",
       "A predictions: 3 x 8\n",
       "\n",
       "| n_candidates &lt;int&gt; | estimate &lt;dbl&gt; | std.error &lt;dbl&gt; | statistic &lt;dbl&gt; | p.value &lt;dbl&gt; | s.value &lt;dbl&gt; | conf.low &lt;dbl&gt; | conf.high &lt;dbl&gt; |\n",
       "|---|---|---|---|---|---|---|---|\n",
       "| 2 | 0.5445402 | 0.01868623 | 29.14126 | 1.078182e-186 | 617.7700 | 0.5079158 | 0.5811645 |\n",
       "| 3 | 0.5064084 | 0.02247410 | 22.53298 | 1.972492e-112 | 371.0759 | 0.4623600 | 0.5504568 |\n",
       "| 4 | 0.3545606 | 0.02852852 | 12.42828 |  1.835303e-35 | 115.3915 | 0.2986457 | 0.4104755 |\n",
       "\n"
      ],
      "text/plain": [
       "  n_candidates estimate  std.error  statistic p.value       s.value  conf.low \n",
       "1 2            0.5445402 0.01868623 29.14126  1.078182e-186 617.7700 0.5079158\n",
       "2 3            0.5064084 0.02247410 22.53298  1.972492e-112 371.0759 0.4623600\n",
       "3 4            0.3545606 0.02852852 12.42828   1.835303e-35 115.3915 0.2986457\n",
       "  conf.high\n",
       "1 0.5811645\n",
       "2 0.5504568\n",
       "3 0.4104755"
      ]
     },
     "metadata": {},
     "output_type": "display_data"
    }
   ],
   "source": [
    "avg_predictions(model, by=\"n_candidates\")"
   ]
  },
  {
   "cell_type": "code",
   "execution_count": 15,
   "metadata": {
    "vscode": {
     "languageId": "r"
    }
   },
   "outputs": [
    {
     "data": {
      "text/html": [
       "<table class=\"dataframe\">\n",
       "<caption>A slopes: 1 x 12</caption>\n",
       "<thead>\n",
       "\t<tr><th scope=col>term</th><th scope=col>contrast</th><th scope=col>estimate</th><th scope=col>std.error</th><th scope=col>statistic</th><th scope=col>p.value</th><th scope=col>s.value</th><th scope=col>conf.low</th><th scope=col>conf.high</th><th scope=col>predicted_lo</th><th scope=col>predicted_hi</th><th scope=col>predicted</th></tr>\n",
       "\t<tr><th scope=col>&lt;chr&gt;</th><th scope=col>&lt;chr&gt;</th><th scope=col>&lt;dbl&gt;</th><th scope=col>&lt;dbl&gt;</th><th scope=col>&lt;dbl&gt;</th><th scope=col>&lt;dbl&gt;</th><th scope=col>&lt;dbl&gt;</th><th scope=col>&lt;dbl&gt;</th><th scope=col>&lt;dbl&gt;</th><th scope=col>&lt;dbl&gt;</th><th scope=col>&lt;dbl&gt;</th><th scope=col>&lt;dbl&gt;</th></tr>\n",
       "</thead>\n",
       "<tbody>\n",
       "\t<tr><td>n_candidates</td><td>dY/dX</td><td>-1.644291</td><td>0.3312809</td><td>-4.963435</td><td>6.925738e-07</td><td>20.46153</td><td>-2.29359</td><td>-0.9949925</td><td>0.8428395</td><td>0.8425107</td><td>0.8426751</td></tr>\n",
       "</tbody>\n",
       "</table>\n"
      ],
      "text/latex": [
       "A slopes: 1 x 12\n",
       "\\begin{tabular}{llllllllllll}\n",
       " term & contrast & estimate & std.error & statistic & p.value & s.value & conf.low & conf.high & predicted\\_lo & predicted\\_hi & predicted\\\\\n",
       " <chr> & <chr> & <dbl> & <dbl> & <dbl> & <dbl> & <dbl> & <dbl> & <dbl> & <dbl> & <dbl> & <dbl>\\\\\n",
       "\\hline\n",
       "\t n\\_candidates & dY/dX & -1.644291 & 0.3312809 & -4.963435 & 6.925738e-07 & 20.46153 & -2.29359 & -0.9949925 & 0.8428395 & 0.8425107 & 0.8426751\\\\\n",
       "\\end{tabular}\n"
      ],
      "text/markdown": [
       "\n",
       "A slopes: 1 x 12\n",
       "\n",
       "| term &lt;chr&gt; | contrast &lt;chr&gt; | estimate &lt;dbl&gt; | std.error &lt;dbl&gt; | statistic &lt;dbl&gt; | p.value &lt;dbl&gt; | s.value &lt;dbl&gt; | conf.low &lt;dbl&gt; | conf.high &lt;dbl&gt; | predicted_lo &lt;dbl&gt; | predicted_hi &lt;dbl&gt; | predicted &lt;dbl&gt; |\n",
       "|---|---|---|---|---|---|---|---|---|---|---|---|\n",
       "| n_candidates | dY/dX | -1.644291 | 0.3312809 | -4.963435 | 6.925738e-07 | 20.46153 | -2.29359 | -0.9949925 | 0.8428395 | 0.8425107 | 0.8426751 |\n",
       "\n"
      ],
      "text/plain": [
       "  term         contrast estimate  std.error statistic p.value      s.value \n",
       "1 n_candidates dY/dX    -1.644291 0.3312809 -4.963435 6.925738e-07 20.46153\n",
       "  conf.low conf.high  predicted_lo predicted_hi predicted\n",
       "1 -2.29359 -0.9949925 0.8428395    0.8425107    0.8426751"
      ]
     },
     "metadata": {},
     "output_type": "display_data"
    }
   ],
   "source": [
    "avg_slopes(model, variables =\"n_candidates\", type = \"link\")"
   ]
  },
  {
   "cell_type": "code",
   "execution_count": 16,
   "metadata": {
    "vscode": {
     "languageId": "r"
    }
   },
   "outputs": [
    {
     "data": {
      "text/html": [
       "<table class=\"dataframe\">\n",
       "<caption>A predictions: 1 x 8</caption>\n",
       "<thead>\n",
       "\t<tr><th scope=col>hypothesis</th><th scope=col>estimate</th><th scope=col>std.error</th><th scope=col>statistic</th><th scope=col>p.value</th><th scope=col>s.value</th><th scope=col>conf.low</th><th scope=col>conf.high</th></tr>\n",
       "\t<tr><th scope=col>&lt;chr&gt;</th><th scope=col>&lt;dbl&gt;</th><th scope=col>&lt;dbl&gt;</th><th scope=col>&lt;dbl&gt;</th><th scope=col>&lt;dbl&gt;</th><th scope=col>&lt;dbl&gt;</th><th scope=col>&lt;dbl&gt;</th><th scope=col>&lt;dbl&gt;</th></tr>\n",
       "</thead>\n",
       "<tbody>\n",
       "\t<tr><td>(Y) - (X)</td><td>-0.06234053</td><td>0.03071712</td><td>-2.029504</td><td>0.04240696</td><td>4.559555</td><td>-0.122545</td><td>-0.002136077</td></tr>\n",
       "</tbody>\n",
       "</table>\n"
      ],
      "text/latex": [
       "A predictions: 1 x 8\n",
       "\\begin{tabular}{llllllll}\n",
       " hypothesis & estimate & std.error & statistic & p.value & s.value & conf.low & conf.high\\\\\n",
       " <chr> & <dbl> & <dbl> & <dbl> & <dbl> & <dbl> & <dbl> & <dbl>\\\\\n",
       "\\hline\n",
       "\t (Y) - (X) & -0.06234053 & 0.03071712 & -2.029504 & 0.04240696 & 4.559555 & -0.122545 & -0.002136077\\\\\n",
       "\\end{tabular}\n"
      ],
      "text/markdown": [
       "\n",
       "A predictions: 1 x 8\n",
       "\n",
       "| hypothesis &lt;chr&gt; | estimate &lt;dbl&gt; | std.error &lt;dbl&gt; | statistic &lt;dbl&gt; | p.value &lt;dbl&gt; | s.value &lt;dbl&gt; | conf.low &lt;dbl&gt; | conf.high &lt;dbl&gt; |\n",
       "|---|---|---|---|---|---|---|---|\n",
       "| (Y) - (X) | -0.06234053 | 0.03071712 | -2.029504 | 0.04240696 | 4.559555 | -0.122545 | -0.002136077 |\n",
       "\n"
      ],
      "text/plain": [
       "  hypothesis estimate    std.error  statistic p.value    s.value  conf.low \n",
       "1 (Y) - (X)  -0.06234053 0.03071712 -2.029504 0.04240696 4.559555 -0.122545\n",
       "  conf.high   \n",
       "1 -0.002136077"
      ]
     },
     "metadata": {},
     "output_type": "display_data"
    }
   ],
   "source": [
    "avg_predictions(model, by=\"Actor\", hypothesis = ~ pairwise)"
   ]
  },
  {
   "cell_type": "markdown",
   "metadata": {},
   "source": [
    "The below code is for generating the table in the paper."
   ]
  },
  {
   "cell_type": "code",
   "execution_count": 17,
   "metadata": {
    "vscode": {
     "languageId": "r"
    }
   },
   "outputs": [
    {
     "name": "stdout",
     "output_type": "stream",
     "text": [
      "30.0212008\n",
      "NA\n",
      "NA\n",
      "5.7715742\n",
      "0.2367750\n",
      "0.4317159\n",
      "0.1730034\n",
      "0.5481663\n",
      "0.7523032\n",
      "0.0299751\n",
      "0.2448312\n",
      "0.5482314\n",
      "0.6551757\n",
      "0.0424202\n",
      "-0.6573970\n",
      "0.2776101\n",
      "0.0178817\n",
      "-0.1139025\n",
      "-1.6442912\n",
      "0.3312829\n",
      "0.0000007\n",
      "-0.2848948\n",
      "-1.1438885\n",
      "0.4663476\n",
      "0.0141723\n",
      "-0.1981935\n"
     ]
    }
   ],
   "source": [
    "stim_id_var_val <- if (!is.null(vc_list$Stimulus_ID) && length(vc_list$Stimulus_ID) > 0) vc_list$Stimulus_ID[[1]] else NA_real_\n",
    "prompt_id_var_val <- if (!is.null(vc_list$Prompt_ID) && length(vc_list$Prompt_ID) > 0) vc_list$Prompt_ID[[1]] else NA_real_\n",
    "participant_id_var_val <- if (!is.null(vc_list$Participant_ID) && length(vc_list$Participant_ID) > 0) vc_list$Participant_ID[[1]] else NA_real_\n",
    "\n",
    "intercept_est <- res[res$term == \"(Intercept)\", \"Estimate\"]\n",
    "intercept_se <- res[res$term == \"(Intercept)\", \"Std. Error\"]\n",
    "\n",
    "angleleft_est <- res[res$term == \"Angleleft\", \"Estimate\"]\n",
    "angleleft_se <- res[res$term == \"Angleleft\", \"Std. Error\"]\n",
    "angleleft_p_val <- res[res$term == \"Angleleft\", \"Pr(>|z|)\"]\n",
    "angleleft_eff_size <- res[res$term == \"Angleleft\", \"effect_size\"]\n",
    "\n",
    "angleright_est <- res[res$term == \"Angleright\", \"Estimate\"]\n",
    "angleright_se <- res[res$term == \"Angleright\", \"Std. Error\"]\n",
    "angleright_p_val <- res[res$term == \"Angleright\", \"Pr(>|z|)\"]\n",
    "angleright_eff_size <- res[res$term == \"Angleright\", \"effect_size\"]\n",
    "\n",
    "proximity_term_name <- \"scale(Proximity, scale = FALSE)\"\n",
    "if (!proximity_term_name %in% res$term) {\n",
    "    proximity_term_name <- grep(\"Proximity\", res$term, value = TRUE)[1]\n",
    "}\n",
    "proximity_est <- res[res$term == proximity_term_name, \"Estimate\"]\n",
    "proximity_se <- res[res$term == proximity_term_name, \"Std. Error\"]\n",
    "proximity_p_val <- res[res$term == proximity_term_name, \"Pr(>|z|)\"]\n",
    "proximity_eff_size <- res[res$term == proximity_term_name, \"effect_size\"]\n",
    "\n",
    "n_candidates_term_name <- \"scale(n_candidates, scale = FALSE)\"\n",
    "if (!n_candidates_term_name %in% res$term) {\n",
    "    n_candidates_term_name <- grep(\"n_candidates\", res$term, value = TRUE)[1]\n",
    "}\n",
    "n_obj_est <- res[res$term == n_candidates_term_name, \"Estimate\"]\n",
    "n_obj_se <- res[res$term == n_candidates_term_name, \"Std. Error\"]\n",
    "n_obj_p_val <- res[res$term == n_candidates_term_name, \"Pr(>|z|)\"]\n",
    "n_obj_eff_size <- res[res$term == n_candidates_term_name, \"effect_size\"]\n",
    "\n",
    "actory_term_name <- \"ActorY\" # Assuming 'X' is the reference level for Actor factor\n",
    "actory_est <- res[res$term == actory_term_name, \"Estimate\"]\n",
    "actory_se <- res[res$term == actory_term_name, \"Std. Error\"]\n",
    "actory_p_val <- res[res$term == actory_term_name, \"Pr(>|z|)\"]\n",
    "actory_eff_size <- res[res$term == actory_term_name, \"effect_size\"]\n",
    "\n",
    "# Prepare data for data frame\n",
    "table_data <- list(\n",
    "    c(\"StimulusID\", \"Variance\", sprintf(\"%.7f\", stim_id_var_val)),\n",
    "    c(\"ParticipantID\", \"Variance\", sprintf(\"%.7f\", participant_id_var_val)),\n",
    "    c(\"PromptID\", \"Variance\", sprintf(\"%.7f\", prompt_id_var_val)),\n",
    "    c(\"Effect Size Denom\", \"\", sprintf(\"%.7f\", effect_size_denom_t)),\n",
    "\n",
    "    c(\"Intercept\", \"b\", sprintf(\"%.7f\", intercept_est)),\n",
    "    c(\"\", \"SE\", sprintf(\"%.7f\", intercept_se)),\n",
    "\n",
    "    c(\"Angleleft\", \"b\", sprintf(\"%.7f\", angleleft_est)),\n",
    "    c(\"\", \"SE\", sprintf(\"%.7f\", angleleft_se)),\n",
    "    c(\"\", \"p\", sprintf(\"%.7f\", as.numeric(angleleft_p_val))),\n",
    "    c(\"\", \"Effect size\", sprintf(\"%.7f\", angleleft_eff_size)),\n",
    "\n",
    "    c(\"Angleright\", \"b\", sprintf(\"%.7f\", angleright_est)),\n",
    "    c(\"\", \"SE\", sprintf(\"%.7f\", angleright_se)),\n",
    "    c(\"\", \"p\", sprintf(\"%.7f\", as.numeric(angleright_p_val))),\n",
    "    c(\"\", \"Effect size\", sprintf(\"%.7f\", angleright_eff_size)),\n",
    "\n",
    "    c(\"Proximity\", \"b\", sprintf(\"%.7f\", proximity_est)),\n",
    "    c(\"\", \"SE\", sprintf(\"%.7f\", proximity_se)),\n",
    "    c(\"\", \"p\", sprintf(\"%.7f\", as.numeric(proximity_p_val))),\n",
    "    c(\"\", \"Effect size\", sprintf(\"%.7f\", proximity_eff_size)),\n",
    "\n",
    "    c(\"#Object\", \"b\", sprintf(\"%.7f\", n_obj_est)),\n",
    "    c(\"\", \"SE\", sprintf(\"%.7f\", n_obj_se)),\n",
    "    c(\"\", \"p\", sprintf(\"%.7f\", as.numeric(n_obj_p_val))),\n",
    "    c(\"\", \"Effect size\", sprintf(\"%.7f\", n_obj_eff_size)),\n",
    "\n",
    "    c(\"ActorY\", \"b\", sprintf(\"%.7f\", actory_est)),\n",
    "    c(\"\", \"SE\", sprintf(\"%.7f\", actory_se)),\n",
    "    c(\"\", \"p\", sprintf(\"%.7f\", as.numeric(actory_p_val))),\n",
    "    c(\"\", \"Effect size\", sprintf(\"%.7f\", actory_eff_size))\n",
    ")\n",
    "\n",
    "# Convert to data frame\n",
    "df_output <- do.call(rbind, lapply(table_data, function(x) data.frame(V1=x[1], V2=x[2], V3=x[3], stringsAsFactors=FALSE)))\n",
    "\n",
    "# Print only the third column for easy copy-pasting to Excel\n",
    "write.table(df_output[,3, drop=FALSE], file=\"\", sep = \"\\t\", row.names = FALSE, col.names = FALSE, quote = FALSE)"
   ]
  }
 ],
 "metadata": {
  "kernelspec": {
   "display_name": "R",
   "language": "R",
   "name": "ir"
  },
  "language_info": {
   "codemirror_mode": "r",
   "file_extension": ".r",
   "mimetype": "text/x-r-source",
   "name": "R",
   "pygments_lexer": "r",
   "version": "4.3.3"
  }
 },
 "nbformat": 4,
 "nbformat_minor": 2
}
