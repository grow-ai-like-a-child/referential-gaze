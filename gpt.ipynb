{
 "cells": [
  {
   "cell_type": "markdown",
   "metadata": {},
   "source": [
    "# Loading Responses"
   ]
  },
  {
   "cell_type": "code",
   "execution_count": 1,
   "metadata": {
    "vscode": {
     "languageId": "r"
    }
   },
   "outputs": [
    {
     "name": "stderr",
     "output_type": "stream",
     "text": [
      "Loading required package: lme4\n",
      "\n",
      "Loading required package: Matrix\n",
      "\n",
      "Loading required package: readr\n",
      "\n",
      "Loading required package: marginaleffects\n",
      "\n",
      "Loading required package: emmeans\n",
      "\n",
      "Welcome to emmeans.\n",
      "Caution: You lose important information if you filter this package's results.\n",
      "See '? untidy'\n",
      "\n",
      "Loading required package: car\n",
      "\n",
      "Loading required package: carData\n",
      "\n",
      "\u001b[1mRows: \u001b[22m\u001b[34m156825\u001b[39m \u001b[1mColumns: \u001b[22m\u001b[34m14\u001b[39m\n",
      "\u001b[36m--\u001b[39m \u001b[1mColumn specification\u001b[22m \u001b[36m--------------------------------------------------------\u001b[39m\n",
      "\u001b[1mDelimiter:\u001b[22m \",\"\n",
      "\u001b[31mchr\u001b[39m (2): Run_ID, Part\n",
      "\u001b[32mint\u001b[39m (2): Proximity, n_candidates\n",
      "\u001b[33mlgl\u001b[39m (1): Accuracy\n",
      "\u001b[31mfct\u001b[39m (9): Stimulus_ID, Prompt_ID, Participant_ID, Group, GroupKind, Angle, Ac...\n",
      "\n",
      "\u001b[36mi\u001b[39m Use `spec()` to retrieve the full column specification for this data.\n",
      "\u001b[36mi\u001b[39m Specify the column types or set `show_col_types = FALSE` to quiet this message.\n"
     ]
    }
   ],
   "source": [
    "options(warn=1)\n",
    "if(!require('lme4')) {\n",
    "    install.packages('lme4', repos='https://cloud.r-project.org')\n",
    "    library('lme4')\n",
    "}\n",
    "if(!require('readr')) {\n",
    "    install.packages('readr', repos='https://cloud.r-project.org')\n",
    "    library('readr')\n",
    "}\n",
    "if(!require('marginaleffects')) {\n",
    "    install.packages('marginaleffects', repos='https://cloud.r-project.org')\n",
    "    library('marginaleffects')\n",
    "}\n",
    "if(!require('emmeans')) {\n",
    "    install.packages('emmeans', repos='https://cloud.r-project.org')\n",
    "    library('emmeans')\n",
    "}\n",
    "if(!require('car')) {\n",
    "    install.packages('car', repos='https://cloud.r-project.org')\n",
    "    library('car')\n",
    "}\n",
    "df <- read_csv(\"result_1743457603_20250506_20250506F.csv\", na = \"empty\", col_select = c(\"Accuracy\", \"Group\", \"GroupKind\", \"Angle\", \"Proximity\", \"n_candidates\", \"Actor\", \"Candidates\", \"Stimulus_ID\", \"Prompt_ID\", \"Participant_ID\", \"list_id\", \"Run_ID\", \"Part\"), col_types = cols(\n",
    "    Accuracy = col_logical(),\n",
    "    Group = col_factor(),\n",
    "    GroupKind = col_factor(),\n",
    "    Angle = col_factor(),\n",
    "    Proximity = col_integer(),\n",
    "    n_candidates = col_integer(),\n",
    "    Actor = col_factor(c('X', 'Y')),\n",
    "    Candidates = col_factor(),\n",
    "    Stimulus_ID = col_factor(),\n",
    "    Prompt_ID = col_factor(),\n",
    "    Participant_ID = col_factor(),\n",
    "    list_id = col_factor(),\n",
    "    Run_ID = col_character(),\n",
    "    Part = col_character(),\n",
    "),show_col_types = TRUE)\n",
    "df <- df[df$Group == \"gpt-4o\" & df$list_id != -1 & df$Part != \"p0\", ]\n",
    "df$offset <- log(1/df$n_candidates / (1 - 1/df$n_candidates))"
   ]
  },
  {
   "cell_type": "code",
   "execution_count": 2,
   "metadata": {
    "vscode": {
     "languageId": "r"
    }
   },
   "outputs": [
    {
     "data": {
      "text/plain": [
       "R version 4.3.3 (2024-02-29)\n",
       "Platform: aarch64-apple-darwin20.0.0 (64-bit)\n",
       "Running under: macOS 15.5\n",
       "\n",
       "Matrix products: default\n",
       "BLAS/LAPACK: /Users/zory/miniforge3/envs/py310/lib/libopenblas.0.dylib;  LAPACK version 3.12.0\n",
       "\n",
       "locale:\n",
       "[1] C\n",
       "\n",
       "time zone: America/Los_Angeles\n",
       "tzcode source: system (macOS)\n",
       "\n",
       "attached base packages:\n",
       "[1] stats     graphics  grDevices utils     datasets  methods   base     \n",
       "\n",
       "other attached packages:\n",
       "[1] car_3.1-3              carData_3.0-5          emmeans_1.11.0        \n",
       "[4] marginaleffects_0.25.1 readr_2.1.5            lme4_1.1-35.5         \n",
       "[7] Matrix_1.6-5          \n",
       "\n",
       "loaded via a namespace (and not attached):\n",
       " [1] bit_4.6.0          jsonlite_2.0.0     compiler_4.3.3     crayon_1.5.3      \n",
       " [5] tidyselect_1.2.1   Rcpp_1.0.14        IRdisplay_1.1      parallel_4.3.3    \n",
       " [9] splines_4.3.3      boot_1.3-31        uuid_1.2-1         fastmap_1.2.0     \n",
       "[13] IRkernel_1.3.2     lattice_0.22-6     R6_2.6.1           generics_0.1.4    \n",
       "[17] Formula_1.2-5      MASS_7.3-60.0.1    backports_1.5.0    tibble_3.2.1      \n",
       "[21] nloptr_2.2.1       minqa_1.2.8        pillar_1.10.1      tzdb_0.5.0        \n",
       "[25] rlang_1.1.5        repr_1.1.6         bit64_4.6.0-1      estimability_1.5.1\n",
       "[29] cli_3.6.4          withr_3.0.2        magrittr_2.0.3     digest_0.6.37     \n",
       "[33] grid_4.3.3         vroom_1.6.5        mvtnorm_1.3-3      xtable_1.8-4      \n",
       "[37] base64enc_0.1-3    hms_1.1.3          pbdZMQ_0.3-14      lifecycle_1.0.4   \n",
       "[41] nlme_3.1-168       vctrs_0.6.5        evaluate_0.22      glue_1.8.0        \n",
       "[45] data.table_1.17.0  abind_1.4-8        tools_4.3.3        pkgconfig_2.0.3   \n",
       "[49] htmltools_0.5.8.1 "
      ]
     },
     "metadata": {},
     "output_type": "display_data"
    }
   ],
   "source": [
    "sessionInfo()"
   ]
  },
  {
   "cell_type": "markdown",
   "metadata": {},
   "source": [
    "# Fitting models"
   ]
  },
  {
   "cell_type": "code",
   "execution_count": 3,
   "metadata": {
    "vscode": {
     "languageId": "r"
    }
   },
   "outputs": [
    {
     "name": "stderr",
     "output_type": "stream",
     "text": [
      "boundary (singular) fit: see help('isSingular')\n",
      "\n"
     ]
    }
   ],
   "source": [
    "model0 <- glmer(Accuracy ~ Angle + scale(Proximity, scale=FALSE) + scale(n_candidates, scale=FALSE) + Actor + (1|Actor:Candidates) + (1|Stimulus_ID) + (1|Prompt_ID), \n",
    "               data = df,\n",
    "               family = binomial(link = \"logit\"), \n",
    "               offset = offset)"
   ]
  },
  {
   "cell_type": "code",
   "execution_count": 4,
   "metadata": {
    "vscode": {
     "languageId": "r"
    }
   },
   "outputs": [
    {
     "data": {
      "text/plain": [
       "Generalized linear mixed model fit by maximum likelihood (Laplace\n",
       "  Approximation) [glmerMod]\n",
       " Family: binomial  ( logit )\n",
       "Formula: \n",
       "Accuracy ~ Angle + scale(Proximity, scale = FALSE) + scale(n_candidates,  \n",
       "    scale = FALSE) + Actor + (1 | Stimulus_ID) + (1 | Prompt_ID)\n",
       "   Data: df\n",
       " Offset: offset\n",
       "      AIC       BIC    logLik  deviance  df.resid \n",
       " 7939.456  7996.296 -3961.728  7923.456      8992 \n",
       "Random effects:\n",
       " Groups      Name        Std.Dev.\n",
       " Stimulus_ID (Intercept) 3.06101 \n",
       " Prompt_ID   (Intercept) 0.08895 \n",
       "Number of obs: 9000, groups:  Stimulus_ID, 900; Prompt_ID, 12\n",
       "Fixed Effects:\n",
       "                       (Intercept)                           Angleleft  \n",
       "                            0.8451                             -0.1712  \n",
       "                        Angleright     scale(Proximity, scale = FALSE)  \n",
       "                           -0.1276                             -0.4647  \n",
       "scale(n_candidates, scale = FALSE)                              ActorY  \n",
       "                           -0.5869                             -0.9398  "
      ]
     },
     "metadata": {},
     "output_type": "display_data"
    }
   ],
   "source": [
    "model1 <- glmer(Accuracy ~ Angle + scale(Proximity, scale=FALSE) + scale(n_candidates, scale=FALSE) + Actor + (1|Stimulus_ID) + (1|Prompt_ID), \n",
    "               data = df,\n",
    "               family = binomial(link = \"logit\"), \n",
    "               offset = offset)\n",
    "model1"
   ]
  },
  {
   "cell_type": "code",
   "execution_count": 5,
   "metadata": {
    "vscode": {
     "languageId": "r"
    }
   },
   "outputs": [
    {
     "name": "stderr",
     "output_type": "stream",
     "text": [
      "boundary (singular) fit: see help('isSingular')\n",
      "\n"
     ]
    },
    {
     "data": {
      "text/plain": [
       "Generalized linear mixed model fit by maximum likelihood (Laplace\n",
       "  Approximation) [glmerMod]\n",
       " Family: binomial  ( logit )\n",
       "Formula: \n",
       "Accuracy ~ Angle + scale(Proximity, scale = FALSE) + scale(n_candidates,  \n",
       "    scale = FALSE) + Actor + (1 | Actor:Candidates) + (1 | Stimulus_ID)\n",
       "   Data: df\n",
       " Offset: offset\n",
       "      AIC       BIC    logLik  deviance  df.resid \n",
       " 7940.747  7997.587 -3962.374  7924.747      8992 \n",
       "Random effects:\n",
       " Groups           Name        Std.Dev. \n",
       " Stimulus_ID      (Intercept) 3.058e+00\n",
       " Actor:Candidates (Intercept) 8.831e-05\n",
       "Number of obs: 9000, groups:  Stimulus_ID, 900; Actor:Candidates, 18\n",
       "Fixed Effects:\n",
       "                       (Intercept)                           Angleleft  \n",
       "                            0.8427                             -0.1698  \n",
       "                        Angleright     scale(Proximity, scale = FALSE)  \n",
       "                           -0.1262                             -0.4639  \n",
       "scale(n_candidates, scale = FALSE)                              ActorY  \n",
       "                           -0.5871                             -0.9382  \n",
       "optimizer (Nelder_Mead) convergence code: 0 (OK) ; 0 optimizer warnings; 1 lme4 warnings "
      ]
     },
     "metadata": {},
     "output_type": "display_data"
    }
   ],
   "source": [
    "model2 <- glmer(Accuracy ~ Angle + scale(Proximity, scale=FALSE) + scale(n_candidates, scale=FALSE) + Actor + (1|Actor:Candidates) + (1|Stimulus_ID), \n",
    "               data = df,\n",
    "               family = binomial(link = \"logit\"), \n",
    "               offset = offset)\n",
    "model2"
   ]
  },
  {
   "cell_type": "code",
   "execution_count": 6,
   "metadata": {
    "vscode": {
     "languageId": "r"
    }
   },
   "outputs": [],
   "source": [
    "model3 <- glmer(Accuracy ~ Angle + scale(Proximity, scale=FALSE) + scale(n_candidates, scale=FALSE) + Actor + (1|Stimulus_ID), \n",
    "               data = df,\n",
    "               family = binomial(link = \"logit\"), \n",
    "               offset = offset)"
   ]
  },
  {
   "cell_type": "code",
   "execution_count": 7,
   "metadata": {
    "vscode": {
     "languageId": "r"
    }
   },
   "outputs": [],
   "source": [
    "model3_5 <- glmer(Accuracy ~ Angle + scale(Proximity, scale=FALSE) + scale(n_candidates, scale=FALSE) + Actor + (1|Actor:Candidates), \n",
    "               data = df,\n",
    "               family = binomial(link = \"logit\"), \n",
    "               offset = offset)"
   ]
  },
  {
   "cell_type": "markdown",
   "metadata": {},
   "source": [
    "# Model selection"
   ]
  },
  {
   "cell_type": "code",
   "execution_count": 8,
   "metadata": {
    "vscode": {
     "languageId": "r"
    }
   },
   "outputs": [
    {
     "data": {
      "text/html": [
       "<table class=\"dataframe\">\n",
       "<caption>A anova: 2 x 8</caption>\n",
       "<thead>\n",
       "\t<tr><th></th><th scope=col>npar</th><th scope=col>AIC</th><th scope=col>BIC</th><th scope=col>logLik</th><th scope=col>deviance</th><th scope=col>Chisq</th><th scope=col>Df</th><th scope=col>Pr(&gt;Chisq)</th></tr>\n",
       "\t<tr><th></th><th scope=col>&lt;dbl&gt;</th><th scope=col>&lt;dbl&gt;</th><th scope=col>&lt;dbl&gt;</th><th scope=col>&lt;dbl&gt;</th><th scope=col>&lt;dbl&gt;</th><th scope=col>&lt;dbl&gt;</th><th scope=col>&lt;dbl&gt;</th><th scope=col>&lt;dbl&gt;</th></tr>\n",
       "</thead>\n",
       "<tbody>\n",
       "\t<tr><th scope=row>model3</th><td>7</td><td>7938.748</td><td>7988.483</td><td>-3962.374</td><td>7924.748</td><td>      NA</td><td>NA</td><td>     NA</td></tr>\n",
       "\t<tr><th scope=row>model1</th><td>8</td><td>7939.456</td><td>7996.296</td><td>-3961.728</td><td>7923.456</td><td>1.291672</td><td> 1</td><td>0.25574</td></tr>\n",
       "</tbody>\n",
       "</table>\n"
      ],
      "text/latex": [
       "A anova: 2 x 8\n",
       "\\begin{tabular}{r|llllllll}\n",
       "  & npar & AIC & BIC & logLik & deviance & Chisq & Df & Pr(>Chisq)\\\\\n",
       "  & <dbl> & <dbl> & <dbl> & <dbl> & <dbl> & <dbl> & <dbl> & <dbl>\\\\\n",
       "\\hline\n",
       "\tmodel3 & 7 & 7938.748 & 7988.483 & -3962.374 & 7924.748 &       NA & NA &      NA\\\\\n",
       "\tmodel1 & 8 & 7939.456 & 7996.296 & -3961.728 & 7923.456 & 1.291672 &  1 & 0.25574\\\\\n",
       "\\end{tabular}\n"
      ],
      "text/markdown": [
       "\n",
       "A anova: 2 x 8\n",
       "\n",
       "| <!--/--> | npar &lt;dbl&gt; | AIC &lt;dbl&gt; | BIC &lt;dbl&gt; | logLik &lt;dbl&gt; | deviance &lt;dbl&gt; | Chisq &lt;dbl&gt; | Df &lt;dbl&gt; | Pr(&gt;Chisq) &lt;dbl&gt; |\n",
       "|---|---|---|---|---|---|---|---|---|\n",
       "| model3 | 7 | 7938.748 | 7988.483 | -3962.374 | 7924.748 |       NA | NA |      NA |\n",
       "| model1 | 8 | 7939.456 | 7996.296 | -3961.728 | 7923.456 | 1.291672 |  1 | 0.25574 |\n",
       "\n"
      ],
      "text/plain": [
       "       npar AIC      BIC      logLik    deviance Chisq    Df Pr(>Chisq)\n",
       "model3 7    7938.748 7988.483 -3962.374 7924.748       NA NA      NA   \n",
       "model1 8    7939.456 7996.296 -3961.728 7923.456 1.291672  1 0.25574   "
      ]
     },
     "metadata": {},
     "output_type": "display_data"
    }
   ],
   "source": [
    "anova(model1, model3)"
   ]
  },
  {
   "cell_type": "code",
   "execution_count": 9,
   "metadata": {
    "vscode": {
     "languageId": "r"
    }
   },
   "outputs": [
    {
     "data": {
      "text/html": [
       "<table class=\"dataframe\">\n",
       "<caption>A anova: 2 x 8</caption>\n",
       "<thead>\n",
       "\t<tr><th></th><th scope=col>npar</th><th scope=col>AIC</th><th scope=col>BIC</th><th scope=col>logLik</th><th scope=col>deviance</th><th scope=col>Chisq</th><th scope=col>Df</th><th scope=col>Pr(&gt;Chisq)</th></tr>\n",
       "\t<tr><th></th><th scope=col>&lt;dbl&gt;</th><th scope=col>&lt;dbl&gt;</th><th scope=col>&lt;dbl&gt;</th><th scope=col>&lt;dbl&gt;</th><th scope=col>&lt;dbl&gt;</th><th scope=col>&lt;dbl&gt;</th><th scope=col>&lt;dbl&gt;</th><th scope=col>&lt;lgl&gt;</th></tr>\n",
       "</thead>\n",
       "<tbody>\n",
       "\t<tr><th scope=row>model3</th><td>7</td><td> 7938.748</td><td> 7988.483</td><td>-3962.374</td><td> 7924.748</td><td>NA</td><td>NA</td><td>NA</td></tr>\n",
       "\t<tr><th scope=row>model3_5</th><td>7</td><td>11911.919</td><td>11961.654</td><td>-5948.959</td><td>11897.919</td><td> 0</td><td> 0</td><td>NA</td></tr>\n",
       "</tbody>\n",
       "</table>\n"
      ],
      "text/latex": [
       "A anova: 2 x 8\n",
       "\\begin{tabular}{r|llllllll}\n",
       "  & npar & AIC & BIC & logLik & deviance & Chisq & Df & Pr(>Chisq)\\\\\n",
       "  & <dbl> & <dbl> & <dbl> & <dbl> & <dbl> & <dbl> & <dbl> & <lgl>\\\\\n",
       "\\hline\n",
       "\tmodel3 & 7 &  7938.748 &  7988.483 & -3962.374 &  7924.748 & NA & NA & NA\\\\\n",
       "\tmodel3\\_5 & 7 & 11911.919 & 11961.654 & -5948.959 & 11897.919 &  0 &  0 & NA\\\\\n",
       "\\end{tabular}\n"
      ],
      "text/markdown": [
       "\n",
       "A anova: 2 x 8\n",
       "\n",
       "| <!--/--> | npar &lt;dbl&gt; | AIC &lt;dbl&gt; | BIC &lt;dbl&gt; | logLik &lt;dbl&gt; | deviance &lt;dbl&gt; | Chisq &lt;dbl&gt; | Df &lt;dbl&gt; | Pr(&gt;Chisq) &lt;lgl&gt; |\n",
       "|---|---|---|---|---|---|---|---|---|\n",
       "| model3 | 7 |  7938.748 |  7988.483 | -3962.374 |  7924.748 | NA | NA | NA |\n",
       "| model3_5 | 7 | 11911.919 | 11961.654 | -5948.959 | 11897.919 |  0 |  0 | NA |\n",
       "\n"
      ],
      "text/plain": [
       "         npar AIC       BIC       logLik    deviance  Chisq Df Pr(>Chisq)\n",
       "model3   7     7938.748  7988.483 -3962.374  7924.748 NA    NA NA        \n",
       "model3_5 7    11911.919 11961.654 -5948.959 11897.919  0     0 NA        "
      ]
     },
     "metadata": {},
     "output_type": "display_data"
    }
   ],
   "source": [
    "anova(model3, model3_5)"
   ]
  },
  {
   "cell_type": "code",
   "execution_count": 10,
   "metadata": {
    "vscode": {
     "languageId": "r"
    }
   },
   "outputs": [],
   "source": [
    "model <- model3"
   ]
  },
  {
   "cell_type": "markdown",
   "metadata": {},
   "source": [
    "# Interpretation"
   ]
  },
  {
   "cell_type": "code",
   "execution_count": 11,
   "metadata": {
    "vscode": {
     "languageId": "r"
    }
   },
   "outputs": [
    {
     "data": {
      "text/plain": [
       "Generalized linear mixed model fit by maximum likelihood (Laplace\n",
       "  Approximation) [glmerMod]\n",
       " Family: binomial  ( logit )\n",
       "Formula: \n",
       "Accuracy ~ Angle + scale(Proximity, scale = FALSE) + scale(n_candidates,  \n",
       "    scale = FALSE) + Actor + (1 | Stimulus_ID)\n",
       "   Data: df\n",
       " Offset: offset\n",
       "\n",
       "     AIC      BIC   logLik deviance df.resid \n",
       "  7938.7   7988.5  -3962.4   7924.7     8993 \n",
       "\n",
       "Scaled residuals: \n",
       "    Min      1Q  Median      3Q     Max \n",
       "-2.9170 -0.3529  0.1520  0.3589  3.0744 \n",
       "\n",
       "Random effects:\n",
       " Groups      Name        Variance Std.Dev.\n",
       " Stimulus_ID (Intercept) 9.35     3.058   \n",
       "Number of obs: 9000, groups:  Stimulus_ID, 900\n",
       "\n",
       "Fixed effects:\n",
       "                                   Estimate Std. Error z value Pr(>|z|)    \n",
       "(Intercept)                          0.8428     0.2180   3.865 0.000111 ***\n",
       "Angleleft                           -0.1698     0.2797  -0.607 0.543743    \n",
       "Angleright                          -0.1262     0.2784  -0.453 0.650207    \n",
       "scale(Proximity, scale = FALSE)     -0.4639     0.1401  -3.311 0.000929 ***\n",
       "scale(n_candidates, scale = FALSE)  -0.5871     0.1527  -3.844 0.000121 ***\n",
       "ActorY                              -0.9382     0.2329  -4.027 5.64e-05 ***\n",
       "---\n",
       "Signif. codes:  0 '***' 0.001 '**' 0.01 '*' 0.05 '.' 0.1 ' ' 1\n",
       "\n",
       "Correlation of Fixed Effects:\n",
       "            (Intr) Angllf Anglrg s(Ps=F s(_s=F\n",
       "Angleleft   -0.614                            \n",
       "Angleright  -0.608  0.483                     \n",
       "s(P,s=FALSE -0.005 -0.009  0.011              \n",
       "s(_,s=FALSE  0.058  0.005  0.001  0.028       \n",
       "ActorY      -0.456 -0.005 -0.026  0.005 -0.078"
      ]
     },
     "metadata": {},
     "output_type": "display_data"
    }
   ],
   "source": [
    "summary(model)"
   ]
  },
  {
   "cell_type": "code",
   "execution_count": 12,
   "metadata": {
    "vscode": {
     "languageId": "r"
    }
   },
   "outputs": [
    {
     "data": {
      "text/html": [
       "<table class=\"dataframe\">\n",
       "<caption>A data.frame: 6 x 9</caption>\n",
       "<thead>\n",
       "\t<tr><th scope=col>term</th><th scope=col>Estimate</th><th scope=col>Std. Error</th><th scope=col>z value</th><th scope=col>Pr(&gt;|z|)</th><th scope=col>CI_low</th><th scope=col>CI_high</th><th scope=col>effect_size_denom</th><th scope=col>effect_size</th></tr>\n",
       "\t<tr><th scope=col>&lt;chr&gt;</th><th scope=col>&lt;dbl&gt;</th><th scope=col>&lt;dbl&gt;</th><th scope=col>&lt;dbl&gt;</th><th scope=col>&lt;chr&gt;</th><th scope=col>&lt;dbl&gt;</th><th scope=col>&lt;dbl&gt;</th><th scope=col>&lt;dbl&gt;</th><th scope=col>&lt;dbl&gt;</th></tr>\n",
       "</thead>\n",
       "<tbody>\n",
       "\t<tr><td>(Intercept)                       </td><td> 0.8427575</td><td>0.2180374</td><td> 3.8651962</td><td>0.00011099994</td><td> 0.4154041</td><td> 1.2701109</td><td>3.55532</td><td> 0.23704122</td></tr>\n",
       "\t<tr><td>Angleleft                         </td><td>-0.1698470</td><td>0.2797391</td><td>-0.6071621</td><td>0.54374332174</td><td>-0.7181356</td><td> 0.3784416</td><td>3.55532</td><td>-0.04777262</td></tr>\n",
       "\t<tr><td>Angleright                        </td><td>-0.1262396</td><td>0.2783831</td><td>-0.4534744</td><td>0.65020717599</td><td>-0.6718704</td><td> 0.4193912</td><td>3.55532</td><td>-0.03550723</td></tr>\n",
       "\t<tr><td>scale(Proximity, scale = FALSE)   </td><td>-0.4639305</td><td>0.1401113</td><td>-3.3111582</td><td>0.00092910658</td><td>-0.7385486</td><td>-0.1893125</td><td>3.55532</td><td>-0.13048909</td></tr>\n",
       "\t<tr><td>scale(n_candidates, scale = FALSE)</td><td>-0.5870535</td><td>0.1527254</td><td>-3.8438498</td><td>0.00012111914</td><td>-0.8863953</td><td>-0.2877117</td><td>3.55532</td><td>-0.16511972</td></tr>\n",
       "\t<tr><td>ActorY                            </td><td>-0.9381818</td><td>0.2329477</td><td>-4.0274351</td><td>0.00005638863</td><td>-1.3947594</td><td>-0.4816043</td><td>3.55532</td><td>-0.26388109</td></tr>\n",
       "</tbody>\n",
       "</table>\n"
      ],
      "text/latex": [
       "A data.frame: 6 x 9\n",
       "\\begin{tabular}{lllllllll}\n",
       " term & Estimate & Std. Error & z value & Pr(>\\textbar{}z\\textbar{}) & CI\\_low & CI\\_high & effect\\_size\\_denom & effect\\_size\\\\\n",
       " <chr> & <dbl> & <dbl> & <dbl> & <chr> & <dbl> & <dbl> & <dbl> & <dbl>\\\\\n",
       "\\hline\n",
       "\t (Intercept)                        &  0.8427575 & 0.2180374 &  3.8651962 & 0.00011099994 &  0.4154041 &  1.2701109 & 3.55532 &  0.23704122\\\\\n",
       "\t Angleleft                          & -0.1698470 & 0.2797391 & -0.6071621 & 0.54374332174 & -0.7181356 &  0.3784416 & 3.55532 & -0.04777262\\\\\n",
       "\t Angleright                         & -0.1262396 & 0.2783831 & -0.4534744 & 0.65020717599 & -0.6718704 &  0.4193912 & 3.55532 & -0.03550723\\\\\n",
       "\t scale(Proximity, scale = FALSE)    & -0.4639305 & 0.1401113 & -3.3111582 & 0.00092910658 & -0.7385486 & -0.1893125 & 3.55532 & -0.13048909\\\\\n",
       "\t scale(n\\_candidates, scale = FALSE) & -0.5870535 & 0.1527254 & -3.8438498 & 0.00012111914 & -0.8863953 & -0.2877117 & 3.55532 & -0.16511972\\\\\n",
       "\t ActorY                             & -0.9381818 & 0.2329477 & -4.0274351 & 0.00005638863 & -1.3947594 & -0.4816043 & 3.55532 & -0.26388109\\\\\n",
       "\\end{tabular}\n"
      ],
      "text/markdown": [
       "\n",
       "A data.frame: 6 x 9\n",
       "\n",
       "| term &lt;chr&gt; | Estimate &lt;dbl&gt; | Std. Error &lt;dbl&gt; | z value &lt;dbl&gt; | Pr(&gt;|z|) &lt;chr&gt; | CI_low &lt;dbl&gt; | CI_high &lt;dbl&gt; | effect_size_denom &lt;dbl&gt; | effect_size &lt;dbl&gt; |\n",
       "|---|---|---|---|---|---|---|---|---|\n",
       "| (Intercept)                        |  0.8427575 | 0.2180374 |  3.8651962 | 0.00011099994 |  0.4154041 |  1.2701109 | 3.55532 |  0.23704122 |\n",
       "| Angleleft                          | -0.1698470 | 0.2797391 | -0.6071621 | 0.54374332174 | -0.7181356 |  0.3784416 | 3.55532 | -0.04777262 |\n",
       "| Angleright                         | -0.1262396 | 0.2783831 | -0.4534744 | 0.65020717599 | -0.6718704 |  0.4193912 | 3.55532 | -0.03550723 |\n",
       "| scale(Proximity, scale = FALSE)    | -0.4639305 | 0.1401113 | -3.3111582 | 0.00092910658 | -0.7385486 | -0.1893125 | 3.55532 | -0.13048909 |\n",
       "| scale(n_candidates, scale = FALSE) | -0.5870535 | 0.1527254 | -3.8438498 | 0.00012111914 | -0.8863953 | -0.2877117 | 3.55532 | -0.16511972 |\n",
       "| ActorY                             | -0.9381818 | 0.2329477 | -4.0274351 | 0.00005638863 | -1.3947594 | -0.4816043 | 3.55532 | -0.26388109 |\n",
       "\n"
      ],
      "text/plain": [
       "  term                               Estimate   Std. Error z value   \n",
       "1 (Intercept)                         0.8427575 0.2180374   3.8651962\n",
       "2 Angleleft                          -0.1698470 0.2797391  -0.6071621\n",
       "3 Angleright                         -0.1262396 0.2783831  -0.4534744\n",
       "4 scale(Proximity, scale = FALSE)    -0.4639305 0.1401113  -3.3111582\n",
       "5 scale(n_candidates, scale = FALSE) -0.5870535 0.1527254  -3.8438498\n",
       "6 ActorY                             -0.9381818 0.2329477  -4.0274351\n",
       "  Pr(>|z|)      CI_low     CI_high    effect_size_denom effect_size\n",
       "1 0.00011099994  0.4154041  1.2701109 3.55532            0.23704122\n",
       "2 0.54374332174 -0.7181356  0.3784416 3.55532           -0.04777262\n",
       "3 0.65020717599 -0.6718704  0.4193912 3.55532           -0.03550723\n",
       "4 0.00092910658 -0.7385486 -0.1893125 3.55532           -0.13048909\n",
       "5 0.00012111914 -0.8863953 -0.2877117 3.55532           -0.16511972\n",
       "6 0.00005638863 -1.3947594 -0.4816043 3.55532           -0.26388109"
      ]
     },
     "metadata": {},
     "output_type": "display_data"
    }
   ],
   "source": [
    "vc_list <- lapply(VarCorr(model), function(x) attr(x, \"stddev\")^2)\n",
    "vc <- sum(unlist(vc_list))\n",
    "effect_size_denom_t <- sqrt(vc + pi^2/3)\n",
    "\n",
    "res <- summary(model)$coefficients\n",
    "res <- as.data.frame(res)\n",
    "res <- cbind(term = rownames(res), res)\n",
    "rownames(res) <- NULL\n",
    "res$`Pr(>|z|)` <- format(res$`Pr(>|z|)`, scientific = FALSE)\n",
    "res$CI_low <- res$Estimate - 1.96 * res$`Std. Error`\n",
    "res$CI_high <- res$Estimate + 1.96 * res$`Std. Error`\n",
    "res$effect_size_denom <- effect_size_denom_t\n",
    "res$effect_size <- res$Estimate / effect_size_denom_t\n",
    "res"
   ]
  },
  {
   "cell_type": "code",
   "execution_count": 13,
   "metadata": {
    "vscode": {
     "languageId": "r"
    }
   },
   "outputs": [
    {
     "data": {
      "text/html": [
       "<table class=\"dataframe\">\n",
       "<caption>A predictions: 3 x 8</caption>\n",
       "<thead>\n",
       "\t<tr><th scope=col>hypothesis</th><th scope=col>estimate</th><th scope=col>std.error</th><th scope=col>statistic</th><th scope=col>p.value</th><th scope=col>s.value</th><th scope=col>conf.low</th><th scope=col>conf.high</th></tr>\n",
       "\t<tr><th scope=col>&lt;chr&gt;</th><th scope=col>&lt;dbl&gt;</th><th scope=col>&lt;dbl&gt;</th><th scope=col>&lt;dbl&gt;</th><th scope=col>&lt;dbl&gt;</th><th scope=col>&lt;dbl&gt;</th><th scope=col>&lt;dbl&gt;</th><th scope=col>&lt;dbl&gt;</th></tr>\n",
       "</thead>\n",
       "<tbody>\n",
       "\t<tr><td>(left) - (front) </td><td>-0.029908795</td><td>0.03275723</td><td>-0.91304415</td><td>0.3612193</td><td>1.46905303</td><td>-0.09411178</td><td>0.03429419</td></tr>\n",
       "\t<tr><td>(right) - (front)</td><td>-0.032086375</td><td>0.03482471</td><td>-0.92136817</td><td>0.3568582</td><td>1.48657701</td><td>-0.10034154</td><td>0.03616879</td></tr>\n",
       "\t<tr><td>(right) - (left) </td><td>-0.002177581</td><td>0.03089153</td><td>-0.07049119</td><td>0.9438027</td><td>0.08344278</td><td>-0.06272387</td><td>0.05836871</td></tr>\n",
       "</tbody>\n",
       "</table>\n"
      ],
      "text/latex": [
       "A predictions: 3 x 8\n",
       "\\begin{tabular}{llllllll}\n",
       " hypothesis & estimate & std.error & statistic & p.value & s.value & conf.low & conf.high\\\\\n",
       " <chr> & <dbl> & <dbl> & <dbl> & <dbl> & <dbl> & <dbl> & <dbl>\\\\\n",
       "\\hline\n",
       "\t (left) - (front)  & -0.029908795 & 0.03275723 & -0.91304415 & 0.3612193 & 1.46905303 & -0.09411178 & 0.03429419\\\\\n",
       "\t (right) - (front) & -0.032086375 & 0.03482471 & -0.92136817 & 0.3568582 & 1.48657701 & -0.10034154 & 0.03616879\\\\\n",
       "\t (right) - (left)  & -0.002177581 & 0.03089153 & -0.07049119 & 0.9438027 & 0.08344278 & -0.06272387 & 0.05836871\\\\\n",
       "\\end{tabular}\n"
      ],
      "text/markdown": [
       "\n",
       "A predictions: 3 x 8\n",
       "\n",
       "| hypothesis &lt;chr&gt; | estimate &lt;dbl&gt; | std.error &lt;dbl&gt; | statistic &lt;dbl&gt; | p.value &lt;dbl&gt; | s.value &lt;dbl&gt; | conf.low &lt;dbl&gt; | conf.high &lt;dbl&gt; |\n",
       "|---|---|---|---|---|---|---|---|\n",
       "| (left) - (front)  | -0.029908795 | 0.03275723 | -0.91304415 | 0.3612193 | 1.46905303 | -0.09411178 | 0.03429419 |\n",
       "| (right) - (front) | -0.032086375 | 0.03482471 | -0.92136817 | 0.3568582 | 1.48657701 | -0.10034154 | 0.03616879 |\n",
       "| (right) - (left)  | -0.002177581 | 0.03089153 | -0.07049119 | 0.9438027 | 0.08344278 | -0.06272387 | 0.05836871 |\n",
       "\n"
      ],
      "text/plain": [
       "  hypothesis        estimate     std.error  statistic   p.value   s.value   \n",
       "1 (left) - (front)  -0.029908795 0.03275723 -0.91304415 0.3612193 1.46905303\n",
       "2 (right) - (front) -0.032086375 0.03482471 -0.92136817 0.3568582 1.48657701\n",
       "3 (right) - (left)  -0.002177581 0.03089153 -0.07049119 0.9438027 0.08344278\n",
       "  conf.low    conf.high \n",
       "1 -0.09411178 0.03429419\n",
       "2 -0.10034154 0.03616879\n",
       "3 -0.06272387 0.05836871"
      ]
     },
     "metadata": {},
     "output_type": "display_data"
    }
   ],
   "source": [
    "avg_predictions(model, by=\"Angle\", hypothesis = ~ pairwise)"
   ]
  },
  {
   "cell_type": "code",
   "execution_count": 14,
   "metadata": {
    "vscode": {
     "languageId": "r"
    }
   },
   "outputs": [
    {
     "data": {
      "text/html": [
       "<table class=\"dataframe\">\n",
       "<caption>A predictions: 3 x 8</caption>\n",
       "<thead>\n",
       "\t<tr><th scope=col>Proximity</th><th scope=col>estimate</th><th scope=col>std.error</th><th scope=col>statistic</th><th scope=col>p.value</th><th scope=col>s.value</th><th scope=col>conf.low</th><th scope=col>conf.high</th></tr>\n",
       "\t<tr><th scope=col>&lt;int&gt;</th><th scope=col>&lt;dbl&gt;</th><th scope=col>&lt;dbl&gt;</th><th scope=col>&lt;dbl&gt;</th><th scope=col>&lt;dbl&gt;</th><th scope=col>&lt;dbl&gt;</th><th scope=col>&lt;dbl&gt;</th><th scope=col>&lt;dbl&gt;</th></tr>\n",
       "</thead>\n",
       "<tbody>\n",
       "\t<tr><td>1</td><td>0.5931320</td><td>0.02120830</td><td>27.96698</td><td>4.098444e-172</td><td>569.3366</td><td>0.5515645</td><td>0.6346995</td></tr>\n",
       "\t<tr><td>2</td><td>0.5262255</td><td>0.01292145</td><td>40.72494</td><td> 0.000000e+00</td><td>     Inf</td><td>0.5008999</td><td>0.5515511</td></tr>\n",
       "\t<tr><td>3</td><td>0.4896932</td><td>0.02185856</td><td>22.40281</td><td>3.695225e-111</td><td>366.8484</td><td>0.4468512</td><td>0.5325352</td></tr>\n",
       "</tbody>\n",
       "</table>\n"
      ],
      "text/latex": [
       "A predictions: 3 x 8\n",
       "\\begin{tabular}{llllllll}\n",
       " Proximity & estimate & std.error & statistic & p.value & s.value & conf.low & conf.high\\\\\n",
       " <int> & <dbl> & <dbl> & <dbl> & <dbl> & <dbl> & <dbl> & <dbl>\\\\\n",
       "\\hline\n",
       "\t 1 & 0.5931320 & 0.02120830 & 27.96698 & 4.098444e-172 & 569.3366 & 0.5515645 & 0.6346995\\\\\n",
       "\t 2 & 0.5262255 & 0.01292145 & 40.72494 &  0.000000e+00 &      Inf & 0.5008999 & 0.5515511\\\\\n",
       "\t 3 & 0.4896932 & 0.02185856 & 22.40281 & 3.695225e-111 & 366.8484 & 0.4468512 & 0.5325352\\\\\n",
       "\\end{tabular}\n"
      ],
      "text/markdown": [
       "\n",
       "A predictions: 3 x 8\n",
       "\n",
       "| Proximity &lt;int&gt; | estimate &lt;dbl&gt; | std.error &lt;dbl&gt; | statistic &lt;dbl&gt; | p.value &lt;dbl&gt; | s.value &lt;dbl&gt; | conf.low &lt;dbl&gt; | conf.high &lt;dbl&gt; |\n",
       "|---|---|---|---|---|---|---|---|\n",
       "| 1 | 0.5931320 | 0.02120830 | 27.96698 | 4.098444e-172 | 569.3366 | 0.5515645 | 0.6346995 |\n",
       "| 2 | 0.5262255 | 0.01292145 | 40.72494 |  0.000000e+00 |      Inf | 0.5008999 | 0.5515511 |\n",
       "| 3 | 0.4896932 | 0.02185856 | 22.40281 | 3.695225e-111 | 366.8484 | 0.4468512 | 0.5325352 |\n",
       "\n"
      ],
      "text/plain": [
       "  Proximity estimate  std.error  statistic p.value       s.value  conf.low \n",
       "1 1         0.5931320 0.02120830 27.96698  4.098444e-172 569.3366 0.5515645\n",
       "2 2         0.5262255 0.01292145 40.72494   0.000000e+00      Inf 0.5008999\n",
       "3 3         0.4896932 0.02185856 22.40281  3.695225e-111 366.8484 0.4468512\n",
       "  conf.high\n",
       "1 0.6346995\n",
       "2 0.5515511\n",
       "3 0.5325352"
      ]
     },
     "metadata": {},
     "output_type": "display_data"
    }
   ],
   "source": [
    "avg_predictions(model, by=\"Proximity\")"
   ]
  },
  {
   "cell_type": "code",
   "execution_count": 15,
   "metadata": {
    "vscode": {
     "languageId": "r"
    }
   },
   "outputs": [
    {
     "data": {
      "text/html": [
       "<table class=\"dataframe\">\n",
       "<caption>A slopes: 1 x 12</caption>\n",
       "<thead>\n",
       "\t<tr><th scope=col>term</th><th scope=col>contrast</th><th scope=col>estimate</th><th scope=col>std.error</th><th scope=col>statistic</th><th scope=col>p.value</th><th scope=col>s.value</th><th scope=col>conf.low</th><th scope=col>conf.high</th><th scope=col>predicted_lo</th><th scope=col>predicted_hi</th><th scope=col>predicted</th></tr>\n",
       "\t<tr><th scope=col>&lt;chr&gt;</th><th scope=col>&lt;chr&gt;</th><th scope=col>&lt;dbl&gt;</th><th scope=col>&lt;dbl&gt;</th><th scope=col>&lt;dbl&gt;</th><th scope=col>&lt;dbl&gt;</th><th scope=col>&lt;dbl&gt;</th><th scope=col>&lt;dbl&gt;</th><th scope=col>&lt;dbl&gt;</th><th scope=col>&lt;dbl&gt;</th><th scope=col>&lt;dbl&gt;</th><th scope=col>&lt;dbl&gt;</th></tr>\n",
       "</thead>\n",
       "<tbody>\n",
       "\t<tr><td>Proximity</td><td>dY/dX</td><td>-0.4639305</td><td>0.1401064</td><td>-3.311272</td><td>0.000928728</td><td>10.07246</td><td>-0.7385341</td><td>-0.189327</td><td>-0.3571926</td><td>-0.3572854</td><td>-0.357239</td></tr>\n",
       "</tbody>\n",
       "</table>\n"
      ],
      "text/latex": [
       "A slopes: 1 x 12\n",
       "\\begin{tabular}{llllllllllll}\n",
       " term & contrast & estimate & std.error & statistic & p.value & s.value & conf.low & conf.high & predicted\\_lo & predicted\\_hi & predicted\\\\\n",
       " <chr> & <chr> & <dbl> & <dbl> & <dbl> & <dbl> & <dbl> & <dbl> & <dbl> & <dbl> & <dbl> & <dbl>\\\\\n",
       "\\hline\n",
       "\t Proximity & dY/dX & -0.4639305 & 0.1401064 & -3.311272 & 0.000928728 & 10.07246 & -0.7385341 & -0.189327 & -0.3571926 & -0.3572854 & -0.357239\\\\\n",
       "\\end{tabular}\n"
      ],
      "text/markdown": [
       "\n",
       "A slopes: 1 x 12\n",
       "\n",
       "| term &lt;chr&gt; | contrast &lt;chr&gt; | estimate &lt;dbl&gt; | std.error &lt;dbl&gt; | statistic &lt;dbl&gt; | p.value &lt;dbl&gt; | s.value &lt;dbl&gt; | conf.low &lt;dbl&gt; | conf.high &lt;dbl&gt; | predicted_lo &lt;dbl&gt; | predicted_hi &lt;dbl&gt; | predicted &lt;dbl&gt; |\n",
       "|---|---|---|---|---|---|---|---|---|---|---|---|\n",
       "| Proximity | dY/dX | -0.4639305 | 0.1401064 | -3.311272 | 0.000928728 | 10.07246 | -0.7385341 | -0.189327 | -0.3571926 | -0.3572854 | -0.357239 |\n",
       "\n"
      ],
      "text/plain": [
       "  term      contrast estimate   std.error statistic p.value     s.value \n",
       "1 Proximity dY/dX    -0.4639305 0.1401064 -3.311272 0.000928728 10.07246\n",
       "  conf.low   conf.high predicted_lo predicted_hi predicted\n",
       "1 -0.7385341 -0.189327 -0.3571926   -0.3572854   -0.357239"
      ]
     },
     "metadata": {},
     "output_type": "display_data"
    }
   ],
   "source": [
    "avg_slopes(model, variables =\"Proximity\", type = \"link\")"
   ]
  },
  {
   "cell_type": "code",
   "execution_count": 16,
   "metadata": {
    "vscode": {
     "languageId": "r"
    }
   },
   "outputs": [
    {
     "data": {
      "text/html": [
       "<table class=\"dataframe\">\n",
       "<caption>A predictions: 3 x 8</caption>\n",
       "<thead>\n",
       "\t<tr><th scope=col>n_candidates</th><th scope=col>estimate</th><th scope=col>std.error</th><th scope=col>statistic</th><th scope=col>p.value</th><th scope=col>s.value</th><th scope=col>conf.low</th><th scope=col>conf.high</th></tr>\n",
       "\t<tr><th scope=col>&lt;int&gt;</th><th scope=col>&lt;dbl&gt;</th><th scope=col>&lt;dbl&gt;</th><th scope=col>&lt;dbl&gt;</th><th scope=col>&lt;dbl&gt;</th><th scope=col>&lt;dbl&gt;</th><th scope=col>&lt;dbl&gt;</th><th scope=col>&lt;dbl&gt;</th></tr>\n",
       "</thead>\n",
       "<tbody>\n",
       "\t<tr><td>2</td><td>0.5789300</td><td>0.01765427</td><td>32.79262</td><td>7.501477e-236</td><td>781.0679</td><td>0.5443282</td><td>0.6135317</td></tr>\n",
       "\t<tr><td>3</td><td>0.5119723</td><td>0.01636753</td><td>31.27976</td><td>8.796131e-215</td><td>711.0777</td><td>0.4798925</td><td>0.5440520</td></tr>\n",
       "\t<tr><td>4</td><td>0.4211505</td><td>0.02304367</td><td>18.27619</td><td> 1.280681e-74</td><td>245.4658</td><td>0.3759857</td><td>0.4663152</td></tr>\n",
       "</tbody>\n",
       "</table>\n"
      ],
      "text/latex": [
       "A predictions: 3 x 8\n",
       "\\begin{tabular}{llllllll}\n",
       " n\\_candidates & estimate & std.error & statistic & p.value & s.value & conf.low & conf.high\\\\\n",
       " <int> & <dbl> & <dbl> & <dbl> & <dbl> & <dbl> & <dbl> & <dbl>\\\\\n",
       "\\hline\n",
       "\t 2 & 0.5789300 & 0.01765427 & 32.79262 & 7.501477e-236 & 781.0679 & 0.5443282 & 0.6135317\\\\\n",
       "\t 3 & 0.5119723 & 0.01636753 & 31.27976 & 8.796131e-215 & 711.0777 & 0.4798925 & 0.5440520\\\\\n",
       "\t 4 & 0.4211505 & 0.02304367 & 18.27619 &  1.280681e-74 & 245.4658 & 0.3759857 & 0.4663152\\\\\n",
       "\\end{tabular}\n"
      ],
      "text/markdown": [
       "\n",
       "A predictions: 3 x 8\n",
       "\n",
       "| n_candidates &lt;int&gt; | estimate &lt;dbl&gt; | std.error &lt;dbl&gt; | statistic &lt;dbl&gt; | p.value &lt;dbl&gt; | s.value &lt;dbl&gt; | conf.low &lt;dbl&gt; | conf.high &lt;dbl&gt; |\n",
       "|---|---|---|---|---|---|---|---|\n",
       "| 2 | 0.5789300 | 0.01765427 | 32.79262 | 7.501477e-236 | 781.0679 | 0.5443282 | 0.6135317 |\n",
       "| 3 | 0.5119723 | 0.01636753 | 31.27976 | 8.796131e-215 | 711.0777 | 0.4798925 | 0.5440520 |\n",
       "| 4 | 0.4211505 | 0.02304367 | 18.27619 |  1.280681e-74 | 245.4658 | 0.3759857 | 0.4663152 |\n",
       "\n"
      ],
      "text/plain": [
       "  n_candidates estimate  std.error  statistic p.value       s.value  conf.low \n",
       "1 2            0.5789300 0.01765427 32.79262  7.501477e-236 781.0679 0.5443282\n",
       "2 3            0.5119723 0.01636753 31.27976  8.796131e-215 711.0777 0.4798925\n",
       "3 4            0.4211505 0.02304367 18.27619   1.280681e-74 245.4658 0.3759857\n",
       "  conf.high\n",
       "1 0.6135317\n",
       "2 0.5440520\n",
       "3 0.4663152"
      ]
     },
     "metadata": {},
     "output_type": "display_data"
    }
   ],
   "source": [
    "avg_predictions(model, by=\"n_candidates\")"
   ]
  },
  {
   "cell_type": "code",
   "execution_count": 17,
   "metadata": {
    "vscode": {
     "languageId": "r"
    }
   },
   "outputs": [
    {
     "data": {
      "text/html": [
       "<table class=\"dataframe\">\n",
       "<caption>A slopes: 1 x 12</caption>\n",
       "<thead>\n",
       "\t<tr><th scope=col>term</th><th scope=col>contrast</th><th scope=col>estimate</th><th scope=col>std.error</th><th scope=col>statistic</th><th scope=col>p.value</th><th scope=col>s.value</th><th scope=col>conf.low</th><th scope=col>conf.high</th><th scope=col>predicted_lo</th><th scope=col>predicted_hi</th><th scope=col>predicted</th></tr>\n",
       "\t<tr><th scope=col>&lt;chr&gt;</th><th scope=col>&lt;chr&gt;</th><th scope=col>&lt;dbl&gt;</th><th scope=col>&lt;dbl&gt;</th><th scope=col>&lt;dbl&gt;</th><th scope=col>&lt;dbl&gt;</th><th scope=col>&lt;dbl&gt;</th><th scope=col>&lt;dbl&gt;</th><th scope=col>&lt;dbl&gt;</th><th scope=col>&lt;dbl&gt;</th><th scope=col>&lt;dbl&gt;</th><th scope=col>&lt;dbl&gt;</th></tr>\n",
       "</thead>\n",
       "<tbody>\n",
       "\t<tr><td>n_candidates</td><td>dY/dX</td><td>-0.5870535</td><td>0.1527299</td><td>-3.843737</td><td>0.0001211747</td><td>13.01062</td><td>-0.8863986</td><td>-0.2877085</td><td>-0.3571803</td><td>-0.3572977</td><td>-0.357239</td></tr>\n",
       "</tbody>\n",
       "</table>\n"
      ],
      "text/latex": [
       "A slopes: 1 x 12\n",
       "\\begin{tabular}{llllllllllll}\n",
       " term & contrast & estimate & std.error & statistic & p.value & s.value & conf.low & conf.high & predicted\\_lo & predicted\\_hi & predicted\\\\\n",
       " <chr> & <chr> & <dbl> & <dbl> & <dbl> & <dbl> & <dbl> & <dbl> & <dbl> & <dbl> & <dbl> & <dbl>\\\\\n",
       "\\hline\n",
       "\t n\\_candidates & dY/dX & -0.5870535 & 0.1527299 & -3.843737 & 0.0001211747 & 13.01062 & -0.8863986 & -0.2877085 & -0.3571803 & -0.3572977 & -0.357239\\\\\n",
       "\\end{tabular}\n"
      ],
      "text/markdown": [
       "\n",
       "A slopes: 1 x 12\n",
       "\n",
       "| term &lt;chr&gt; | contrast &lt;chr&gt; | estimate &lt;dbl&gt; | std.error &lt;dbl&gt; | statistic &lt;dbl&gt; | p.value &lt;dbl&gt; | s.value &lt;dbl&gt; | conf.low &lt;dbl&gt; | conf.high &lt;dbl&gt; | predicted_lo &lt;dbl&gt; | predicted_hi &lt;dbl&gt; | predicted &lt;dbl&gt; |\n",
       "|---|---|---|---|---|---|---|---|---|---|---|---|\n",
       "| n_candidates | dY/dX | -0.5870535 | 0.1527299 | -3.843737 | 0.0001211747 | 13.01062 | -0.8863986 | -0.2877085 | -0.3571803 | -0.3572977 | -0.357239 |\n",
       "\n"
      ],
      "text/plain": [
       "  term         contrast estimate   std.error statistic p.value      s.value \n",
       "1 n_candidates dY/dX    -0.5870535 0.1527299 -3.843737 0.0001211747 13.01062\n",
       "  conf.low   conf.high  predicted_lo predicted_hi predicted\n",
       "1 -0.8863986 -0.2877085 -0.3571803   -0.3572977   -0.357239"
      ]
     },
     "metadata": {},
     "output_type": "display_data"
    }
   ],
   "source": [
    "avg_slopes(model, variables =\"n_candidates\", type = \"link\")"
   ]
  },
  {
   "cell_type": "code",
   "execution_count": 18,
   "metadata": {
    "vscode": {
     "languageId": "r"
    }
   },
   "outputs": [
    {
     "data": {
      "text/html": [
       "<table class=\"dataframe\">\n",
       "<caption>A predictions: 1 x 8</caption>\n",
       "<thead>\n",
       "\t<tr><th scope=col>hypothesis</th><th scope=col>estimate</th><th scope=col>std.error</th><th scope=col>statistic</th><th scope=col>p.value</th><th scope=col>s.value</th><th scope=col>conf.low</th><th scope=col>conf.high</th></tr>\n",
       "\t<tr><th scope=col>&lt;chr&gt;</th><th scope=col>&lt;dbl&gt;</th><th scope=col>&lt;dbl&gt;</th><th scope=col>&lt;dbl&gt;</th><th scope=col>&lt;dbl&gt;</th><th scope=col>&lt;dbl&gt;</th><th scope=col>&lt;dbl&gt;</th><th scope=col>&lt;dbl&gt;</th></tr>\n",
       "</thead>\n",
       "<tbody>\n",
       "\t<tr><td>(Y) - (X)</td><td>-0.1191365</td><td>0.02731737</td><td>-4.361198</td><td>1.293521e-05</td><td>16.23834</td><td>-0.1726775</td><td>-0.06559541</td></tr>\n",
       "</tbody>\n",
       "</table>\n"
      ],
      "text/latex": [
       "A predictions: 1 x 8\n",
       "\\begin{tabular}{llllllll}\n",
       " hypothesis & estimate & std.error & statistic & p.value & s.value & conf.low & conf.high\\\\\n",
       " <chr> & <dbl> & <dbl> & <dbl> & <dbl> & <dbl> & <dbl> & <dbl>\\\\\n",
       "\\hline\n",
       "\t (Y) - (X) & -0.1191365 & 0.02731737 & -4.361198 & 1.293521e-05 & 16.23834 & -0.1726775 & -0.06559541\\\\\n",
       "\\end{tabular}\n"
      ],
      "text/markdown": [
       "\n",
       "A predictions: 1 x 8\n",
       "\n",
       "| hypothesis &lt;chr&gt; | estimate &lt;dbl&gt; | std.error &lt;dbl&gt; | statistic &lt;dbl&gt; | p.value &lt;dbl&gt; | s.value &lt;dbl&gt; | conf.low &lt;dbl&gt; | conf.high &lt;dbl&gt; |\n",
       "|---|---|---|---|---|---|---|---|\n",
       "| (Y) - (X) | -0.1191365 | 0.02731737 | -4.361198 | 1.293521e-05 | 16.23834 | -0.1726775 | -0.06559541 |\n",
       "\n"
      ],
      "text/plain": [
       "  hypothesis estimate   std.error  statistic p.value      s.value  conf.low  \n",
       "1 (Y) - (X)  -0.1191365 0.02731737 -4.361198 1.293521e-05 16.23834 -0.1726775\n",
       "  conf.high  \n",
       "1 -0.06559541"
      ]
     },
     "metadata": {},
     "output_type": "display_data"
    }
   ],
   "source": [
    "avg_predictions(model, by=\"Actor\", hypothesis = ~ pairwise)"
   ]
  },
  {
   "cell_type": "markdown",
   "metadata": {},
   "source": [
    "The below code is for generating the table in the paper."
   ]
  },
  {
   "cell_type": "code",
   "execution_count": 19,
   "metadata": {
    "vscode": {
     "languageId": "r"
    }
   },
   "outputs": [
    {
     "name": "stdout",
     "output_type": "stream",
     "text": [
      "9.3504354\n",
      "NA\n",
      "NA\n",
      "3.5553205\n",
      "0.8427575\n",
      "0.2180374\n",
      "-0.1698470\n",
      "0.2797391\n",
      "0.5437433\n",
      "-0.0477726\n",
      "-0.1262396\n",
      "0.2783831\n",
      "0.6502072\n",
      "-0.0355072\n",
      "-0.4639305\n",
      "0.1401113\n",
      "0.0009291\n",
      "-0.1304891\n",
      "-0.5870535\n",
      "0.1527254\n",
      "0.0001211\n",
      "-0.1651197\n",
      "-0.9381818\n",
      "0.2329477\n",
      "0.0000564\n",
      "-0.2638811\n"
     ]
    }
   ],
   "source": [
    "stim_id_var_val <- if (!is.null(vc_list$Stimulus_ID) && length(vc_list$Stimulus_ID) > 0) vc_list$Stimulus_ID[[1]] else NA_real_\n",
    "prompt_id_var_val <- if (!is.null(vc_list$Prompt_ID) && length(vc_list$Prompt_ID) > 0) vc_list$Prompt_ID[[1]] else NA_real_\n",
    "participant_id_var_val <- if (!is.null(vc_list$Participant_ID) && length(vc_list$Participant_ID) > 0) vc_list$Participant_ID[[1]] else NA_real_\n",
    "\n",
    "intercept_est <- res[res$term == \"(Intercept)\", \"Estimate\"]\n",
    "intercept_se <- res[res$term == \"(Intercept)\", \"Std. Error\"]\n",
    "\n",
    "angleleft_est <- res[res$term == \"Angleleft\", \"Estimate\"]\n",
    "angleleft_se <- res[res$term == \"Angleleft\", \"Std. Error\"]\n",
    "angleleft_p_val <- res[res$term == \"Angleleft\", \"Pr(>|z|)\"]\n",
    "angleleft_eff_size <- res[res$term == \"Angleleft\", \"effect_size\"]\n",
    "\n",
    "angleright_est <- res[res$term == \"Angleright\", \"Estimate\"]\n",
    "angleright_se <- res[res$term == \"Angleright\", \"Std. Error\"]\n",
    "angleright_p_val <- res[res$term == \"Angleright\", \"Pr(>|z|)\"]\n",
    "angleright_eff_size <- res[res$term == \"Angleright\", \"effect_size\"]\n",
    "\n",
    "proximity_term_name <- \"scale(Proximity, scale = FALSE)\"\n",
    "if (!proximity_term_name %in% res$term) {\n",
    "    proximity_term_name <- grep(\"Proximity\", res$term, value = TRUE)[1]\n",
    "}\n",
    "proximity_est <- res[res$term == proximity_term_name, \"Estimate\"]\n",
    "proximity_se <- res[res$term == proximity_term_name, \"Std. Error\"]\n",
    "proximity_p_val <- res[res$term == proximity_term_name, \"Pr(>|z|)\"]\n",
    "proximity_eff_size <- res[res$term == proximity_term_name, \"effect_size\"]\n",
    "\n",
    "n_candidates_term_name <- \"scale(n_candidates, scale = FALSE)\"\n",
    "if (!n_candidates_term_name %in% res$term) {\n",
    "    n_candidates_term_name <- grep(\"n_candidates\", res$term, value = TRUE)[1]\n",
    "}\n",
    "n_obj_est <- res[res$term == n_candidates_term_name, \"Estimate\"]\n",
    "n_obj_se <- res[res$term == n_candidates_term_name, \"Std. Error\"]\n",
    "n_obj_p_val <- res[res$term == n_candidates_term_name, \"Pr(>|z|)\"]\n",
    "n_obj_eff_size <- res[res$term == n_candidates_term_name, \"effect_size\"]\n",
    "\n",
    "actory_term_name <- \"ActorY\" # Assuming 'X' is the reference level for Actor factor\n",
    "actory_est <- res[res$term == actory_term_name, \"Estimate\"]\n",
    "actory_se <- res[res$term == actory_term_name, \"Std. Error\"]\n",
    "actory_p_val <- res[res$term == actory_term_name, \"Pr(>|z|)\"]\n",
    "actory_eff_size <- res[res$term == actory_term_name, \"effect_size\"]\n",
    "\n",
    "# Prepare data for data frame\n",
    "table_data <- list(\n",
    "    c(\"StimulusID\", \"Variance\", sprintf(\"%.7f\", stim_id_var_val)),\n",
    "    c(\"ParticipantID\", \"Variance\", sprintf(\"%.7f\", participant_id_var_val)),\n",
    "    c(\"PromptID\", \"Variance\", sprintf(\"%.7f\", prompt_id_var_val)),\n",
    "    c(\"Effect Size Denom\", \"\", sprintf(\"%.7f\", effect_size_denom_t)),\n",
    "\n",
    "    c(\"Intercept\", \"b\", sprintf(\"%.7f\", intercept_est)),\n",
    "    c(\"\", \"SE\", sprintf(\"%.7f\", intercept_se)),\n",
    "\n",
    "    c(\"Angleleft\", \"b\", sprintf(\"%.7f\", angleleft_est)),\n",
    "    c(\"\", \"SE\", sprintf(\"%.7f\", angleleft_se)),\n",
    "    c(\"\", \"p\", sprintf(\"%.7f\", as.numeric(angleleft_p_val))),\n",
    "    c(\"\", \"Effect size\", sprintf(\"%.7f\", angleleft_eff_size)),\n",
    "\n",
    "    c(\"Angleright\", \"b\", sprintf(\"%.7f\", angleright_est)),\n",
    "    c(\"\", \"SE\", sprintf(\"%.7f\", angleright_se)),\n",
    "    c(\"\", \"p\", sprintf(\"%.7f\", as.numeric(angleright_p_val))),\n",
    "    c(\"\", \"Effect size\", sprintf(\"%.7f\", angleright_eff_size)),\n",
    "\n",
    "    c(\"Proximity\", \"b\", sprintf(\"%.7f\", proximity_est)),\n",
    "    c(\"\", \"SE\", sprintf(\"%.7f\", proximity_se)),\n",
    "    c(\"\", \"p\", sprintf(\"%.7f\", as.numeric(proximity_p_val))),\n",
    "    c(\"\", \"Effect size\", sprintf(\"%.7f\", proximity_eff_size)),\n",
    "\n",
    "    c(\"#Object\", \"b\", sprintf(\"%.7f\", n_obj_est)),\n",
    "    c(\"\", \"SE\", sprintf(\"%.7f\", n_obj_se)),\n",
    "    c(\"\", \"p\", sprintf(\"%.7f\", as.numeric(n_obj_p_val))),\n",
    "    c(\"\", \"Effect size\", sprintf(\"%.7f\", n_obj_eff_size)),\n",
    "\n",
    "    c(\"ActorY\", \"b\", sprintf(\"%.7f\", actory_est)),\n",
    "    c(\"\", \"SE\", sprintf(\"%.7f\", actory_se)),\n",
    "    c(\"\", \"p\", sprintf(\"%.7f\", as.numeric(actory_p_val))),\n",
    "    c(\"\", \"Effect size\", sprintf(\"%.7f\", actory_eff_size))\n",
    ")\n",
    "\n",
    "# Convert to data frame\n",
    "df_output <- do.call(rbind, lapply(table_data, function(x) data.frame(V1=x[1], V2=x[2], V3=x[3], stringsAsFactors=FALSE)))\n",
    "\n",
    "# Print only the third column for easy copy-pasting to Excel\n",
    "write.table(df_output[,3, drop=FALSE], file=\"\", sep = \"\\t\", row.names = FALSE, col.names = FALSE, quote = FALSE)"
   ]
  }
 ],
 "metadata": {
  "kernelspec": {
   "display_name": "R",
   "language": "R",
   "name": "ir"
  },
  "language_info": {
   "codemirror_mode": "r",
   "file_extension": ".r",
   "mimetype": "text/x-r-source",
   "name": "R",
   "pygments_lexer": "r",
   "version": "4.3.3"
  }
 },
 "nbformat": 4,
 "nbformat_minor": 2
}
