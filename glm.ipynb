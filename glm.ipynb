{
 "cells": [
  {
   "cell_type": "markdown",
   "metadata": {},
   "source": [
    "# Loading Responses"
   ]
  },
  {
   "cell_type": "code",
   "execution_count": 1,
   "metadata": {
    "vscode": {
     "languageId": "r"
    }
   },
   "outputs": [
    {
     "name": "stderr",
     "output_type": "stream",
     "text": [
      "Loading required package: lme4\n",
      "\n",
      "Loading required package: Matrix\n",
      "\n",
      "Loading required package: readr\n",
      "\n",
      "Loading required package: marginaleffects\n",
      "\n",
      "Loading required package: emmeans\n",
      "\n",
      "Welcome to emmeans.\n",
      "Caution: You lose important information if you filter this package's results.\n",
      "See '? untidy'\n",
      "\n",
      "Loading required package: car\n",
      "\n",
      "Loading required package: carData\n",
      "\n",
      "\u001b[1mRows: \u001b[22m\u001b[34m156825\u001b[39m \u001b[1mColumns: \u001b[22m\u001b[34m14\u001b[39m\n",
      "\u001b[36m--\u001b[39m \u001b[1mColumn specification\u001b[22m \u001b[36m--------------------------------------------------------\u001b[39m\n",
      "\u001b[1mDelimiter:\u001b[22m \",\"\n",
      "\u001b[31mchr\u001b[39m (2): Run_ID, Part\n",
      "\u001b[32mint\u001b[39m (2): Proximity, n_candidates\n",
      "\u001b[33mlgl\u001b[39m (1): Accuracy\n",
      "\u001b[31mfct\u001b[39m (9): Stimulus_ID, Prompt_ID, Participant_ID, Group, GroupKind, Angle, Ac...\n",
      "\n",
      "\u001b[36mi\u001b[39m Use `spec()` to retrieve the full column specification for this data.\n",
      "\u001b[36mi\u001b[39m Specify the column types or set `show_col_types = FALSE` to quiet this message.\n"
     ]
    }
   ],
   "source": [
    "options(warn=1)\n",
    "if(!require('lme4')) {\n",
    "    install.packages('lme4', repos='https://cloud.r-project.org')\n",
    "    library('lme4')\n",
    "}\n",
    "if(!require('readr')) {\n",
    "    install.packages('readr', repos='https://cloud.r-project.org')\n",
    "    library('readr')\n",
    "}\n",
    "if(!require('marginaleffects')) {\n",
    "    install.packages('marginaleffects', repos='https://cloud.r-project.org')\n",
    "    library('marginaleffects')\n",
    "}\n",
    "if(!require('emmeans')) {\n",
    "    install.packages('emmeans', repos='https://cloud.r-project.org')\n",
    "    library('emmeans')\n",
    "}\n",
    "if(!require('car')) {\n",
    "    install.packages('car', repos='https://cloud.r-project.org')\n",
    "    library('car')\n",
    "}\n",
    "df <- read_csv(\"result_1743457603_20250506_20250506F.csv\", na = \"empty\", col_select = c(\"Accuracy\", \"Group\", \"GroupKind\", \"Angle\", \"Proximity\", \"n_candidates\", \"Actor\", \"Candidates\", \"Stimulus_ID\", \"Prompt_ID\", \"Participant_ID\", \"list_id\", \"Run_ID\", \"Part\"), col_types = cols(\n",
    "    Accuracy = col_logical(),\n",
    "    Group = col_factor(),\n",
    "    GroupKind = col_factor(),\n",
    "    Angle = col_factor(),\n",
    "    Proximity = col_integer(),\n",
    "    n_candidates = col_integer(),\n",
    "    Actor = col_factor(c('X', 'Y')),\n",
    "    Candidates = col_factor(),\n",
    "    Stimulus_ID = col_factor(),\n",
    "    Prompt_ID = col_factor(),\n",
    "    Participant_ID = col_factor(),\n",
    "    list_id = col_factor(),\n",
    "    Run_ID = col_character(),\n",
    "    Part = col_character(),\n",
    "),show_col_types = TRUE)\n",
    "df <- df[df$Group == \"glm-4v-9b\" & df$list_id != -1 & df$Part != \"p0\", ]\n",
    "df$offset <- log(1/df$n_candidates / (1 - 1/df$n_candidates))"
   ]
  },
  {
   "cell_type": "code",
   "execution_count": 2,
   "metadata": {
    "vscode": {
     "languageId": "r"
    }
   },
   "outputs": [
    {
     "data": {
      "text/plain": [
       "R version 4.3.3 (2024-02-29)\n",
       "Platform: aarch64-apple-darwin20.0.0 (64-bit)\n",
       "Running under: macOS 15.5\n",
       "\n",
       "Matrix products: default\n",
       "BLAS/LAPACK: /Users/zory/miniforge3/envs/py310/lib/libopenblas.0.dylib;  LAPACK version 3.12.0\n",
       "\n",
       "locale:\n",
       "[1] C\n",
       "\n",
       "time zone: America/Los_Angeles\n",
       "tzcode source: system (macOS)\n",
       "\n",
       "attached base packages:\n",
       "[1] stats     graphics  grDevices utils     datasets  methods   base     \n",
       "\n",
       "other attached packages:\n",
       "[1] car_3.1-3              carData_3.0-5          emmeans_1.11.0        \n",
       "[4] marginaleffects_0.25.1 readr_2.1.5            lme4_1.1-35.5         \n",
       "[7] Matrix_1.6-5          \n",
       "\n",
       "loaded via a namespace (and not attached):\n",
       " [1] bit_4.6.0          jsonlite_2.0.0     compiler_4.3.3     crayon_1.5.3      \n",
       " [5] tidyselect_1.2.1   Rcpp_1.0.14        IRdisplay_1.1      parallel_4.3.3    \n",
       " [9] splines_4.3.3      boot_1.3-31        uuid_1.2-1         fastmap_1.2.0     \n",
       "[13] IRkernel_1.3.2     lattice_0.22-6     R6_2.6.1           generics_0.1.4    \n",
       "[17] Formula_1.2-5      MASS_7.3-60.0.1    backports_1.5.0    tibble_3.2.1      \n",
       "[21] nloptr_2.2.1       minqa_1.2.8        pillar_1.10.1      tzdb_0.5.0        \n",
       "[25] rlang_1.1.5        repr_1.1.6         bit64_4.6.0-1      estimability_1.5.1\n",
       "[29] cli_3.6.4          withr_3.0.2        magrittr_2.0.3     digest_0.6.37     \n",
       "[33] grid_4.3.3         vroom_1.6.5        mvtnorm_1.3-3      xtable_1.8-4      \n",
       "[37] base64enc_0.1-3    hms_1.1.3          pbdZMQ_0.3-14      lifecycle_1.0.4   \n",
       "[41] nlme_3.1-168       vctrs_0.6.5        evaluate_0.22      glue_1.8.0        \n",
       "[45] data.table_1.17.0  abind_1.4-8        tools_4.3.3        pkgconfig_2.0.3   \n",
       "[49] htmltools_0.5.8.1 "
      ]
     },
     "metadata": {},
     "output_type": "display_data"
    }
   ],
   "source": [
    "sessionInfo()"
   ]
  },
  {
   "cell_type": "markdown",
   "metadata": {},
   "source": [
    "# Fitting models"
   ]
  },
  {
   "cell_type": "code",
   "execution_count": 3,
   "metadata": {
    "vscode": {
     "languageId": "r"
    }
   },
   "outputs": [
    {
     "name": "stderr",
     "output_type": "stream",
     "text": [
      "Warning message in checkConv(attr(opt, \"derivs\"), opt$par, ctrl = control$checkConv, :\n",
      "\"Model failed to converge with max|grad| = 0.0355467 (tol = 0.002, component 1)\"\n"
     ]
    }
   ],
   "source": [
    "model1 <- glmer(Accuracy ~ Angle + scale(Proximity, scale=FALSE) + scale(n_candidates, scale=FALSE) + Actor + (1|Stimulus_ID) + (1|Prompt_ID), \n",
    "               data = df,\n",
    "               family = binomial(link = \"logit\"), \n",
    "               offset = offset)"
   ]
  },
  {
   "cell_type": "code",
   "execution_count": 4,
   "metadata": {
    "vscode": {
     "languageId": "r"
    }
   },
   "outputs": [
    {
     "name": "stderr",
     "output_type": "stream",
     "text": [
      "boundary (singular) fit: see help('isSingular')\n",
      "\n"
     ]
    }
   ],
   "source": [
    "model2 <- glmer(Accuracy ~ Angle + scale(Proximity, scale=FALSE) + scale(n_candidates, scale=FALSE) + Actor + (1|Actor:Candidates) + (1|Stimulus_ID), \n",
    "               data = df,\n",
    "               family = binomial(link = \"logit\"), \n",
    "               offset = offset)"
   ]
  },
  {
   "cell_type": "code",
   "execution_count": 5,
   "metadata": {
    "vscode": {
     "languageId": "r"
    }
   },
   "outputs": [],
   "source": [
    "model3 <- glmer(Accuracy ~ Angle + scale(Proximity, scale=FALSE) + scale(n_candidates, scale=FALSE) + Actor + (1|Stimulus_ID), \n",
    "               data = df,\n",
    "               family = binomial(link = \"logit\"), \n",
    "               offset = offset)"
   ]
  },
  {
   "cell_type": "markdown",
   "metadata": {},
   "source": [
    "# Model selection"
   ]
  },
  {
   "cell_type": "code",
   "execution_count": 6,
   "metadata": {
    "vscode": {
     "languageId": "r"
    }
   },
   "outputs": [],
   "source": [
    "model <- model3"
   ]
  },
  {
   "cell_type": "markdown",
   "metadata": {},
   "source": [
    "# Interpretation"
   ]
  },
  {
   "cell_type": "code",
   "execution_count": 7,
   "metadata": {
    "vscode": {
     "languageId": "r"
    }
   },
   "outputs": [
    {
     "data": {
      "text/plain": [
       "Generalized linear mixed model fit by maximum likelihood (Laplace\n",
       "  Approximation) [glmerMod]\n",
       " Family: binomial  ( logit )\n",
       "Formula: \n",
       "Accuracy ~ Angle + scale(Proximity, scale = FALSE) + scale(n_candidates,  \n",
       "    scale = FALSE) + Actor + (1 | Stimulus_ID)\n",
       "   Data: df\n",
       " Offset: offset\n",
       "\n",
       "     AIC      BIC   logLik deviance df.resid \n",
       "  6195.0   6244.8  -3090.5   6181.0     8993 \n",
       "\n",
       "Scaled residuals: \n",
       "     Min       1Q   Median       3Q      Max \n",
       "-2.99492 -0.13328 -0.06035  0.15027  3.09692 \n",
       "\n",
       "Random effects:\n",
       " Groups      Name        Variance Std.Dev.\n",
       " Stimulus_ID (Intercept) 25.23    5.023   \n",
       "Number of obs: 9000, groups:  Stimulus_ID, 900\n",
       "\n",
       "Fixed effects:\n",
       "                                   Estimate Std. Error z value Pr(>|z|)    \n",
       "(Intercept)                          0.5260     0.3748   1.404  0.16043    \n",
       "Angleleft                           -0.3161     0.4879  -0.648  0.51703    \n",
       "Angleright                          -0.2926     0.4889  -0.598  0.54954    \n",
       "scale(Proximity, scale = FALSE)     -0.7257     0.2490  -2.915  0.00356 ** \n",
       "scale(n_candidates, scale = FALSE)  -1.4594     0.2936  -4.970 6.69e-07 ***\n",
       "ActorY                              -1.3476     0.4177  -3.226  0.00125 ** \n",
       "---\n",
       "Signif. codes:  0 '***' 0.001 '**' 0.01 '*' 0.05 '.' 0.1 ' ' 1\n",
       "\n",
       "Correlation of Fixed Effects:\n",
       "            (Intr) Angllf Anglrg s(Ps=F s(_s=F\n",
       "Angleleft   -0.595                            \n",
       "Angleright  -0.608  0.463                     \n",
       "s(P,s=FALSE -0.002  0.019  0.027              \n",
       "s(_,s=FALSE  0.072  0.022  0.012  0.062       \n",
       "ActorY      -0.454 -0.010  0.019  0.013  0.002"
      ]
     },
     "metadata": {},
     "output_type": "display_data"
    }
   ],
   "source": [
    "summary(model)"
   ]
  },
  {
   "cell_type": "code",
   "execution_count": 8,
   "metadata": {
    "vscode": {
     "languageId": "r"
    }
   },
   "outputs": [
    {
     "data": {
      "text/html": [
       "<table class=\"dataframe\">\n",
       "<caption>A data.frame: 6 x 9</caption>\n",
       "<thead>\n",
       "\t<tr><th scope=col>term</th><th scope=col>Estimate</th><th scope=col>Std. Error</th><th scope=col>z value</th><th scope=col>Pr(&gt;|z|)</th><th scope=col>CI_low</th><th scope=col>CI_high</th><th scope=col>effect_size_denom</th><th scope=col>effect_size</th></tr>\n",
       "\t<tr><th scope=col>&lt;chr&gt;</th><th scope=col>&lt;dbl&gt;</th><th scope=col>&lt;dbl&gt;</th><th scope=col>&lt;dbl&gt;</th><th scope=col>&lt;chr&gt;</th><th scope=col>&lt;dbl&gt;</th><th scope=col>&lt;dbl&gt;</th><th scope=col>&lt;dbl&gt;</th><th scope=col>&lt;dbl&gt;</th></tr>\n",
       "</thead>\n",
       "<tbody>\n",
       "\t<tr><td>(Intercept)                       </td><td> 0.5260132</td><td>0.3747527</td><td> 1.4036275</td><td>0.1604298093792</td><td>-0.2085021</td><td> 1.2605285</td><td>5.340172</td><td> 0.09850117</td></tr>\n",
       "\t<tr><td>Angleleft                         </td><td>-0.3161462</td><td>0.4879364</td><td>-0.6479251</td><td>0.5170334015169</td><td>-1.2725015</td><td> 0.6402090</td><td>5.340172</td><td>-0.05920150</td></tr>\n",
       "\t<tr><td>Angleright                        </td><td>-0.2925773</td><td>0.4888882</td><td>-0.5984545</td><td>0.5495367089952</td><td>-1.2507981</td><td> 0.6656435</td><td>5.340172</td><td>-0.05478800</td></tr>\n",
       "\t<tr><td>scale(Proximity, scale = FALSE)   </td><td>-0.7257426</td><td>0.2489979</td><td>-2.9146534</td><td>0.0035608378311</td><td>-1.2137785</td><td>-0.2377067</td><td>5.340172</td><td>-0.13590248</td></tr>\n",
       "\t<tr><td>scale(n_candidates, scale = FALSE)</td><td>-1.4594303</td><td>0.2936401</td><td>-4.9701329</td><td>0.0000006690701</td><td>-2.0349649</td><td>-0.8838957</td><td>5.340172</td><td>-0.27329276</td></tr>\n",
       "\t<tr><td>ActorY                            </td><td>-1.3476203</td><td>0.4176765</td><td>-3.2264689</td><td>0.0012532784417</td><td>-2.1662663</td><td>-0.5289743</td><td>5.340172</td><td>-0.25235523</td></tr>\n",
       "</tbody>\n",
       "</table>\n"
      ],
      "text/latex": [
       "A data.frame: 6 x 9\n",
       "\\begin{tabular}{lllllllll}\n",
       " term & Estimate & Std. Error & z value & Pr(>\\textbar{}z\\textbar{}) & CI\\_low & CI\\_high & effect\\_size\\_denom & effect\\_size\\\\\n",
       " <chr> & <dbl> & <dbl> & <dbl> & <chr> & <dbl> & <dbl> & <dbl> & <dbl>\\\\\n",
       "\\hline\n",
       "\t (Intercept)                        &  0.5260132 & 0.3747527 &  1.4036275 & 0.1604298093792 & -0.2085021 &  1.2605285 & 5.340172 &  0.09850117\\\\\n",
       "\t Angleleft                          & -0.3161462 & 0.4879364 & -0.6479251 & 0.5170334015169 & -1.2725015 &  0.6402090 & 5.340172 & -0.05920150\\\\\n",
       "\t Angleright                         & -0.2925773 & 0.4888882 & -0.5984545 & 0.5495367089952 & -1.2507981 &  0.6656435 & 5.340172 & -0.05478800\\\\\n",
       "\t scale(Proximity, scale = FALSE)    & -0.7257426 & 0.2489979 & -2.9146534 & 0.0035608378311 & -1.2137785 & -0.2377067 & 5.340172 & -0.13590248\\\\\n",
       "\t scale(n\\_candidates, scale = FALSE) & -1.4594303 & 0.2936401 & -4.9701329 & 0.0000006690701 & -2.0349649 & -0.8838957 & 5.340172 & -0.27329276\\\\\n",
       "\t ActorY                             & -1.3476203 & 0.4176765 & -3.2264689 & 0.0012532784417 & -2.1662663 & -0.5289743 & 5.340172 & -0.25235523\\\\\n",
       "\\end{tabular}\n"
      ],
      "text/markdown": [
       "\n",
       "A data.frame: 6 x 9\n",
       "\n",
       "| term &lt;chr&gt; | Estimate &lt;dbl&gt; | Std. Error &lt;dbl&gt; | z value &lt;dbl&gt; | Pr(&gt;|z|) &lt;chr&gt; | CI_low &lt;dbl&gt; | CI_high &lt;dbl&gt; | effect_size_denom &lt;dbl&gt; | effect_size &lt;dbl&gt; |\n",
       "|---|---|---|---|---|---|---|---|---|\n",
       "| (Intercept)                        |  0.5260132 | 0.3747527 |  1.4036275 | 0.1604298093792 | -0.2085021 |  1.2605285 | 5.340172 |  0.09850117 |\n",
       "| Angleleft                          | -0.3161462 | 0.4879364 | -0.6479251 | 0.5170334015169 | -1.2725015 |  0.6402090 | 5.340172 | -0.05920150 |\n",
       "| Angleright                         | -0.2925773 | 0.4888882 | -0.5984545 | 0.5495367089952 | -1.2507981 |  0.6656435 | 5.340172 | -0.05478800 |\n",
       "| scale(Proximity, scale = FALSE)    | -0.7257426 | 0.2489979 | -2.9146534 | 0.0035608378311 | -1.2137785 | -0.2377067 | 5.340172 | -0.13590248 |\n",
       "| scale(n_candidates, scale = FALSE) | -1.4594303 | 0.2936401 | -4.9701329 | 0.0000006690701 | -2.0349649 | -0.8838957 | 5.340172 | -0.27329276 |\n",
       "| ActorY                             | -1.3476203 | 0.4176765 | -3.2264689 | 0.0012532784417 | -2.1662663 | -0.5289743 | 5.340172 | -0.25235523 |\n",
       "\n"
      ],
      "text/plain": [
       "  term                               Estimate   Std. Error z value   \n",
       "1 (Intercept)                         0.5260132 0.3747527   1.4036275\n",
       "2 Angleleft                          -0.3161462 0.4879364  -0.6479251\n",
       "3 Angleright                         -0.2925773 0.4888882  -0.5984545\n",
       "4 scale(Proximity, scale = FALSE)    -0.7257426 0.2489979  -2.9146534\n",
       "5 scale(n_candidates, scale = FALSE) -1.4594303 0.2936401  -4.9701329\n",
       "6 ActorY                             -1.3476203 0.4176765  -3.2264689\n",
       "  Pr(>|z|)        CI_low     CI_high    effect_size_denom effect_size\n",
       "1 0.1604298093792 -0.2085021  1.2605285 5.340172           0.09850117\n",
       "2 0.5170334015169 -1.2725015  0.6402090 5.340172          -0.05920150\n",
       "3 0.5495367089952 -1.2507981  0.6656435 5.340172          -0.05478800\n",
       "4 0.0035608378311 -1.2137785 -0.2377067 5.340172          -0.13590248\n",
       "5 0.0000006690701 -2.0349649 -0.8838957 5.340172          -0.27329276\n",
       "6 0.0012532784417 -2.1662663 -0.5289743 5.340172          -0.25235523"
      ]
     },
     "metadata": {},
     "output_type": "display_data"
    }
   ],
   "source": [
    "vc_list <- lapply(VarCorr(model), function(x) attr(x, \"stddev\")^2)\n",
    "vc <- sum(unlist(vc_list))\n",
    "effect_size_denom_t <- sqrt(vc + pi^2/3)\n",
    "\n",
    "res <- summary(model)$coefficients\n",
    "res <- as.data.frame(res)\n",
    "res <- cbind(term = rownames(res), res)\n",
    "rownames(res) <- NULL\n",
    "res$`Pr(>|z|)` <- format(res$`Pr(>|z|)`, scientific = FALSE)\n",
    "res$CI_low <- res$Estimate - 1.96 * res$`Std. Error`\n",
    "res$CI_high <- res$Estimate + 1.96 * res$`Std. Error`\n",
    "res$effect_size_denom <- effect_size_denom_t\n",
    "res$effect_size <- res$Estimate / effect_size_denom_t\n",
    "res"
   ]
  },
  {
   "cell_type": "code",
   "execution_count": 9,
   "metadata": {
    "vscode": {
     "languageId": "r"
    }
   },
   "outputs": [
    {
     "data": {
      "text/html": [
       "<table class=\"dataframe\">\n",
       "<caption>A predictions: 3 x 8</caption>\n",
       "<thead>\n",
       "\t<tr><th scope=col>hypothesis</th><th scope=col>estimate</th><th scope=col>std.error</th><th scope=col>statistic</th><th scope=col>p.value</th><th scope=col>s.value</th><th scope=col>conf.low</th><th scope=col>conf.high</th></tr>\n",
       "\t<tr><th scope=col>&lt;chr&gt;</th><th scope=col>&lt;dbl&gt;</th><th scope=col>&lt;dbl&gt;</th><th scope=col>&lt;dbl&gt;</th><th scope=col>&lt;dbl&gt;</th><th scope=col>&lt;dbl&gt;</th><th scope=col>&lt;dbl&gt;</th><th scope=col>&lt;dbl&gt;</th></tr>\n",
       "</thead>\n",
       "<tbody>\n",
       "\t<tr><td>(left) - (front) </td><td>-0.034456034</td><td>0.04037645</td><td>-0.8533696</td><td>0.3934544</td><td>1.3457317</td><td>-0.11359242</td><td>0.04468036</td></tr>\n",
       "\t<tr><td>(right) - (front)</td><td>-0.025989962</td><td>0.03993535</td><td>-0.6508009</td><td>0.5151750</td><td>0.9568655</td><td>-0.10426181</td><td>0.05228189</td></tr>\n",
       "\t<tr><td>(right) - (left) </td><td> 0.008466072</td><td>0.03126489</td><td> 0.2707853</td><td>0.7865562</td><td>0.3463783</td><td>-0.05281199</td><td>0.06974413</td></tr>\n",
       "</tbody>\n",
       "</table>\n"
      ],
      "text/latex": [
       "A predictions: 3 x 8\n",
       "\\begin{tabular}{llllllll}\n",
       " hypothesis & estimate & std.error & statistic & p.value & s.value & conf.low & conf.high\\\\\n",
       " <chr> & <dbl> & <dbl> & <dbl> & <dbl> & <dbl> & <dbl> & <dbl>\\\\\n",
       "\\hline\n",
       "\t (left) - (front)  & -0.034456034 & 0.04037645 & -0.8533696 & 0.3934544 & 1.3457317 & -0.11359242 & 0.04468036\\\\\n",
       "\t (right) - (front) & -0.025989962 & 0.03993535 & -0.6508009 & 0.5151750 & 0.9568655 & -0.10426181 & 0.05228189\\\\\n",
       "\t (right) - (left)  &  0.008466072 & 0.03126489 &  0.2707853 & 0.7865562 & 0.3463783 & -0.05281199 & 0.06974413\\\\\n",
       "\\end{tabular}\n"
      ],
      "text/markdown": [
       "\n",
       "A predictions: 3 x 8\n",
       "\n",
       "| hypothesis &lt;chr&gt; | estimate &lt;dbl&gt; | std.error &lt;dbl&gt; | statistic &lt;dbl&gt; | p.value &lt;dbl&gt; | s.value &lt;dbl&gt; | conf.low &lt;dbl&gt; | conf.high &lt;dbl&gt; |\n",
       "|---|---|---|---|---|---|---|---|\n",
       "| (left) - (front)  | -0.034456034 | 0.04037645 | -0.8533696 | 0.3934544 | 1.3457317 | -0.11359242 | 0.04468036 |\n",
       "| (right) - (front) | -0.025989962 | 0.03993535 | -0.6508009 | 0.5151750 | 0.9568655 | -0.10426181 | 0.05228189 |\n",
       "| (right) - (left)  |  0.008466072 | 0.03126489 |  0.2707853 | 0.7865562 | 0.3463783 | -0.05281199 | 0.06974413 |\n",
       "\n"
      ],
      "text/plain": [
       "  hypothesis        estimate     std.error  statistic  p.value   s.value  \n",
       "1 (left) - (front)  -0.034456034 0.04037645 -0.8533696 0.3934544 1.3457317\n",
       "2 (right) - (front) -0.025989962 0.03993535 -0.6508009 0.5151750 0.9568655\n",
       "3 (right) - (left)   0.008466072 0.03126489  0.2707853 0.7865562 0.3463783\n",
       "  conf.low    conf.high \n",
       "1 -0.11359242 0.04468036\n",
       "2 -0.10426181 0.05228189\n",
       "3 -0.05281199 0.06974413"
      ]
     },
     "metadata": {},
     "output_type": "display_data"
    }
   ],
   "source": [
    "avg_predictions(model, by=\"Angle\", hypothesis = ~ pairwise)"
   ]
  },
  {
   "cell_type": "code",
   "execution_count": 10,
   "metadata": {
    "vscode": {
     "languageId": "r"
    }
   },
   "outputs": [
    {
     "data": {
      "text/html": [
       "<table class=\"dataframe\">\n",
       "<caption>A predictions: 3 x 8</caption>\n",
       "<thead>\n",
       "\t<tr><th scope=col>Proximity</th><th scope=col>estimate</th><th scope=col>std.error</th><th scope=col>statistic</th><th scope=col>p.value</th><th scope=col>s.value</th><th scope=col>conf.low</th><th scope=col>conf.high</th></tr>\n",
       "\t<tr><th scope=col>&lt;int&gt;</th><th scope=col>&lt;dbl&gt;</th><th scope=col>&lt;dbl&gt;</th><th scope=col>&lt;dbl&gt;</th><th scope=col>&lt;dbl&gt;</th><th scope=col>&lt;dbl&gt;</th><th scope=col>&lt;dbl&gt;</th><th scope=col>&lt;dbl&gt;</th></tr>\n",
       "</thead>\n",
       "<tbody>\n",
       "\t<tr><td>1</td><td>0.5394280</td><td>0.02598580</td><td>20.75857</td><td> 1.025672e-95</td><td>315.5466</td><td>0.4884968</td><td>0.5903593</td></tr>\n",
       "\t<tr><td>2</td><td>0.4950284</td><td>0.01594441</td><td>31.04715</td><td>1.246547e-211</td><td>700.6089</td><td>0.4637779</td><td>0.5262788</td></tr>\n",
       "\t<tr><td>3</td><td>0.4471912</td><td>0.02225379</td><td>20.09506</td><td> 8.151388e-90</td><td>295.9465</td><td>0.4035746</td><td>0.4908078</td></tr>\n",
       "</tbody>\n",
       "</table>\n"
      ],
      "text/latex": [
       "A predictions: 3 x 8\n",
       "\\begin{tabular}{llllllll}\n",
       " Proximity & estimate & std.error & statistic & p.value & s.value & conf.low & conf.high\\\\\n",
       " <int> & <dbl> & <dbl> & <dbl> & <dbl> & <dbl> & <dbl> & <dbl>\\\\\n",
       "\\hline\n",
       "\t 1 & 0.5394280 & 0.02598580 & 20.75857 &  1.025672e-95 & 315.5466 & 0.4884968 & 0.5903593\\\\\n",
       "\t 2 & 0.4950284 & 0.01594441 & 31.04715 & 1.246547e-211 & 700.6089 & 0.4637779 & 0.5262788\\\\\n",
       "\t 3 & 0.4471912 & 0.02225379 & 20.09506 &  8.151388e-90 & 295.9465 & 0.4035746 & 0.4908078\\\\\n",
       "\\end{tabular}\n"
      ],
      "text/markdown": [
       "\n",
       "A predictions: 3 x 8\n",
       "\n",
       "| Proximity &lt;int&gt; | estimate &lt;dbl&gt; | std.error &lt;dbl&gt; | statistic &lt;dbl&gt; | p.value &lt;dbl&gt; | s.value &lt;dbl&gt; | conf.low &lt;dbl&gt; | conf.high &lt;dbl&gt; |\n",
       "|---|---|---|---|---|---|---|---|\n",
       "| 1 | 0.5394280 | 0.02598580 | 20.75857 |  1.025672e-95 | 315.5466 | 0.4884968 | 0.5903593 |\n",
       "| 2 | 0.4950284 | 0.01594441 | 31.04715 | 1.246547e-211 | 700.6089 | 0.4637779 | 0.5262788 |\n",
       "| 3 | 0.4471912 | 0.02225379 | 20.09506 |  8.151388e-90 | 295.9465 | 0.4035746 | 0.4908078 |\n",
       "\n"
      ],
      "text/plain": [
       "  Proximity estimate  std.error  statistic p.value       s.value  conf.low \n",
       "1 1         0.5394280 0.02598580 20.75857   1.025672e-95 315.5466 0.4884968\n",
       "2 2         0.4950284 0.01594441 31.04715  1.246547e-211 700.6089 0.4637779\n",
       "3 3         0.4471912 0.02225379 20.09506   8.151388e-90 295.9465 0.4035746\n",
       "  conf.high\n",
       "1 0.5903593\n",
       "2 0.5262788\n",
       "3 0.4908078"
      ]
     },
     "metadata": {},
     "output_type": "display_data"
    }
   ],
   "source": [
    "avg_predictions(model, by=\"Proximity\")"
   ]
  },
  {
   "cell_type": "code",
   "execution_count": 11,
   "metadata": {
    "vscode": {
     "languageId": "r"
    }
   },
   "outputs": [
    {
     "data": {
      "text/html": [
       "<table class=\"dataframe\">\n",
       "<caption>A slopes: 1 x 12</caption>\n",
       "<thead>\n",
       "\t<tr><th scope=col>term</th><th scope=col>contrast</th><th scope=col>estimate</th><th scope=col>std.error</th><th scope=col>statistic</th><th scope=col>p.value</th><th scope=col>s.value</th><th scope=col>conf.low</th><th scope=col>conf.high</th><th scope=col>predicted_lo</th><th scope=col>predicted_hi</th><th scope=col>predicted</th></tr>\n",
       "\t<tr><th scope=col>&lt;chr&gt;</th><th scope=col>&lt;chr&gt;</th><th scope=col>&lt;dbl&gt;</th><th scope=col>&lt;dbl&gt;</th><th scope=col>&lt;dbl&gt;</th><th scope=col>&lt;dbl&gt;</th><th scope=col>&lt;dbl&gt;</th><th scope=col>&lt;dbl&gt;</th><th scope=col>&lt;dbl&gt;</th><th scope=col>&lt;dbl&gt;</th><th scope=col>&lt;dbl&gt;</th><th scope=col>&lt;dbl&gt;</th></tr>\n",
       "</thead>\n",
       "<tbody>\n",
       "\t<tr><td>Proximity</td><td>dY/dX</td><td>-0.7257426</td><td>0.2490005</td><td>-2.914623</td><td>0.003561179</td><td>8.133429</td><td>-1.213775</td><td>-0.2377106</td><td>-0.3880239</td><td>-0.388169</td><td>-0.3880964</td></tr>\n",
       "</tbody>\n",
       "</table>\n"
      ],
      "text/latex": [
       "A slopes: 1 x 12\n",
       "\\begin{tabular}{llllllllllll}\n",
       " term & contrast & estimate & std.error & statistic & p.value & s.value & conf.low & conf.high & predicted\\_lo & predicted\\_hi & predicted\\\\\n",
       " <chr> & <chr> & <dbl> & <dbl> & <dbl> & <dbl> & <dbl> & <dbl> & <dbl> & <dbl> & <dbl> & <dbl>\\\\\n",
       "\\hline\n",
       "\t Proximity & dY/dX & -0.7257426 & 0.2490005 & -2.914623 & 0.003561179 & 8.133429 & -1.213775 & -0.2377106 & -0.3880239 & -0.388169 & -0.3880964\\\\\n",
       "\\end{tabular}\n"
      ],
      "text/markdown": [
       "\n",
       "A slopes: 1 x 12\n",
       "\n",
       "| term &lt;chr&gt; | contrast &lt;chr&gt; | estimate &lt;dbl&gt; | std.error &lt;dbl&gt; | statistic &lt;dbl&gt; | p.value &lt;dbl&gt; | s.value &lt;dbl&gt; | conf.low &lt;dbl&gt; | conf.high &lt;dbl&gt; | predicted_lo &lt;dbl&gt; | predicted_hi &lt;dbl&gt; | predicted &lt;dbl&gt; |\n",
       "|---|---|---|---|---|---|---|---|---|---|---|---|\n",
       "| Proximity | dY/dX | -0.7257426 | 0.2490005 | -2.914623 | 0.003561179 | 8.133429 | -1.213775 | -0.2377106 | -0.3880239 | -0.388169 | -0.3880964 |\n",
       "\n"
      ],
      "text/plain": [
       "  term      contrast estimate   std.error statistic p.value     s.value \n",
       "1 Proximity dY/dX    -0.7257426 0.2490005 -2.914623 0.003561179 8.133429\n",
       "  conf.low  conf.high  predicted_lo predicted_hi predicted \n",
       "1 -1.213775 -0.2377106 -0.3880239   -0.388169    -0.3880964"
      ]
     },
     "metadata": {},
     "output_type": "display_data"
    }
   ],
   "source": [
    "avg_slopes(model, variables =\"Proximity\", type = \"link\")"
   ]
  },
  {
   "cell_type": "code",
   "execution_count": 12,
   "metadata": {
    "vscode": {
     "languageId": "r"
    }
   },
   "outputs": [
    {
     "data": {
      "text/html": [
       "<table class=\"dataframe\">\n",
       "<caption>A predictions: 3 x 8</caption>\n",
       "<thead>\n",
       "\t<tr><th scope=col>n_candidates</th><th scope=col>estimate</th><th scope=col>std.error</th><th scope=col>statistic</th><th scope=col>p.value</th><th scope=col>s.value</th><th scope=col>conf.low</th><th scope=col>conf.high</th></tr>\n",
       "\t<tr><th scope=col>&lt;int&gt;</th><th scope=col>&lt;dbl&gt;</th><th scope=col>&lt;dbl&gt;</th><th scope=col>&lt;dbl&gt;</th><th scope=col>&lt;dbl&gt;</th><th scope=col>&lt;dbl&gt;</th><th scope=col>&lt;dbl&gt;</th><th scope=col>&lt;dbl&gt;</th></tr>\n",
       "</thead>\n",
       "<tbody>\n",
       "\t<tr><td>2</td><td>0.5428281</td><td>0.02239683</td><td>24.23683</td><td>9.104532e-130</td><td>428.6641</td><td>0.4989311</td><td>0.5867250</td></tr>\n",
       "\t<tr><td>3</td><td>0.4613454</td><td>0.01620656</td><td>28.46659</td><td>3.037684e-178</td><td>589.7002</td><td>0.4295811</td><td>0.4931096</td></tr>\n",
       "\t<tr><td>4</td><td>0.3676835</td><td>0.02142979</td><td>17.15759</td><td> 5.515654e-66</td><td>216.7837</td><td>0.3256819</td><td>0.4096851</td></tr>\n",
       "</tbody>\n",
       "</table>\n"
      ],
      "text/latex": [
       "A predictions: 3 x 8\n",
       "\\begin{tabular}{llllllll}\n",
       " n\\_candidates & estimate & std.error & statistic & p.value & s.value & conf.low & conf.high\\\\\n",
       " <int> & <dbl> & <dbl> & <dbl> & <dbl> & <dbl> & <dbl> & <dbl>\\\\\n",
       "\\hline\n",
       "\t 2 & 0.5428281 & 0.02239683 & 24.23683 & 9.104532e-130 & 428.6641 & 0.4989311 & 0.5867250\\\\\n",
       "\t 3 & 0.4613454 & 0.01620656 & 28.46659 & 3.037684e-178 & 589.7002 & 0.4295811 & 0.4931096\\\\\n",
       "\t 4 & 0.3676835 & 0.02142979 & 17.15759 &  5.515654e-66 & 216.7837 & 0.3256819 & 0.4096851\\\\\n",
       "\\end{tabular}\n"
      ],
      "text/markdown": [
       "\n",
       "A predictions: 3 x 8\n",
       "\n",
       "| n_candidates &lt;int&gt; | estimate &lt;dbl&gt; | std.error &lt;dbl&gt; | statistic &lt;dbl&gt; | p.value &lt;dbl&gt; | s.value &lt;dbl&gt; | conf.low &lt;dbl&gt; | conf.high &lt;dbl&gt; |\n",
       "|---|---|---|---|---|---|---|---|\n",
       "| 2 | 0.5428281 | 0.02239683 | 24.23683 | 9.104532e-130 | 428.6641 | 0.4989311 | 0.5867250 |\n",
       "| 3 | 0.4613454 | 0.01620656 | 28.46659 | 3.037684e-178 | 589.7002 | 0.4295811 | 0.4931096 |\n",
       "| 4 | 0.3676835 | 0.02142979 | 17.15759 |  5.515654e-66 | 216.7837 | 0.3256819 | 0.4096851 |\n",
       "\n"
      ],
      "text/plain": [
       "  n_candidates estimate  std.error  statistic p.value       s.value  conf.low \n",
       "1 2            0.5428281 0.02239683 24.23683  9.104532e-130 428.6641 0.4989311\n",
       "2 3            0.4613454 0.01620656 28.46659  3.037684e-178 589.7002 0.4295811\n",
       "3 4            0.3676835 0.02142979 17.15759   5.515654e-66 216.7837 0.3256819\n",
       "  conf.high\n",
       "1 0.5867250\n",
       "2 0.4931096\n",
       "3 0.4096851"
      ]
     },
     "metadata": {},
     "output_type": "display_data"
    }
   ],
   "source": [
    "avg_predictions(model, by=\"n_candidates\")"
   ]
  },
  {
   "cell_type": "code",
   "execution_count": 13,
   "metadata": {
    "vscode": {
     "languageId": "r"
    }
   },
   "outputs": [
    {
     "data": {
      "text/html": [
       "<table class=\"dataframe\">\n",
       "<caption>A slopes: 1 x 12</caption>\n",
       "<thead>\n",
       "\t<tr><th scope=col>term</th><th scope=col>contrast</th><th scope=col>estimate</th><th scope=col>std.error</th><th scope=col>statistic</th><th scope=col>p.value</th><th scope=col>s.value</th><th scope=col>conf.low</th><th scope=col>conf.high</th><th scope=col>predicted_lo</th><th scope=col>predicted_hi</th><th scope=col>predicted</th></tr>\n",
       "\t<tr><th scope=col>&lt;chr&gt;</th><th scope=col>&lt;chr&gt;</th><th scope=col>&lt;dbl&gt;</th><th scope=col>&lt;dbl&gt;</th><th scope=col>&lt;dbl&gt;</th><th scope=col>&lt;dbl&gt;</th><th scope=col>&lt;dbl&gt;</th><th scope=col>&lt;dbl&gt;</th><th scope=col>&lt;dbl&gt;</th><th scope=col>&lt;dbl&gt;</th><th scope=col>&lt;dbl&gt;</th><th scope=col>&lt;dbl&gt;</th></tr>\n",
       "</thead>\n",
       "<tbody>\n",
       "\t<tr><td>n_candidates</td><td>dY/dX</td><td>-1.45943</td><td>0.2936426</td><td>-4.970091</td><td>6.692156e-07</td><td>20.51103</td><td>-2.034959</td><td>-0.8839014</td><td>-0.3879505</td><td>-0.3882424</td><td>-0.3880964</td></tr>\n",
       "</tbody>\n",
       "</table>\n"
      ],
      "text/latex": [
       "A slopes: 1 x 12\n",
       "\\begin{tabular}{llllllllllll}\n",
       " term & contrast & estimate & std.error & statistic & p.value & s.value & conf.low & conf.high & predicted\\_lo & predicted\\_hi & predicted\\\\\n",
       " <chr> & <chr> & <dbl> & <dbl> & <dbl> & <dbl> & <dbl> & <dbl> & <dbl> & <dbl> & <dbl> & <dbl>\\\\\n",
       "\\hline\n",
       "\t n\\_candidates & dY/dX & -1.45943 & 0.2936426 & -4.970091 & 6.692156e-07 & 20.51103 & -2.034959 & -0.8839014 & -0.3879505 & -0.3882424 & -0.3880964\\\\\n",
       "\\end{tabular}\n"
      ],
      "text/markdown": [
       "\n",
       "A slopes: 1 x 12\n",
       "\n",
       "| term &lt;chr&gt; | contrast &lt;chr&gt; | estimate &lt;dbl&gt; | std.error &lt;dbl&gt; | statistic &lt;dbl&gt; | p.value &lt;dbl&gt; | s.value &lt;dbl&gt; | conf.low &lt;dbl&gt; | conf.high &lt;dbl&gt; | predicted_lo &lt;dbl&gt; | predicted_hi &lt;dbl&gt; | predicted &lt;dbl&gt; |\n",
       "|---|---|---|---|---|---|---|---|---|---|---|---|\n",
       "| n_candidates | dY/dX | -1.45943 | 0.2936426 | -4.970091 | 6.692156e-07 | 20.51103 | -2.034959 | -0.8839014 | -0.3879505 | -0.3882424 | -0.3880964 |\n",
       "\n"
      ],
      "text/plain": [
       "  term         contrast estimate std.error statistic p.value      s.value \n",
       "1 n_candidates dY/dX    -1.45943 0.2936426 -4.970091 6.692156e-07 20.51103\n",
       "  conf.low  conf.high  predicted_lo predicted_hi predicted \n",
       "1 -2.034959 -0.8839014 -0.3879505   -0.3882424   -0.3880964"
      ]
     },
     "metadata": {},
     "output_type": "display_data"
    }
   ],
   "source": [
    "avg_slopes(model, variables =\"n_candidates\", type = \"link\")"
   ]
  },
  {
   "cell_type": "code",
   "execution_count": 14,
   "metadata": {
    "vscode": {
     "languageId": "r"
    }
   },
   "outputs": [
    {
     "data": {
      "text/html": [
       "<table class=\"dataframe\">\n",
       "<caption>A predictions: 1 x 8</caption>\n",
       "<thead>\n",
       "\t<tr><th scope=col>hypothesis</th><th scope=col>estimate</th><th scope=col>std.error</th><th scope=col>statistic</th><th scope=col>p.value</th><th scope=col>s.value</th><th scope=col>conf.low</th><th scope=col>conf.high</th></tr>\n",
       "\t<tr><th scope=col>&lt;chr&gt;</th><th scope=col>&lt;dbl&gt;</th><th scope=col>&lt;dbl&gt;</th><th scope=col>&lt;dbl&gt;</th><th scope=col>&lt;dbl&gt;</th><th scope=col>&lt;dbl&gt;</th><th scope=col>&lt;dbl&gt;</th><th scope=col>&lt;dbl&gt;</th></tr>\n",
       "</thead>\n",
       "<tbody>\n",
       "\t<tr><td>(Y) - (X)</td><td>-0.1010455</td><td>0.03026941</td><td>-3.338207</td><td>0.0008432096</td><td>10.21182</td><td>-0.1603725</td><td>-0.0417186</td></tr>\n",
       "</tbody>\n",
       "</table>\n"
      ],
      "text/latex": [
       "A predictions: 1 x 8\n",
       "\\begin{tabular}{llllllll}\n",
       " hypothesis & estimate & std.error & statistic & p.value & s.value & conf.low & conf.high\\\\\n",
       " <chr> & <dbl> & <dbl> & <dbl> & <dbl> & <dbl> & <dbl> & <dbl>\\\\\n",
       "\\hline\n",
       "\t (Y) - (X) & -0.1010455 & 0.03026941 & -3.338207 & 0.0008432096 & 10.21182 & -0.1603725 & -0.0417186\\\\\n",
       "\\end{tabular}\n"
      ],
      "text/markdown": [
       "\n",
       "A predictions: 1 x 8\n",
       "\n",
       "| hypothesis &lt;chr&gt; | estimate &lt;dbl&gt; | std.error &lt;dbl&gt; | statistic &lt;dbl&gt; | p.value &lt;dbl&gt; | s.value &lt;dbl&gt; | conf.low &lt;dbl&gt; | conf.high &lt;dbl&gt; |\n",
       "|---|---|---|---|---|---|---|---|\n",
       "| (Y) - (X) | -0.1010455 | 0.03026941 | -3.338207 | 0.0008432096 | 10.21182 | -0.1603725 | -0.0417186 |\n",
       "\n"
      ],
      "text/plain": [
       "  hypothesis estimate   std.error  statistic p.value      s.value  conf.low  \n",
       "1 (Y) - (X)  -0.1010455 0.03026941 -3.338207 0.0008432096 10.21182 -0.1603725\n",
       "  conf.high \n",
       "1 -0.0417186"
      ]
     },
     "metadata": {},
     "output_type": "display_data"
    }
   ],
   "source": [
    "avg_predictions(model, by=\"Actor\", hypothesis = ~ pairwise)"
   ]
  },
  {
   "cell_type": "markdown",
   "metadata": {},
   "source": [
    "The below code is for generating the table in the paper."
   ]
  },
  {
   "cell_type": "code",
   "execution_count": 15,
   "metadata": {
    "vscode": {
     "languageId": "r"
    }
   },
   "outputs": [
    {
     "name": "stdout",
     "output_type": "stream",
     "text": [
      "25.2275666\n",
      "NA\n",
      "NA\n",
      "5.3401718\n",
      "0.5260132\n",
      "0.3747527\n",
      "-0.3161462\n",
      "0.4879364\n",
      "0.5170334\n",
      "-0.0592015\n",
      "-0.2925773\n",
      "0.4888882\n",
      "0.5495367\n",
      "-0.0547880\n",
      "-0.7257426\n",
      "0.2489979\n",
      "0.0035608\n",
      "-0.1359025\n",
      "-1.4594303\n",
      "0.2936401\n",
      "0.0000007\n",
      "-0.2732928\n",
      "-1.3476203\n",
      "0.4176765\n",
      "0.0012533\n",
      "-0.2523552\n"
     ]
    }
   ],
   "source": [
    "stim_id_var_val <- if (!is.null(vc_list$Stimulus_ID) && length(vc_list$Stimulus_ID) > 0) vc_list$Stimulus_ID[[1]] else NA_real_\n",
    "prompt_id_var_val <- if (!is.null(vc_list$Prompt_ID) && length(vc_list$Prompt_ID) > 0) vc_list$Prompt_ID[[1]] else NA_real_\n",
    "participant_id_var_val <- if (!is.null(vc_list$Participant_ID) && length(vc_list$Participant_ID) > 0) vc_list$Participant_ID[[1]] else NA_real_\n",
    "\n",
    "intercept_est <- res[res$term == \"(Intercept)\", \"Estimate\"]\n",
    "intercept_se <- res[res$term == \"(Intercept)\", \"Std. Error\"]\n",
    "\n",
    "angleleft_est <- res[res$term == \"Angleleft\", \"Estimate\"]\n",
    "angleleft_se <- res[res$term == \"Angleleft\", \"Std. Error\"]\n",
    "angleleft_p_val <- res[res$term == \"Angleleft\", \"Pr(>|z|)\"]\n",
    "angleleft_eff_size <- res[res$term == \"Angleleft\", \"effect_size\"]\n",
    "\n",
    "angleright_est <- res[res$term == \"Angleright\", \"Estimate\"]\n",
    "angleright_se <- res[res$term == \"Angleright\", \"Std. Error\"]\n",
    "angleright_p_val <- res[res$term == \"Angleright\", \"Pr(>|z|)\"]\n",
    "angleright_eff_size <- res[res$term == \"Angleright\", \"effect_size\"]\n",
    "\n",
    "proximity_term_name <- \"scale(Proximity, scale = FALSE)\"\n",
    "if (!proximity_term_name %in% res$term) {\n",
    "    proximity_term_name <- grep(\"Proximity\", res$term, value = TRUE)[1]\n",
    "}\n",
    "proximity_est <- res[res$term == proximity_term_name, \"Estimate\"]\n",
    "proximity_se <- res[res$term == proximity_term_name, \"Std. Error\"]\n",
    "proximity_p_val <- res[res$term == proximity_term_name, \"Pr(>|z|)\"]\n",
    "proximity_eff_size <- res[res$term == proximity_term_name, \"effect_size\"]\n",
    "\n",
    "n_candidates_term_name <- \"scale(n_candidates, scale = FALSE)\"\n",
    "if (!n_candidates_term_name %in% res$term) {\n",
    "    n_candidates_term_name <- grep(\"n_candidates\", res$term, value = TRUE)[1]\n",
    "}\n",
    "n_obj_est <- res[res$term == n_candidates_term_name, \"Estimate\"]\n",
    "n_obj_se <- res[res$term == n_candidates_term_name, \"Std. Error\"]\n",
    "n_obj_p_val <- res[res$term == n_candidates_term_name, \"Pr(>|z|)\"]\n",
    "n_obj_eff_size <- res[res$term == n_candidates_term_name, \"effect_size\"]\n",
    "\n",
    "actory_term_name <- \"ActorY\" # Assuming 'X' is the reference level for Actor factor\n",
    "actory_est <- res[res$term == actory_term_name, \"Estimate\"]\n",
    "actory_se <- res[res$term == actory_term_name, \"Std. Error\"]\n",
    "actory_p_val <- res[res$term == actory_term_name, \"Pr(>|z|)\"]\n",
    "actory_eff_size <- res[res$term == actory_term_name, \"effect_size\"]\n",
    "\n",
    "# Prepare data for data frame\n",
    "table_data <- list(\n",
    "    c(\"StimulusID\", \"Variance\", sprintf(\"%.7f\", stim_id_var_val)),\n",
    "    c(\"ParticipantID\", \"Variance\", sprintf(\"%.7f\", participant_id_var_val)),\n",
    "    c(\"PromptID\", \"Variance\", sprintf(\"%.7f\", prompt_id_var_val)),\n",
    "    c(\"Effect Size Denom\", \"\", sprintf(\"%.7f\", effect_size_denom_t)),\n",
    "\n",
    "    c(\"Intercept\", \"b\", sprintf(\"%.7f\", intercept_est)),\n",
    "    c(\"\", \"SE\", sprintf(\"%.7f\", intercept_se)),\n",
    "\n",
    "    c(\"Angleleft\", \"b\", sprintf(\"%.7f\", angleleft_est)),\n",
    "    c(\"\", \"SE\", sprintf(\"%.7f\", angleleft_se)),\n",
    "    c(\"\", \"p\", sprintf(\"%.7f\", as.numeric(angleleft_p_val))),\n",
    "    c(\"\", \"Effect size\", sprintf(\"%.7f\", angleleft_eff_size)),\n",
    "\n",
    "    c(\"Angleright\", \"b\", sprintf(\"%.7f\", angleright_est)),\n",
    "    c(\"\", \"SE\", sprintf(\"%.7f\", angleright_se)),\n",
    "    c(\"\", \"p\", sprintf(\"%.7f\", as.numeric(angleright_p_val))),\n",
    "    c(\"\", \"Effect size\", sprintf(\"%.7f\", angleright_eff_size)),\n",
    "\n",
    "    c(\"Proximity\", \"b\", sprintf(\"%.7f\", proximity_est)),\n",
    "    c(\"\", \"SE\", sprintf(\"%.7f\", proximity_se)),\n",
    "    c(\"\", \"p\", sprintf(\"%.7f\", as.numeric(proximity_p_val))),\n",
    "    c(\"\", \"Effect size\", sprintf(\"%.7f\", proximity_eff_size)),\n",
    "\n",
    "    c(\"#Object\", \"b\", sprintf(\"%.7f\", n_obj_est)),\n",
    "    c(\"\", \"SE\", sprintf(\"%.7f\", n_obj_se)),\n",
    "    c(\"\", \"p\", sprintf(\"%.7f\", as.numeric(n_obj_p_val))),\n",
    "    c(\"\", \"Effect size\", sprintf(\"%.7f\", n_obj_eff_size)),\n",
    "\n",
    "    c(\"ActorY\", \"b\", sprintf(\"%.7f\", actory_est)),\n",
    "    c(\"\", \"SE\", sprintf(\"%.7f\", actory_se)),\n",
    "    c(\"\", \"p\", sprintf(\"%.7f\", as.numeric(actory_p_val))),\n",
    "    c(\"\", \"Effect size\", sprintf(\"%.7f\", actory_eff_size))\n",
    ")\n",
    "\n",
    "# Convert to data frame\n",
    "df_output <- do.call(rbind, lapply(table_data, function(x) data.frame(V1=x[1], V2=x[2], V3=x[3], stringsAsFactors=FALSE)))\n",
    "\n",
    "# Print only the third column for easy copy-pasting to Excel\n",
    "write.table(df_output[,3, drop=FALSE], file=\"\", sep = \"\\t\", row.names = FALSE, col.names = FALSE, quote = FALSE)"
   ]
  }
 ],
 "metadata": {
  "kernelspec": {
   "display_name": "R",
   "language": "R",
   "name": "ir"
  },
  "language_info": {
   "codemirror_mode": "r",
   "file_extension": ".r",
   "mimetype": "text/x-r-source",
   "name": "R",
   "pygments_lexer": "r",
   "version": "4.3.3"
  }
 },
 "nbformat": 4,
 "nbformat_minor": 2
}
