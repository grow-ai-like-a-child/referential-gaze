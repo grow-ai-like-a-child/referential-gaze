{
 "cells": [
  {
   "cell_type": "markdown",
   "metadata": {},
   "source": [
    "# Loading Responses"
   ]
  },
  {
   "cell_type": "code",
   "execution_count": 1,
   "metadata": {
    "vscode": {
     "languageId": "r"
    }
   },
   "outputs": [
    {
     "name": "stderr",
     "output_type": "stream",
     "text": [
      "Loading required package: lme4\n",
      "\n",
      "Loading required package: Matrix\n",
      "\n",
      "Loading required package: readr\n",
      "\n",
      "Loading required package: marginaleffects\n",
      "\n",
      "Loading required package: emmeans\n",
      "\n",
      "Welcome to emmeans.\n",
      "Caution: You lose important information if you filter this package's results.\n",
      "See '? untidy'\n",
      "\n",
      "Loading required package: car\n",
      "\n",
      "Loading required package: carData\n",
      "\n",
      "\u001b[1mRows: \u001b[22m\u001b[34m156780\u001b[39m \u001b[1mColumns: \u001b[22m\u001b[34m14\u001b[39m\n",
      "\u001b[36m──\u001b[39m \u001b[1mColumn specification\u001b[22m \u001b[36m────────────────────────────────────────────────────────────────\u001b[39m\n",
      "\u001b[1mDelimiter:\u001b[22m \",\"\n",
      "\u001b[31mchr\u001b[39m (2): Run_ID, Part\n",
      "\u001b[32mint\u001b[39m (2): Proximity, n_candidates\n",
      "\u001b[33mlgl\u001b[39m (1): Accuracy\n",
      "\u001b[31mfct\u001b[39m (9): Stimulus_ID, Prompt_ID, Participant_ID, Group, GroupKind, Angle, Ac...\n",
      "\n",
      "\u001b[36mℹ\u001b[39m Use `spec()` to retrieve the full column specification for this data.\n",
      "\u001b[36mℹ\u001b[39m Specify the column types or set `show_col_types = FALSE` to quiet this message.\n"
     ]
    }
   ],
   "source": [
    "options(warn=1)\n",
    "if(!require('lme4')) {\n",
    "    install.packages('lme4', repos='https://cloud.r-project.org')\n",
    "    library('lme4')\n",
    "}\n",
    "if(!require('readr')) {\n",
    "    install.packages('readr', repos='https://cloud.r-project.org')\n",
    "    library('readr')\n",
    "}\n",
    "if(!require('marginaleffects')) {\n",
    "    install.packages('marginaleffects', repos='https://cloud.r-project.org')\n",
    "    library('marginaleffects')\n",
    "}\n",
    "if(!require('emmeans')) {\n",
    "    install.packages('emmeans', repos='https://cloud.r-project.org')\n",
    "    library('emmeans')\n",
    "}\n",
    "if(!require('car')) {\n",
    "    install.packages('car', repos='https://cloud.r-project.org')\n",
    "    library('car')\n",
    "}\n",
    "df <- read_csv(\"gaze-analysis/result_1743457603_20250506_20250506F.csv\", na = \"empty\", col_select = c(\"Accuracy\", \"Group\", \"GroupKind\", \"Angle\", \"Proximity\", \"n_candidates\", \"Actor\", \"Candidates\", \"Stimulus_ID\", \"Prompt_ID\", \"Participant_ID\", \"list_id\", \"Run_ID\", \"Part\"), col_types = cols(\n",
    "    Accuracy = col_logical(),\n",
    "    Group = col_factor(),\n",
    "    GroupKind = col_factor(),\n",
    "    Angle = col_factor(),\n",
    "    Proximity = col_integer(),\n",
    "    n_candidates = col_integer(),\n",
    "    Actor = col_factor(c('X', 'Y')),\n",
    "    Candidates = col_factor(),\n",
    "    Stimulus_ID = col_factor(),\n",
    "    Prompt_ID = col_factor(),\n",
    "    Participant_ID = col_factor(),\n",
    "    list_id = col_factor(),\n",
    "    Run_ID = col_character(),\n",
    "    Part = col_character(),\n",
    "),show_col_types = TRUE)\n",
    "df <- df[df$Group == \"glm-4v-9b\" & df$list_id != -1 & df$Part != \"p0\", ]\n",
    "df$offset <- log(1/df$n_candidates / (1 - 1/df$n_candidates))"
   ]
  },
  {
   "cell_type": "markdown",
   "metadata": {},
   "source": [
    "# Fitting models"
   ]
  },
  {
   "cell_type": "code",
   "execution_count": 2,
   "metadata": {
    "vscode": {
     "languageId": "r"
    }
   },
   "outputs": [
    {
     "name": "stderr",
     "output_type": "stream",
     "text": [
      "Warning message in checkConv(attr(opt, \"derivs\"), opt$par, ctrl = control$checkConv, :\n",
      "“Model failed to converge with max|grad| = 0.0355467 (tol = 0.002, component 1)”\n"
     ]
    }
   ],
   "source": [
    "model1 <- glmer(Accuracy ~ Angle + scale(Proximity, scale=FALSE) + scale(n_candidates, scale=FALSE) + Actor + (1|Stimulus_ID) + (1|Prompt_ID), \n",
    "               data = df,\n",
    "               family = binomial(link = \"logit\"), \n",
    "               offset = offset)"
   ]
  },
  {
   "cell_type": "code",
   "execution_count": 3,
   "metadata": {
    "vscode": {
     "languageId": "r"
    }
   },
   "outputs": [
    {
     "name": "stderr",
     "output_type": "stream",
     "text": [
      "boundary (singular) fit: see help('isSingular')\n",
      "\n"
     ]
    }
   ],
   "source": [
    "model2 <- glmer(Accuracy ~ Angle + scale(Proximity, scale=FALSE) + scale(n_candidates, scale=FALSE) + Actor + (1|Actor:Candidates) + (1|Stimulus_ID), \n",
    "               data = df,\n",
    "               family = binomial(link = \"logit\"), \n",
    "               offset = offset)"
   ]
  },
  {
   "cell_type": "code",
   "execution_count": 4,
   "metadata": {
    "vscode": {
     "languageId": "r"
    }
   },
   "outputs": [],
   "source": [
    "model3 <- glmer(Accuracy ~ Angle + scale(Proximity, scale=FALSE) + scale(n_candidates, scale=FALSE) + Actor + (1|Stimulus_ID), \n",
    "               data = df,\n",
    "               family = binomial(link = \"logit\"), \n",
    "               offset = offset)"
   ]
  },
  {
   "cell_type": "markdown",
   "metadata": {},
   "source": [
    "# Model selection"
   ]
  },
  {
   "cell_type": "code",
   "execution_count": 5,
   "metadata": {
    "vscode": {
     "languageId": "r"
    }
   },
   "outputs": [],
   "source": [
    "model <- model3"
   ]
  },
  {
   "cell_type": "markdown",
   "metadata": {},
   "source": [
    "# Interpretation"
   ]
  },
  {
   "cell_type": "code",
   "execution_count": 6,
   "metadata": {
    "vscode": {
     "languageId": "r"
    }
   },
   "outputs": [
    {
     "data": {
      "text/plain": [
       "Generalized linear mixed model fit by maximum likelihood (Laplace\n",
       "  Approximation) [glmerMod]\n",
       " Family: binomial  ( logit )\n",
       "Formula: \n",
       "Accuracy ~ Angle + scale(Proximity, scale = FALSE) + scale(n_candidates,  \n",
       "    scale = FALSE) + Actor + (1 | Stimulus_ID)\n",
       "   Data: df\n",
       " Offset: offset\n",
       "\n",
       "     AIC      BIC   logLik deviance df.resid \n",
       "  6195.0   6244.8  -3090.5   6181.0     8993 \n",
       "\n",
       "Scaled residuals: \n",
       "     Min       1Q   Median       3Q      Max \n",
       "-2.99492 -0.13328 -0.06035  0.15027  3.09692 \n",
       "\n",
       "Random effects:\n",
       " Groups      Name        Variance Std.Dev.\n",
       " Stimulus_ID (Intercept) 25.23    5.023   \n",
       "Number of obs: 9000, groups:  Stimulus_ID, 900\n",
       "\n",
       "Fixed effects:\n",
       "                                   Estimate Std. Error z value Pr(>|z|)    \n",
       "(Intercept)                          0.5260     0.3748   1.404  0.16043    \n",
       "Angleleft                           -0.3161     0.4879  -0.648  0.51703    \n",
       "Angleright                          -0.2926     0.4889  -0.598  0.54954    \n",
       "scale(Proximity, scale = FALSE)     -0.7257     0.2490  -2.915  0.00356 ** \n",
       "scale(n_candidates, scale = FALSE)  -1.4594     0.2936  -4.970 6.69e-07 ***\n",
       "ActorY                              -1.3476     0.4177  -3.226  0.00125 ** \n",
       "---\n",
       "Signif. codes:  0 ‘***’ 0.001 ‘**’ 0.01 ‘*’ 0.05 ‘.’ 0.1 ‘ ’ 1\n",
       "\n",
       "Correlation of Fixed Effects:\n",
       "            (Intr) Angllf Anglrg s(Ps=F s(_s=F\n",
       "Angleleft   -0.595                            \n",
       "Angleright  -0.608  0.463                     \n",
       "s(P,s=FALSE -0.002  0.019  0.027              \n",
       "s(_,s=FALSE  0.072  0.022  0.012  0.062       \n",
       "ActorY      -0.454 -0.010  0.019  0.013  0.002"
      ]
     },
     "metadata": {},
     "output_type": "display_data"
    }
   ],
   "source": [
    "summary(model)"
   ]
  },
  {
   "cell_type": "code",
   "execution_count": 7,
   "metadata": {
    "vscode": {
     "languageId": "r"
    }
   },
   "outputs": [
    {
     "data": {
      "text/html": [
       "<table class=\"dataframe\">\n",
       "<caption>A data.frame: 6 × 7</caption>\n",
       "<thead>\n",
       "\t<tr><th scope=col>term</th><th scope=col>Estimate</th><th scope=col>Std. Error</th><th scope=col>z value</th><th scope=col>Pr(&gt;|z|)</th><th scope=col>effect_size_denom</th><th scope=col>effect_size</th></tr>\n",
       "\t<tr><th scope=col>&lt;chr&gt;</th><th scope=col>&lt;dbl&gt;</th><th scope=col>&lt;dbl&gt;</th><th scope=col>&lt;dbl&gt;</th><th scope=col>&lt;dbl&gt;</th><th scope=col>&lt;dbl&gt;</th><th scope=col>&lt;dbl&gt;</th></tr>\n",
       "</thead>\n",
       "<tbody>\n",
       "\t<tr><td>(Intercept)                       </td><td> 0.5260132</td><td>0.3747527</td><td> 1.4036275</td><td>1.604298e-01</td><td>5.340172</td><td> 0.09850117</td></tr>\n",
       "\t<tr><td>Angleleft                         </td><td>-0.3161462</td><td>0.4879364</td><td>-0.6479251</td><td>5.170334e-01</td><td>5.340172</td><td>-0.05920150</td></tr>\n",
       "\t<tr><td>Angleright                        </td><td>-0.2925773</td><td>0.4888882</td><td>-0.5984545</td><td>5.495367e-01</td><td>5.340172</td><td>-0.05478800</td></tr>\n",
       "\t<tr><td>scale(Proximity, scale = FALSE)   </td><td>-0.7257426</td><td>0.2489979</td><td>-2.9146534</td><td>3.560838e-03</td><td>5.340172</td><td>-0.13590248</td></tr>\n",
       "\t<tr><td>scale(n_candidates, scale = FALSE)</td><td>-1.4594303</td><td>0.2936401</td><td>-4.9701329</td><td>6.690701e-07</td><td>5.340172</td><td>-0.27329276</td></tr>\n",
       "\t<tr><td>ActorY                            </td><td>-1.3476203</td><td>0.4176765</td><td>-3.2264689</td><td>1.253278e-03</td><td>5.340172</td><td>-0.25235523</td></tr>\n",
       "</tbody>\n",
       "</table>\n"
      ],
      "text/latex": [
       "A data.frame: 6 × 7\n",
       "\\begin{tabular}{lllllll}\n",
       " term & Estimate & Std. Error & z value & Pr(>\\textbar{}z\\textbar{}) & effect\\_size\\_denom & effect\\_size\\\\\n",
       " <chr> & <dbl> & <dbl> & <dbl> & <dbl> & <dbl> & <dbl>\\\\\n",
       "\\hline\n",
       "\t (Intercept)                        &  0.5260132 & 0.3747527 &  1.4036275 & 1.604298e-01 & 5.340172 &  0.09850117\\\\\n",
       "\t Angleleft                          & -0.3161462 & 0.4879364 & -0.6479251 & 5.170334e-01 & 5.340172 & -0.05920150\\\\\n",
       "\t Angleright                         & -0.2925773 & 0.4888882 & -0.5984545 & 5.495367e-01 & 5.340172 & -0.05478800\\\\\n",
       "\t scale(Proximity, scale = FALSE)    & -0.7257426 & 0.2489979 & -2.9146534 & 3.560838e-03 & 5.340172 & -0.13590248\\\\\n",
       "\t scale(n\\_candidates, scale = FALSE) & -1.4594303 & 0.2936401 & -4.9701329 & 6.690701e-07 & 5.340172 & -0.27329276\\\\\n",
       "\t ActorY                             & -1.3476203 & 0.4176765 & -3.2264689 & 1.253278e-03 & 5.340172 & -0.25235523\\\\\n",
       "\\end{tabular}\n"
      ],
      "text/markdown": [
       "\n",
       "A data.frame: 6 × 7\n",
       "\n",
       "| term &lt;chr&gt; | Estimate &lt;dbl&gt; | Std. Error &lt;dbl&gt; | z value &lt;dbl&gt; | Pr(&gt;|z|) &lt;dbl&gt; | effect_size_denom &lt;dbl&gt; | effect_size &lt;dbl&gt; |\n",
       "|---|---|---|---|---|---|---|\n",
       "| (Intercept)                        |  0.5260132 | 0.3747527 |  1.4036275 | 1.604298e-01 | 5.340172 |  0.09850117 |\n",
       "| Angleleft                          | -0.3161462 | 0.4879364 | -0.6479251 | 5.170334e-01 | 5.340172 | -0.05920150 |\n",
       "| Angleright                         | -0.2925773 | 0.4888882 | -0.5984545 | 5.495367e-01 | 5.340172 | -0.05478800 |\n",
       "| scale(Proximity, scale = FALSE)    | -0.7257426 | 0.2489979 | -2.9146534 | 3.560838e-03 | 5.340172 | -0.13590248 |\n",
       "| scale(n_candidates, scale = FALSE) | -1.4594303 | 0.2936401 | -4.9701329 | 6.690701e-07 | 5.340172 | -0.27329276 |\n",
       "| ActorY                             | -1.3476203 | 0.4176765 | -3.2264689 | 1.253278e-03 | 5.340172 | -0.25235523 |\n",
       "\n"
      ],
      "text/plain": [
       "  term                               Estimate   Std. Error z value   \n",
       "1 (Intercept)                         0.5260132 0.3747527   1.4036275\n",
       "2 Angleleft                          -0.3161462 0.4879364  -0.6479251\n",
       "3 Angleright                         -0.2925773 0.4888882  -0.5984545\n",
       "4 scale(Proximity, scale = FALSE)    -0.7257426 0.2489979  -2.9146534\n",
       "5 scale(n_candidates, scale = FALSE) -1.4594303 0.2936401  -4.9701329\n",
       "6 ActorY                             -1.3476203 0.4176765  -3.2264689\n",
       "  Pr(>|z|)     effect_size_denom effect_size\n",
       "1 1.604298e-01 5.340172           0.09850117\n",
       "2 5.170334e-01 5.340172          -0.05920150\n",
       "3 5.495367e-01 5.340172          -0.05478800\n",
       "4 3.560838e-03 5.340172          -0.13590248\n",
       "5 6.690701e-07 5.340172          -0.27329276\n",
       "6 1.253278e-03 5.340172          -0.25235523"
      ]
     },
     "metadata": {},
     "output_type": "display_data"
    }
   ],
   "source": [
    "vc_list <- lapply(VarCorr(model), function(x) attr(x, \"stddev\")^2)\n",
    "vc <- sum(unlist(vc_list))\n",
    "effect_size_denom_t <- sqrt(vc + pi^2/3)\n",
    "\n",
    "res <- summary(model)$coefficients\n",
    "res <- as.data.frame(res)\n",
    "res <- cbind(term = rownames(res), res)\n",
    "rownames(res) <- NULL\n",
    "res$effect_size_denom <- effect_size_denom_t\n",
    "res$effect_size <- res$Estimate / effect_size_denom_t\n",
    "res"
   ]
  },
  {
   "cell_type": "code",
   "execution_count": 8,
   "metadata": {
    "vscode": {
     "languageId": "r"
    }
   },
   "outputs": [
    {
     "data": {
      "text/html": [
       "<table class=\"dataframe\">\n",
       "<caption>A predictions: 3 × 8</caption>\n",
       "<thead>\n",
       "\t<tr><th scope=col>hypothesis</th><th scope=col>estimate</th><th scope=col>std.error</th><th scope=col>statistic</th><th scope=col>p.value</th><th scope=col>s.value</th><th scope=col>conf.low</th><th scope=col>conf.high</th></tr>\n",
       "\t<tr><th scope=col>&lt;chr&gt;</th><th scope=col>&lt;dbl&gt;</th><th scope=col>&lt;dbl&gt;</th><th scope=col>&lt;dbl&gt;</th><th scope=col>&lt;dbl&gt;</th><th scope=col>&lt;dbl&gt;</th><th scope=col>&lt;dbl&gt;</th><th scope=col>&lt;dbl&gt;</th></tr>\n",
       "</thead>\n",
       "<tbody>\n",
       "\t<tr><td>(left) - (front) </td><td>-0.034456034</td><td>0.04037645</td><td>-0.8533696</td><td>0.3934544</td><td>1.3457317</td><td>-0.11359242</td><td>0.04468036</td></tr>\n",
       "\t<tr><td>(right) - (front)</td><td>-0.025989962</td><td>0.03993535</td><td>-0.6508009</td><td>0.5151750</td><td>0.9568655</td><td>-0.10426181</td><td>0.05228189</td></tr>\n",
       "\t<tr><td>(right) - (left) </td><td> 0.008466072</td><td>0.03126489</td><td> 0.2707853</td><td>0.7865562</td><td>0.3463783</td><td>-0.05281199</td><td>0.06974413</td></tr>\n",
       "</tbody>\n",
       "</table>\n"
      ],
      "text/latex": [
       "A predictions: 3 × 8\n",
       "\\begin{tabular}{llllllll}\n",
       " hypothesis & estimate & std.error & statistic & p.value & s.value & conf.low & conf.high\\\\\n",
       " <chr> & <dbl> & <dbl> & <dbl> & <dbl> & <dbl> & <dbl> & <dbl>\\\\\n",
       "\\hline\n",
       "\t (left) - (front)  & -0.034456034 & 0.04037645 & -0.8533696 & 0.3934544 & 1.3457317 & -0.11359242 & 0.04468036\\\\\n",
       "\t (right) - (front) & -0.025989962 & 0.03993535 & -0.6508009 & 0.5151750 & 0.9568655 & -0.10426181 & 0.05228189\\\\\n",
       "\t (right) - (left)  &  0.008466072 & 0.03126489 &  0.2707853 & 0.7865562 & 0.3463783 & -0.05281199 & 0.06974413\\\\\n",
       "\\end{tabular}\n"
      ],
      "text/markdown": [
       "\n",
       "A predictions: 3 × 8\n",
       "\n",
       "| hypothesis &lt;chr&gt; | estimate &lt;dbl&gt; | std.error &lt;dbl&gt; | statistic &lt;dbl&gt; | p.value &lt;dbl&gt; | s.value &lt;dbl&gt; | conf.low &lt;dbl&gt; | conf.high &lt;dbl&gt; |\n",
       "|---|---|---|---|---|---|---|---|\n",
       "| (left) - (front)  | -0.034456034 | 0.04037645 | -0.8533696 | 0.3934544 | 1.3457317 | -0.11359242 | 0.04468036 |\n",
       "| (right) - (front) | -0.025989962 | 0.03993535 | -0.6508009 | 0.5151750 | 0.9568655 | -0.10426181 | 0.05228189 |\n",
       "| (right) - (left)  |  0.008466072 | 0.03126489 |  0.2707853 | 0.7865562 | 0.3463783 | -0.05281199 | 0.06974413 |\n",
       "\n"
      ],
      "text/plain": [
       "  hypothesis        estimate     std.error  statistic  p.value   s.value  \n",
       "1 (left) - (front)  -0.034456034 0.04037645 -0.8533696 0.3934544 1.3457317\n",
       "2 (right) - (front) -0.025989962 0.03993535 -0.6508009 0.5151750 0.9568655\n",
       "3 (right) - (left)   0.008466072 0.03126489  0.2707853 0.7865562 0.3463783\n",
       "  conf.low    conf.high \n",
       "1 -0.11359242 0.04468036\n",
       "2 -0.10426181 0.05228189\n",
       "3 -0.05281199 0.06974413"
      ]
     },
     "metadata": {},
     "output_type": "display_data"
    }
   ],
   "source": [
    "avg_predictions(model, by=\"Angle\", hypothesis = ~ pairwise)"
   ]
  },
  {
   "cell_type": "code",
   "execution_count": 9,
   "metadata": {
    "vscode": {
     "languageId": "r"
    }
   },
   "outputs": [
    {
     "data": {
      "text/html": [
       "<table class=\"dataframe\">\n",
       "<caption>A slopes: 1 × 12</caption>\n",
       "<thead>\n",
       "\t<tr><th scope=col>term</th><th scope=col>contrast</th><th scope=col>estimate</th><th scope=col>std.error</th><th scope=col>statistic</th><th scope=col>p.value</th><th scope=col>s.value</th><th scope=col>conf.low</th><th scope=col>conf.high</th><th scope=col>predicted_lo</th><th scope=col>predicted_hi</th><th scope=col>predicted</th></tr>\n",
       "\t<tr><th scope=col>&lt;chr&gt;</th><th scope=col>&lt;chr&gt;</th><th scope=col>&lt;dbl&gt;</th><th scope=col>&lt;dbl&gt;</th><th scope=col>&lt;dbl&gt;</th><th scope=col>&lt;dbl&gt;</th><th scope=col>&lt;dbl&gt;</th><th scope=col>&lt;dbl&gt;</th><th scope=col>&lt;dbl&gt;</th><th scope=col>&lt;dbl&gt;</th><th scope=col>&lt;dbl&gt;</th><th scope=col>&lt;dbl&gt;</th></tr>\n",
       "</thead>\n",
       "<tbody>\n",
       "\t<tr><td>Proximity</td><td>dY/dX</td><td>-0.7257426</td><td>0.2490005</td><td>-2.914623</td><td>0.003561179</td><td>8.133429</td><td>-1.213775</td><td>-0.2377106</td><td>-0.3880239</td><td>-0.388169</td><td>-0.3880964</td></tr>\n",
       "</tbody>\n",
       "</table>\n"
      ],
      "text/latex": [
       "A slopes: 1 × 12\n",
       "\\begin{tabular}{llllllllllll}\n",
       " term & contrast & estimate & std.error & statistic & p.value & s.value & conf.low & conf.high & predicted\\_lo & predicted\\_hi & predicted\\\\\n",
       " <chr> & <chr> & <dbl> & <dbl> & <dbl> & <dbl> & <dbl> & <dbl> & <dbl> & <dbl> & <dbl> & <dbl>\\\\\n",
       "\\hline\n",
       "\t Proximity & dY/dX & -0.7257426 & 0.2490005 & -2.914623 & 0.003561179 & 8.133429 & -1.213775 & -0.2377106 & -0.3880239 & -0.388169 & -0.3880964\\\\\n",
       "\\end{tabular}\n"
      ],
      "text/markdown": [
       "\n",
       "A slopes: 1 × 12\n",
       "\n",
       "| term &lt;chr&gt; | contrast &lt;chr&gt; | estimate &lt;dbl&gt; | std.error &lt;dbl&gt; | statistic &lt;dbl&gt; | p.value &lt;dbl&gt; | s.value &lt;dbl&gt; | conf.low &lt;dbl&gt; | conf.high &lt;dbl&gt; | predicted_lo &lt;dbl&gt; | predicted_hi &lt;dbl&gt; | predicted &lt;dbl&gt; |\n",
       "|---|---|---|---|---|---|---|---|---|---|---|---|\n",
       "| Proximity | dY/dX | -0.7257426 | 0.2490005 | -2.914623 | 0.003561179 | 8.133429 | -1.213775 | -0.2377106 | -0.3880239 | -0.388169 | -0.3880964 |\n",
       "\n"
      ],
      "text/plain": [
       "  term      contrast estimate   std.error statistic p.value     s.value \n",
       "1 Proximity dY/dX    -0.7257426 0.2490005 -2.914623 0.003561179 8.133429\n",
       "  conf.low  conf.high  predicted_lo predicted_hi predicted \n",
       "1 -1.213775 -0.2377106 -0.3880239   -0.388169    -0.3880964"
      ]
     },
     "metadata": {},
     "output_type": "display_data"
    }
   ],
   "source": [
    "avg_slopes(model, variables =\"Proximity\", type = \"link\")"
   ]
  },
  {
   "cell_type": "code",
   "execution_count": 11,
   "metadata": {
    "vscode": {
     "languageId": "r"
    }
   },
   "outputs": [
    {
     "data": {
      "text/html": [
       "<table class=\"dataframe\">\n",
       "<caption>A slopes: 1 × 12</caption>\n",
       "<thead>\n",
       "\t<tr><th scope=col>term</th><th scope=col>contrast</th><th scope=col>estimate</th><th scope=col>std.error</th><th scope=col>statistic</th><th scope=col>p.value</th><th scope=col>s.value</th><th scope=col>conf.low</th><th scope=col>conf.high</th><th scope=col>predicted_lo</th><th scope=col>predicted_hi</th><th scope=col>predicted</th></tr>\n",
       "\t<tr><th scope=col>&lt;chr&gt;</th><th scope=col>&lt;chr&gt;</th><th scope=col>&lt;dbl&gt;</th><th scope=col>&lt;dbl&gt;</th><th scope=col>&lt;dbl&gt;</th><th scope=col>&lt;dbl&gt;</th><th scope=col>&lt;dbl&gt;</th><th scope=col>&lt;dbl&gt;</th><th scope=col>&lt;dbl&gt;</th><th scope=col>&lt;dbl&gt;</th><th scope=col>&lt;dbl&gt;</th><th scope=col>&lt;dbl&gt;</th></tr>\n",
       "</thead>\n",
       "<tbody>\n",
       "\t<tr><td>n_candidates</td><td>dY/dX</td><td>-1.45943</td><td>0.2936426</td><td>-4.970091</td><td>6.692156e-07</td><td>20.51103</td><td>-2.034959</td><td>-0.8839014</td><td>-0.3879505</td><td>-0.3882424</td><td>-0.3880964</td></tr>\n",
       "</tbody>\n",
       "</table>\n"
      ],
      "text/latex": [
       "A slopes: 1 × 12\n",
       "\\begin{tabular}{llllllllllll}\n",
       " term & contrast & estimate & std.error & statistic & p.value & s.value & conf.low & conf.high & predicted\\_lo & predicted\\_hi & predicted\\\\\n",
       " <chr> & <chr> & <dbl> & <dbl> & <dbl> & <dbl> & <dbl> & <dbl> & <dbl> & <dbl> & <dbl> & <dbl>\\\\\n",
       "\\hline\n",
       "\t n\\_candidates & dY/dX & -1.45943 & 0.2936426 & -4.970091 & 6.692156e-07 & 20.51103 & -2.034959 & -0.8839014 & -0.3879505 & -0.3882424 & -0.3880964\\\\\n",
       "\\end{tabular}\n"
      ],
      "text/markdown": [
       "\n",
       "A slopes: 1 × 12\n",
       "\n",
       "| term &lt;chr&gt; | contrast &lt;chr&gt; | estimate &lt;dbl&gt; | std.error &lt;dbl&gt; | statistic &lt;dbl&gt; | p.value &lt;dbl&gt; | s.value &lt;dbl&gt; | conf.low &lt;dbl&gt; | conf.high &lt;dbl&gt; | predicted_lo &lt;dbl&gt; | predicted_hi &lt;dbl&gt; | predicted &lt;dbl&gt; |\n",
       "|---|---|---|---|---|---|---|---|---|---|---|---|\n",
       "| n_candidates | dY/dX | -1.45943 | 0.2936426 | -4.970091 | 6.692156e-07 | 20.51103 | -2.034959 | -0.8839014 | -0.3879505 | -0.3882424 | -0.3880964 |\n",
       "\n"
      ],
      "text/plain": [
       "  term         contrast estimate std.error statistic p.value      s.value \n",
       "1 n_candidates dY/dX    -1.45943 0.2936426 -4.970091 6.692156e-07 20.51103\n",
       "  conf.low  conf.high  predicted_lo predicted_hi predicted \n",
       "1 -2.034959 -0.8839014 -0.3879505   -0.3882424   -0.3880964"
      ]
     },
     "metadata": {},
     "output_type": "display_data"
    }
   ],
   "source": [
    "avg_slopes(model, variables =\"n_candidates\", type = \"link\")"
   ]
  },
  {
   "cell_type": "code",
   "execution_count": 12,
   "metadata": {
    "vscode": {
     "languageId": "r"
    }
   },
   "outputs": [
    {
     "data": {
      "text/html": [
       "<table class=\"dataframe\">\n",
       "<caption>A predictions: 1 × 8</caption>\n",
       "<thead>\n",
       "\t<tr><th scope=col>hypothesis</th><th scope=col>estimate</th><th scope=col>std.error</th><th scope=col>statistic</th><th scope=col>p.value</th><th scope=col>s.value</th><th scope=col>conf.low</th><th scope=col>conf.high</th></tr>\n",
       "\t<tr><th scope=col>&lt;chr&gt;</th><th scope=col>&lt;dbl&gt;</th><th scope=col>&lt;dbl&gt;</th><th scope=col>&lt;dbl&gt;</th><th scope=col>&lt;dbl&gt;</th><th scope=col>&lt;dbl&gt;</th><th scope=col>&lt;dbl&gt;</th><th scope=col>&lt;dbl&gt;</th></tr>\n",
       "</thead>\n",
       "<tbody>\n",
       "\t<tr><td>(Y) - (X)</td><td>-0.1010455</td><td>0.03026941</td><td>-3.338207</td><td>0.0008432096</td><td>10.21182</td><td>-0.1603725</td><td>-0.0417186</td></tr>\n",
       "</tbody>\n",
       "</table>\n"
      ],
      "text/latex": [
       "A predictions: 1 × 8\n",
       "\\begin{tabular}{llllllll}\n",
       " hypothesis & estimate & std.error & statistic & p.value & s.value & conf.low & conf.high\\\\\n",
       " <chr> & <dbl> & <dbl> & <dbl> & <dbl> & <dbl> & <dbl> & <dbl>\\\\\n",
       "\\hline\n",
       "\t (Y) - (X) & -0.1010455 & 0.03026941 & -3.338207 & 0.0008432096 & 10.21182 & -0.1603725 & -0.0417186\\\\\n",
       "\\end{tabular}\n"
      ],
      "text/markdown": [
       "\n",
       "A predictions: 1 × 8\n",
       "\n",
       "| hypothesis &lt;chr&gt; | estimate &lt;dbl&gt; | std.error &lt;dbl&gt; | statistic &lt;dbl&gt; | p.value &lt;dbl&gt; | s.value &lt;dbl&gt; | conf.low &lt;dbl&gt; | conf.high &lt;dbl&gt; |\n",
       "|---|---|---|---|---|---|---|---|\n",
       "| (Y) - (X) | -0.1010455 | 0.03026941 | -3.338207 | 0.0008432096 | 10.21182 | -0.1603725 | -0.0417186 |\n",
       "\n"
      ],
      "text/plain": [
       "  hypothesis estimate   std.error  statistic p.value      s.value  conf.low  \n",
       "1 (Y) - (X)  -0.1010455 0.03026941 -3.338207 0.0008432096 10.21182 -0.1603725\n",
       "  conf.high \n",
       "1 -0.0417186"
      ]
     },
     "metadata": {},
     "output_type": "display_data"
    }
   ],
   "source": [
    "avg_predictions(model, by=\"Actor\", hypothesis = ~ pairwise)"
   ]
  },
  {
   "cell_type": "code",
   "execution_count": null,
   "metadata": {
    "vscode": {
     "languageId": "r"
    }
   },
   "outputs": [],
   "source": []
  }
 ],
 "metadata": {
  "kernelspec": {
   "display_name": "R",
   "language": "R",
   "name": "ir"
  },
  "language_info": {
   "codemirror_mode": "r",
   "file_extension": ".r",
   "mimetype": "text/x-r-source",
   "name": "R",
   "pygments_lexer": "r",
   "version": "4.3.3"
  }
 },
 "nbformat": 4,
 "nbformat_minor": 2
}
